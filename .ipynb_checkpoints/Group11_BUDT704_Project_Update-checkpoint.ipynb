{
 "cells": [
  {
   "cell_type": "markdown",
   "id": "bd74b589",
   "metadata": {},
   "source": [
    "Project Name - <i>**How to Judge a Book by Its Cover**</i> <br>\n",
    "Group 11 - <i> **Authors of Analysis** </i> <br>\n",
    "Members - <i>Aditi Ketan Patel, Gunjan Sharma, Kristina Sutliff, Shashank Vidyadhar Patil, Urshilah Senthilnathan, Vatsal Srivastava</i><br>\n",
    "Date - 11/11/2022"
   ]
  },
  {
   "cell_type": "markdown",
   "id": "4b2d6028",
   "metadata": {},
   "source": [
    "# 1. Project Overview"
   ]
  },
  {
   "cell_type": "markdown",
   "id": "a901d2fb",
   "metadata": {},
   "source": [
    "## Introduction"
   ]
  },
  {
   "cell_type": "markdown",
   "id": "07b71ad1",
   "metadata": {},
   "source": [
    "The Global book market is expected to reach $142.33 Billion by the end of 2022. Amazon has been a dominant player in this industry. One of the reasons for this dominance is the insights about bibliophiles that they gather through vital subsidiaries like Goodreads and Audible. \n",
    "    \n",
    "Goodreads is a subsidiary of Amazon that provides book recommendations, along with other services, to its users. Members of Goodreads can keep track of the books they have read, are currently reading, and want to read in the future. The website also allows its users to connect with friends so that they can see what books their friends are reading. Additionally, the website consists of interviews with various authors where they talk about recently published books as well as promote their upcoming books. What makes Goodreads useful is that their lists of recommendations change dynamically over time so that the user always has access to the most relevant recommendations that match their preferences. \n",
    "\n",
    "As a group of consultants hired by Amazon to explore new revenue generating business opportunities, we will analyze Goodreads data to research focus areas that can be utilized to their full potential. The answers to following questions will aid Amazon in making critical business decisions and leveraging benefits of Goodreads."
   ]
  },
  {
   "cell_type": "markdown",
   "id": "c049bc26",
   "metadata": {},
   "source": [
    "## Questions of Research\n",
    "\n",
    "1. On the basis of existing data which books can be converted into audio books?\n",
    "2. Based on previous books performances within a series, how likely is the reader to continue reading the next book in the series?\n",
    "3. Among the popular genres, what are the best performing books for these genres ranked according to book score? Book score is a metric that will be based on rating, review and awards related data to rank a book. \n",
    "4. Is there any correlation between Number of Pages and Average Rating? Is there a tendency to reduce the number of pages in recent books?\n"
   ]
  },
  {
   "cell_type": "markdown",
   "id": "8f7b3e70",
   "metadata": {},
   "source": [
    "# 2. Milestones and Progress\n",
    "Below table describes the tasks and their progress in accordance to the project proposal. "
   ]
  },
  {
   "cell_type": "markdown",
   "id": "09a89dd2",
   "metadata": {},
   "source": [
    "| Task | Expectations Met | Comments/Remarks | Date |\n",
    "| --- | --- | --- | --- |\n",
    "| Research Data Scraping techniques and the Python libraries used for it | **Yes** | We researched about web scraping and finalized **BeautifulSoup** and **Selenium** libraries to extract the latest Books data from Goodreads web pages. However, after examining the license and communicating with Goodreads, we did not get the permission to scrape data for this project. Hence, we needed to drop the idea of using the acquired data through web scraping | 21 Oct |\n",
    "| Perform Data Scraping to extract primary Book Attributes  | **Yes** | The data which we scraped included the name of the books, authors, publication date, number of pages per book, average rating of a book and number of reviews. Nonetheless, as stated above we won't be using this data. | 25 Oct |\n",
    "| Explore Kaggle dataset that contains more comprehensive data | **Yes** | The dataset consists of book ID assigned by GoodReads, the title of the book, name of the series of which the book is part of, ISBN, author, awards, page count, rating count, review count, average rating, count of 5-star to 1-star rating of a book,original title of the book, date published, description and the plot setting of the book. Also, if a book is part of a series, the subsequent book IDs are available as well.The data set has been fetched from the kaggle website -https://www.kaggle.com/datasets/austinreese/goodreads-books?select=goodreads_books.csv | 25 Oct |\n",
    "| Explore the possibility of merging kaggle data with scraped data based on Book ISBN and Book Name  | **Yes** | Since we are not allowed to mine any data from the website, we are directly using the data set fetched from kaggle for our project. | 25 Oct |\n",
    "| Define scope of the analysis within the context of gathered Goodreads data | **Yes** | The underlying Analysis will help us understand how Amazon can leverage most benefit out of Goodreads, identify the focus areas that are crucial for our analysis that will help us answer our research questions.| 30 Oct |\n",
    "| Identify variables of significance for our analysis  | **Yes** | Identified the variables of most significance such as Genre, Average Rating, Series , Review Count | 1 Nov |\n",
    "| Identify the required text processing and cleaning techniques | **Yes** | Identified the variables that needed to be split in order to simplify the information present in them. Used techniques like split, contains, extract and regex to achieve the same | 1 Nov |\n",
    "| Perform text processing to clean or segregate the data | **Yes** | Determined what proportion of observations contain missing values and how can they be handled | 4 Nov |\n",
    "| Numerical Data Processing and Cleaning/ Imputing | **Yes** | Converted Rating and Review related columns to numerical format in order to prepare them for further analysis | 4 Nov |\n",
    "| Recheck if the prepared data is clean and fit for analysis | **Yes** | Validated if the data is clean | 5 Nov |\n",
    "| Analysis of Books that are part of a Series | **Yes** | We  have analyzed the series column to extract series name and the book number in that series and also explored some very basic statistics about such books | 10 Nov |\n",
    "| Analysis of Book Popularity | **No** | We are researching about how to come up with a more efficient Book Score that will provide a better ranking of books by taking into account variables like awards and review counts | 10 Nov |"
   ]
  },
  {
   "cell_type": "markdown",
   "id": "4dbc4aa1",
   "metadata": {},
   "source": [
    "## Future Plan\n",
    "\n",
    "We will be starting with the next phase of our project which is in-depth analysis. The plan includes:\n",
    "- Identifying the apt data visualization libraries which will be the best way to display and explain our inferences.\n",
    "- Researching more about Amazon's book business through blogs and articles by experts in order to expand on our analysis and derive more meaningful insights\n",
    "\n",
    "We have identified the research questions and the pitfalls, we know where to start with our questions but there is still some uncertainty in the following aspects of the project:\n",
    " - Models that will be used for building the recommendation system. So we are currently working on identifying the best model for our project. \n",
    " - Parameters that can be used to calculate the book score in order to rank book in a better way "
   ]
  },
  {
   "cell_type": "markdown",
   "id": "1efc1201",
   "metadata": {},
   "source": [
    "# 3. Data Acquisition and Cleaning Code\n",
    "**Kaggle Dataset**:<br>\n",
    "As stated above due to scraping permission issues, we are primarily using the Kaggle dataset for this analysis - https://www.kaggle.com/datasets/austinreese/goodreads-books?select=goodreads_books.csv\n",
    "\n",
    "The data contains listing of all details of Goodreads book till 2021. Overall the data has the following columns: \n",
    "- Book Id\n",
    "- Book Title\n",
    "- Goodreads Link\n",
    "- Series\n",
    "- Cover Link\n",
    "- Author\n",
    "- Author Link\n",
    "- Rating Count\n",
    "- Review Count\n",
    "- Average Rating\n",
    "- Five Star Ratings\n",
    "- Four Star Ratings\n",
    "- Three Star Ratings\n",
    "- Two Star Ratings\n",
    "- One Star Ratings\n",
    "- Number of Pages\n",
    "- Date Publisher\n",
    "- Publisher\n",
    "- Original Title\n",
    "- Genre and Votes\n",
    "- ISBN\n",
    "- ISBN13\n",
    "- ASIN\n",
    "- Settings\n",
    "- Characters\n",
    "- Awards\n",
    "- Amazon Redirect Link\n",
    "- Worldcat Redirect Link\n",
    "- Recommended Books\n",
    "- Books in Series \n",
    "- Description\n",
    "\n",
    "**Data Volume**:<br>\n",
    "52199 rows, 31 columns"
   ]
  },
  {
   "cell_type": "code",
   "execution_count": 242,
   "id": "161acfb4",
   "metadata": {},
   "outputs": [],
   "source": [
    "#Importing the libraries\n",
    "import numpy as np\n",
    "import pandas as pd\n",
    "import re \n",
    "import seaborn as sns\n",
    "import matplotlib.pyplot as plt"
   ]
  },
  {
   "cell_type": "markdown",
   "id": "e69eb09a",
   "metadata": {},
   "source": [
    "## Reading the Data"
   ]
  },
  {
   "cell_type": "code",
   "execution_count": 203,
   "id": "1af23049",
   "metadata": {},
   "outputs": [
    {
     "data": {
      "text/plain": [
       "(52199, 31)"
      ]
     },
     "execution_count": 203,
     "metadata": {},
     "output_type": "execute_result"
    }
   ],
   "source": [
    "# Loading the dataset file into dataframe\n",
    "df_goodreads = pd.read_csv('../goodreads_books.csv')\n",
    "df_goodreads.shape"
   ]
  },
  {
   "cell_type": "code",
   "execution_count": 204,
   "id": "8b1c735f",
   "metadata": {},
   "outputs": [],
   "source": [
    "# Getting rid of columns that are irrelevant for our analysis \n",
    "df_goodreads.drop(columns=['settings', 'amazon_redirect_link', 'worldcat_redirect_link', \n",
    "                           'recommended_books', 'books_in_series', 'description', 'asin',\n",
    "                           'link', 'author_link', 'cover_link','original_title'], inplace=True)"
   ]
  },
  {
   "cell_type": "markdown",
   "id": "d793267f",
   "metadata": {},
   "source": [
    "## Identifying and setting Index\n",
    "Out of the potential columns that can be considered for indexing the data; ISBN, ISBN13, Title and Book ID are some of them. We will identify the most suitable column that can uniquely identify a book and its details. "
   ]
  },
  {
   "cell_type": "code",
   "execution_count": 205,
   "id": "55ba95f8",
   "metadata": {},
   "outputs": [
    {
     "name": "stdout",
     "output_type": "stream",
     "text": [
      "\n",
      " Duplicates in Book Title -> 2514\n",
      "\n",
      " Number of observation that don't have either ISBN or ISBN13 -> 11883\n",
      "\n",
      " Unique Book IDs -> 52199\n"
     ]
    }
   ],
   "source": [
    "# Determining duplicates for title column \n",
    "print('\\n Duplicates in Book Title ->',df_goodreads['title'].duplicated().sum())\n",
    "\n",
    "# Determining observations that don't have ISBN and ISBN13\n",
    "isbn_mask = df_goodreads['isbn'].isnull() & df_goodreads['isbn13'].isnull()\n",
    "print(\"\\n Number of observation that don't have either ISBN or ISBN13 ->\", isbn_mask.sum())\n",
    "\n",
    "# Validating if all the books have unique Book IDs\n",
    "print('\\n Unique Book IDs ->',len(df_goodreads['id'].unique()))"
   ]
  },
  {
   "cell_type": "markdown",
   "id": "d6277698",
   "metadata": {},
   "source": [
    "We observe from above results, Book Title and ISBN cannot be used to uniquely identify a book as there are duplicates and missing values in them respectively. Hence, we identify Book ID to be the most suitable column to index the data."
   ]
  },
  {
   "cell_type": "code",
   "execution_count": 206,
   "id": "2cad5eaf",
   "metadata": {},
   "outputs": [
    {
     "data": {
      "text/html": [
       "<div>\n",
       "<style scoped>\n",
       "    .dataframe tbody tr th:only-of-type {\n",
       "        vertical-align: middle;\n",
       "    }\n",
       "\n",
       "    .dataframe tbody tr th {\n",
       "        vertical-align: top;\n",
       "    }\n",
       "\n",
       "    .dataframe thead th {\n",
       "        text-align: right;\n",
       "    }\n",
       "</style>\n",
       "<table border=\"1\" class=\"dataframe\">\n",
       "  <thead>\n",
       "    <tr style=\"text-align: right;\">\n",
       "      <th></th>\n",
       "      <th>title</th>\n",
       "      <th>series</th>\n",
       "      <th>author</th>\n",
       "      <th>rating_count</th>\n",
       "      <th>review_count</th>\n",
       "      <th>average_rating</th>\n",
       "      <th>five_star_ratings</th>\n",
       "      <th>four_star_ratings</th>\n",
       "      <th>three_star_ratings</th>\n",
       "      <th>two_star_ratings</th>\n",
       "      <th>one_star_ratings</th>\n",
       "      <th>number_of_pages</th>\n",
       "      <th>date_published</th>\n",
       "      <th>publisher</th>\n",
       "      <th>genre_and_votes</th>\n",
       "      <th>isbn</th>\n",
       "      <th>isbn13</th>\n",
       "      <th>characters</th>\n",
       "      <th>awards</th>\n",
       "    </tr>\n",
       "    <tr>\n",
       "      <th>id</th>\n",
       "      <th></th>\n",
       "      <th></th>\n",
       "      <th></th>\n",
       "      <th></th>\n",
       "      <th></th>\n",
       "      <th></th>\n",
       "      <th></th>\n",
       "      <th></th>\n",
       "      <th></th>\n",
       "      <th></th>\n",
       "      <th></th>\n",
       "      <th></th>\n",
       "      <th></th>\n",
       "      <th></th>\n",
       "      <th></th>\n",
       "      <th></th>\n",
       "      <th></th>\n",
       "      <th></th>\n",
       "      <th></th>\n",
       "    </tr>\n",
       "  </thead>\n",
       "  <tbody>\n",
       "    <tr>\n",
       "      <th>630104</th>\n",
       "      <td>Inner Circle</td>\n",
       "      <td>(Private #5)</td>\n",
       "      <td>Kate Brian, Julian Peploe</td>\n",
       "      <td>7597</td>\n",
       "      <td>196</td>\n",
       "      <td>4.03</td>\n",
       "      <td>3045</td>\n",
       "      <td>2323</td>\n",
       "      <td>1748</td>\n",
       "      <td>389</td>\n",
       "      <td>92</td>\n",
       "      <td>220.0</td>\n",
       "      <td>January 1st 2007</td>\n",
       "      <td>Simon  Schuster Books for Young Readers</td>\n",
       "      <td>Young Adult 161, Mystery 45, Romance 32</td>\n",
       "      <td>1416950419</td>\n",
       "      <td>9781416950417</td>\n",
       "      <td>NaN</td>\n",
       "      <td>NaN</td>\n",
       "    </tr>\n",
       "    <tr>\n",
       "      <th>9487</th>\n",
       "      <td>A Time to Embrace</td>\n",
       "      <td>(Timeless Love #2)</td>\n",
       "      <td>Karen Kingsbury</td>\n",
       "      <td>4179</td>\n",
       "      <td>177</td>\n",
       "      <td>4.35</td>\n",
       "      <td>2255</td>\n",
       "      <td>1290</td>\n",
       "      <td>518</td>\n",
       "      <td>93</td>\n",
       "      <td>23</td>\n",
       "      <td>400.0</td>\n",
       "      <td>October 29th 2006</td>\n",
       "      <td>Thomas Nelson</td>\n",
       "      <td>Christian Fiction 114, Christian 45, Fiction 3...</td>\n",
       "      <td>1595542329</td>\n",
       "      <td>9781595542328</td>\n",
       "      <td>NaN</td>\n",
       "      <td>NaN</td>\n",
       "    </tr>\n",
       "    <tr>\n",
       "      <th>6050894</th>\n",
       "      <td>Take Two</td>\n",
       "      <td>(Above the Line #2)</td>\n",
       "      <td>Karen Kingsbury</td>\n",
       "      <td>6288</td>\n",
       "      <td>218</td>\n",
       "      <td>4.23</td>\n",
       "      <td>3000</td>\n",
       "      <td>2020</td>\n",
       "      <td>1041</td>\n",
       "      <td>183</td>\n",
       "      <td>44</td>\n",
       "      <td>320.0</td>\n",
       "      <td>January 1st 2009</td>\n",
       "      <td>Zondervan</td>\n",
       "      <td>Christian Fiction 174, Christian 81, Fiction 58</td>\n",
       "      <td>NaN</td>\n",
       "      <td>NaN</td>\n",
       "      <td>NaN</td>\n",
       "      <td>NaN</td>\n",
       "    </tr>\n",
       "    <tr>\n",
       "      <th>39030</th>\n",
       "      <td>Reliquary</td>\n",
       "      <td>(Pendergast #2)</td>\n",
       "      <td>Douglas Preston, Lincoln Child</td>\n",
       "      <td>38382</td>\n",
       "      <td>1424</td>\n",
       "      <td>4.01</td>\n",
       "      <td>12711</td>\n",
       "      <td>15407</td>\n",
       "      <td>8511</td>\n",
       "      <td>1429</td>\n",
       "      <td>324</td>\n",
       "      <td>464.0</td>\n",
       "      <td>1997</td>\n",
       "      <td>Tor Books</td>\n",
       "      <td>Thriller 626, Mystery 493, Horror 432, Fiction...</td>\n",
       "      <td>0765354950</td>\n",
       "      <td>9780765354952</td>\n",
       "      <td>Aloysius X.L. Pendergast, Margo Green, William...</td>\n",
       "      <td>NaN</td>\n",
       "    </tr>\n",
       "    <tr>\n",
       "      <th>998</th>\n",
       "      <td>The Millionaire Next Door: The Surprising Secr...</td>\n",
       "      <td>NaN</td>\n",
       "      <td>Thomas J. Stanley, William D. Danko</td>\n",
       "      <td>72168</td>\n",
       "      <td>3217</td>\n",
       "      <td>4.04</td>\n",
       "      <td>27594</td>\n",
       "      <td>25219</td>\n",
       "      <td>14855</td>\n",
       "      <td>3414</td>\n",
       "      <td>1086</td>\n",
       "      <td>258.0</td>\n",
       "      <td>October 28th 1995</td>\n",
       "      <td>Gallery Books</td>\n",
       "      <td>Economics-Finance 1162, Nonfiction 910, Busine...</td>\n",
       "      <td>0671015206</td>\n",
       "      <td>9780671015206</td>\n",
       "      <td>NaN</td>\n",
       "      <td>Independent Publisher Book Award (IPPY) Nomine...</td>\n",
       "    </tr>\n",
       "    <tr>\n",
       "      <th>...</th>\n",
       "      <td>...</td>\n",
       "      <td>...</td>\n",
       "      <td>...</td>\n",
       "      <td>...</td>\n",
       "      <td>...</td>\n",
       "      <td>...</td>\n",
       "      <td>...</td>\n",
       "      <td>...</td>\n",
       "      <td>...</td>\n",
       "      <td>...</td>\n",
       "      <td>...</td>\n",
       "      <td>...</td>\n",
       "      <td>...</td>\n",
       "      <td>...</td>\n",
       "      <td>...</td>\n",
       "      <td>...</td>\n",
       "      <td>...</td>\n",
       "      <td>...</td>\n",
       "      <td>...</td>\n",
       "    </tr>\n",
       "    <tr>\n",
       "      <th>15743072</th>\n",
       "      <td>The Stranger I Married</td>\n",
       "      <td>NaN</td>\n",
       "      <td>Sylvia Day</td>\n",
       "      <td>13295</td>\n",
       "      <td>805</td>\n",
       "      <td>3.87</td>\n",
       "      <td>4220</td>\n",
       "      <td>4733</td>\n",
       "      <td>3116</td>\n",
       "      <td>848</td>\n",
       "      <td>378</td>\n",
       "      <td>312.0</td>\n",
       "      <td>2007</td>\n",
       "      <td>Kensington Trade</td>\n",
       "      <td>Romance-Historical Romance 335, Romance 312, H...</td>\n",
       "      <td>075829039X</td>\n",
       "      <td>9780758290397</td>\n",
       "      <td>Gerard Faulkner, Isabel Pelham</td>\n",
       "      <td>NaN</td>\n",
       "    </tr>\n",
       "    <tr>\n",
       "      <th>18143905</th>\n",
       "      <td>The Opposite of Loneliness: Essays and Stories</td>\n",
       "      <td>NaN</td>\n",
       "      <td>Marina Keegan</td>\n",
       "      <td>42609</td>\n",
       "      <td>4282</td>\n",
       "      <td>3.84</td>\n",
       "      <td>12461</td>\n",
       "      <td>15191</td>\n",
       "      <td>11202</td>\n",
       "      <td>3011</td>\n",
       "      <td>744</td>\n",
       "      <td>208.0</td>\n",
       "      <td>April 8th 2014</td>\n",
       "      <td>Scribner</td>\n",
       "      <td>Nonfiction 1307, Short Stories 766, Writing-Es...</td>\n",
       "      <td>147675361X</td>\n",
       "      <td>9781476753614</td>\n",
       "      <td>NaN</td>\n",
       "      <td>Goodreads Choice Award for Nonfiction (2014), ...</td>\n",
       "    </tr>\n",
       "    <tr>\n",
       "      <th>1466878</th>\n",
       "      <td>Sadako will leben</td>\n",
       "      <td>NaN</td>\n",
       "      <td>Karl Bruckner</td>\n",
       "      <td>1583</td>\n",
       "      <td>64</td>\n",
       "      <td>4.17</td>\n",
       "      <td>673</td>\n",
       "      <td>592</td>\n",
       "      <td>251</td>\n",
       "      <td>51</td>\n",
       "      <td>16</td>\n",
       "      <td>264.0</td>\n",
       "      <td>1961</td>\n",
       "      <td>Arena</td>\n",
       "      <td>Fiction 13, Childrens 11, Historical-Historica...</td>\n",
       "      <td>3401027247</td>\n",
       "      <td>9783401027241</td>\n",
       "      <td>Sadako Sasaki</td>\n",
       "      <td>Austrian National Prize (1961), City of Vienna...</td>\n",
       "    </tr>\n",
       "    <tr>\n",
       "      <th>630103</th>\n",
       "      <td>Confessions</td>\n",
       "      <td>(Private #4)</td>\n",
       "      <td>Kate Brian</td>\n",
       "      <td>8815</td>\n",
       "      <td>258</td>\n",
       "      <td>4.09</td>\n",
       "      <td>3760</td>\n",
       "      <td>2734</td>\n",
       "      <td>1780</td>\n",
       "      <td>435</td>\n",
       "      <td>106</td>\n",
       "      <td>240.0</td>\n",
       "      <td>April 24th 2007</td>\n",
       "      <td>Simon  Schuster Books for Young Readers</td>\n",
       "      <td>Young Adult 182, Mystery 52, Romance 34</td>\n",
       "      <td>1416918760</td>\n",
       "      <td>9781416918769</td>\n",
       "      <td>NaN</td>\n",
       "      <td>NaN</td>\n",
       "    </tr>\n",
       "    <tr>\n",
       "      <th>6922622</th>\n",
       "      <td>Going Rogue: An American Life</td>\n",
       "      <td>NaN</td>\n",
       "      <td>Sarah Palin, Lynn Vincent, Dewey Whetsell</td>\n",
       "      <td>11359</td>\n",
       "      <td>1246</td>\n",
       "      <td>3.28</td>\n",
       "      <td>2379</td>\n",
       "      <td>3085</td>\n",
       "      <td>2921</td>\n",
       "      <td>1262</td>\n",
       "      <td>1712</td>\n",
       "      <td>413.0</td>\n",
       "      <td>January 1st 2009</td>\n",
       "      <td>Harper</td>\n",
       "      <td>Biography 176, Nonfiction 171, Politics 165, B...</td>\n",
       "      <td>0061939897</td>\n",
       "      <td>9780061939891</td>\n",
       "      <td>Joe Biden, Sarah Palin, Glenn Beck, Katie Cour...</td>\n",
       "      <td>NaN</td>\n",
       "    </tr>\n",
       "  </tbody>\n",
       "</table>\n",
       "<p>52199 rows × 19 columns</p>\n",
       "</div>"
      ],
      "text/plain": [
       "                                                      title  \\\n",
       "id                                                            \n",
       "630104                                         Inner Circle   \n",
       "9487                                      A Time to Embrace   \n",
       "6050894                                            Take Two   \n",
       "39030                                             Reliquary   \n",
       "998       The Millionaire Next Door: The Surprising Secr...   \n",
       "...                                                     ...   \n",
       "15743072                             The Stranger I Married   \n",
       "18143905     The Opposite of Loneliness: Essays and Stories   \n",
       "1466878                                   Sadako will leben   \n",
       "630103                                          Confessions   \n",
       "6922622                       Going Rogue: An American Life   \n",
       "\n",
       "                       series                                     author  \\\n",
       "id                                                                         \n",
       "630104           (Private #5)                  Kate Brian, Julian Peploe   \n",
       "9487       (Timeless Love #2)                            Karen Kingsbury   \n",
       "6050894   (Above the Line #2)                            Karen Kingsbury   \n",
       "39030         (Pendergast #2)             Douglas Preston, Lincoln Child   \n",
       "998                       NaN        Thomas J. Stanley, William D. Danko   \n",
       "...                       ...                                        ...   \n",
       "15743072                  NaN                                 Sylvia Day   \n",
       "18143905                  NaN                              Marina Keegan   \n",
       "1466878                   NaN                              Karl Bruckner   \n",
       "630103           (Private #4)                                 Kate Brian   \n",
       "6922622                   NaN  Sarah Palin, Lynn Vincent, Dewey Whetsell   \n",
       "\n",
       "          rating_count  review_count  average_rating  five_star_ratings  \\\n",
       "id                                                                        \n",
       "630104            7597           196            4.03               3045   \n",
       "9487              4179           177            4.35               2255   \n",
       "6050894           6288           218            4.23               3000   \n",
       "39030            38382          1424            4.01              12711   \n",
       "998              72168          3217            4.04              27594   \n",
       "...                ...           ...             ...                ...   \n",
       "15743072         13295           805            3.87               4220   \n",
       "18143905         42609          4282            3.84              12461   \n",
       "1466878           1583            64            4.17                673   \n",
       "630103            8815           258            4.09               3760   \n",
       "6922622          11359          1246            3.28               2379   \n",
       "\n",
       "          four_star_ratings  three_star_ratings  two_star_ratings  \\\n",
       "id                                                                  \n",
       "630104                 2323                1748               389   \n",
       "9487                   1290                 518                93   \n",
       "6050894                2020                1041               183   \n",
       "39030                 15407                8511              1429   \n",
       "998                   25219               14855              3414   \n",
       "...                     ...                 ...               ...   \n",
       "15743072               4733                3116               848   \n",
       "18143905              15191               11202              3011   \n",
       "1466878                 592                 251                51   \n",
       "630103                 2734                1780               435   \n",
       "6922622                3085                2921              1262   \n",
       "\n",
       "          one_star_ratings  number_of_pages     date_published  \\\n",
       "id                                                               \n",
       "630104                  92            220.0   January 1st 2007   \n",
       "9487                    23            400.0  October 29th 2006   \n",
       "6050894                 44            320.0   January 1st 2009   \n",
       "39030                  324            464.0               1997   \n",
       "998                   1086            258.0  October 28th 1995   \n",
       "...                    ...              ...                ...   \n",
       "15743072               378            312.0               2007   \n",
       "18143905               744            208.0     April 8th 2014   \n",
       "1466878                 16            264.0               1961   \n",
       "630103                 106            240.0    April 24th 2007   \n",
       "6922622               1712            413.0   January 1st 2009   \n",
       "\n",
       "                                        publisher  \\\n",
       "id                                                  \n",
       "630104    Simon  Schuster Books for Young Readers   \n",
       "9487                                Thomas Nelson   \n",
       "6050894                                 Zondervan   \n",
       "39030                                   Tor Books   \n",
       "998                                 Gallery Books   \n",
       "...                                           ...   \n",
       "15743072                         Kensington Trade   \n",
       "18143905                                 Scribner   \n",
       "1466878                                     Arena   \n",
       "630103    Simon  Schuster Books for Young Readers   \n",
       "6922622                                    Harper   \n",
       "\n",
       "                                            genre_and_votes        isbn  \\\n",
       "id                                                                        \n",
       "630104              Young Adult 161, Mystery 45, Romance 32  1416950419   \n",
       "9487      Christian Fiction 114, Christian 45, Fiction 3...  1595542329   \n",
       "6050894     Christian Fiction 174, Christian 81, Fiction 58         NaN   \n",
       "39030     Thriller 626, Mystery 493, Horror 432, Fiction...  0765354950   \n",
       "998       Economics-Finance 1162, Nonfiction 910, Busine...  0671015206   \n",
       "...                                                     ...         ...   \n",
       "15743072  Romance-Historical Romance 335, Romance 312, H...  075829039X   \n",
       "18143905  Nonfiction 1307, Short Stories 766, Writing-Es...  147675361X   \n",
       "1466878   Fiction 13, Childrens 11, Historical-Historica...  3401027247   \n",
       "630103              Young Adult 182, Mystery 52, Romance 34  1416918760   \n",
       "6922622   Biography 176, Nonfiction 171, Politics 165, B...  0061939897   \n",
       "\n",
       "                 isbn13                                         characters  \\\n",
       "id                                                                           \n",
       "630104    9781416950417                                                NaN   \n",
       "9487      9781595542328                                                NaN   \n",
       "6050894             NaN                                                NaN   \n",
       "39030     9780765354952  Aloysius X.L. Pendergast, Margo Green, William...   \n",
       "998       9780671015206                                                NaN   \n",
       "...                 ...                                                ...   \n",
       "15743072  9780758290397                     Gerard Faulkner, Isabel Pelham   \n",
       "18143905  9781476753614                                                NaN   \n",
       "1466878   9783401027241                                      Sadako Sasaki   \n",
       "630103    9781416918769                                                NaN   \n",
       "6922622   9780061939891  Joe Biden, Sarah Palin, Glenn Beck, Katie Cour...   \n",
       "\n",
       "                                                     awards  \n",
       "id                                                           \n",
       "630104                                                  NaN  \n",
       "9487                                                    NaN  \n",
       "6050894                                                 NaN  \n",
       "39030                                                   NaN  \n",
       "998       Independent Publisher Book Award (IPPY) Nomine...  \n",
       "...                                                     ...  \n",
       "15743072                                                NaN  \n",
       "18143905  Goodreads Choice Award for Nonfiction (2014), ...  \n",
       "1466878   Austrian National Prize (1961), City of Vienna...  \n",
       "630103                                                  NaN  \n",
       "6922622                                                 NaN  \n",
       "\n",
       "[52199 rows x 19 columns]"
      ]
     },
     "execution_count": 206,
     "metadata": {},
     "output_type": "execute_result"
    }
   ],
   "source": [
    "# Setting index as book_id since it is unique for each observation\n",
    "df_goodreads.set_index('id')"
   ]
  },
  {
   "cell_type": "markdown",
   "id": "c4bbc06c",
   "metadata": {},
   "source": [
    "## Cleaning the Data\n",
    "First, we will be analyzing the data to check if there are any columns that are not relevant to our research so that we can permanently drop them. Second, we will check there are any missing values in the columns of our interest, if found can we impute them or drop them. Third, identify columns that contain information that can be simplified to get straightforward data."
   ]
  },
  {
   "cell_type": "markdown",
   "id": "abb171a9",
   "metadata": {},
   "source": [
    "As seen above, ISBN columns are not relevant to our research hence we can drop them permanently."
   ]
  },
  {
   "cell_type": "code",
   "execution_count": 207,
   "id": "09791121",
   "metadata": {},
   "outputs": [],
   "source": [
    "# Dropping ISBN columns\n",
    "df_goodreads.drop(columns=['isbn', 'isbn13'], inplace=True)"
   ]
  },
  {
   "cell_type": "code",
   "execution_count": 208,
   "id": "03680e57",
   "metadata": {},
   "outputs": [
    {
     "data": {
      "text/plain": [
       "rating_count          0\n",
       "review_count          0\n",
       "average_rating        0\n",
       "five_star_ratings     0\n",
       "four_star_ratings     0\n",
       "three_star_ratings    0\n",
       "two_star_ratings      0\n",
       "one_star_ratings      0\n",
       "dtype: int64"
      ]
     },
     "execution_count": 208,
     "metadata": {},
     "output_type": "execute_result"
    }
   ],
   "source": [
    "# Check if rating columns contain null values\n",
    "df_goodreads[['rating_count', 'review_count','average_rating', 'five_star_ratings', 'four_star_ratings', 'three_star_ratings',\n",
    "  'two_star_ratings', 'one_star_ratings']].isnull().sum()"
   ]
  },
  {
   "cell_type": "markdown",
   "id": "5366fe3e",
   "metadata": {},
   "source": [
    "As seen, there are no Books with a missing rating data."
   ]
  },
  {
   "cell_type": "code",
   "execution_count": 209,
   "id": "12ca3970",
   "metadata": {},
   "outputs": [
    {
     "data": {
      "text/plain": [
       "2927"
      ]
     },
     "execution_count": 209,
     "metadata": {},
     "output_type": "execute_result"
    }
   ],
   "source": [
    "# Determine Non Series Books which have missing Genre and Publication Date data\n",
    "non_series_mask = ((df_goodreads['date_published'].isnull() | df_goodreads['genre_and_votes'].isnull()) & df_goodreads['series'].isnull())\n",
    "non_series_mask.sum()"
   ]
  },
  {
   "cell_type": "markdown",
   "id": "03463f77",
   "metadata": {},
   "source": [
    "Since there are Books that are not part of any Series that contain missing Publication Date and Genres we can delete these Books permanently and we won't be affecting any books that are a part of any series."
   ]
  },
  {
   "cell_type": "code",
   "execution_count": 210,
   "id": "c1467b9a",
   "metadata": {},
   "outputs": [],
   "source": [
    "# Deleting the above gathered data with missing values\n",
    "df_goodreads.drop(df_goodreads[non_series_mask].index, inplace=True)"
   ]
  },
  {
   "cell_type": "markdown",
   "id": "1b6e8279",
   "metadata": {},
   "source": [
    "Identifying books that are a part of Series which have missing Publication Date and Genre data."
   ]
  },
  {
   "cell_type": "code",
   "execution_count": 211,
   "id": "5a079b9c",
   "metadata": {},
   "outputs": [
    {
     "data": {
      "text/plain": [
       "565"
      ]
     },
     "execution_count": 211,
     "metadata": {},
     "output_type": "execute_result"
    }
   ],
   "source": [
    "# Determining books that are part of series but do not have the publication date and genre data\n",
    "((df_goodreads['date_published'].isnull() | df_goodreads['genre_and_votes'].isnull()) & df_goodreads['series'].notnull()).sum()"
   ]
  },
  {
   "cell_type": "markdown",
   "id": "caf58e10",
   "metadata": {},
   "source": [
    "\n",
    "To solve above issue and to simplify the data for further analysis, we can split the series column to extract series name and the book number in that series."
   ]
  },
  {
   "cell_type": "code",
   "execution_count": 212,
   "id": "2bcf1bc8",
   "metadata": {},
   "outputs": [
    {
     "data": {
      "text/html": [
       "<div>\n",
       "<style scoped>\n",
       "    .dataframe tbody tr th:only-of-type {\n",
       "        vertical-align: middle;\n",
       "    }\n",
       "\n",
       "    .dataframe tbody tr th {\n",
       "        vertical-align: top;\n",
       "    }\n",
       "\n",
       "    .dataframe thead th {\n",
       "        text-align: right;\n",
       "    }\n",
       "</style>\n",
       "<table border=\"1\" class=\"dataframe\">\n",
       "  <thead>\n",
       "    <tr style=\"text-align: right;\">\n",
       "      <th></th>\n",
       "      <th>0</th>\n",
       "      <th>1</th>\n",
       "    </tr>\n",
       "  </thead>\n",
       "  <tbody>\n",
       "    <tr>\n",
       "      <th>0</th>\n",
       "      <td>Private</td>\n",
       "      <td>5</td>\n",
       "    </tr>\n",
       "    <tr>\n",
       "      <th>1</th>\n",
       "      <td>Love</td>\n",
       "      <td>2</td>\n",
       "    </tr>\n",
       "    <tr>\n",
       "      <th>2</th>\n",
       "      <td>Line</td>\n",
       "      <td>2</td>\n",
       "    </tr>\n",
       "    <tr>\n",
       "      <th>3</th>\n",
       "      <td>Pendergast</td>\n",
       "      <td>2</td>\n",
       "    </tr>\n",
       "    <tr>\n",
       "      <th>4</th>\n",
       "      <td>NaN</td>\n",
       "      <td>NaN</td>\n",
       "    </tr>\n",
       "    <tr>\n",
       "      <th>...</th>\n",
       "      <td>...</td>\n",
       "      <td>...</td>\n",
       "    </tr>\n",
       "    <tr>\n",
       "      <th>52194</th>\n",
       "      <td>NaN</td>\n",
       "      <td>NaN</td>\n",
       "    </tr>\n",
       "    <tr>\n",
       "      <th>52195</th>\n",
       "      <td>NaN</td>\n",
       "      <td>NaN</td>\n",
       "    </tr>\n",
       "    <tr>\n",
       "      <th>52196</th>\n",
       "      <td>NaN</td>\n",
       "      <td>NaN</td>\n",
       "    </tr>\n",
       "    <tr>\n",
       "      <th>52197</th>\n",
       "      <td>Private</td>\n",
       "      <td>4</td>\n",
       "    </tr>\n",
       "    <tr>\n",
       "      <th>52198</th>\n",
       "      <td>NaN</td>\n",
       "      <td>NaN</td>\n",
       "    </tr>\n",
       "  </tbody>\n",
       "</table>\n",
       "<p>49272 rows × 2 columns</p>\n",
       "</div>"
      ],
      "text/plain": [
       "                0    1\n",
       "0         Private    5\n",
       "1            Love    2\n",
       "2            Line    2\n",
       "3      Pendergast    2\n",
       "4             NaN  NaN\n",
       "...           ...  ...\n",
       "52194         NaN  NaN\n",
       "52195         NaN  NaN\n",
       "52196         NaN  NaN\n",
       "52197     Private    4\n",
       "52198         NaN  NaN\n",
       "\n",
       "[49272 rows x 2 columns]"
      ]
     },
     "execution_count": 212,
     "metadata": {},
     "output_type": "execute_result"
    }
   ],
   "source": [
    "# Splitting series column based on # to retrieve required data\n",
    "series_split = df_goodreads['series'].str.extract(pat='(\\w+) #(\\d+)')\n",
    "series_split"
   ]
  },
  {
   "cell_type": "code",
   "execution_count": 213,
   "id": "5f2de76c",
   "metadata": {},
   "outputs": [],
   "source": [
    "# Dropping the old series column\n",
    "df_goodreads.drop(columns='series', inplace=True)\n",
    "\n",
    "# Creating new series name and book number column to provide simplified data\n",
    "df_goodreads['series_name'] = series_split[0]\n",
    "df_goodreads['book_number_in_series'] = series_split[1]"
   ]
  },
  {
   "cell_type": "markdown",
   "id": "2984f97f",
   "metadata": {},
   "source": [
    "Let us cross check if the Books in series have corresponding Book Number."
   ]
  },
  {
   "cell_type": "code",
   "execution_count": 214,
   "id": "75ceef7e",
   "metadata": {},
   "outputs": [
    {
     "data": {
      "text/plain": [
       "0"
      ]
     },
     "execution_count": 214,
     "metadata": {},
     "output_type": "execute_result"
    }
   ],
   "source": [
    "# check if book is series does not have book number\n",
    "(df_goodreads['series_name'].notnull() & df_goodreads['book_number_in_series'].isnull()).sum()"
   ]
  },
  {
   "cell_type": "markdown",
   "id": "289925ec",
   "metadata": {},
   "source": [
    "For our analysis, let us extract the leading genre , i.e. the genre with the most votes and populate it in a new column. Also we extract only the year of publication as it is of interest from the date published column."
   ]
  },
  {
   "cell_type": "code",
   "execution_count": 215,
   "id": "24b6863a",
   "metadata": {},
   "outputs": [],
   "source": [
    "# Creating Main Genre column that can be used for further analysis`\n",
    "df_goodreads['main_genre'] = df_goodreads['genre_and_votes'].str.split('\\d').str[0].str.rstrip()"
   ]
  },
  {
   "cell_type": "code",
   "execution_count": 216,
   "id": "e829e242",
   "metadata": {},
   "outputs": [],
   "source": [
    "# Extracting year from date published \n",
    "df_goodreads['year_published'] = df_goodreads['date_published'].str.extract(pat='(\\d{4})').values"
   ]
  },
  {
   "cell_type": "code",
   "execution_count": 217,
   "id": "9155e06b",
   "metadata": {},
   "outputs": [],
   "source": [
    "# Drop the old date published column which is no longer required.\n",
    "df_goodreads.drop(columns='date_published', inplace=True)"
   ]
  },
  {
   "cell_type": "code",
   "execution_count": 218,
   "id": "4dc2d8af",
   "metadata": {},
   "outputs": [
    {
     "data": {
      "text/html": [
       "<div>\n",
       "<style scoped>\n",
       "    .dataframe tbody tr th:only-of-type {\n",
       "        vertical-align: middle;\n",
       "    }\n",
       "\n",
       "    .dataframe tbody tr th {\n",
       "        vertical-align: top;\n",
       "    }\n",
       "\n",
       "    .dataframe thead th {\n",
       "        text-align: right;\n",
       "    }\n",
       "</style>\n",
       "<table border=\"1\" class=\"dataframe\">\n",
       "  <thead>\n",
       "    <tr style=\"text-align: right;\">\n",
       "      <th></th>\n",
       "      <th>id</th>\n",
       "      <th>title</th>\n",
       "      <th>author</th>\n",
       "      <th>rating_count</th>\n",
       "      <th>review_count</th>\n",
       "      <th>average_rating</th>\n",
       "      <th>five_star_ratings</th>\n",
       "      <th>four_star_ratings</th>\n",
       "      <th>three_star_ratings</th>\n",
       "      <th>two_star_ratings</th>\n",
       "      <th>one_star_ratings</th>\n",
       "      <th>number_of_pages</th>\n",
       "      <th>publisher</th>\n",
       "      <th>genre_and_votes</th>\n",
       "      <th>characters</th>\n",
       "      <th>awards</th>\n",
       "      <th>series_name</th>\n",
       "      <th>book_number_in_series</th>\n",
       "      <th>main_genre</th>\n",
       "      <th>year_published</th>\n",
       "    </tr>\n",
       "  </thead>\n",
       "  <tbody>\n",
       "    <tr>\n",
       "      <th>0</th>\n",
       "      <td>630104</td>\n",
       "      <td>Inner Circle</td>\n",
       "      <td>Kate Brian, Julian Peploe</td>\n",
       "      <td>7597</td>\n",
       "      <td>196</td>\n",
       "      <td>4.03</td>\n",
       "      <td>3045</td>\n",
       "      <td>2323</td>\n",
       "      <td>1748</td>\n",
       "      <td>389</td>\n",
       "      <td>92</td>\n",
       "      <td>220.0</td>\n",
       "      <td>Simon  Schuster Books for Young Readers</td>\n",
       "      <td>Young Adult 161, Mystery 45, Romance 32</td>\n",
       "      <td>NaN</td>\n",
       "      <td>NaN</td>\n",
       "      <td>Private</td>\n",
       "      <td>5</td>\n",
       "      <td>Young Adult</td>\n",
       "      <td>2007</td>\n",
       "    </tr>\n",
       "    <tr>\n",
       "      <th>1</th>\n",
       "      <td>9487</td>\n",
       "      <td>A Time to Embrace</td>\n",
       "      <td>Karen Kingsbury</td>\n",
       "      <td>4179</td>\n",
       "      <td>177</td>\n",
       "      <td>4.35</td>\n",
       "      <td>2255</td>\n",
       "      <td>1290</td>\n",
       "      <td>518</td>\n",
       "      <td>93</td>\n",
       "      <td>23</td>\n",
       "      <td>400.0</td>\n",
       "      <td>Thomas Nelson</td>\n",
       "      <td>Christian Fiction 114, Christian 45, Fiction 3...</td>\n",
       "      <td>NaN</td>\n",
       "      <td>NaN</td>\n",
       "      <td>Love</td>\n",
       "      <td>2</td>\n",
       "      <td>Christian Fiction</td>\n",
       "      <td>2006</td>\n",
       "    </tr>\n",
       "    <tr>\n",
       "      <th>2</th>\n",
       "      <td>6050894</td>\n",
       "      <td>Take Two</td>\n",
       "      <td>Karen Kingsbury</td>\n",
       "      <td>6288</td>\n",
       "      <td>218</td>\n",
       "      <td>4.23</td>\n",
       "      <td>3000</td>\n",
       "      <td>2020</td>\n",
       "      <td>1041</td>\n",
       "      <td>183</td>\n",
       "      <td>44</td>\n",
       "      <td>320.0</td>\n",
       "      <td>Zondervan</td>\n",
       "      <td>Christian Fiction 174, Christian 81, Fiction 58</td>\n",
       "      <td>NaN</td>\n",
       "      <td>NaN</td>\n",
       "      <td>Line</td>\n",
       "      <td>2</td>\n",
       "      <td>Christian Fiction</td>\n",
       "      <td>2009</td>\n",
       "    </tr>\n",
       "    <tr>\n",
       "      <th>3</th>\n",
       "      <td>39030</td>\n",
       "      <td>Reliquary</td>\n",
       "      <td>Douglas Preston, Lincoln Child</td>\n",
       "      <td>38382</td>\n",
       "      <td>1424</td>\n",
       "      <td>4.01</td>\n",
       "      <td>12711</td>\n",
       "      <td>15407</td>\n",
       "      <td>8511</td>\n",
       "      <td>1429</td>\n",
       "      <td>324</td>\n",
       "      <td>464.0</td>\n",
       "      <td>Tor Books</td>\n",
       "      <td>Thriller 626, Mystery 493, Horror 432, Fiction...</td>\n",
       "      <td>Aloysius X.L. Pendergast, Margo Green, William...</td>\n",
       "      <td>NaN</td>\n",
       "      <td>Pendergast</td>\n",
       "      <td>2</td>\n",
       "      <td>Thriller</td>\n",
       "      <td>1997</td>\n",
       "    </tr>\n",
       "    <tr>\n",
       "      <th>4</th>\n",
       "      <td>998</td>\n",
       "      <td>The Millionaire Next Door: The Surprising Secr...</td>\n",
       "      <td>Thomas J. Stanley, William D. Danko</td>\n",
       "      <td>72168</td>\n",
       "      <td>3217</td>\n",
       "      <td>4.04</td>\n",
       "      <td>27594</td>\n",
       "      <td>25219</td>\n",
       "      <td>14855</td>\n",
       "      <td>3414</td>\n",
       "      <td>1086</td>\n",
       "      <td>258.0</td>\n",
       "      <td>Gallery Books</td>\n",
       "      <td>Economics-Finance 1162, Nonfiction 910, Busine...</td>\n",
       "      <td>NaN</td>\n",
       "      <td>Independent Publisher Book Award (IPPY) Nomine...</td>\n",
       "      <td>NaN</td>\n",
       "      <td>NaN</td>\n",
       "      <td>Economics-Finance</td>\n",
       "      <td>1995</td>\n",
       "    </tr>\n",
       "  </tbody>\n",
       "</table>\n",
       "</div>"
      ],
      "text/plain": [
       "        id                                              title  \\\n",
       "0   630104                                       Inner Circle   \n",
       "1     9487                                  A Time to Embrace   \n",
       "2  6050894                                           Take Two   \n",
       "3    39030                                          Reliquary   \n",
       "4      998  The Millionaire Next Door: The Surprising Secr...   \n",
       "\n",
       "                                author  rating_count  review_count  \\\n",
       "0            Kate Brian, Julian Peploe          7597           196   \n",
       "1                      Karen Kingsbury          4179           177   \n",
       "2                      Karen Kingsbury          6288           218   \n",
       "3       Douglas Preston, Lincoln Child         38382          1424   \n",
       "4  Thomas J. Stanley, William D. Danko         72168          3217   \n",
       "\n",
       "   average_rating  five_star_ratings  four_star_ratings  three_star_ratings  \\\n",
       "0            4.03               3045               2323                1748   \n",
       "1            4.35               2255               1290                 518   \n",
       "2            4.23               3000               2020                1041   \n",
       "3            4.01              12711              15407                8511   \n",
       "4            4.04              27594              25219               14855   \n",
       "\n",
       "   two_star_ratings  one_star_ratings  number_of_pages  \\\n",
       "0               389                92            220.0   \n",
       "1                93                23            400.0   \n",
       "2               183                44            320.0   \n",
       "3              1429               324            464.0   \n",
       "4              3414              1086            258.0   \n",
       "\n",
       "                                 publisher  \\\n",
       "0  Simon  Schuster Books for Young Readers   \n",
       "1                            Thomas Nelson   \n",
       "2                                Zondervan   \n",
       "3                                Tor Books   \n",
       "4                            Gallery Books   \n",
       "\n",
       "                                     genre_and_votes  \\\n",
       "0            Young Adult 161, Mystery 45, Romance 32   \n",
       "1  Christian Fiction 114, Christian 45, Fiction 3...   \n",
       "2    Christian Fiction 174, Christian 81, Fiction 58   \n",
       "3  Thriller 626, Mystery 493, Horror 432, Fiction...   \n",
       "4  Economics-Finance 1162, Nonfiction 910, Busine...   \n",
       "\n",
       "                                          characters  \\\n",
       "0                                                NaN   \n",
       "1                                                NaN   \n",
       "2                                                NaN   \n",
       "3  Aloysius X.L. Pendergast, Margo Green, William...   \n",
       "4                                                NaN   \n",
       "\n",
       "                                              awards series_name  \\\n",
       "0                                                NaN     Private   \n",
       "1                                                NaN        Love   \n",
       "2                                                NaN        Line   \n",
       "3                                                NaN  Pendergast   \n",
       "4  Independent Publisher Book Award (IPPY) Nomine...         NaN   \n",
       "\n",
       "  book_number_in_series         main_genre year_published  \n",
       "0                     5        Young Adult           2007  \n",
       "1                     2  Christian Fiction           2006  \n",
       "2                     2  Christian Fiction           2009  \n",
       "3                     2           Thriller           1997  \n",
       "4                   NaN  Economics-Finance           1995  "
      ]
     },
     "execution_count": 218,
     "metadata": {},
     "output_type": "execute_result"
    }
   ],
   "source": [
    "df_goodreads.head()"
   ]
  },
  {
   "cell_type": "markdown",
   "id": "f9c641bc",
   "metadata": {},
   "source": [
    "## Analysis of Books that are part of series\n",
    "We can perform some descriptive statistics analyze the performance of books that are part of a series in comparison to other books to gather some inferences."
   ]
  },
  {
   "cell_type": "code",
   "execution_count": 219,
   "id": "56658253",
   "metadata": {},
   "outputs": [
    {
     "name": "stdout",
     "output_type": "stream",
     "text": [
      "Books that are part of a Series -> 20951\n",
      "Books that are part of a Series -> 28321\n"
     ]
    }
   ],
   "source": [
    "# Filtering data based on if the book is in series or not\n",
    "series_books = df_goodreads[df_goodreads['series_name'].notnull()]\n",
    "not_series_books = df_goodreads[df_goodreads['series_name'].isnull()]\n",
    "print('Books that are part of a Series ->',len(series_books))\n",
    "print('Books that are part of a Series ->',len(not_series_books))"
   ]
  },
  {
   "cell_type": "code",
   "execution_count": 220,
   "id": "ce8079be",
   "metadata": {},
   "outputs": [],
   "source": [
    "# Grouping the data according to series name and book id\n",
    "series_books.set_index(['series_name', 'id'], inplace=True)"
   ]
  },
  {
   "cell_type": "code",
   "execution_count": 235,
   "id": "5773845c",
   "metadata": {},
   "outputs": [
    {
     "name": "stdout",
     "output_type": "stream",
     "text": [
      "Number of people who rated the Series books -> 22159.0\n",
      "Number of people who rated the Non Series books -> 18375.0\n"
     ]
    }
   ],
   "source": [
    "print('Number of people who rated the Series books ->', series_books['rating_count'].astype('Int64').mean().round(0))\n",
    "print('Number of people who rated the Non Series books ->', not_series_books['rating_count'].astype('Int64').mean().round(0))"
   ]
  },
  {
   "cell_type": "markdown",
   "id": "72bba607",
   "metadata": {},
   "source": [
    "- The number of customers who rate a book that is a part of a series is higher than that of non series books. We can infer that customers tend to interact more with Goodreads if a book is part of series."
   ]
  },
  {
   "cell_type": "code",
   "execution_count": 240,
   "id": "401e256f",
   "metadata": {},
   "outputs": [],
   "source": [
    "x_data = series_books['main_genre'].value_counts().head(10).index\n",
    "y_data = series_books['main_genre'].value_counts().head(10).values"
   ]
  },
  {
   "cell_type": "code",
   "execution_count": 243,
   "id": "40c4b03b",
   "metadata": {},
   "outputs": [
    {
     "data": {
      "image/png": "[encoded data removed]",
      "text/plain": [
       "<Figure size 432x288 with 1 Axes>"
      ]
     },
     "metadata": {},
     "output_type": "display_data"
    }
   ],
   "source": [
    "sns.set_style('whitegrid')\n",
    "genre_distribution = sns.barplot(x=x_data, y=y_data, palette= 'bright')\n",
    "genre_distribution.set_title('Genre Distribution for Series Books', fontsize=17)\n",
    "genre_distribution.set_xlabel('Genres', fontsize=14)\n",
    "genre_distribution.set_ylabel('Frequency of Genre', fontsize=14)\n",
    "genre_distribution.set\n",
    "genre_distribution.set_xticklabels(\n",
    "    genre_distribution.get_xticklabels(),\n",
    "    fontsize = 'large',\n",
    "    rotation = 45)\n",
    "genre_distribution.bar_label(genre_distribution.containers[0])\n",
    "\n",
    "plt.show()"
   ]
  },
  {
   "cell_type": "markdown",
   "id": "64db9f28",
   "metadata": {},
   "source": [
    "- As seen, books that are in series are most likely to be of Fantasy Genre, but does this mean that Authors should choose this genre as a promising one when writing a new book?"
   ]
  },
  {
   "cell_type": "code",
   "execution_count": 250,
   "id": "6c4b1219",
   "metadata": {},
   "outputs": [
    {
     "data": {
      "text/plain": [
       "4.06"
      ]
     },
     "execution_count": 250,
     "metadata": {},
     "output_type": "execute_result"
    }
   ],
   "source": [
    "# Calculating mean of average rating of series books that have genre as 'Fantasy'\n",
    "round(series_books[series_books['main_genre']=='Fantasy']['average_rating'].mean(),2)"
   ]
  },
  {
   "cell_type": "code",
   "execution_count": 252,
   "id": "0a428b28",
   "metadata": {},
   "outputs": [
    {
     "data": {
      "text/plain": [
       "4.25"
      ]
     },
     "execution_count": 252,
     "metadata": {},
     "output_type": "execute_result"
    }
   ],
   "source": [
    "# Calculating mean of average rating of series books that have genre as 'Sequential Art-Manga'\n",
    "round(series_books[series_books['main_genre']=='Sequential Art-Manga']['average_rating'].mean(),2)"
   ]
  },
  {
   "cell_type": "markdown",
   "id": "01ef3496",
   "metadata": {},
   "source": [
    "Despite being the 10th highest occuring genre, it has a better rating than the most occuring Genre i.e. Fantasy. Hence, we cannot say that going with highest used Genre was always yield a quality book."
   ]
  }
 ],
 "metadata": {
  "kernelspec": {
   "display_name": "Python 3 (ipykernel)",
   "language": "python",
   "name": "python3"
  },
  "language_info": {
   "codemirror_mode": {
    "name": "ipython",
    "version": 3
   },
   "file_extension": ".py",
   "mimetype": "text/x-python",
   "name": "python",
   "nbconvert_exporter": "python",
   "pygments_lexer": "ipython3",
   "version": "3.9.7"
  }
 },
 "nbformat": 4,
 "nbformat_minor": 5
}
