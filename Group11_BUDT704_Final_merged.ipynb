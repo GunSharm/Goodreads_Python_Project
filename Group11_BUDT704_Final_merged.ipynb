{
 "cells": [
  {
   "cell_type": "markdown",
   "id": "eb676424",
   "metadata": {},
   "source": [
    "# BUDT 704 Data Processing and Analysis in Python "
   ]
  },
  {
   "cell_type": "markdown",
   "id": "57c2bf04",
   "metadata": {},
   "source": [
    "<br><img src=\"https://www.nosegraze.com/wp-content/uploads/2013/03/amazon-buys-goodreads.jpg\" />"
   ]
  },
  {
   "cell_type": "markdown",
   "id": "c545a4c4",
   "metadata": {},
   "source": [
    "**Project Title:**<br>\n",
    "- How to Judge a Book by Its Cover"
   ]
  },
  {
   "cell_type": "markdown",
   "id": "cd52d1ce",
   "metadata": {},
   "source": [
    "**Group Name:**<br>\n",
    "- Authors of Analysis"
   ]
  },
  {
   "cell_type": "markdown",
   "id": "4bd0cb90",
   "metadata": {},
   "source": [
    "**Group Members:**<br>\n",
    "- Vatsal Srivastava\n",
    "- Shashank Vidyadhar Patil\n",
    "- Aditi Patel\n",
    "- Gunjan Sharma \n",
    "- Urshilah Senthilnathan\n",
    "- Kristina Sutliff"
   ]
  },
  {
   "cell_type": "markdown",
   "id": "30e29019",
   "metadata": {},
   "source": [
    "## Introduction\n",
    "<hr style=\"width:100%;text-align:left;margin-left:0\">"
   ]
  },
  {
   "cell_type": "markdown",
   "id": "9747ab97",
   "metadata": {},
   "source": [
    "The Global book market is expected to reach $142.33 Billion by the end of 2022. Amazon has been a dominant player in this industry. One of the reasons for this dominance is the insights about bibliophiles that they gather through vital subsidiaries like Goodreads and Audible. \n",
    "    \n",
    "Goodreads is a subsidiary of Amazon that provides book recommendations, along with other services, to its users. Members of Goodreads can keep track of the books they have read, are currently reading, and want to read in the future. The website also allows its users to connect with friends so that they can see what books their friends are reading. Additionally, the website consists of interviews with various authors where they talk about recently published books as well as promote their upcoming books. What makes Goodreads useful is that their lists of recommendations change dynamically over time so that the user always has access to the most relevant recommendations that match their preferences. \n",
    "\n",
    "As a group of consultants hired by Amazon to explore new revenue generating business opportunities and optimize their book ecosystem, we will analyze Goodreads data to research focus areas that can be utilized to their full potential. The answers to following questions will aid Amazon in making critical business decisions and leveraging benefits of Goodreads."
   ]
  },
  {
   "cell_type": "markdown",
   "id": "15efb44f",
   "metadata": {},
   "source": [
    "### Through this analysis project we will answer the following questions:\n",
    "\n",
    "1. Among the popular genres, what are the best performing books for these genres ranked according to book score? Book score is a metric that will be based on rating, review and awards related data to rank a book. <br><br>\n",
    "2. What are the most common keywords in the book title for different top performing genres? <br><br>\n",
    "3. What genre and series category would attract more publishers based on average rating and review count? <br><br>\n",
    "4. Is there a tendency to reduce the number of pages in recent books? If yes, what can be done to meet this trend? <br><br>\n",
    "5. Which books can be converted into audio books? What is the predicted price for such books? <br><br>\n"
   ]
  },
  {
   "cell_type": "markdown",
   "id": "06e89b31",
   "metadata": {},
   "source": [
    "## Our Dataset\n",
    "We will mainly be using **2** datasets to conduct this research.\n",
    "<hr style=\"width:100%;text-align:left;margin-left:0\">"
   ]
  },
  {
   "cell_type": "markdown",
   "id": "5b21ab4a",
   "metadata": {},
   "source": [
    "**Kaggle Dataset**:<br>\n",
    "The following dataset will be used that contains all the data related to Goodreads books - https://www.kaggle.com/datasets/austinreese/goodreads-books?select=goodreads_books.csv\n",
    "\n",
    "The data contains listing of all details of Goodreads book till 2021. Overall the data has the following columns: \n",
    "- Book Id\n",
    "- Book Title\n",
    "- Goodreads Link\n",
    "- Series\n",
    "- Cover Link\n",
    "- Author\n",
    "- Author Link\n",
    "- Rating Count\n",
    "- Review Count\n",
    "- Average Rating\n",
    "- Five Star Ratings\n",
    "- Four Star Ratings\n",
    "- Three Star Ratings\n",
    "- Two Star Ratings\n",
    "- One Star Ratings\n",
    "- Number of Pages\n",
    "- Date Publisher\n",
    "- Publisher\n",
    "- Original Title\n",
    "- Genre and Votes\n",
    "- ISBN\n",
    "- ISBN13\n",
    "- ASIN\n",
    "- Settings\n",
    "- Characters\n",
    "- Awards\n",
    "- Amazon Redirect Link\n",
    "- Worldcat Redirect Link\n",
    "- Recommended Books\n",
    "- Books in Series \n",
    "- Description\n",
    "\n",
    "**Data Volume**:<br>\n",
    "52199 rows, 31 columns\n",
    "\n",
    "\n",
    "**Audible Dataset**:<br>\n",
    "To derive insights about the audio books on audible, we rely on a dataset with extensive collection of titles. The dataset is compiled by Toby Manders, a data science enthusiast and refers to the dataset in one of his [blogs](https://towardsdatascience.com/scraping-and-exploring-the-entire-english-audible-catalog-ea279cd09f88).\n",
    "The dataset can be downloaded from the following link: https://drive.google.com/file/d/1btf5Eq6U-GfG3iScpX6lMluCt6SgS45c/view\n",
    "\n",
    "The data contains listing of all details of Goodreads book till 2021. Overall the data has the following columns: \n",
    "- asin\n",
    "- author\n",
    "- category\n",
    "- length\n",
    "- link\n",
    "- narrator\n",
    "- price\n",
    "- rating\n",
    "- rating_count\n",
    "- release_date\n",
    "- title\n",
    "\t\t\t\t\t\t\t\t\t\t\n",
    "**Data Volume**:<br>\n",
    "460544 rows, 11 columns"
   ]
  },
  {
   "cell_type": "markdown",
   "id": "311921e3",
   "metadata": {},
   "source": [
    "## **Choice for Heavier Grading on Data Processing or Data Analysis** - \n",
    "<hr style=\"width:100%;text-align:left;margin-left:0\">"
   ]
  },
  {
   "cell_type": "markdown",
   "id": "966c8ef7",
   "metadata": {},
   "source": [
    "Based on the two choices we would like to choose **`Data Analysis`** due to the following reasons:\n",
    "- We have two main datasets that provide us details about book on Goodreads and Audible\n",
    "- We have processed both datasets to clean it and extract information to get a more simplified version of the data. For example, extracting main genre of the book from all genres based on highest votes or extracting duration of book based on the length of book\n",
    "- But our main focus is to form a strategy for Amazon that will help them leverage more value from Goodreads that we will be presenting through our data analysis hence we would like to choose data analysis as our focus"
   ]
  },
  {
   "cell_type": "markdown",
   "id": "0fd399c6",
   "metadata": {},
   "source": [
    "## Data Exploration and Cleaning\n",
    "<hr style=\"width:100%;text-align:left;margin-left:0\">"
   ]
  },
  {
   "cell_type": "code",
   "execution_count": 751,
   "id": "161acfb4",
   "metadata": {},
   "outputs": [],
   "source": [
    "#Importing the libraries\n",
    "import numpy as np\n",
    "import pandas as pd\n",
    "import re \n",
    "import seaborn as sns\n",
    "import matplotlib.pyplot as plt\n",
    "from IPython.display import *\n",
    "import ipywidgets as widgets\n",
    "from ipywidgets import *\n",
    "import plotly.express as px\n",
    "import plotly.graph_objects as go\n",
    "from sklearn import neighbors\n",
    "from sklearn.model_selection import train_test_split, KFold, cross_val_score\n",
    "from sklearn.preprocessing import MinMaxScaler\n",
    "from scipy import spatial\n",
    "import tensorflow_hub as hub\n",
    "import statsmodels.api as sm\n",
    "from scipy import stats\n",
    "from sklearn.linear_model import LinearRegression, ElasticNet, Lasso, Ridge\n",
    "from sklearn import metrics\n",
    "import math\n",
    "from tabulate import tabulate\n",
    "from wordcloud import WordCloud\n",
    "import imageio.v2 as imageio"
   ]
  },
  {
   "cell_type": "markdown",
   "id": "e69eb09a",
   "metadata": {},
   "source": [
    "### <u>Reading Goodreads Data<u>"
   ]
  },
  {
   "cell_type": "code",
   "execution_count": 752,
   "id": "1af23049",
   "metadata": {},
   "outputs": [
    {
     "data": {
      "text/plain": [
       "(52199, 31)"
      ]
     },
     "execution_count": 752,
     "metadata": {},
     "output_type": "execute_result"
    }
   ],
   "source": [
    "# Loading the dataset file into dataframe\n",
    "path = ''\n",
    "df_goodreads = pd.read_csv(path +'../goodreads_books.csv')\n",
    "df_goodreads.shape"
   ]
  },
  {
   "cell_type": "code",
   "execution_count": 753,
   "id": "8b1c735f",
   "metadata": {},
   "outputs": [],
   "source": [
    "# Getting rid of columns that are irrelevant for our analysis \n",
    "df_goodreads.drop(columns=['settings', 'amazon_redirect_link', 'worldcat_redirect_link', \n",
    "                           'recommended_books', 'books_in_series', 'description', 'asin',\n",
    "                           'link', 'author_link', 'cover_link','original_title'], inplace=True)"
   ]
  },
  {
   "cell_type": "markdown",
   "id": "d793267f",
   "metadata": {},
   "source": [
    "#### Identifying and setting Index\n",
    "Out of the potential columns that can be considered for indexing the data; ISBN, ISBN13, Title and Book ID are some of them. We will identify the most suitable column that can uniquely identify a book and its details. "
   ]
  },
  {
   "cell_type": "code",
   "execution_count": 754,
   "id": "55ba95f8",
   "metadata": {
    "scrolled": false
   },
   "outputs": [
    {
     "name": "stdout",
     "output_type": "stream",
     "text": [
      "\n",
      " Duplicates in Book Title -> 2514\n",
      "\n",
      " Number of observation that don't have either ISBN or ISBN13 -> 11883\n",
      "\n",
      " Unique Book IDs -> 52199\n"
     ]
    }
   ],
   "source": [
    "# Determining duplicates for title column \n",
    "print('\\n Duplicates in Book Title ->',df_goodreads['title'].duplicated().sum())\n",
    "\n",
    "# Determining observations that don't have ISBN and ISBN13\n",
    "isbn_mask = df_goodreads['isbn'].isnull() & df_goodreads['isbn13'].isnull()\n",
    "print(\"\\n Number of observation that don't have either ISBN or ISBN13 ->\", isbn_mask.sum())\n",
    "\n",
    "# Validating if all the books have unique Book IDs\n",
    "print('\\n Unique Book IDs ->',len(df_goodreads['id'].unique()))"
   ]
  },
  {
   "cell_type": "markdown",
   "id": "d6277698",
   "metadata": {},
   "source": [
    "We observe from above results, Book Title and ISBN cannot be used to uniquely identify a book as there are duplicates and missing values in them respectively. Hence, we identify Book ID to be the most suitable column to index the data."
   ]
  },
  {
   "cell_type": "code",
   "execution_count": 755,
   "id": "2cad5eaf",
   "metadata": {},
   "outputs": [
    {
     "data": {
      "text/html": [
       "<div>\n",
       "<style scoped>\n",
       "    .dataframe tbody tr th:only-of-type {\n",
       "        vertical-align: middle;\n",
       "    }\n",
       "\n",
       "    .dataframe tbody tr th {\n",
       "        vertical-align: top;\n",
       "    }\n",
       "\n",
       "    .dataframe thead th {\n",
       "        text-align: right;\n",
       "    }\n",
       "</style>\n",
       "<table border=\"1\" class=\"dataframe\">\n",
       "  <thead>\n",
       "    <tr style=\"text-align: right;\">\n",
       "      <th></th>\n",
       "      <th>title</th>\n",
       "      <th>series</th>\n",
       "      <th>author</th>\n",
       "      <th>rating_count</th>\n",
       "      <th>review_count</th>\n",
       "      <th>average_rating</th>\n",
       "      <th>five_star_ratings</th>\n",
       "      <th>four_star_ratings</th>\n",
       "      <th>three_star_ratings</th>\n",
       "      <th>two_star_ratings</th>\n",
       "      <th>one_star_ratings</th>\n",
       "      <th>number_of_pages</th>\n",
       "      <th>date_published</th>\n",
       "      <th>publisher</th>\n",
       "      <th>genre_and_votes</th>\n",
       "      <th>isbn</th>\n",
       "      <th>isbn13</th>\n",
       "      <th>characters</th>\n",
       "      <th>awards</th>\n",
       "    </tr>\n",
       "    <tr>\n",
       "      <th>id</th>\n",
       "      <th></th>\n",
       "      <th></th>\n",
       "      <th></th>\n",
       "      <th></th>\n",
       "      <th></th>\n",
       "      <th></th>\n",
       "      <th></th>\n",
       "      <th></th>\n",
       "      <th></th>\n",
       "      <th></th>\n",
       "      <th></th>\n",
       "      <th></th>\n",
       "      <th></th>\n",
       "      <th></th>\n",
       "      <th></th>\n",
       "      <th></th>\n",
       "      <th></th>\n",
       "      <th></th>\n",
       "      <th></th>\n",
       "    </tr>\n",
       "  </thead>\n",
       "  <tbody>\n",
       "    <tr>\n",
       "      <th>630104</th>\n",
       "      <td>Inner Circle</td>\n",
       "      <td>(Private #5)</td>\n",
       "      <td>Kate Brian, Julian Peploe</td>\n",
       "      <td>7597</td>\n",
       "      <td>196</td>\n",
       "      <td>4.03</td>\n",
       "      <td>3045</td>\n",
       "      <td>2323</td>\n",
       "      <td>1748</td>\n",
       "      <td>389</td>\n",
       "      <td>92</td>\n",
       "      <td>220.0</td>\n",
       "      <td>January 1st 2007</td>\n",
       "      <td>Simon  Schuster Books for Young Readers</td>\n",
       "      <td>Young Adult 161, Mystery 45, Romance 32</td>\n",
       "      <td>1416950419</td>\n",
       "      <td>9781416950417</td>\n",
       "      <td>NaN</td>\n",
       "      <td>NaN</td>\n",
       "    </tr>\n",
       "    <tr>\n",
       "      <th>9487</th>\n",
       "      <td>A Time to Embrace</td>\n",
       "      <td>(Timeless Love #2)</td>\n",
       "      <td>Karen Kingsbury</td>\n",
       "      <td>4179</td>\n",
       "      <td>177</td>\n",
       "      <td>4.35</td>\n",
       "      <td>2255</td>\n",
       "      <td>1290</td>\n",
       "      <td>518</td>\n",
       "      <td>93</td>\n",
       "      <td>23</td>\n",
       "      <td>400.0</td>\n",
       "      <td>October 29th 2006</td>\n",
       "      <td>Thomas Nelson</td>\n",
       "      <td>Christian Fiction 114, Christian 45, Fiction 3...</td>\n",
       "      <td>1595542329</td>\n",
       "      <td>9781595542328</td>\n",
       "      <td>NaN</td>\n",
       "      <td>NaN</td>\n",
       "    </tr>\n",
       "    <tr>\n",
       "      <th>6050894</th>\n",
       "      <td>Take Two</td>\n",
       "      <td>(Above the Line #2)</td>\n",
       "      <td>Karen Kingsbury</td>\n",
       "      <td>6288</td>\n",
       "      <td>218</td>\n",
       "      <td>4.23</td>\n",
       "      <td>3000</td>\n",
       "      <td>2020</td>\n",
       "      <td>1041</td>\n",
       "      <td>183</td>\n",
       "      <td>44</td>\n",
       "      <td>320.0</td>\n",
       "      <td>January 1st 2009</td>\n",
       "      <td>Zondervan</td>\n",
       "      <td>Christian Fiction 174, Christian 81, Fiction 58</td>\n",
       "      <td>NaN</td>\n",
       "      <td>NaN</td>\n",
       "      <td>NaN</td>\n",
       "      <td>NaN</td>\n",
       "    </tr>\n",
       "    <tr>\n",
       "      <th>39030</th>\n",
       "      <td>Reliquary</td>\n",
       "      <td>(Pendergast #2)</td>\n",
       "      <td>Douglas Preston, Lincoln Child</td>\n",
       "      <td>38382</td>\n",
       "      <td>1424</td>\n",
       "      <td>4.01</td>\n",
       "      <td>12711</td>\n",
       "      <td>15407</td>\n",
       "      <td>8511</td>\n",
       "      <td>1429</td>\n",
       "      <td>324</td>\n",
       "      <td>464.0</td>\n",
       "      <td>1997</td>\n",
       "      <td>Tor Books</td>\n",
       "      <td>Thriller 626, Mystery 493, Horror 432, Fiction...</td>\n",
       "      <td>0765354950</td>\n",
       "      <td>9780765354952</td>\n",
       "      <td>Aloysius X.L. Pendergast, Margo Green, William...</td>\n",
       "      <td>NaN</td>\n",
       "    </tr>\n",
       "    <tr>\n",
       "      <th>998</th>\n",
       "      <td>The Millionaire Next Door: The Surprising Secr...</td>\n",
       "      <td>NaN</td>\n",
       "      <td>Thomas J. Stanley, William D. Danko</td>\n",
       "      <td>72168</td>\n",
       "      <td>3217</td>\n",
       "      <td>4.04</td>\n",
       "      <td>27594</td>\n",
       "      <td>25219</td>\n",
       "      <td>14855</td>\n",
       "      <td>3414</td>\n",
       "      <td>1086</td>\n",
       "      <td>258.0</td>\n",
       "      <td>October 28th 1995</td>\n",
       "      <td>Gallery Books</td>\n",
       "      <td>Economics-Finance 1162, Nonfiction 910, Busine...</td>\n",
       "      <td>0671015206</td>\n",
       "      <td>9780671015206</td>\n",
       "      <td>NaN</td>\n",
       "      <td>Independent Publisher Book Award (IPPY) Nomine...</td>\n",
       "    </tr>\n",
       "  </tbody>\n",
       "</table>\n",
       "</div>"
      ],
      "text/plain": [
       "                                                     title  \\\n",
       "id                                                           \n",
       "630104                                        Inner Circle   \n",
       "9487                                     A Time to Embrace   \n",
       "6050894                                           Take Two   \n",
       "39030                                            Reliquary   \n",
       "998      The Millionaire Next Door: The Surprising Secr...   \n",
       "\n",
       "                      series                               author  \\\n",
       "id                                                                  \n",
       "630104          (Private #5)            Kate Brian, Julian Peploe   \n",
       "9487      (Timeless Love #2)                      Karen Kingsbury   \n",
       "6050894  (Above the Line #2)                      Karen Kingsbury   \n",
       "39030        (Pendergast #2)       Douglas Preston, Lincoln Child   \n",
       "998                      NaN  Thomas J. Stanley, William D. Danko   \n",
       "\n",
       "         rating_count  review_count  average_rating  five_star_ratings  \\\n",
       "id                                                                       \n",
       "630104           7597           196            4.03               3045   \n",
       "9487             4179           177            4.35               2255   \n",
       "6050894          6288           218            4.23               3000   \n",
       "39030           38382          1424            4.01              12711   \n",
       "998             72168          3217            4.04              27594   \n",
       "\n",
       "         four_star_ratings  three_star_ratings  two_star_ratings  \\\n",
       "id                                                                 \n",
       "630104                2323                1748               389   \n",
       "9487                  1290                 518                93   \n",
       "6050894               2020                1041               183   \n",
       "39030                15407                8511              1429   \n",
       "998                  25219               14855              3414   \n",
       "\n",
       "         one_star_ratings  number_of_pages     date_published  \\\n",
       "id                                                              \n",
       "630104                 92            220.0   January 1st 2007   \n",
       "9487                   23            400.0  October 29th 2006   \n",
       "6050894                44            320.0   January 1st 2009   \n",
       "39030                 324            464.0               1997   \n",
       "998                  1086            258.0  October 28th 1995   \n",
       "\n",
       "                                       publisher  \\\n",
       "id                                                 \n",
       "630104   Simon  Schuster Books for Young Readers   \n",
       "9487                               Thomas Nelson   \n",
       "6050894                                Zondervan   \n",
       "39030                                  Tor Books   \n",
       "998                                Gallery Books   \n",
       "\n",
       "                                           genre_and_votes        isbn  \\\n",
       "id                                                                       \n",
       "630104             Young Adult 161, Mystery 45, Romance 32  1416950419   \n",
       "9487     Christian Fiction 114, Christian 45, Fiction 3...  1595542329   \n",
       "6050894    Christian Fiction 174, Christian 81, Fiction 58         NaN   \n",
       "39030    Thriller 626, Mystery 493, Horror 432, Fiction...  0765354950   \n",
       "998      Economics-Finance 1162, Nonfiction 910, Busine...  0671015206   \n",
       "\n",
       "                isbn13                                         characters  \\\n",
       "id                                                                          \n",
       "630104   9781416950417                                                NaN   \n",
       "9487     9781595542328                                                NaN   \n",
       "6050894            NaN                                                NaN   \n",
       "39030    9780765354952  Aloysius X.L. Pendergast, Margo Green, William...   \n",
       "998      9780671015206                                                NaN   \n",
       "\n",
       "                                                    awards  \n",
       "id                                                          \n",
       "630104                                                 NaN  \n",
       "9487                                                   NaN  \n",
       "6050894                                                NaN  \n",
       "39030                                                  NaN  \n",
       "998      Independent Publisher Book Award (IPPY) Nomine...  "
      ]
     },
     "execution_count": 755,
     "metadata": {},
     "output_type": "execute_result"
    }
   ],
   "source": [
    "# Setting index as book_id since it is unique for each observation\n",
    "df_goodreads.set_index('id').head()"
   ]
  },
  {
   "cell_type": "markdown",
   "id": "c4bbc06c",
   "metadata": {},
   "source": [
    "### <u>Cleaning & Processing Goodreads Data</u>\n",
    "First, we will be analyzing the data to check if there are any columns that are not relevant to our research so that we can permanently drop them. Second, we will check there are any missing values in the columns of our interest, if found can we impute them or drop them. Third, identify columns that contain information that can be simplified to get straightforward data."
   ]
  },
  {
   "cell_type": "markdown",
   "id": "abb171a9",
   "metadata": {},
   "source": [
    "As seen above, ISBN columns are not relevant to our research hence we can drop them permanently."
   ]
  },
  {
   "cell_type": "code",
   "execution_count": 756,
   "id": "09791121",
   "metadata": {},
   "outputs": [],
   "source": [
    "# Dropping ISBN columns\n",
    "df_goodreads.drop(columns=['isbn', 'isbn13'], inplace=True)"
   ]
  },
  {
   "cell_type": "markdown",
   "id": "ccce5727",
   "metadata": {},
   "source": [
    "Removing the Rows where average rating is Zero as it will be a major factor in calculation of a book score"
   ]
  },
  {
   "cell_type": "code",
   "execution_count": 757,
   "id": "60c28db1",
   "metadata": {},
   "outputs": [],
   "source": [
    "#Dropping the rows where average_rating = 0\n",
    "df_goodreads.drop(df_goodreads[df_goodreads['average_rating'] == 0].index, inplace=True)"
   ]
  },
  {
   "cell_type": "code",
   "execution_count": 758,
   "id": "03680e57",
   "metadata": {},
   "outputs": [
    {
     "data": {
      "text/plain": [
       "rating_count          0\n",
       "review_count          0\n",
       "average_rating        0\n",
       "five_star_ratings     0\n",
       "four_star_ratings     0\n",
       "three_star_ratings    0\n",
       "two_star_ratings      0\n",
       "one_star_ratings      0\n",
       "dtype: int64"
      ]
     },
     "execution_count": 758,
     "metadata": {},
     "output_type": "execute_result"
    }
   ],
   "source": [
    "# Check if rating columns contain null values\n",
    "df_goodreads[['rating_count', 'review_count','average_rating', 'five_star_ratings', 'four_star_ratings', 'three_star_ratings',\n",
    "  'two_star_ratings', 'one_star_ratings']].isnull().sum()"
   ]
  },
  {
   "cell_type": "markdown",
   "id": "5366fe3e",
   "metadata": {},
   "source": [
    "As seen above, there are no Books with a missing rating data."
   ]
  },
  {
   "cell_type": "markdown",
   "id": "6df3595c",
   "metadata": {},
   "source": [
    "Since many books are in different languages, their data contains random characters and needs to be removed. We can use the below following function to keep only english characters in the data. We are primarily interested in title, author, series and publisher columns."
   ]
  },
  {
   "cell_type": "code",
   "execution_count": 759,
   "id": "931d3482",
   "metadata": {
    "scrolled": true
   },
   "outputs": [],
   "source": [
    "# Function for filtering out non english characters\n",
    "def filter_non_english_characters(input_string):\n",
    "    try:\n",
    "        input_string.encode(encoding='utf-8').decode('ascii')\n",
    "    except UnicodeDecodeError:\n",
    "        return False\n",
    "    else:\n",
    "        return True"
   ]
  },
  {
   "cell_type": "markdown",
   "id": "8efe6987",
   "metadata": {},
   "source": [
    "The author and title columns have all observations in the data whereas the publisher and series data have many observations that have missing values. Hence we will only apply the above function to author and title columns and use a seperate method to clean the series and publisher data."
   ]
  },
  {
   "cell_type": "code",
   "execution_count": 760,
   "id": "0eb7735f",
   "metadata": {},
   "outputs": [],
   "source": [
    "# Keeping only those observations that do not have any non english characters\n",
    "df_goodreads = df_goodreads.copy(deep=True)\n",
    "df_goodreads = df_goodreads[df_goodreads['title'].apply(lambda x: filter_non_english_characters(x))\n",
    "                             & df_goodreads['author'].apply(lambda x: filter_non_english_characters(x))]"
   ]
  },
  {
   "cell_type": "code",
   "execution_count": 761,
   "id": "54047754",
   "metadata": {},
   "outputs": [],
   "source": [
    "# determining series and publisher rows that have non english characters by using below regex\n",
    "non_english_chars = re.compile('^[^A-Za-z0-9_\\-\\'\\\"\\(\\)]')\n",
    "\n",
    "# dropping the gathered observations\n",
    "non_english_chars_index = df_goodreads[df_goodreads['series'].str.match(non_english_chars)\n",
    "                                       | df_goodreads['publisher'].str.match(non_english_chars)].index\n",
    "df_goodreads.drop(non_english_chars_index, inplace=True)"
   ]
  },
  {
   "cell_type": "code",
   "execution_count": 762,
   "id": "12ca3970",
   "metadata": {},
   "outputs": [
    {
     "data": {
      "text/plain": [
       "2284"
      ]
     },
     "execution_count": 762,
     "metadata": {},
     "output_type": "execute_result"
    }
   ],
   "source": [
    "# Determine Non Series Books which have missing Genre and Publication Date data\n",
    "non_series_mask = ((df_goodreads['date_published'].isnull() | df_goodreads['genre_and_votes'].isnull()) & df_goodreads['series'].isnull())\n",
    "non_series_mask.sum()"
   ]
  },
  {
   "cell_type": "markdown",
   "id": "03463f77",
   "metadata": {},
   "source": [
    "Since there are Books that are not part of any Series that contain missing Publication Date and Genres we can delete these Books permanently and we won't be affecting any books that are a part of any series."
   ]
  },
  {
   "cell_type": "code",
   "execution_count": 763,
   "id": "c1467b9a",
   "metadata": {},
   "outputs": [],
   "source": [
    "# Deleting the above gathered data with missing values\n",
    "df_goodreads.drop(df_goodreads[non_series_mask].index, inplace=True)"
   ]
  },
  {
   "cell_type": "markdown",
   "id": "1b6e8279",
   "metadata": {},
   "source": [
    "Identifying books that are a part of Series which have missing Publication Date or Genre data."
   ]
  },
  {
   "cell_type": "code",
   "execution_count": 764,
   "id": "5a079b9c",
   "metadata": {},
   "outputs": [
    {
     "data": {
      "text/plain": [
       "490"
      ]
     },
     "execution_count": 764,
     "metadata": {},
     "output_type": "execute_result"
    }
   ],
   "source": [
    "# Determining books that are part of series but do not have the publication date and genre data\n",
    "((df_goodreads['date_published'].isnull() | df_goodreads['genre_and_votes'].isnull()) & df_goodreads['series'].notnull()).sum()"
   ]
  },
  {
   "cell_type": "markdown",
   "id": "cb7e0dfd",
   "metadata": {},
   "source": [
    "To solve above issue and to simplify the data for further analysis, we can split the series column to extract series name and the book number in that series."
   ]
  },
  {
   "cell_type": "code",
   "execution_count": 765,
   "id": "2bcf1bc8",
   "metadata": {},
   "outputs": [
    {
     "data": {
      "text/html": [
       "<div>\n",
       "<style scoped>\n",
       "    .dataframe tbody tr th:only-of-type {\n",
       "        vertical-align: middle;\n",
       "    }\n",
       "\n",
       "    .dataframe tbody tr th {\n",
       "        vertical-align: top;\n",
       "    }\n",
       "\n",
       "    .dataframe thead th {\n",
       "        text-align: right;\n",
       "    }\n",
       "</style>\n",
       "<table border=\"1\" class=\"dataframe\">\n",
       "  <thead>\n",
       "    <tr style=\"text-align: right;\">\n",
       "      <th></th>\n",
       "      <th>0</th>\n",
       "      <th>1</th>\n",
       "    </tr>\n",
       "  </thead>\n",
       "  <tbody>\n",
       "    <tr>\n",
       "      <th>0</th>\n",
       "      <td>Private</td>\n",
       "      <td>5</td>\n",
       "    </tr>\n",
       "    <tr>\n",
       "      <th>1</th>\n",
       "      <td>Love</td>\n",
       "      <td>2</td>\n",
       "    </tr>\n",
       "    <tr>\n",
       "      <th>2</th>\n",
       "      <td>Line</td>\n",
       "      <td>2</td>\n",
       "    </tr>\n",
       "    <tr>\n",
       "      <th>3</th>\n",
       "      <td>Pendergast</td>\n",
       "      <td>2</td>\n",
       "    </tr>\n",
       "    <tr>\n",
       "      <th>4</th>\n",
       "      <td>NaN</td>\n",
       "      <td>NaN</td>\n",
       "    </tr>\n",
       "    <tr>\n",
       "      <th>...</th>\n",
       "      <td>...</td>\n",
       "      <td>...</td>\n",
       "    </tr>\n",
       "    <tr>\n",
       "      <th>52194</th>\n",
       "      <td>NaN</td>\n",
       "      <td>NaN</td>\n",
       "    </tr>\n",
       "    <tr>\n",
       "      <th>52195</th>\n",
       "      <td>NaN</td>\n",
       "      <td>NaN</td>\n",
       "    </tr>\n",
       "    <tr>\n",
       "      <th>52196</th>\n",
       "      <td>NaN</td>\n",
       "      <td>NaN</td>\n",
       "    </tr>\n",
       "    <tr>\n",
       "      <th>52197</th>\n",
       "      <td>Private</td>\n",
       "      <td>4</td>\n",
       "    </tr>\n",
       "    <tr>\n",
       "      <th>52198</th>\n",
       "      <td>NaN</td>\n",
       "      <td>NaN</td>\n",
       "    </tr>\n",
       "  </tbody>\n",
       "</table>\n",
       "<p>44342 rows × 2 columns</p>\n",
       "</div>"
      ],
      "text/plain": [
       "                0    1\n",
       "0         Private    5\n",
       "1            Love    2\n",
       "2            Line    2\n",
       "3      Pendergast    2\n",
       "4             NaN  NaN\n",
       "...           ...  ...\n",
       "52194         NaN  NaN\n",
       "52195         NaN  NaN\n",
       "52196         NaN  NaN\n",
       "52197     Private    4\n",
       "52198         NaN  NaN\n",
       "\n",
       "[44342 rows x 2 columns]"
      ]
     },
     "execution_count": 765,
     "metadata": {},
     "output_type": "execute_result"
    }
   ],
   "source": [
    "# Splitting series column based on # to retrieve required data\n",
    "series_split = df_goodreads['series'].str.extract(pat='(\\w+) #(\\d+)')\n",
    "series_split"
   ]
  },
  {
   "cell_type": "code",
   "execution_count": 766,
   "id": "5f2de76c",
   "metadata": {},
   "outputs": [],
   "source": [
    "# Dropping the old series column\n",
    "df_goodreads.drop(columns='series', inplace=True)\n",
    "\n",
    "# Creating new series name and book number column to provide simplified data\n",
    "df_goodreads['series_name'] = series_split[0]\n",
    "df_goodreads['book_number_in_series'] = series_split[1]"
   ]
  },
  {
   "cell_type": "markdown",
   "id": "2984f97f",
   "metadata": {},
   "source": [
    "Let us cross check if the Books in series have corresponding Book Number."
   ]
  },
  {
   "cell_type": "code",
   "execution_count": 767,
   "id": "75ceef7e",
   "metadata": {},
   "outputs": [
    {
     "data": {
      "text/plain": [
       "0"
      ]
     },
     "execution_count": 767,
     "metadata": {},
     "output_type": "execute_result"
    }
   ],
   "source": [
    "# check if book is series does not have book number\n",
    "(df_goodreads['series_name'].notnull() & df_goodreads['book_number_in_series'].isnull()).sum()"
   ]
  },
  {
   "cell_type": "markdown",
   "id": "289925ec",
   "metadata": {},
   "source": [
    "For our analysis, let us extract the leading genre , i.e. the genre with the most votes and populate it in a new column. Also we extract only the year of publication as it is of interest from the date published column."
   ]
  },
  {
   "cell_type": "code",
   "execution_count": 768,
   "id": "24b6863a",
   "metadata": {},
   "outputs": [],
   "source": [
    "# Creating Main Genre column that can be used for further analysis`\n",
    "df_goodreads['main_genre'] = df_goodreads['genre_and_votes'].str.split('\\d').str[0].str.rstrip()"
   ]
  },
  {
   "cell_type": "code",
   "execution_count": 769,
   "id": "e829e242",
   "metadata": {},
   "outputs": [],
   "source": [
    "# Extracting year from date published \n",
    "df_goodreads['year_published'] = df_goodreads['date_published'].str.extract(pat='(\\d{4})').values\n",
    "df_goodreads['year_published'] = df_goodreads['year_published'].astype('Int64')"
   ]
  },
  {
   "cell_type": "code",
   "execution_count": 770,
   "id": "9155e06b",
   "metadata": {},
   "outputs": [],
   "source": [
    "# Drop the old date published column which is no longer required.\n",
    "df_goodreads.drop(columns='date_published', inplace=True)"
   ]
  },
  {
   "cell_type": "markdown",
   "id": "137af147",
   "metadata": {},
   "source": [
    "We will be dividing the series of books into 4 categories to easily identify the group that it can be associated with. The categories are - <br>`Individual Book`, <br>`Duology` - Series having 2 books, <br> `Trilogy` - Series having 3 books, <br> `Multiple books` - Series having more than 3 books. <br>\n",
    "<font color='red'>**Note**</font> - The books that have no series number information will be considered as individual books."
   ]
  },
  {
   "cell_type": "code",
   "execution_count": 771,
   "id": "b4ca49fd",
   "metadata": {},
   "outputs": [],
   "source": [
    "# Grouping the data by series name to check how many parts the series has\n",
    "series_grouped = df_goodreads.sort_values(['average_rating'], ascending=False).groupby('series_name')['book_number_in_series'].first()\n",
    "series_grouped = pd.DataFrame(series_grouped)\n",
    "\n",
    "# Creating a map to categorize the series\n",
    "category_map = {\n",
    "    '1' : 'Individual book',\n",
    "    '2' : 'Duology',\n",
    "    '3' : 'Trilogy'\n",
    "}\n",
    "def categorize_series(item):\n",
    "    if item in category_map:\n",
    "        return category_map[item]\n",
    "    else:\n",
    "        return 'Multiple books'\n",
    "\n",
    "# Applying function to map the categories and then merging with the final dataframe\n",
    "series_grouped['series_category'] = series_grouped['book_number_in_series'].apply(categorize_series)\n",
    "series_grouped.drop(columns='book_number_in_series', inplace=True)\n",
    "\n",
    "df_goodreads = pd.merge(df_goodreads, series_grouped, how='left', left_on = 'series_name', right_on='series_name')\n",
    "df_goodreads['series_category'].fillna('Individual book', inplace=True)"
   ]
  },
  {
   "cell_type": "code",
   "execution_count": 772,
   "id": "ba5a1cac",
   "metadata": {},
   "outputs": [
    {
     "data": {
      "text/html": [
       "<div>\n",
       "<style scoped>\n",
       "    .dataframe tbody tr th:only-of-type {\n",
       "        vertical-align: middle;\n",
       "    }\n",
       "\n",
       "    .dataframe tbody tr th {\n",
       "        vertical-align: top;\n",
       "    }\n",
       "\n",
       "    .dataframe thead th {\n",
       "        text-align: right;\n",
       "    }\n",
       "</style>\n",
       "<table border=\"1\" class=\"dataframe\">\n",
       "  <thead>\n",
       "    <tr style=\"text-align: right;\">\n",
       "      <th></th>\n",
       "      <th>id</th>\n",
       "      <th>title</th>\n",
       "      <th>author</th>\n",
       "      <th>rating_count</th>\n",
       "      <th>review_count</th>\n",
       "      <th>average_rating</th>\n",
       "      <th>five_star_ratings</th>\n",
       "      <th>four_star_ratings</th>\n",
       "      <th>three_star_ratings</th>\n",
       "      <th>two_star_ratings</th>\n",
       "      <th>...</th>\n",
       "      <th>number_of_pages</th>\n",
       "      <th>publisher</th>\n",
       "      <th>genre_and_votes</th>\n",
       "      <th>characters</th>\n",
       "      <th>awards</th>\n",
       "      <th>series_name</th>\n",
       "      <th>book_number_in_series</th>\n",
       "      <th>main_genre</th>\n",
       "      <th>year_published</th>\n",
       "      <th>series_category</th>\n",
       "    </tr>\n",
       "  </thead>\n",
       "  <tbody>\n",
       "    <tr>\n",
       "      <th>0</th>\n",
       "      <td>630104</td>\n",
       "      <td>Inner Circle</td>\n",
       "      <td>Kate Brian, Julian Peploe</td>\n",
       "      <td>7597</td>\n",
       "      <td>196</td>\n",
       "      <td>4.03</td>\n",
       "      <td>3045</td>\n",
       "      <td>2323</td>\n",
       "      <td>1748</td>\n",
       "      <td>389</td>\n",
       "      <td>...</td>\n",
       "      <td>220.0</td>\n",
       "      <td>Simon  Schuster Books for Young Readers</td>\n",
       "      <td>Young Adult 161, Mystery 45, Romance 32</td>\n",
       "      <td>NaN</td>\n",
       "      <td>NaN</td>\n",
       "      <td>Private</td>\n",
       "      <td>5</td>\n",
       "      <td>Young Adult</td>\n",
       "      <td>2007</td>\n",
       "      <td>Multiple books</td>\n",
       "    </tr>\n",
       "    <tr>\n",
       "      <th>1</th>\n",
       "      <td>9487</td>\n",
       "      <td>A Time to Embrace</td>\n",
       "      <td>Karen Kingsbury</td>\n",
       "      <td>4179</td>\n",
       "      <td>177</td>\n",
       "      <td>4.35</td>\n",
       "      <td>2255</td>\n",
       "      <td>1290</td>\n",
       "      <td>518</td>\n",
       "      <td>93</td>\n",
       "      <td>...</td>\n",
       "      <td>400.0</td>\n",
       "      <td>Thomas Nelson</td>\n",
       "      <td>Christian Fiction 114, Christian 45, Fiction 3...</td>\n",
       "      <td>NaN</td>\n",
       "      <td>NaN</td>\n",
       "      <td>Love</td>\n",
       "      <td>2</td>\n",
       "      <td>Christian Fiction</td>\n",
       "      <td>2006</td>\n",
       "      <td>Multiple books</td>\n",
       "    </tr>\n",
       "    <tr>\n",
       "      <th>2</th>\n",
       "      <td>6050894</td>\n",
       "      <td>Take Two</td>\n",
       "      <td>Karen Kingsbury</td>\n",
       "      <td>6288</td>\n",
       "      <td>218</td>\n",
       "      <td>4.23</td>\n",
       "      <td>3000</td>\n",
       "      <td>2020</td>\n",
       "      <td>1041</td>\n",
       "      <td>183</td>\n",
       "      <td>...</td>\n",
       "      <td>320.0</td>\n",
       "      <td>Zondervan</td>\n",
       "      <td>Christian Fiction 174, Christian 81, Fiction 58</td>\n",
       "      <td>NaN</td>\n",
       "      <td>NaN</td>\n",
       "      <td>Line</td>\n",
       "      <td>2</td>\n",
       "      <td>Christian Fiction</td>\n",
       "      <td>2009</td>\n",
       "      <td>Trilogy</td>\n",
       "    </tr>\n",
       "    <tr>\n",
       "      <th>3</th>\n",
       "      <td>39030</td>\n",
       "      <td>Reliquary</td>\n",
       "      <td>Douglas Preston, Lincoln Child</td>\n",
       "      <td>38382</td>\n",
       "      <td>1424</td>\n",
       "      <td>4.01</td>\n",
       "      <td>12711</td>\n",
       "      <td>15407</td>\n",
       "      <td>8511</td>\n",
       "      <td>1429</td>\n",
       "      <td>...</td>\n",
       "      <td>464.0</td>\n",
       "      <td>Tor Books</td>\n",
       "      <td>Thriller 626, Mystery 493, Horror 432, Fiction...</td>\n",
       "      <td>Aloysius X.L. Pendergast, Margo Green, William...</td>\n",
       "      <td>NaN</td>\n",
       "      <td>Pendergast</td>\n",
       "      <td>2</td>\n",
       "      <td>Thriller</td>\n",
       "      <td>1997</td>\n",
       "      <td>Trilogy</td>\n",
       "    </tr>\n",
       "    <tr>\n",
       "      <th>4</th>\n",
       "      <td>998</td>\n",
       "      <td>The Millionaire Next Door: The Surprising Secr...</td>\n",
       "      <td>Thomas J. Stanley, William D. Danko</td>\n",
       "      <td>72168</td>\n",
       "      <td>3217</td>\n",
       "      <td>4.04</td>\n",
       "      <td>27594</td>\n",
       "      <td>25219</td>\n",
       "      <td>14855</td>\n",
       "      <td>3414</td>\n",
       "      <td>...</td>\n",
       "      <td>258.0</td>\n",
       "      <td>Gallery Books</td>\n",
       "      <td>Economics-Finance 1162, Nonfiction 910, Busine...</td>\n",
       "      <td>NaN</td>\n",
       "      <td>Independent Publisher Book Award (IPPY) Nomine...</td>\n",
       "      <td>NaN</td>\n",
       "      <td>NaN</td>\n",
       "      <td>Economics-Finance</td>\n",
       "      <td>1995</td>\n",
       "      <td>Individual book</td>\n",
       "    </tr>\n",
       "  </tbody>\n",
       "</table>\n",
       "<p>5 rows × 21 columns</p>\n",
       "</div>"
      ],
      "text/plain": [
       "        id                                              title  \\\n",
       "0   630104                                       Inner Circle   \n",
       "1     9487                                  A Time to Embrace   \n",
       "2  6050894                                           Take Two   \n",
       "3    39030                                          Reliquary   \n",
       "4      998  The Millionaire Next Door: The Surprising Secr...   \n",
       "\n",
       "                                author  rating_count  review_count  \\\n",
       "0            Kate Brian, Julian Peploe          7597           196   \n",
       "1                      Karen Kingsbury          4179           177   \n",
       "2                      Karen Kingsbury          6288           218   \n",
       "3       Douglas Preston, Lincoln Child         38382          1424   \n",
       "4  Thomas J. Stanley, William D. Danko         72168          3217   \n",
       "\n",
       "   average_rating  five_star_ratings  four_star_ratings  three_star_ratings  \\\n",
       "0            4.03               3045               2323                1748   \n",
       "1            4.35               2255               1290                 518   \n",
       "2            4.23               3000               2020                1041   \n",
       "3            4.01              12711              15407                8511   \n",
       "4            4.04              27594              25219               14855   \n",
       "\n",
       "   two_star_ratings  ...  number_of_pages  \\\n",
       "0               389  ...            220.0   \n",
       "1                93  ...            400.0   \n",
       "2               183  ...            320.0   \n",
       "3              1429  ...            464.0   \n",
       "4              3414  ...            258.0   \n",
       "\n",
       "                                 publisher  \\\n",
       "0  Simon  Schuster Books for Young Readers   \n",
       "1                            Thomas Nelson   \n",
       "2                                Zondervan   \n",
       "3                                Tor Books   \n",
       "4                            Gallery Books   \n",
       "\n",
       "                                     genre_and_votes  \\\n",
       "0            Young Adult 161, Mystery 45, Romance 32   \n",
       "1  Christian Fiction 114, Christian 45, Fiction 3...   \n",
       "2    Christian Fiction 174, Christian 81, Fiction 58   \n",
       "3  Thriller 626, Mystery 493, Horror 432, Fiction...   \n",
       "4  Economics-Finance 1162, Nonfiction 910, Busine...   \n",
       "\n",
       "                                          characters  \\\n",
       "0                                                NaN   \n",
       "1                                                NaN   \n",
       "2                                                NaN   \n",
       "3  Aloysius X.L. Pendergast, Margo Green, William...   \n",
       "4                                                NaN   \n",
       "\n",
       "                                              awards series_name  \\\n",
       "0                                                NaN     Private   \n",
       "1                                                NaN        Love   \n",
       "2                                                NaN        Line   \n",
       "3                                                NaN  Pendergast   \n",
       "4  Independent Publisher Book Award (IPPY) Nomine...         NaN   \n",
       "\n",
       "  book_number_in_series         main_genre year_published  series_category  \n",
       "0                     5        Young Adult           2007   Multiple books  \n",
       "1                     2  Christian Fiction           2006   Multiple books  \n",
       "2                     2  Christian Fiction           2009          Trilogy  \n",
       "3                     2           Thriller           1997          Trilogy  \n",
       "4                   NaN  Economics-Finance           1995  Individual book  \n",
       "\n",
       "[5 rows x 21 columns]"
      ]
     },
     "execution_count": 772,
     "metadata": {},
     "output_type": "execute_result"
    }
   ],
   "source": [
    "df_goodreads.head()"
   ]
  },
  {
   "cell_type": "markdown",
   "id": "eb4a28c2",
   "metadata": {},
   "source": [
    "### <u>Reading Audible data</u>"
   ]
  },
  {
   "cell_type": "markdown",
   "id": "9014a6ac",
   "metadata": {},
   "source": [
    "Let us now load the **Audible** dataset."
   ]
  },
  {
   "cell_type": "code",
   "execution_count": 773,
   "id": "e7208a7c",
   "metadata": {},
   "outputs": [
    {
     "data": {
      "text/html": [
       "<div>\n",
       "<style scoped>\n",
       "    .dataframe tbody tr th:only-of-type {\n",
       "        vertical-align: middle;\n",
       "    }\n",
       "\n",
       "    .dataframe tbody tr th {\n",
       "        vertical-align: top;\n",
       "    }\n",
       "\n",
       "    .dataframe thead th {\n",
       "        text-align: right;\n",
       "    }\n",
       "</style>\n",
       "<table border=\"1\" class=\"dataframe\">\n",
       "  <thead>\n",
       "    <tr style=\"text-align: right;\">\n",
       "      <th></th>\n",
       "      <th>asin</th>\n",
       "      <th>author</th>\n",
       "      <th>category</th>\n",
       "      <th>length</th>\n",
       "      <th>link</th>\n",
       "      <th>narrator</th>\n",
       "      <th>price</th>\n",
       "      <th>rating</th>\n",
       "      <th>rating_count</th>\n",
       "      <th>release_date</th>\n",
       "      <th>title</th>\n",
       "    </tr>\n",
       "  </thead>\n",
       "  <tbody>\n",
       "    <tr>\n",
       "      <th>0</th>\n",
       "      <td>NaN</td>\n",
       "      <td>Paul Stanley</td>\n",
       "      <td>Arts &amp; Entertainment</td>\n",
       "      <td>4 hrs and 38 mins</td>\n",
       "      <td>https://www.audible.com/pd/Backstage-Pass-Audi...</td>\n",
       "      <td>Sean Pratt</td>\n",
       "      <td>20.52</td>\n",
       "      <td>4.0</td>\n",
       "      <td>78.0</td>\n",
       "      <td>2019-04-30</td>\n",
       "      <td>Backstage Pass</td>\n",
       "    </tr>\n",
       "    <tr>\n",
       "      <th>1</th>\n",
       "      <td>B0052OM9XK</td>\n",
       "      <td>Simon Pegg</td>\n",
       "      <td>Arts &amp; Entertainment</td>\n",
       "      <td>4 hrs and 50 mins</td>\n",
       "      <td>https://www.audible.com/pd/Nerd-Do-Well-Audiob...</td>\n",
       "      <td>Simon Pegg</td>\n",
       "      <td>24.50</td>\n",
       "      <td>4.5</td>\n",
       "      <td>872.0</td>\n",
       "      <td>2011-06-09</td>\n",
       "      <td>Nerd Do Well</td>\n",
       "    </tr>\n",
       "    <tr>\n",
       "      <th>2</th>\n",
       "      <td>B077XN66F8</td>\n",
       "      <td>Sidney Lumet</td>\n",
       "      <td>Arts &amp; Entertainment</td>\n",
       "      <td>7 hrs and 23 mins</td>\n",
       "      <td>https://www.audible.com/pd/Making-Movies-Audio...</td>\n",
       "      <td>Richard M. Davidson</td>\n",
       "      <td>20.99</td>\n",
       "      <td>5.0</td>\n",
       "      <td>90.0</td>\n",
       "      <td>2017-12-05</td>\n",
       "      <td>Making Movies</td>\n",
       "    </tr>\n",
       "    <tr>\n",
       "      <th>3</th>\n",
       "      <td>B00C75YMJ6</td>\n",
       "      <td>Phil Robertson</td>\n",
       "      <td>Arts &amp; Entertainment</td>\n",
       "      <td>4 hrs and 57 mins</td>\n",
       "      <td>https://www.audible.com/pd/Happy-Happy-Happy-A...</td>\n",
       "      <td>Al Robertson, Phil Robertson</td>\n",
       "      <td>20.99</td>\n",
       "      <td>4.5</td>\n",
       "      <td>805.0</td>\n",
       "      <td>2013-05-07</td>\n",
       "      <td>Happy, Happy, Happy</td>\n",
       "    </tr>\n",
       "    <tr>\n",
       "      <th>4</th>\n",
       "      <td>B00DCD16GE</td>\n",
       "      <td>Robert Greenberg, The Great Courses</td>\n",
       "      <td>Arts &amp; Entertainment</td>\n",
       "      <td>24 hrs and 25 mins</td>\n",
       "      <td>https://www.audible.com/pd/How-to-Listen-to-an...</td>\n",
       "      <td>Robert Greenberg</td>\n",
       "      <td>52.95</td>\n",
       "      <td>5.0</td>\n",
       "      <td>585.0</td>\n",
       "      <td>2013-07-08</td>\n",
       "      <td>How to Listen to and Understand Opera</td>\n",
       "    </tr>\n",
       "  </tbody>\n",
       "</table>\n",
       "</div>"
      ],
      "text/plain": [
       "         asin                               author              category  \\\n",
       "0         NaN                         Paul Stanley  Arts & Entertainment   \n",
       "1  B0052OM9XK                           Simon Pegg  Arts & Entertainment   \n",
       "2  B077XN66F8                         Sidney Lumet  Arts & Entertainment   \n",
       "3  B00C75YMJ6                       Phil Robertson  Arts & Entertainment   \n",
       "4  B00DCD16GE  Robert Greenberg, The Great Courses  Arts & Entertainment   \n",
       "\n",
       "               length                                               link  \\\n",
       "0   4 hrs and 38 mins  https://www.audible.com/pd/Backstage-Pass-Audi...   \n",
       "1   4 hrs and 50 mins  https://www.audible.com/pd/Nerd-Do-Well-Audiob...   \n",
       "2   7 hrs and 23 mins  https://www.audible.com/pd/Making-Movies-Audio...   \n",
       "3   4 hrs and 57 mins  https://www.audible.com/pd/Happy-Happy-Happy-A...   \n",
       "4  24 hrs and 25 mins  https://www.audible.com/pd/How-to-Listen-to-an...   \n",
       "\n",
       "                       narrator  price  rating  rating_count release_date  \\\n",
       "0                    Sean Pratt  20.52     4.0          78.0   2019-04-30   \n",
       "1                    Simon Pegg  24.50     4.5         872.0   2011-06-09   \n",
       "2           Richard M. Davidson  20.99     5.0          90.0   2017-12-05   \n",
       "3  Al Robertson, Phil Robertson  20.99     4.5         805.0   2013-05-07   \n",
       "4              Robert Greenberg  52.95     5.0         585.0   2013-07-08   \n",
       "\n",
       "                                   title  \n",
       "0                         Backstage Pass  \n",
       "1                           Nerd Do Well  \n",
       "2                          Making Movies  \n",
       "3                    Happy, Happy, Happy  \n",
       "4  How to Listen to and Understand Opera  "
      ]
     },
     "execution_count": 773,
     "metadata": {},
     "output_type": "execute_result"
    }
   ],
   "source": [
    "# Load the audible dataset\n",
    "audible_df = pd.read_csv('../all_english_audible.csv')\n",
    "audible_df.head()"
   ]
  },
  {
   "cell_type": "markdown",
   "id": "985d8e72",
   "metadata": {},
   "source": [
    "Let us first make a copy of the cleaned data for the analysis."
   ]
  },
  {
   "cell_type": "code",
   "execution_count": 774,
   "id": "b32f4166",
   "metadata": {},
   "outputs": [],
   "source": [
    "# Make a local copy of cleaned data\n",
    "goodreads_df = df_goodreads.copy(deep=True)"
   ]
  },
  {
   "cell_type": "markdown",
   "id": "e464cfda",
   "metadata": {},
   "source": [
    "### <u>Cleaning & Processing Audible data<u>"
   ]
  },
  {
   "cell_type": "markdown",
   "id": "626f5f65",
   "metadata": {},
   "source": [
    "Let us drop the irrelevant columns like **asin** and **link** which are not required for our analysis."
   ]
  },
  {
   "cell_type": "code",
   "execution_count": 775,
   "id": "b20b4c6c",
   "metadata": {},
   "outputs": [
    {
     "data": {
      "text/html": [
       "<div>\n",
       "<style scoped>\n",
       "    .dataframe tbody tr th:only-of-type {\n",
       "        vertical-align: middle;\n",
       "    }\n",
       "\n",
       "    .dataframe tbody tr th {\n",
       "        vertical-align: top;\n",
       "    }\n",
       "\n",
       "    .dataframe thead th {\n",
       "        text-align: right;\n",
       "    }\n",
       "</style>\n",
       "<table border=\"1\" class=\"dataframe\">\n",
       "  <thead>\n",
       "    <tr style=\"text-align: right;\">\n",
       "      <th></th>\n",
       "      <th>author</th>\n",
       "      <th>category</th>\n",
       "      <th>length</th>\n",
       "      <th>narrator</th>\n",
       "      <th>price</th>\n",
       "      <th>rating</th>\n",
       "      <th>rating_count</th>\n",
       "      <th>release_date</th>\n",
       "      <th>title</th>\n",
       "    </tr>\n",
       "  </thead>\n",
       "  <tbody>\n",
       "    <tr>\n",
       "      <th>0</th>\n",
       "      <td>Paul Stanley</td>\n",
       "      <td>Arts &amp; Entertainment</td>\n",
       "      <td>4 hrs and 38 mins</td>\n",
       "      <td>Sean Pratt</td>\n",
       "      <td>20.52</td>\n",
       "      <td>4.0</td>\n",
       "      <td>78.0</td>\n",
       "      <td>2019-04-30</td>\n",
       "      <td>Backstage Pass</td>\n",
       "    </tr>\n",
       "    <tr>\n",
       "      <th>1</th>\n",
       "      <td>Simon Pegg</td>\n",
       "      <td>Arts &amp; Entertainment</td>\n",
       "      <td>4 hrs and 50 mins</td>\n",
       "      <td>Simon Pegg</td>\n",
       "      <td>24.50</td>\n",
       "      <td>4.5</td>\n",
       "      <td>872.0</td>\n",
       "      <td>2011-06-09</td>\n",
       "      <td>Nerd Do Well</td>\n",
       "    </tr>\n",
       "    <tr>\n",
       "      <th>2</th>\n",
       "      <td>Sidney Lumet</td>\n",
       "      <td>Arts &amp; Entertainment</td>\n",
       "      <td>7 hrs and 23 mins</td>\n",
       "      <td>Richard M. Davidson</td>\n",
       "      <td>20.99</td>\n",
       "      <td>5.0</td>\n",
       "      <td>90.0</td>\n",
       "      <td>2017-12-05</td>\n",
       "      <td>Making Movies</td>\n",
       "    </tr>\n",
       "    <tr>\n",
       "      <th>3</th>\n",
       "      <td>Phil Robertson</td>\n",
       "      <td>Arts &amp; Entertainment</td>\n",
       "      <td>4 hrs and 57 mins</td>\n",
       "      <td>Al Robertson, Phil Robertson</td>\n",
       "      <td>20.99</td>\n",
       "      <td>4.5</td>\n",
       "      <td>805.0</td>\n",
       "      <td>2013-05-07</td>\n",
       "      <td>Happy, Happy, Happy</td>\n",
       "    </tr>\n",
       "    <tr>\n",
       "      <th>4</th>\n",
       "      <td>Robert Greenberg, The Great Courses</td>\n",
       "      <td>Arts &amp; Entertainment</td>\n",
       "      <td>24 hrs and 25 mins</td>\n",
       "      <td>Robert Greenberg</td>\n",
       "      <td>52.95</td>\n",
       "      <td>5.0</td>\n",
       "      <td>585.0</td>\n",
       "      <td>2013-07-08</td>\n",
       "      <td>How to Listen to and Understand Opera</td>\n",
       "    </tr>\n",
       "    <tr>\n",
       "      <th>...</th>\n",
       "      <td>...</td>\n",
       "      <td>...</td>\n",
       "      <td>...</td>\n",
       "      <td>...</td>\n",
       "      <td>...</td>\n",
       "      <td>...</td>\n",
       "      <td>...</td>\n",
       "      <td>...</td>\n",
       "      <td>...</td>\n",
       "    </tr>\n",
       "    <tr>\n",
       "      <th>460539</th>\n",
       "      <td>Alyson Noël</td>\n",
       "      <td>Teens</td>\n",
       "      <td>10 hrs and 10 mins</td>\n",
       "      <td>Kyla Garcia</td>\n",
       "      <td>10.20</td>\n",
       "      <td>0.0</td>\n",
       "      <td>0.0</td>\n",
       "      <td>2018-10-22</td>\n",
       "      <td>Unrivalled</td>\n",
       "    </tr>\n",
       "    <tr>\n",
       "      <th>460540</th>\n",
       "      <td>Sara Shepard</td>\n",
       "      <td>Teens</td>\n",
       "      <td>7 hrs and 23 mins</td>\n",
       "      <td>Cassandra Morris</td>\n",
       "      <td>6.67</td>\n",
       "      <td>0.0</td>\n",
       "      <td>0.0</td>\n",
       "      <td>2019-05-02</td>\n",
       "      <td>Never Have I Ever</td>\n",
       "    </tr>\n",
       "    <tr>\n",
       "      <th>460541</th>\n",
       "      <td>Jay Kristoff</td>\n",
       "      <td>Teens</td>\n",
       "      <td>10 hrs and 40 mins</td>\n",
       "      <td>NaN</td>\n",
       "      <td>14.18</td>\n",
       "      <td>0.0</td>\n",
       "      <td>0.0</td>\n",
       "      <td>2019-08-22</td>\n",
       "      <td>DEV1AT3</td>\n",
       "    </tr>\n",
       "    <tr>\n",
       "      <th>460542</th>\n",
       "      <td>Ibi Zoboi</td>\n",
       "      <td>Teens</td>\n",
       "      <td>11 hrs and 17 mins</td>\n",
       "      <td>Bahni Turpin, Ron Butler</td>\n",
       "      <td>10.20</td>\n",
       "      <td>0.0</td>\n",
       "      <td>0.0</td>\n",
       "      <td>2019-01-17</td>\n",
       "      <td>Black Enough: Stories of Being Young &amp; Black i...</td>\n",
       "    </tr>\n",
       "    <tr>\n",
       "      <th>460543</th>\n",
       "      <td>Natália Gomes</td>\n",
       "      <td>Teens</td>\n",
       "      <td>8 hrs and 49 mins</td>\n",
       "      <td>Eilidh Beaton</td>\n",
       "      <td>10.20</td>\n",
       "      <td>0.0</td>\n",
       "      <td>0.0</td>\n",
       "      <td>2019-05-02</td>\n",
       "      <td>We Are Not Okay</td>\n",
       "    </tr>\n",
       "  </tbody>\n",
       "</table>\n",
       "<p>460544 rows × 9 columns</p>\n",
       "</div>"
      ],
      "text/plain": [
       "                                     author              category  \\\n",
       "0                              Paul Stanley  Arts & Entertainment   \n",
       "1                                Simon Pegg  Arts & Entertainment   \n",
       "2                              Sidney Lumet  Arts & Entertainment   \n",
       "3                            Phil Robertson  Arts & Entertainment   \n",
       "4       Robert Greenberg, The Great Courses  Arts & Entertainment   \n",
       "...                                     ...                   ...   \n",
       "460539                          Alyson Noël                 Teens   \n",
       "460540                         Sara Shepard                 Teens   \n",
       "460541                         Jay Kristoff                 Teens   \n",
       "460542                            Ibi Zoboi                 Teens   \n",
       "460543                        Natália Gomes                 Teens   \n",
       "\n",
       "                    length                      narrator  price  rating  \\\n",
       "0        4 hrs and 38 mins                    Sean Pratt  20.52     4.0   \n",
       "1        4 hrs and 50 mins                    Simon Pegg  24.50     4.5   \n",
       "2        7 hrs and 23 mins           Richard M. Davidson  20.99     5.0   \n",
       "3        4 hrs and 57 mins  Al Robertson, Phil Robertson  20.99     4.5   \n",
       "4       24 hrs and 25 mins              Robert Greenberg  52.95     5.0   \n",
       "...                    ...                           ...    ...     ...   \n",
       "460539  10 hrs and 10 mins                   Kyla Garcia  10.20     0.0   \n",
       "460540   7 hrs and 23 mins              Cassandra Morris   6.67     0.0   \n",
       "460541  10 hrs and 40 mins                           NaN  14.18     0.0   \n",
       "460542  11 hrs and 17 mins      Bahni Turpin, Ron Butler  10.20     0.0   \n",
       "460543   8 hrs and 49 mins                 Eilidh Beaton  10.20     0.0   \n",
       "\n",
       "        rating_count release_date  \\\n",
       "0               78.0   2019-04-30   \n",
       "1              872.0   2011-06-09   \n",
       "2               90.0   2017-12-05   \n",
       "3              805.0   2013-05-07   \n",
       "4              585.0   2013-07-08   \n",
       "...              ...          ...   \n",
       "460539           0.0   2018-10-22   \n",
       "460540           0.0   2019-05-02   \n",
       "460541           0.0   2019-08-22   \n",
       "460542           0.0   2019-01-17   \n",
       "460543           0.0   2019-05-02   \n",
       "\n",
       "                                                    title  \n",
       "0                                          Backstage Pass  \n",
       "1                                            Nerd Do Well  \n",
       "2                                           Making Movies  \n",
       "3                                     Happy, Happy, Happy  \n",
       "4                   How to Listen to and Understand Opera  \n",
       "...                                                   ...  \n",
       "460539                                         Unrivalled  \n",
       "460540                                  Never Have I Ever  \n",
       "460541                                            DEV1AT3  \n",
       "460542  Black Enough: Stories of Being Young & Black i...  \n",
       "460543                                    We Are Not Okay  \n",
       "\n",
       "[460544 rows x 9 columns]"
      ]
     },
     "execution_count": 775,
     "metadata": {},
     "output_type": "execute_result"
    }
   ],
   "source": [
    "# Drop irrelevant columns\n",
    "audible_df.drop(['asin', 'link'], axis=1, inplace=True)\n",
    "audible_df"
   ]
  },
  {
   "cell_type": "markdown",
   "id": "6c9758fe",
   "metadata": {},
   "source": [
    "The rows that are duplicate are identified and removed to avoid contamination of the training and test dataset"
   ]
  },
  {
   "cell_type": "code",
   "execution_count": 776,
   "id": "131f2331",
   "metadata": {},
   "outputs": [],
   "source": [
    "# Drop duplicates\n",
    "audible_df.drop_duplicates(inplace=True)"
   ]
  },
  {
   "cell_type": "markdown",
   "id": "9d83c8e1",
   "metadata": {},
   "source": [
    "Each observation should ideally represent an unique author and book pair. We are processing the data set to identify if there are multiple observations for the same book and author. A book is uniquely identified using its title and author. "
   ]
  },
  {
   "cell_type": "code",
   "execution_count": 777,
   "id": "d81b5233",
   "metadata": {},
   "outputs": [
    {
     "data": {
      "text/html": [
       "<div>\n",
       "<style scoped>\n",
       "    .dataframe tbody tr th:only-of-type {\n",
       "        vertical-align: middle;\n",
       "    }\n",
       "\n",
       "    .dataframe tbody tr th {\n",
       "        vertical-align: top;\n",
       "    }\n",
       "\n",
       "    .dataframe thead th {\n",
       "        text-align: right;\n",
       "    }\n",
       "</style>\n",
       "<table border=\"1\" class=\"dataframe\">\n",
       "  <thead>\n",
       "    <tr style=\"text-align: right;\">\n",
       "      <th></th>\n",
       "      <th>author</th>\n",
       "      <th>category</th>\n",
       "      <th>length</th>\n",
       "      <th>narrator</th>\n",
       "      <th>price</th>\n",
       "      <th>rating</th>\n",
       "      <th>rating_count</th>\n",
       "      <th>release_date</th>\n",
       "    </tr>\n",
       "    <tr>\n",
       "      <th>title</th>\n",
       "      <th></th>\n",
       "      <th></th>\n",
       "      <th></th>\n",
       "      <th></th>\n",
       "      <th></th>\n",
       "      <th></th>\n",
       "      <th></th>\n",
       "      <th></th>\n",
       "    </tr>\n",
       "  </thead>\n",
       "  <tbody>\n",
       "    <tr>\n",
       "      <th>Backstage Pass</th>\n",
       "      <td>Paul Stanley</td>\n",
       "      <td>Arts &amp; Entertainment</td>\n",
       "      <td>4 hrs and 38 mins</td>\n",
       "      <td>Sean Pratt</td>\n",
       "      <td>20.52</td>\n",
       "      <td>4.0</td>\n",
       "      <td>78.0</td>\n",
       "      <td>2019-04-30</td>\n",
       "    </tr>\n",
       "    <tr>\n",
       "      <th>Nerd Do Well</th>\n",
       "      <td>Simon Pegg</td>\n",
       "      <td>Arts &amp; Entertainment</td>\n",
       "      <td>4 hrs and 50 mins</td>\n",
       "      <td>Simon Pegg</td>\n",
       "      <td>24.50</td>\n",
       "      <td>4.5</td>\n",
       "      <td>872.0</td>\n",
       "      <td>2011-06-09</td>\n",
       "    </tr>\n",
       "    <tr>\n",
       "      <th>Making Movies</th>\n",
       "      <td>Sidney Lumet</td>\n",
       "      <td>Arts &amp; Entertainment</td>\n",
       "      <td>7 hrs and 23 mins</td>\n",
       "      <td>Richard M. Davidson</td>\n",
       "      <td>20.99</td>\n",
       "      <td>5.0</td>\n",
       "      <td>90.0</td>\n",
       "      <td>2017-12-05</td>\n",
       "    </tr>\n",
       "    <tr>\n",
       "      <th>Happy, Happy, Happy</th>\n",
       "      <td>Phil Robertson</td>\n",
       "      <td>Arts &amp; Entertainment</td>\n",
       "      <td>4 hrs and 57 mins</td>\n",
       "      <td>Al Robertson, Phil Robertson</td>\n",
       "      <td>20.99</td>\n",
       "      <td>4.5</td>\n",
       "      <td>805.0</td>\n",
       "      <td>2013-05-07</td>\n",
       "    </tr>\n",
       "    <tr>\n",
       "      <th>How to Listen to and Understand Opera</th>\n",
       "      <td>Robert Greenberg, The Great Courses</td>\n",
       "      <td>Arts &amp; Entertainment</td>\n",
       "      <td>24 hrs and 25 mins</td>\n",
       "      <td>Robert Greenberg</td>\n",
       "      <td>52.95</td>\n",
       "      <td>5.0</td>\n",
       "      <td>585.0</td>\n",
       "      <td>2013-07-08</td>\n",
       "    </tr>\n",
       "    <tr>\n",
       "      <th>...</th>\n",
       "      <td>...</td>\n",
       "      <td>...</td>\n",
       "      <td>...</td>\n",
       "      <td>...</td>\n",
       "      <td>...</td>\n",
       "      <td>...</td>\n",
       "      <td>...</td>\n",
       "      <td>...</td>\n",
       "    </tr>\n",
       "    <tr>\n",
       "      <th>Unrivalled</th>\n",
       "      <td>Alyson Noël</td>\n",
       "      <td>Teens</td>\n",
       "      <td>10 hrs and 10 mins</td>\n",
       "      <td>Kyla Garcia</td>\n",
       "      <td>10.20</td>\n",
       "      <td>0.0</td>\n",
       "      <td>0.0</td>\n",
       "      <td>2018-10-22</td>\n",
       "    </tr>\n",
       "    <tr>\n",
       "      <th>Never Have I Ever</th>\n",
       "      <td>Sara Shepard</td>\n",
       "      <td>Teens</td>\n",
       "      <td>7 hrs and 23 mins</td>\n",
       "      <td>Cassandra Morris</td>\n",
       "      <td>6.67</td>\n",
       "      <td>0.0</td>\n",
       "      <td>0.0</td>\n",
       "      <td>2019-05-02</td>\n",
       "    </tr>\n",
       "    <tr>\n",
       "      <th>DEV1AT3</th>\n",
       "      <td>Jay Kristoff</td>\n",
       "      <td>Teens</td>\n",
       "      <td>10 hrs and 40 mins</td>\n",
       "      <td>NaN</td>\n",
       "      <td>14.18</td>\n",
       "      <td>0.0</td>\n",
       "      <td>0.0</td>\n",
       "      <td>2019-08-22</td>\n",
       "    </tr>\n",
       "    <tr>\n",
       "      <th>Black Enough: Stories of Being Young &amp; Black in America</th>\n",
       "      <td>Ibi Zoboi</td>\n",
       "      <td>Teens</td>\n",
       "      <td>11 hrs and 17 mins</td>\n",
       "      <td>Bahni Turpin, Ron Butler</td>\n",
       "      <td>10.20</td>\n",
       "      <td>0.0</td>\n",
       "      <td>0.0</td>\n",
       "      <td>2019-01-17</td>\n",
       "    </tr>\n",
       "    <tr>\n",
       "      <th>We Are Not Okay</th>\n",
       "      <td>Natália Gomes</td>\n",
       "      <td>Teens</td>\n",
       "      <td>8 hrs and 49 mins</td>\n",
       "      <td>Eilidh Beaton</td>\n",
       "      <td>10.20</td>\n",
       "      <td>0.0</td>\n",
       "      <td>0.0</td>\n",
       "      <td>2019-05-02</td>\n",
       "    </tr>\n",
       "  </tbody>\n",
       "</table>\n",
       "<p>441907 rows × 8 columns</p>\n",
       "</div>"
      ],
      "text/plain": [
       "                                                                                 author  \\\n",
       "title                                                                                     \n",
       "Backstage Pass                                                             Paul Stanley   \n",
       "Nerd Do Well                                                                 Simon Pegg   \n",
       "Making Movies                                                              Sidney Lumet   \n",
       "Happy, Happy, Happy                                                      Phil Robertson   \n",
       "How to Listen to and Understand Opera               Robert Greenberg, The Great Courses   \n",
       "...                                                                                 ...   \n",
       "Unrivalled                                                                  Alyson Noël   \n",
       "Never Have I Ever                                                          Sara Shepard   \n",
       "DEV1AT3                                                                    Jay Kristoff   \n",
       "Black Enough: Stories of Being Young & Black in...                            Ibi Zoboi   \n",
       "We Are Not Okay                                                           Natália Gomes   \n",
       "\n",
       "                                                                category  \\\n",
       "title                                                                      \n",
       "Backstage Pass                                      Arts & Entertainment   \n",
       "Nerd Do Well                                        Arts & Entertainment   \n",
       "Making Movies                                       Arts & Entertainment   \n",
       "Happy, Happy, Happy                                 Arts & Entertainment   \n",
       "How to Listen to and Understand Opera               Arts & Entertainment   \n",
       "...                                                                  ...   \n",
       "Unrivalled                                                         Teens   \n",
       "Never Have I Ever                                                  Teens   \n",
       "DEV1AT3                                                            Teens   \n",
       "Black Enough: Stories of Being Young & Black in...                 Teens   \n",
       "We Are Not Okay                                                    Teens   \n",
       "\n",
       "                                                                length  \\\n",
       "title                                                                    \n",
       "Backstage Pass                                       4 hrs and 38 mins   \n",
       "Nerd Do Well                                         4 hrs and 50 mins   \n",
       "Making Movies                                        7 hrs and 23 mins   \n",
       "Happy, Happy, Happy                                  4 hrs and 57 mins   \n",
       "How to Listen to and Understand Opera               24 hrs and 25 mins   \n",
       "...                                                                ...   \n",
       "Unrivalled                                          10 hrs and 10 mins   \n",
       "Never Have I Ever                                    7 hrs and 23 mins   \n",
       "DEV1AT3                                             10 hrs and 40 mins   \n",
       "Black Enough: Stories of Being Young & Black in...  11 hrs and 17 mins   \n",
       "We Are Not Okay                                      8 hrs and 49 mins   \n",
       "\n",
       "                                                                        narrator  \\\n",
       "title                                                                              \n",
       "Backstage Pass                                                        Sean Pratt   \n",
       "Nerd Do Well                                                          Simon Pegg   \n",
       "Making Movies                                                Richard M. Davidson   \n",
       "Happy, Happy, Happy                                 Al Robertson, Phil Robertson   \n",
       "How to Listen to and Understand Opera                           Robert Greenberg   \n",
       "...                                                                          ...   \n",
       "Unrivalled                                                           Kyla Garcia   \n",
       "Never Have I Ever                                               Cassandra Morris   \n",
       "DEV1AT3                                                                      NaN   \n",
       "Black Enough: Stories of Being Young & Black in...      Bahni Turpin, Ron Butler   \n",
       "We Are Not Okay                                                    Eilidh Beaton   \n",
       "\n",
       "                                                    price  rating  \\\n",
       "title                                                               \n",
       "Backstage Pass                                      20.52     4.0   \n",
       "Nerd Do Well                                        24.50     4.5   \n",
       "Making Movies                                       20.99     5.0   \n",
       "Happy, Happy, Happy                                 20.99     4.5   \n",
       "How to Listen to and Understand Opera               52.95     5.0   \n",
       "...                                                   ...     ...   \n",
       "Unrivalled                                          10.20     0.0   \n",
       "Never Have I Ever                                    6.67     0.0   \n",
       "DEV1AT3                                             14.18     0.0   \n",
       "Black Enough: Stories of Being Young & Black in...  10.20     0.0   \n",
       "We Are Not Okay                                     10.20     0.0   \n",
       "\n",
       "                                                    rating_count release_date  \n",
       "title                                                                          \n",
       "Backstage Pass                                              78.0   2019-04-30  \n",
       "Nerd Do Well                                               872.0   2011-06-09  \n",
       "Making Movies                                               90.0   2017-12-05  \n",
       "Happy, Happy, Happy                                        805.0   2013-05-07  \n",
       "How to Listen to and Understand Opera                      585.0   2013-07-08  \n",
       "...                                                          ...          ...  \n",
       "Unrivalled                                                   0.0   2018-10-22  \n",
       "Never Have I Ever                                            0.0   2019-05-02  \n",
       "DEV1AT3                                                      0.0   2019-08-22  \n",
       "Black Enough: Stories of Being Young & Black in...           0.0   2019-01-17  \n",
       "We Are Not Okay                                              0.0   2019-05-02  \n",
       "\n",
       "[441907 rows x 8 columns]"
      ]
     },
     "execution_count": 777,
     "metadata": {},
     "output_type": "execute_result"
    }
   ],
   "source": [
    "# Set title as index\n",
    "audible_df.set_index('title')"
   ]
  },
  {
   "cell_type": "code",
   "execution_count": 778,
   "id": "d7da3177",
   "metadata": {},
   "outputs": [
    {
     "data": {
      "text/plain": [
       "AUDIBLE ESCAPE        21731\n",
       "A Chef's Table          307\n",
       "Un-Cabaret Stories      228\n",
       "Will Durst 0            185\n",
       "Doctor Who               97\n",
       "                      ...  \n",
       "Cold Day in Hell          1\n",
       "Paper Butterfly           1\n",
       "The Crazy School          1\n",
       "Hocus                     1\n",
       "We Are Not Okay           1\n",
       "Name: title, Length: 297847, dtype: int64"
      ]
     },
     "execution_count": 778,
     "metadata": {},
     "output_type": "execute_result"
    }
   ],
   "source": [
    "# Determine number of titles and their count in the dataset\n",
    "audible_df['title'].value_counts()"
   ]
  },
  {
   "cell_type": "code",
   "execution_count": 779,
   "id": "19c9fcdd",
   "metadata": {},
   "outputs": [
    {
     "data": {
      "text/html": [
       "<div>\n",
       "<style scoped>\n",
       "    .dataframe tbody tr th:only-of-type {\n",
       "        vertical-align: middle;\n",
       "    }\n",
       "\n",
       "    .dataframe tbody tr th {\n",
       "        vertical-align: top;\n",
       "    }\n",
       "\n",
       "    .dataframe thead th {\n",
       "        text-align: right;\n",
       "    }\n",
       "</style>\n",
       "<table border=\"1\" class=\"dataframe\">\n",
       "  <thead>\n",
       "    <tr style=\"text-align: right;\">\n",
       "      <th></th>\n",
       "      <th>author</th>\n",
       "      <th>category</th>\n",
       "      <th>length</th>\n",
       "      <th>narrator</th>\n",
       "      <th>price</th>\n",
       "      <th>rating</th>\n",
       "      <th>rating_count</th>\n",
       "      <th>release_date</th>\n",
       "      <th>title</th>\n",
       "    </tr>\n",
       "  </thead>\n",
       "  <tbody>\n",
       "    <tr>\n",
       "      <th>1753</th>\n",
       "      <td>Rebecca Housel, J. Jeremy Wisnewski</td>\n",
       "      <td>Arts &amp; Entertainment</td>\n",
       "      <td>6 hrs and 1 min</td>\n",
       "      <td>Rebecca Housel</td>\n",
       "      <td>19.95</td>\n",
       "      <td>3.0</td>\n",
       "      <td>57.0</td>\n",
       "      <td>2010-03-30</td>\n",
       "      <td>AUDIBLE ESCAPE</td>\n",
       "    </tr>\n",
       "    <tr>\n",
       "      <th>10148</th>\n",
       "      <td>Sophie Morgan</td>\n",
       "      <td>Bios &amp; Memoirs</td>\n",
       "      <td>8 hrs and 39 mins</td>\n",
       "      <td>Tatiana Sokolov</td>\n",
       "      <td>27.99</td>\n",
       "      <td>4.0</td>\n",
       "      <td>97.0</td>\n",
       "      <td>2013-04-29</td>\n",
       "      <td>AUDIBLE ESCAPE</td>\n",
       "    </tr>\n",
       "    <tr>\n",
       "      <th>17705</th>\n",
       "      <td>Joan Nestle</td>\n",
       "      <td>Bios &amp; Memoirs</td>\n",
       "      <td>6 hrs and 11 mins</td>\n",
       "      <td>Allyson Johnson</td>\n",
       "      <td>17.99</td>\n",
       "      <td>0.0</td>\n",
       "      <td>0.0</td>\n",
       "      <td>2012-03-13</td>\n",
       "      <td>AUDIBLE ESCAPE</td>\n",
       "    </tr>\n",
       "    <tr>\n",
       "      <th>17896</th>\n",
       "      <td>Andrea di Robilant</td>\n",
       "      <td>Bios &amp; Memoirs</td>\n",
       "      <td>11 hrs and 40 mins</td>\n",
       "      <td>Paul Hecht</td>\n",
       "      <td>27.99</td>\n",
       "      <td>4.0</td>\n",
       "      <td>12.0</td>\n",
       "      <td>2011-11-30</td>\n",
       "      <td>AUDIBLE ESCAPE</td>\n",
       "    </tr>\n",
       "    <tr>\n",
       "      <th>18974</th>\n",
       "      <td>Patrick Califia-Rice</td>\n",
       "      <td>Bios &amp; Memoirs</td>\n",
       "      <td>15 hrs and 36 mins</td>\n",
       "      <td>Marc Bachmann</td>\n",
       "      <td>23.94</td>\n",
       "      <td>4.5</td>\n",
       "      <td>7.0</td>\n",
       "      <td>2012-03-12</td>\n",
       "      <td>AUDIBLE ESCAPE</td>\n",
       "    </tr>\n",
       "  </tbody>\n",
       "</table>\n",
       "</div>"
      ],
      "text/plain": [
       "                                    author              category  \\\n",
       "1753   Rebecca Housel, J. Jeremy Wisnewski  Arts & Entertainment   \n",
       "10148                        Sophie Morgan        Bios & Memoirs   \n",
       "17705                          Joan Nestle        Bios & Memoirs   \n",
       "17896                   Andrea di Robilant        Bios & Memoirs   \n",
       "18974                 Patrick Califia-Rice        Bios & Memoirs   \n",
       "\n",
       "                   length         narrator  price  rating  rating_count  \\\n",
       "1753      6 hrs and 1 min   Rebecca Housel  19.95     3.0          57.0   \n",
       "10148   8 hrs and 39 mins  Tatiana Sokolov  27.99     4.0          97.0   \n",
       "17705   6 hrs and 11 mins  Allyson Johnson  17.99     0.0           0.0   \n",
       "17896  11 hrs and 40 mins       Paul Hecht  27.99     4.0          12.0   \n",
       "18974  15 hrs and 36 mins    Marc Bachmann  23.94     4.5           7.0   \n",
       "\n",
       "      release_date           title  \n",
       "1753    2010-03-30  AUDIBLE ESCAPE  \n",
       "10148   2013-04-29  AUDIBLE ESCAPE  \n",
       "17705   2012-03-13  AUDIBLE ESCAPE  \n",
       "17896   2011-11-30  AUDIBLE ESCAPE  \n",
       "18974   2012-03-12  AUDIBLE ESCAPE  "
      ]
     },
     "execution_count": 779,
     "metadata": {},
     "output_type": "execute_result"
    }
   ],
   "source": [
    "# Explore the different titles with multiple occurences\n",
    "mask = audible_df['title']=='AUDIBLE ESCAPE'\n",
    "audible_df[mask].head()"
   ]
  },
  {
   "cell_type": "markdown",
   "id": "c47b317d",
   "metadata": {},
   "source": [
    "We can see that there are 21731 books with a title as 'AUDIBLE ESCAPE'. These observations are ought to be erroneous since the same redundant title is provided for books by various authors and with different categories for each of them. It is essential to drop all the observations with title as 'AUDIBLE ESCAPE'."
   ]
  },
  {
   "cell_type": "code",
   "execution_count": 780,
   "id": "6730923f",
   "metadata": {},
   "outputs": [],
   "source": [
    "# Filter out the books with invalid or unknown title\n",
    "audible_df = audible_df.copy(deep=True)\n",
    "audible_df = audible_df[audible_df['title']!='AUDIBLE ESCAPE']"
   ]
  },
  {
   "cell_type": "markdown",
   "id": "db7db8e8",
   "metadata": {},
   "source": [
    "It is essential to check other titles with multiple occurances before dropping duplicate titles. We need to decide on the observation to retain from the list of observations with repetitive titles."
   ]
  },
  {
   "cell_type": "code",
   "execution_count": 781,
   "id": "8dca376d",
   "metadata": {},
   "outputs": [
    {
     "data": {
      "text/html": [
       "<div>\n",
       "<style scoped>\n",
       "    .dataframe tbody tr th:only-of-type {\n",
       "        vertical-align: middle;\n",
       "    }\n",
       "\n",
       "    .dataframe tbody tr th {\n",
       "        vertical-align: top;\n",
       "    }\n",
       "\n",
       "    .dataframe thead th {\n",
       "        text-align: right;\n",
       "    }\n",
       "</style>\n",
       "<table border=\"1\" class=\"dataframe\">\n",
       "  <thead>\n",
       "    <tr style=\"text-align: right;\">\n",
       "      <th></th>\n",
       "      <th>author</th>\n",
       "      <th>category</th>\n",
       "      <th>length</th>\n",
       "      <th>narrator</th>\n",
       "      <th>price</th>\n",
       "      <th>rating</th>\n",
       "      <th>rating_count</th>\n",
       "      <th>release_date</th>\n",
       "      <th>title</th>\n",
       "    </tr>\n",
       "  </thead>\n",
       "  <tbody>\n",
       "    <tr>\n",
       "      <th>326900</th>\n",
       "      <td>Will Durst</td>\n",
       "      <td>Comedy</td>\n",
       "      <td>2 mins</td>\n",
       "      <td>NaN</td>\n",
       "      <td>0.95</td>\n",
       "      <td>0.0</td>\n",
       "      <td>0.0</td>\n",
       "      <td>2007-04-13</td>\n",
       "      <td>Will Durst 0</td>\n",
       "    </tr>\n",
       "    <tr>\n",
       "      <th>326903</th>\n",
       "      <td>Will Durst</td>\n",
       "      <td>Comedy</td>\n",
       "      <td>2 mins</td>\n",
       "      <td>NaN</td>\n",
       "      <td>0.95</td>\n",
       "      <td>0.0</td>\n",
       "      <td>0.0</td>\n",
       "      <td>2007-05-08</td>\n",
       "      <td>Will Durst 0</td>\n",
       "    </tr>\n",
       "    <tr>\n",
       "      <th>326907</th>\n",
       "      <td>Will Durst</td>\n",
       "      <td>Comedy</td>\n",
       "      <td>2 mins</td>\n",
       "      <td>NaN</td>\n",
       "      <td>0.95</td>\n",
       "      <td>0.0</td>\n",
       "      <td>0.0</td>\n",
       "      <td>2007-06-08</td>\n",
       "      <td>Will Durst 0</td>\n",
       "    </tr>\n",
       "    <tr>\n",
       "      <th>326909</th>\n",
       "      <td>Will Durst</td>\n",
       "      <td>Comedy</td>\n",
       "      <td>2 mins</td>\n",
       "      <td>NaN</td>\n",
       "      <td>0.95</td>\n",
       "      <td>0.0</td>\n",
       "      <td>0.0</td>\n",
       "      <td>2007-05-22</td>\n",
       "      <td>Will Durst 0</td>\n",
       "    </tr>\n",
       "    <tr>\n",
       "      <th>329575</th>\n",
       "      <td>Will Durst</td>\n",
       "      <td>Comedy</td>\n",
       "      <td>2 mins</td>\n",
       "      <td>NaN</td>\n",
       "      <td>0.95</td>\n",
       "      <td>1.0</td>\n",
       "      <td>1.0</td>\n",
       "      <td>2006-11-28</td>\n",
       "      <td>Will Durst 0</td>\n",
       "    </tr>\n",
       "  </tbody>\n",
       "</table>\n",
       "</div>"
      ],
      "text/plain": [
       "            author category  length narrator  price  rating  rating_count  \\\n",
       "326900  Will Durst   Comedy  2 mins      NaN   0.95     0.0           0.0   \n",
       "326903  Will Durst   Comedy  2 mins      NaN   0.95     0.0           0.0   \n",
       "326907  Will Durst   Comedy  2 mins      NaN   0.95     0.0           0.0   \n",
       "326909  Will Durst   Comedy  2 mins      NaN   0.95     0.0           0.0   \n",
       "329575  Will Durst   Comedy  2 mins      NaN   0.95     1.0           1.0   \n",
       "\n",
       "       release_date         title  \n",
       "326900   2007-04-13  Will Durst 0  \n",
       "326903   2007-05-08  Will Durst 0  \n",
       "326907   2007-06-08  Will Durst 0  \n",
       "326909   2007-05-22  Will Durst 0  \n",
       "329575   2006-11-28  Will Durst 0  "
      ]
     },
     "execution_count": 781,
     "metadata": {},
     "output_type": "execute_result"
    }
   ],
   "source": [
    "# Explore other titles with multiple occcurences\n",
    "mask = audible_df['title']==\"Will Durst 0\"\n",
    "audible_df[mask].head()"
   ]
  },
  {
   "cell_type": "markdown",
   "id": "413e4327",
   "metadata": {},
   "source": [
    "We observe that there are titles with the same author with different versions. Let us retain only one entry for each title-author combination in the dataset. Towards that, convert the release_date column to datetime type and retain only the latest released version of each book and author combination."
   ]
  },
  {
   "cell_type": "code",
   "execution_count": 782,
   "id": "9353182e",
   "metadata": {},
   "outputs": [],
   "source": [
    "# Convert the release_date column to datetime\n",
    "audible_df['release_date'] = pd.to_datetime(audible_df['release_date'])"
   ]
  },
  {
   "cell_type": "code",
   "execution_count": 783,
   "id": "1b890e89",
   "metadata": {},
   "outputs": [
    {
     "data": {
      "text/html": [
       "<div>\n",
       "<style scoped>\n",
       "    .dataframe tbody tr th:only-of-type {\n",
       "        vertical-align: middle;\n",
       "    }\n",
       "\n",
       "    .dataframe tbody tr th {\n",
       "        vertical-align: top;\n",
       "    }\n",
       "\n",
       "    .dataframe thead th {\n",
       "        text-align: right;\n",
       "    }\n",
       "</style>\n",
       "<table border=\"1\" class=\"dataframe\">\n",
       "  <thead>\n",
       "    <tr style=\"text-align: right;\">\n",
       "      <th></th>\n",
       "      <th>author</th>\n",
       "      <th>category</th>\n",
       "      <th>length</th>\n",
       "      <th>narrator</th>\n",
       "      <th>price</th>\n",
       "      <th>rating</th>\n",
       "      <th>rating_count</th>\n",
       "      <th>release_date</th>\n",
       "      <th>title</th>\n",
       "    </tr>\n",
       "  </thead>\n",
       "  <tbody>\n",
       "    <tr>\n",
       "      <th>12122</th>\n",
       "      <td>Po Bronson</td>\n",
       "      <td>Bios &amp; Memoirs</td>\n",
       "      <td>9 hrs and 50 mins</td>\n",
       "      <td>Po Bronson</td>\n",
       "      <td>27.97</td>\n",
       "      <td>3.5</td>\n",
       "      <td>76.0</td>\n",
       "      <td>1995-12-31</td>\n",
       "      <td>The Nudist on the Late Shift and Other True Ta...</td>\n",
       "    </tr>\n",
       "    <tr>\n",
       "      <th>33219</th>\n",
       "      <td>John P. Kotter, Jeanie Daniel Duck</td>\n",
       "      <td>Business</td>\n",
       "      <td>1 hr and 40 mins</td>\n",
       "      <td>uncredited</td>\n",
       "      <td>7.95</td>\n",
       "      <td>4.0</td>\n",
       "      <td>37.0</td>\n",
       "      <td>1997-11-03</td>\n",
       "      <td>Leading Change</td>\n",
       "    </tr>\n",
       "    <tr>\n",
       "      <th>38106</th>\n",
       "      <td>James L. Heskett, Thomas O. Jones, Frederick F...</td>\n",
       "      <td>Business</td>\n",
       "      <td>1 hr and 12 mins</td>\n",
       "      <td>uncredited</td>\n",
       "      <td>4.95</td>\n",
       "      <td>3.5</td>\n",
       "      <td>11.0</td>\n",
       "      <td>1997-11-03</td>\n",
       "      <td>Customer Loyalty</td>\n",
       "    </tr>\n",
       "    <tr>\n",
       "      <th>168928</th>\n",
       "      <td>Richard North Patterson</td>\n",
       "      <td>Mysteries &amp; Thrillers</td>\n",
       "      <td>5 hrs and 3 mins</td>\n",
       "      <td>Ken Howard</td>\n",
       "      <td>11.90</td>\n",
       "      <td>3.5</td>\n",
       "      <td>14.0</td>\n",
       "      <td>1998-01-08</td>\n",
       "      <td>The Lasko Tangent</td>\n",
       "    </tr>\n",
       "    <tr>\n",
       "      <th>159155</th>\n",
       "      <td>Richard North Patterson</td>\n",
       "      <td>Mysteries &amp; Thrillers</td>\n",
       "      <td>5 hrs and 4 mins</td>\n",
       "      <td>Lisa Banes</td>\n",
       "      <td>12.60</td>\n",
       "      <td>3.0</td>\n",
       "      <td>16.0</td>\n",
       "      <td>1998-01-08</td>\n",
       "      <td>The Final Judgment</td>\n",
       "    </tr>\n",
       "  </tbody>\n",
       "</table>\n",
       "</div>"
      ],
      "text/plain": [
       "                                                   author  \\\n",
       "12122                                          Po Bronson   \n",
       "33219                  John P. Kotter, Jeanie Daniel Duck   \n",
       "38106   James L. Heskett, Thomas O. Jones, Frederick F...   \n",
       "168928                            Richard North Patterson   \n",
       "159155                            Richard North Patterson   \n",
       "\n",
       "                     category             length    narrator  price  rating  \\\n",
       "12122          Bios & Memoirs  9 hrs and 50 mins  Po Bronson  27.97     3.5   \n",
       "33219                Business   1 hr and 40 mins  uncredited   7.95     4.0   \n",
       "38106                Business   1 hr and 12 mins  uncredited   4.95     3.5   \n",
       "168928  Mysteries & Thrillers   5 hrs and 3 mins  Ken Howard  11.90     3.5   \n",
       "159155  Mysteries & Thrillers   5 hrs and 4 mins  Lisa Banes  12.60     3.0   \n",
       "\n",
       "        rating_count release_date  \\\n",
       "12122           76.0   1995-12-31   \n",
       "33219           37.0   1997-11-03   \n",
       "38106           11.0   1997-11-03   \n",
       "168928          14.0   1998-01-08   \n",
       "159155          16.0   1998-01-08   \n",
       "\n",
       "                                                    title  \n",
       "12122   The Nudist on the Late Shift and Other True Ta...  \n",
       "33219                                      Leading Change  \n",
       "38106                                    Customer Loyalty  \n",
       "168928                                  The Lasko Tangent  \n",
       "159155                                 The Final Judgment  "
      ]
     },
     "execution_count": 783,
     "metadata": {},
     "output_type": "execute_result"
    }
   ],
   "source": [
    "# Sort the books based on the release date, drop duplicates for title-author pair and keep only the latest for each pair.\n",
    "audible_df = audible_df.sort_values('release_date')\n",
    "audible_df.drop_duplicates(subset=['title', 'author'], keep='last', inplace=True)\n",
    "audible_df.head()"
   ]
  },
  {
   "cell_type": "markdown",
   "id": "eed9ff3f",
   "metadata": {},
   "source": [
    "The observations for book with no information on its author are identified. The null values on authors will hinder the analysis performed to identify the highest rated author. The observations for book with no information on its author will be removed to facilitate an accurate analysis in determining the rating of each author. "
   ]
  },
  {
   "cell_type": "code",
   "execution_count": 784,
   "id": "7d13bc4d",
   "metadata": {},
   "outputs": [
    {
     "data": {
      "text/plain": [
       "653"
      ]
     },
     "execution_count": 784,
     "metadata": {},
     "output_type": "execute_result"
    }
   ],
   "source": [
    "# Determine the number of nulls in author column\n",
    "audible_df['author'].isnull().sum()"
   ]
  },
  {
   "cell_type": "code",
   "execution_count": 785,
   "id": "92d7d465",
   "metadata": {},
   "outputs": [
    {
     "data": {
      "text/html": [
       "<div>\n",
       "<style scoped>\n",
       "    .dataframe tbody tr th:only-of-type {\n",
       "        vertical-align: middle;\n",
       "    }\n",
       "\n",
       "    .dataframe tbody tr th {\n",
       "        vertical-align: top;\n",
       "    }\n",
       "\n",
       "    .dataframe thead th {\n",
       "        text-align: right;\n",
       "    }\n",
       "</style>\n",
       "<table border=\"1\" class=\"dataframe\">\n",
       "  <thead>\n",
       "    <tr style=\"text-align: right;\">\n",
       "      <th></th>\n",
       "      <th>author</th>\n",
       "      <th>category</th>\n",
       "      <th>length</th>\n",
       "      <th>narrator</th>\n",
       "      <th>price</th>\n",
       "      <th>rating</th>\n",
       "      <th>rating_count</th>\n",
       "      <th>release_date</th>\n",
       "      <th>title</th>\n",
       "    </tr>\n",
       "  </thead>\n",
       "  <tbody>\n",
       "    <tr>\n",
       "      <th>12122</th>\n",
       "      <td>Po Bronson</td>\n",
       "      <td>Bios &amp; Memoirs</td>\n",
       "      <td>9 hrs and 50 mins</td>\n",
       "      <td>Po Bronson</td>\n",
       "      <td>27.97</td>\n",
       "      <td>3.5</td>\n",
       "      <td>76.0</td>\n",
       "      <td>1995-12-31</td>\n",
       "      <td>The Nudist on the Late Shift and Other True Ta...</td>\n",
       "    </tr>\n",
       "    <tr>\n",
       "      <th>33219</th>\n",
       "      <td>John P. Kotter, Jeanie Daniel Duck</td>\n",
       "      <td>Business</td>\n",
       "      <td>1 hr and 40 mins</td>\n",
       "      <td>uncredited</td>\n",
       "      <td>7.95</td>\n",
       "      <td>4.0</td>\n",
       "      <td>37.0</td>\n",
       "      <td>1997-11-03</td>\n",
       "      <td>Leading Change</td>\n",
       "    </tr>\n",
       "    <tr>\n",
       "      <th>38106</th>\n",
       "      <td>James L. Heskett, Thomas O. Jones, Frederick F...</td>\n",
       "      <td>Business</td>\n",
       "      <td>1 hr and 12 mins</td>\n",
       "      <td>uncredited</td>\n",
       "      <td>4.95</td>\n",
       "      <td>3.5</td>\n",
       "      <td>11.0</td>\n",
       "      <td>1997-11-03</td>\n",
       "      <td>Customer Loyalty</td>\n",
       "    </tr>\n",
       "    <tr>\n",
       "      <th>168928</th>\n",
       "      <td>Richard North Patterson</td>\n",
       "      <td>Mysteries &amp; Thrillers</td>\n",
       "      <td>5 hrs and 3 mins</td>\n",
       "      <td>Ken Howard</td>\n",
       "      <td>11.90</td>\n",
       "      <td>3.5</td>\n",
       "      <td>14.0</td>\n",
       "      <td>1998-01-08</td>\n",
       "      <td>The Lasko Tangent</td>\n",
       "    </tr>\n",
       "    <tr>\n",
       "      <th>159155</th>\n",
       "      <td>Richard North Patterson</td>\n",
       "      <td>Mysteries &amp; Thrillers</td>\n",
       "      <td>5 hrs and 4 mins</td>\n",
       "      <td>Lisa Banes</td>\n",
       "      <td>12.60</td>\n",
       "      <td>3.0</td>\n",
       "      <td>16.0</td>\n",
       "      <td>1998-01-08</td>\n",
       "      <td>The Final Judgment</td>\n",
       "    </tr>\n",
       "  </tbody>\n",
       "</table>\n",
       "</div>"
      ],
      "text/plain": [
       "                                                   author  \\\n",
       "12122                                          Po Bronson   \n",
       "33219                  John P. Kotter, Jeanie Daniel Duck   \n",
       "38106   James L. Heskett, Thomas O. Jones, Frederick F...   \n",
       "168928                            Richard North Patterson   \n",
       "159155                            Richard North Patterson   \n",
       "\n",
       "                     category             length    narrator  price  rating  \\\n",
       "12122          Bios & Memoirs  9 hrs and 50 mins  Po Bronson  27.97     3.5   \n",
       "33219                Business   1 hr and 40 mins  uncredited   7.95     4.0   \n",
       "38106                Business   1 hr and 12 mins  uncredited   4.95     3.5   \n",
       "168928  Mysteries & Thrillers   5 hrs and 3 mins  Ken Howard  11.90     3.5   \n",
       "159155  Mysteries & Thrillers   5 hrs and 4 mins  Lisa Banes  12.60     3.0   \n",
       "\n",
       "        rating_count release_date  \\\n",
       "12122           76.0   1995-12-31   \n",
       "33219           37.0   1997-11-03   \n",
       "38106           11.0   1997-11-03   \n",
       "168928          14.0   1998-01-08   \n",
       "159155          16.0   1998-01-08   \n",
       "\n",
       "                                                    title  \n",
       "12122   The Nudist on the Late Shift and Other True Ta...  \n",
       "33219                                      Leading Change  \n",
       "38106                                    Customer Loyalty  \n",
       "168928                                  The Lasko Tangent  \n",
       "159155                                 The Final Judgment  "
      ]
     },
     "execution_count": 785,
     "metadata": {},
     "output_type": "execute_result"
    }
   ],
   "source": [
    "# Filter out the rows with null values in the author column.\n",
    "author_filter = audible_df['author'].notnull()\n",
    "audible_df = audible_df[author_filter]\n",
    "audible_df.head()"
   ]
  },
  {
   "cell_type": "markdown",
   "id": "d3ca08dd",
   "metadata": {},
   "source": [
    "The **length** column describes the length of the audio book. It is necessay to process the **length** column and replace it with numerical values with length in minutes."
   ]
  },
  {
   "cell_type": "code",
   "execution_count": 786,
   "id": "0461f734",
   "metadata": {},
   "outputs": [
    {
     "data": {
      "text/html": [
       "<div>\n",
       "<style scoped>\n",
       "    .dataframe tbody tr th:only-of-type {\n",
       "        vertical-align: middle;\n",
       "    }\n",
       "\n",
       "    .dataframe tbody tr th {\n",
       "        vertical-align: top;\n",
       "    }\n",
       "\n",
       "    .dataframe thead th {\n",
       "        text-align: right;\n",
       "    }\n",
       "</style>\n",
       "<table border=\"1\" class=\"dataframe\">\n",
       "  <thead>\n",
       "    <tr style=\"text-align: right;\">\n",
       "      <th></th>\n",
       "      <th>hours</th>\n",
       "      <th>minutes</th>\n",
       "    </tr>\n",
       "  </thead>\n",
       "  <tbody>\n",
       "    <tr>\n",
       "      <th>12122</th>\n",
       "      <td>9 hr</td>\n",
       "      <td>50 min</td>\n",
       "    </tr>\n",
       "    <tr>\n",
       "      <th>33219</th>\n",
       "      <td>1 hr</td>\n",
       "      <td>40 min</td>\n",
       "    </tr>\n",
       "    <tr>\n",
       "      <th>38106</th>\n",
       "      <td>1 hr</td>\n",
       "      <td>12 min</td>\n",
       "    </tr>\n",
       "    <tr>\n",
       "      <th>168928</th>\n",
       "      <td>5 hr</td>\n",
       "      <td>3 min</td>\n",
       "    </tr>\n",
       "    <tr>\n",
       "      <th>159155</th>\n",
       "      <td>5 hr</td>\n",
       "      <td>4 min</td>\n",
       "    </tr>\n",
       "  </tbody>\n",
       "</table>\n",
       "</div>"
      ],
      "text/plain": [
       "       hours minutes\n",
       "12122   9 hr  50 min\n",
       "33219   1 hr  40 min\n",
       "38106   1 hr  12 min\n",
       "168928  5 hr   3 min\n",
       "159155  5 hr   4 min"
      ]
     },
     "execution_count": 786,
     "metadata": {},
     "output_type": "execute_result"
    }
   ],
   "source": [
    "#Processing the length column to separate the hours and minutes of the duration of the audiobook\n",
    "pattern = '(?P<hours>\\d* hr)*\\D*(?P<minutes>\\d* min)\\D*'\n",
    "duration = audible_df['length'].str.extract(pattern, expand=True)\n",
    "duration.head()"
   ]
  },
  {
   "cell_type": "code",
   "execution_count": 787,
   "id": "8840c701",
   "metadata": {},
   "outputs": [
    {
     "data": {
      "text/html": [
       "<div>\n",
       "<style scoped>\n",
       "    .dataframe tbody tr th:only-of-type {\n",
       "        vertical-align: middle;\n",
       "    }\n",
       "\n",
       "    .dataframe tbody tr th {\n",
       "        vertical-align: top;\n",
       "    }\n",
       "\n",
       "    .dataframe thead th {\n",
       "        text-align: right;\n",
       "    }\n",
       "</style>\n",
       "<table border=\"1\" class=\"dataframe\">\n",
       "  <thead>\n",
       "    <tr style=\"text-align: right;\">\n",
       "      <th></th>\n",
       "      <th>hours</th>\n",
       "      <th>minutes</th>\n",
       "    </tr>\n",
       "  </thead>\n",
       "  <tbody>\n",
       "    <tr>\n",
       "      <th>12122</th>\n",
       "      <td>9</td>\n",
       "      <td>50</td>\n",
       "    </tr>\n",
       "    <tr>\n",
       "      <th>33219</th>\n",
       "      <td>1</td>\n",
       "      <td>40</td>\n",
       "    </tr>\n",
       "    <tr>\n",
       "      <th>38106</th>\n",
       "      <td>1</td>\n",
       "      <td>12</td>\n",
       "    </tr>\n",
       "    <tr>\n",
       "      <th>168928</th>\n",
       "      <td>5</td>\n",
       "      <td>3</td>\n",
       "    </tr>\n",
       "    <tr>\n",
       "      <th>159155</th>\n",
       "      <td>5</td>\n",
       "      <td>4</td>\n",
       "    </tr>\n",
       "  </tbody>\n",
       "</table>\n",
       "</div>"
      ],
      "text/plain": [
       "       hours minutes\n",
       "12122      9      50\n",
       "33219      1      40\n",
       "38106      1      12\n",
       "168928     5       3\n",
       "159155     5       4"
      ]
     },
     "execution_count": 787,
     "metadata": {},
     "output_type": "execute_result"
    }
   ],
   "source": [
    "#Retain only the numbers in the columns to calculate the duration of the audiobook in terms of minutes\n",
    "duration['hours'] = duration['hours'].str.replace('\\D', '', regex=True)\n",
    "duration['minutes'] = duration['minutes'].str.replace('\\D', '', regex=True)\n",
    "duration.head()"
   ]
  },
  {
   "cell_type": "code",
   "execution_count": 788,
   "id": "ef8a6e9b",
   "metadata": {},
   "outputs": [],
   "source": [
    "# Convert the datatype of the columns to calculate the total duration of audiobook in terms of minutes\n",
    "duration = duration.astype({'hours': 'float', 'minutes': 'float'})\n",
    "\n",
    "# Fill NaN values in duration of audiobook with 0\n",
    "duration = duration.fillna(0)"
   ]
  },
  {
   "cell_type": "code",
   "execution_count": 789,
   "id": "67801c8f",
   "metadata": {},
   "outputs": [
    {
     "data": {
      "text/html": [
       "<div>\n",
       "<style scoped>\n",
       "    .dataframe tbody tr th:only-of-type {\n",
       "        vertical-align: middle;\n",
       "    }\n",
       "\n",
       "    .dataframe tbody tr th {\n",
       "        vertical-align: top;\n",
       "    }\n",
       "\n",
       "    .dataframe thead th {\n",
       "        text-align: right;\n",
       "    }\n",
       "</style>\n",
       "<table border=\"1\" class=\"dataframe\">\n",
       "  <thead>\n",
       "    <tr style=\"text-align: right;\">\n",
       "      <th></th>\n",
       "      <th>hours</th>\n",
       "      <th>minutes</th>\n",
       "      <th>length</th>\n",
       "    </tr>\n",
       "  </thead>\n",
       "  <tbody>\n",
       "    <tr>\n",
       "      <th>12122</th>\n",
       "      <td>9.0</td>\n",
       "      <td>50.0</td>\n",
       "      <td>590.0</td>\n",
       "    </tr>\n",
       "    <tr>\n",
       "      <th>33219</th>\n",
       "      <td>1.0</td>\n",
       "      <td>40.0</td>\n",
       "      <td>100.0</td>\n",
       "    </tr>\n",
       "    <tr>\n",
       "      <th>38106</th>\n",
       "      <td>1.0</td>\n",
       "      <td>12.0</td>\n",
       "      <td>72.0</td>\n",
       "    </tr>\n",
       "    <tr>\n",
       "      <th>168928</th>\n",
       "      <td>5.0</td>\n",
       "      <td>3.0</td>\n",
       "      <td>303.0</td>\n",
       "    </tr>\n",
       "    <tr>\n",
       "      <th>159155</th>\n",
       "      <td>5.0</td>\n",
       "      <td>4.0</td>\n",
       "      <td>304.0</td>\n",
       "    </tr>\n",
       "  </tbody>\n",
       "</table>\n",
       "</div>"
      ],
      "text/plain": [
       "        hours  minutes  length\n",
       "12122     9.0     50.0   590.0\n",
       "33219     1.0     40.0   100.0\n",
       "38106     1.0     12.0    72.0\n",
       "168928    5.0      3.0   303.0\n",
       "159155    5.0      4.0   304.0"
      ]
     },
     "execution_count": 789,
     "metadata": {},
     "output_type": "execute_result"
    }
   ],
   "source": [
    "# Calculate the total duration of the audio book in minutes\n",
    "duration['length'] = duration['hours']*60 + duration['minutes']\n",
    "duration.head()"
   ]
  },
  {
   "cell_type": "code",
   "execution_count": 790,
   "id": "e5a1e818",
   "metadata": {},
   "outputs": [
    {
     "data": {
      "text/html": [
       "<div>\n",
       "<style scoped>\n",
       "    .dataframe tbody tr th:only-of-type {\n",
       "        vertical-align: middle;\n",
       "    }\n",
       "\n",
       "    .dataframe tbody tr th {\n",
       "        vertical-align: top;\n",
       "    }\n",
       "\n",
       "    .dataframe thead th {\n",
       "        text-align: right;\n",
       "    }\n",
       "</style>\n",
       "<table border=\"1\" class=\"dataframe\">\n",
       "  <thead>\n",
       "    <tr style=\"text-align: right;\">\n",
       "      <th></th>\n",
       "      <th>author</th>\n",
       "      <th>category</th>\n",
       "      <th>length</th>\n",
       "      <th>narrator</th>\n",
       "      <th>price</th>\n",
       "      <th>rating</th>\n",
       "      <th>rating_count</th>\n",
       "      <th>release_date</th>\n",
       "      <th>title</th>\n",
       "    </tr>\n",
       "  </thead>\n",
       "  <tbody>\n",
       "    <tr>\n",
       "      <th>12122</th>\n",
       "      <td>Po Bronson</td>\n",
       "      <td>Bios &amp; Memoirs</td>\n",
       "      <td>590.0</td>\n",
       "      <td>Po Bronson</td>\n",
       "      <td>27.97</td>\n",
       "      <td>3.5</td>\n",
       "      <td>76.0</td>\n",
       "      <td>1995-12-31</td>\n",
       "      <td>The Nudist on the Late Shift and Other True Ta...</td>\n",
       "    </tr>\n",
       "    <tr>\n",
       "      <th>33219</th>\n",
       "      <td>John P. Kotter, Jeanie Daniel Duck</td>\n",
       "      <td>Business</td>\n",
       "      <td>100.0</td>\n",
       "      <td>uncredited</td>\n",
       "      <td>7.95</td>\n",
       "      <td>4.0</td>\n",
       "      <td>37.0</td>\n",
       "      <td>1997-11-03</td>\n",
       "      <td>Leading Change</td>\n",
       "    </tr>\n",
       "    <tr>\n",
       "      <th>38106</th>\n",
       "      <td>James L. Heskett, Thomas O. Jones, Frederick F...</td>\n",
       "      <td>Business</td>\n",
       "      <td>72.0</td>\n",
       "      <td>uncredited</td>\n",
       "      <td>4.95</td>\n",
       "      <td>3.5</td>\n",
       "      <td>11.0</td>\n",
       "      <td>1997-11-03</td>\n",
       "      <td>Customer Loyalty</td>\n",
       "    </tr>\n",
       "    <tr>\n",
       "      <th>168928</th>\n",
       "      <td>Richard North Patterson</td>\n",
       "      <td>Mysteries &amp; Thrillers</td>\n",
       "      <td>303.0</td>\n",
       "      <td>Ken Howard</td>\n",
       "      <td>11.90</td>\n",
       "      <td>3.5</td>\n",
       "      <td>14.0</td>\n",
       "      <td>1998-01-08</td>\n",
       "      <td>The Lasko Tangent</td>\n",
       "    </tr>\n",
       "    <tr>\n",
       "      <th>159155</th>\n",
       "      <td>Richard North Patterson</td>\n",
       "      <td>Mysteries &amp; Thrillers</td>\n",
       "      <td>304.0</td>\n",
       "      <td>Lisa Banes</td>\n",
       "      <td>12.60</td>\n",
       "      <td>3.0</td>\n",
       "      <td>16.0</td>\n",
       "      <td>1998-01-08</td>\n",
       "      <td>The Final Judgment</td>\n",
       "    </tr>\n",
       "  </tbody>\n",
       "</table>\n",
       "</div>"
      ],
      "text/plain": [
       "                                                   author  \\\n",
       "12122                                          Po Bronson   \n",
       "33219                  John P. Kotter, Jeanie Daniel Duck   \n",
       "38106   James L. Heskett, Thomas O. Jones, Frederick F...   \n",
       "168928                            Richard North Patterson   \n",
       "159155                            Richard North Patterson   \n",
       "\n",
       "                     category  length    narrator  price  rating  \\\n",
       "12122          Bios & Memoirs   590.0  Po Bronson  27.97     3.5   \n",
       "33219                Business   100.0  uncredited   7.95     4.0   \n",
       "38106                Business    72.0  uncredited   4.95     3.5   \n",
       "168928  Mysteries & Thrillers   303.0  Ken Howard  11.90     3.5   \n",
       "159155  Mysteries & Thrillers   304.0  Lisa Banes  12.60     3.0   \n",
       "\n",
       "        rating_count release_date  \\\n",
       "12122           76.0   1995-12-31   \n",
       "33219           37.0   1997-11-03   \n",
       "38106           11.0   1997-11-03   \n",
       "168928          14.0   1998-01-08   \n",
       "159155          16.0   1998-01-08   \n",
       "\n",
       "                                                    title  \n",
       "12122   The Nudist on the Late Shift and Other True Ta...  \n",
       "33219                                      Leading Change  \n",
       "38106                                    Customer Loyalty  \n",
       "168928                                  The Lasko Tangent  \n",
       "159155                                 The Final Judgment  "
      ]
     },
     "execution_count": 790,
     "metadata": {},
     "output_type": "execute_result"
    }
   ],
   "source": [
    "# Updating the length column in the dataset with its respective duration in minutes\n",
    "audible_df['length'] = duration['length']\n",
    "audible_df.head()"
   ]
  },
  {
   "cell_type": "markdown",
   "id": "9ffbace5",
   "metadata": {},
   "source": [
    "Now that we have processed data, we no longer need the **release date** column for further analysis. Hence let us drop that column permanently."
   ]
  },
  {
   "cell_type": "code",
   "execution_count": 791,
   "id": "ba223408",
   "metadata": {},
   "outputs": [
    {
     "data": {
      "text/html": [
       "<div>\n",
       "<style scoped>\n",
       "    .dataframe tbody tr th:only-of-type {\n",
       "        vertical-align: middle;\n",
       "    }\n",
       "\n",
       "    .dataframe tbody tr th {\n",
       "        vertical-align: top;\n",
       "    }\n",
       "\n",
       "    .dataframe thead th {\n",
       "        text-align: right;\n",
       "    }\n",
       "</style>\n",
       "<table border=\"1\" class=\"dataframe\">\n",
       "  <thead>\n",
       "    <tr style=\"text-align: right;\">\n",
       "      <th></th>\n",
       "      <th>author</th>\n",
       "      <th>category</th>\n",
       "      <th>length</th>\n",
       "      <th>narrator</th>\n",
       "      <th>price</th>\n",
       "      <th>rating</th>\n",
       "      <th>rating_count</th>\n",
       "      <th>title</th>\n",
       "    </tr>\n",
       "  </thead>\n",
       "  <tbody>\n",
       "    <tr>\n",
       "      <th>12122</th>\n",
       "      <td>Po Bronson</td>\n",
       "      <td>Bios &amp; Memoirs</td>\n",
       "      <td>590.0</td>\n",
       "      <td>Po Bronson</td>\n",
       "      <td>27.97</td>\n",
       "      <td>3.5</td>\n",
       "      <td>76.0</td>\n",
       "      <td>The Nudist on the Late Shift and Other True Ta...</td>\n",
       "    </tr>\n",
       "    <tr>\n",
       "      <th>33219</th>\n",
       "      <td>John P. Kotter, Jeanie Daniel Duck</td>\n",
       "      <td>Business</td>\n",
       "      <td>100.0</td>\n",
       "      <td>uncredited</td>\n",
       "      <td>7.95</td>\n",
       "      <td>4.0</td>\n",
       "      <td>37.0</td>\n",
       "      <td>Leading Change</td>\n",
       "    </tr>\n",
       "    <tr>\n",
       "      <th>38106</th>\n",
       "      <td>James L. Heskett, Thomas O. Jones, Frederick F...</td>\n",
       "      <td>Business</td>\n",
       "      <td>72.0</td>\n",
       "      <td>uncredited</td>\n",
       "      <td>4.95</td>\n",
       "      <td>3.5</td>\n",
       "      <td>11.0</td>\n",
       "      <td>Customer Loyalty</td>\n",
       "    </tr>\n",
       "    <tr>\n",
       "      <th>168928</th>\n",
       "      <td>Richard North Patterson</td>\n",
       "      <td>Mysteries &amp; Thrillers</td>\n",
       "      <td>303.0</td>\n",
       "      <td>Ken Howard</td>\n",
       "      <td>11.90</td>\n",
       "      <td>3.5</td>\n",
       "      <td>14.0</td>\n",
       "      <td>The Lasko Tangent</td>\n",
       "    </tr>\n",
       "    <tr>\n",
       "      <th>159155</th>\n",
       "      <td>Richard North Patterson</td>\n",
       "      <td>Mysteries &amp; Thrillers</td>\n",
       "      <td>304.0</td>\n",
       "      <td>Lisa Banes</td>\n",
       "      <td>12.60</td>\n",
       "      <td>3.0</td>\n",
       "      <td>16.0</td>\n",
       "      <td>The Final Judgment</td>\n",
       "    </tr>\n",
       "  </tbody>\n",
       "</table>\n",
       "</div>"
      ],
      "text/plain": [
       "                                                   author  \\\n",
       "12122                                          Po Bronson   \n",
       "33219                  John P. Kotter, Jeanie Daniel Duck   \n",
       "38106   James L. Heskett, Thomas O. Jones, Frederick F...   \n",
       "168928                            Richard North Patterson   \n",
       "159155                            Richard North Patterson   \n",
       "\n",
       "                     category  length    narrator  price  rating  \\\n",
       "12122          Bios & Memoirs   590.0  Po Bronson  27.97     3.5   \n",
       "33219                Business   100.0  uncredited   7.95     4.0   \n",
       "38106                Business    72.0  uncredited   4.95     3.5   \n",
       "168928  Mysteries & Thrillers   303.0  Ken Howard  11.90     3.5   \n",
       "159155  Mysteries & Thrillers   304.0  Lisa Banes  12.60     3.0   \n",
       "\n",
       "        rating_count                                              title  \n",
       "12122           76.0  The Nudist on the Late Shift and Other True Ta...  \n",
       "33219           37.0                                     Leading Change  \n",
       "38106           11.0                                   Customer Loyalty  \n",
       "168928          14.0                                  The Lasko Tangent  \n",
       "159155          16.0                                 The Final Judgment  "
      ]
     },
     "execution_count": 791,
     "metadata": {},
     "output_type": "execute_result"
    }
   ],
   "source": [
    "# Drop the release date column\n",
    "audible_df = audible_df.drop('release_date', axis=1)\n",
    "audible_df.head()"
   ]
  },
  {
   "cell_type": "markdown",
   "id": "e3f82d81",
   "metadata": {},
   "source": [
    "It is important to identify null values present in the dataset and drop the observations with null values. It will help us in obtaining the optimal accuracy during data analysis. "
   ]
  },
  {
   "cell_type": "code",
   "execution_count": 792,
   "id": "fb14fc36",
   "metadata": {},
   "outputs": [
    {
     "data": {
      "text/plain": [
       "author             0\n",
       "category           0\n",
       "length             0\n",
       "narrator        6361\n",
       "price            116\n",
       "rating           640\n",
       "rating_count      13\n",
       "title              0\n",
       "dtype: int64"
      ]
     },
     "execution_count": 792,
     "metadata": {},
     "output_type": "execute_result"
    }
   ],
   "source": [
    "# Count the number of null in each column\n",
    "audible_df.isnull().sum()"
   ]
  },
  {
   "cell_type": "code",
   "execution_count": 793,
   "id": "017e9b76",
   "metadata": {},
   "outputs": [],
   "source": [
    "# Drop all the rows with null values\n",
    "audible_df.dropna(inplace=True)"
   ]
  },
  {
   "cell_type": "markdown",
   "id": "c30f1a56",
   "metadata": {},
   "source": [
    "Since we are planning to analyse the dataset to identify the books that should be made audio books to boost Audible's revenue and ultimately benefit Amazon, The observations that denote an existing audiobook must be removed."
   ]
  },
  {
   "cell_type": "code",
   "execution_count": 794,
   "id": "61529ca2",
   "metadata": {},
   "outputs": [
    {
     "data": {
      "text/html": [
       "<div>\n",
       "<style scoped>\n",
       "    .dataframe tbody tr th:only-of-type {\n",
       "        vertical-align: middle;\n",
       "    }\n",
       "\n",
       "    .dataframe tbody tr th {\n",
       "        vertical-align: top;\n",
       "    }\n",
       "\n",
       "    .dataframe thead th {\n",
       "        text-align: right;\n",
       "    }\n",
       "</style>\n",
       "<table border=\"1\" class=\"dataframe\">\n",
       "  <thead>\n",
       "    <tr style=\"text-align: right;\">\n",
       "      <th></th>\n",
       "      <th>id</th>\n",
       "      <th>title</th>\n",
       "      <th>author</th>\n",
       "      <th>rating_count</th>\n",
       "      <th>review_count</th>\n",
       "      <th>average_rating</th>\n",
       "      <th>five_star_ratings</th>\n",
       "      <th>four_star_ratings</th>\n",
       "      <th>three_star_ratings</th>\n",
       "      <th>two_star_ratings</th>\n",
       "      <th>...</th>\n",
       "      <th>number_of_pages</th>\n",
       "      <th>publisher</th>\n",
       "      <th>genre_and_votes</th>\n",
       "      <th>characters</th>\n",
       "      <th>awards</th>\n",
       "      <th>series_name</th>\n",
       "      <th>book_number_in_series</th>\n",
       "      <th>main_genre</th>\n",
       "      <th>year_published</th>\n",
       "      <th>series_category</th>\n",
       "    </tr>\n",
       "  </thead>\n",
       "  <tbody>\n",
       "    <tr>\n",
       "      <th>8301</th>\n",
       "      <td>40894779</td>\n",
       "      <td>Reviews by Cat Ellington (The Complete Antholo...</td>\n",
       "      <td>Cat Ellington</td>\n",
       "      <td>12</td>\n",
       "      <td>6</td>\n",
       "      <td>5.00</td>\n",
       "      <td>12</td>\n",
       "      <td>0</td>\n",
       "      <td>0</td>\n",
       "      <td>0</td>\n",
       "      <td>...</td>\n",
       "      <td>57.0</td>\n",
       "      <td>Quill Pen Ink Publishing</td>\n",
       "      <td>Audiobook 1user</td>\n",
       "      <td>NaN</td>\n",
       "      <td>NaN</td>\n",
       "      <td>NaN</td>\n",
       "      <td>NaN</td>\n",
       "      <td>Audiobook</td>\n",
       "      <td>2018</td>\n",
       "      <td>Individual book</td>\n",
       "    </tr>\n",
       "    <tr>\n",
       "      <th>14661</th>\n",
       "      <td>44553093</td>\n",
       "      <td>Whisper I Love You</td>\n",
       "      <td>Mila Olsen</td>\n",
       "      <td>72</td>\n",
       "      <td>13</td>\n",
       "      <td>4.51</td>\n",
       "      <td>45</td>\n",
       "      <td>20</td>\n",
       "      <td>6</td>\n",
       "      <td>1</td>\n",
       "      <td>...</td>\n",
       "      <td>438.0</td>\n",
       "      <td>NaN</td>\n",
       "      <td>Audiobook 1user, Romance 1user</td>\n",
       "      <td>NaN</td>\n",
       "      <td>NaN</td>\n",
       "      <td>NaN</td>\n",
       "      <td>NaN</td>\n",
       "      <td>Audiobook</td>\n",
       "      <td>2019</td>\n",
       "      <td>Individual book</td>\n",
       "    </tr>\n",
       "    <tr>\n",
       "      <th>15636</th>\n",
       "      <td>24790033</td>\n",
       "      <td>The Hakima's Tale: The Revenge of the Blue Jinni</td>\n",
       "      <td>Dedra L. Stevenson</td>\n",
       "      <td>23</td>\n",
       "      <td>5</td>\n",
       "      <td>4.26</td>\n",
       "      <td>14</td>\n",
       "      <td>5</td>\n",
       "      <td>1</td>\n",
       "      <td>2</td>\n",
       "      <td>...</td>\n",
       "      <td>209.0</td>\n",
       "      <td>Blue Jinni Media</td>\n",
       "      <td>Audiobook 1user, Business-Amazon 1user</td>\n",
       "      <td>NaN</td>\n",
       "      <td>NaN</td>\n",
       "      <td>NaN</td>\n",
       "      <td>NaN</td>\n",
       "      <td>Audiobook</td>\n",
       "      <td>2015</td>\n",
       "      <td>Individual book</td>\n",
       "    </tr>\n",
       "    <tr>\n",
       "      <th>15650</th>\n",
       "      <td>34731534</td>\n",
       "      <td>Craving</td>\n",
       "      <td>Ciana Stone</td>\n",
       "      <td>58</td>\n",
       "      <td>28</td>\n",
       "      <td>4.36</td>\n",
       "      <td>34</td>\n",
       "      <td>14</td>\n",
       "      <td>8</td>\n",
       "      <td>1</td>\n",
       "      <td>...</td>\n",
       "      <td>152.0</td>\n",
       "      <td>Original Syn</td>\n",
       "      <td>Audiobook 1user</td>\n",
       "      <td>NaN</td>\n",
       "      <td>NaN</td>\n",
       "      <td>Legacy</td>\n",
       "      <td>2</td>\n",
       "      <td>Audiobook</td>\n",
       "      <td>2017</td>\n",
       "      <td>Individual book</td>\n",
       "    </tr>\n",
       "    <tr>\n",
       "      <th>15908</th>\n",
       "      <td>6051891</td>\n",
       "      <td>Chaser</td>\n",
       "      <td>Miasha</td>\n",
       "      <td>336</td>\n",
       "      <td>24</td>\n",
       "      <td>4.20</td>\n",
       "      <td>167</td>\n",
       "      <td>94</td>\n",
       "      <td>57</td>\n",
       "      <td>11</td>\n",
       "      <td>...</td>\n",
       "      <td>211.0</td>\n",
       "      <td>Touchstone</td>\n",
       "      <td>Audiobook 2</td>\n",
       "      <td>Leah Cornick, Nasir Gadatra, Kenny</td>\n",
       "      <td>NaN</td>\n",
       "      <td>NaN</td>\n",
       "      <td>NaN</td>\n",
       "      <td>Audiobook</td>\n",
       "      <td>2009</td>\n",
       "      <td>Individual book</td>\n",
       "    </tr>\n",
       "  </tbody>\n",
       "</table>\n",
       "<p>5 rows × 21 columns</p>\n",
       "</div>"
      ],
      "text/plain": [
       "             id                                              title  \\\n",
       "8301   40894779  Reviews by Cat Ellington (The Complete Antholo...   \n",
       "14661  44553093                                 Whisper I Love You   \n",
       "15636  24790033   The Hakima's Tale: The Revenge of the Blue Jinni   \n",
       "15650  34731534                                            Craving   \n",
       "15908   6051891                                             Chaser   \n",
       "\n",
       "                   author  rating_count  review_count  average_rating  \\\n",
       "8301        Cat Ellington            12             6            5.00   \n",
       "14661          Mila Olsen            72            13            4.51   \n",
       "15636  Dedra L. Stevenson            23             5            4.26   \n",
       "15650         Ciana Stone            58            28            4.36   \n",
       "15908              Miasha           336            24            4.20   \n",
       "\n",
       "       five_star_ratings  four_star_ratings  three_star_ratings  \\\n",
       "8301                  12                  0                   0   \n",
       "14661                 45                 20                   6   \n",
       "15636                 14                  5                   1   \n",
       "15650                 34                 14                   8   \n",
       "15908                167                 94                  57   \n",
       "\n",
       "       two_star_ratings  ...  number_of_pages                 publisher  \\\n",
       "8301                  0  ...             57.0  Quill Pen Ink Publishing   \n",
       "14661                 1  ...            438.0                       NaN   \n",
       "15636                 2  ...            209.0          Blue Jinni Media   \n",
       "15650                 1  ...            152.0              Original Syn   \n",
       "15908                11  ...            211.0                Touchstone   \n",
       "\n",
       "                              genre_and_votes  \\\n",
       "8301                          Audiobook 1user   \n",
       "14661          Audiobook 1user, Romance 1user   \n",
       "15636  Audiobook 1user, Business-Amazon 1user   \n",
       "15650                         Audiobook 1user   \n",
       "15908                             Audiobook 2   \n",
       "\n",
       "                               characters awards series_name  \\\n",
       "8301                                  NaN    NaN         NaN   \n",
       "14661                                 NaN    NaN         NaN   \n",
       "15636                                 NaN    NaN         NaN   \n",
       "15650                                 NaN    NaN      Legacy   \n",
       "15908  Leah Cornick, Nasir Gadatra, Kenny    NaN         NaN   \n",
       "\n",
       "      book_number_in_series main_genre year_published  series_category  \n",
       "8301                    NaN  Audiobook           2018  Individual book  \n",
       "14661                   NaN  Audiobook           2019  Individual book  \n",
       "15636                   NaN  Audiobook           2015  Individual book  \n",
       "15650                     2  Audiobook           2017  Individual book  \n",
       "15908                   NaN  Audiobook           2009  Individual book  \n",
       "\n",
       "[5 rows x 21 columns]"
      ]
     },
     "execution_count": 794,
     "metadata": {},
     "output_type": "execute_result"
    }
   ],
   "source": [
    "# Check if there are audio books in the Goodreads dataset\n",
    "audiobook_mask = goodreads_df['main_genre'] == 'Audiobook'\n",
    "goodreads_df[audiobook_mask].head()"
   ]
  },
  {
   "cell_type": "markdown",
   "id": "8db6536e",
   "metadata": {},
   "source": [
    "Since we have a few audiobooks already in the data, we need to filter them out to analyze only the physical books."
   ]
  },
  {
   "cell_type": "code",
   "execution_count": 795,
   "id": "b0fb9edf",
   "metadata": {},
   "outputs": [],
   "source": [
    "# Drop the audiobooks in the dataset\n",
    "goodreads_df.drop(goodreads_df[audiobook_mask].index, inplace=True)"
   ]
  },
  {
   "cell_type": "markdown",
   "id": "b823ee51",
   "metadata": {},
   "source": [
    "## Data Analysis \n",
    "<hr style=\"width:100%;text-align:left;margin-left:0\">"
   ]
  },
  {
   "cell_type": "markdown",
   "id": "18b44dea",
   "metadata": {},
   "source": [
    "### <b>1. Among the popular genres, what are the best performing books for these genres ranked according to book score? Is there a way to improve the current Goodreads book score?"
   ]
  },
  {
   "cell_type": "markdown",
   "id": "3b3d17e2",
   "metadata": {},
   "source": [
    "**How does Amazon know when to market what books to which customer segment?**\n",
    "\n",
    "The answer is: `Relationship Digitization`\n",
    "\n",
    "Relationship digitization is one of the top strategies being deployed by several companies. The strategy focuses on how to leverage customer relationship data to understand their needs and deploy targeted products. In our case, we focus on what kind of books does the customer like and based on that what books they would like.\n",
    "\n",
    "**Importance of Analysis:**<br>\n",
    "Amazon has an edge over other businesses i.e., their social arm Goodreads. Goodreads is a huge platform that engages readers by new book releases, author interactions, hosting choice awards and letting the reader vote, rate and review their favourite books or the books they have been reading. This provides Amazon a competitive advantage since they get to know how a certain book is being perceived by the audience.\n",
    "\n",
    "Goodreads as a platform is not just for user engagement and ranking books. Amazon uses this collected data and does their own analysis i.e., generation of a BookScore. This BookScore helps them in:\n",
    "- Identifying which books to advertise more on Amazon.com\n",
    "- What kind of books that need to be published more\n",
    "- What type of books can we recommend to the user\n",
    "\n",
    "According to our <a href=\"https://www.goodreads.com/list/show/153860.Goodreads_Top_100_Highest_Rated_Books_on_Goodreads_with_at_least_10_000_Ratings#:~:text=A%20book's%20total%20score%20is,those%20voters%20ranked%20the%20book.\">Research</a>, Currently Goodreads generates the boookscore on multiple factors, mainly focused on:\n",
    "- Number of Ratings a book has recieved\n",
    "- Average Rating of a book\n",
    "\n",
    "In our analysis, we found that we can try to improve the relevancy of Goodread's Bookscore if we factor in:\n",
    "- Average Rating of the book \n",
    "- Number of Ratings a book has recieved\n",
    "- Number of Reviews a book has recieved\n",
    "- Awards a book has recieved\n",
    "- Award nominations a book has recieved.\n",
    "\n"
   ]
  },
  {
   "cell_type": "code",
   "execution_count": 796,
   "id": "035c6726",
   "metadata": {},
   "outputs": [],
   "source": [
    "%%capture --no-display\n",
    "df_bookscore = df_goodreads.copy()"
   ]
  },
  {
   "cell_type": "markdown",
   "id": "caf3a673",
   "metadata": {},
   "source": [
    "We have Awards column in the dataset which contains the awards a book received or the awards a book was nominated for. This will be an important factor to consider for calculating book score as awards can help books get visibility and recognition.\n",
    "<br><br>Thus, we have processed the award column to get the count of nominations a book had or the awards it received"
   ]
  },
  {
   "cell_type": "code",
   "execution_count": 797,
   "id": "a97f9321",
   "metadata": {},
   "outputs": [
    {
     "data": {
      "text/html": [
       "<div>\n",
       "<style scoped>\n",
       "    .dataframe tbody tr th:only-of-type {\n",
       "        vertical-align: middle;\n",
       "    }\n",
       "\n",
       "    .dataframe tbody tr th {\n",
       "        vertical-align: top;\n",
       "    }\n",
       "\n",
       "    .dataframe thead th {\n",
       "        text-align: right;\n",
       "    }\n",
       "</style>\n",
       "<table border=\"1\" class=\"dataframe\">\n",
       "  <thead>\n",
       "    <tr style=\"text-align: right;\">\n",
       "      <th></th>\n",
       "      <th>id</th>\n",
       "      <th>title</th>\n",
       "      <th>author</th>\n",
       "      <th>rating_count</th>\n",
       "      <th>review_count</th>\n",
       "      <th>average_rating</th>\n",
       "      <th>five_star_ratings</th>\n",
       "      <th>four_star_ratings</th>\n",
       "      <th>three_star_ratings</th>\n",
       "      <th>two_star_ratings</th>\n",
       "      <th>...</th>\n",
       "      <th>genre_and_votes</th>\n",
       "      <th>characters</th>\n",
       "      <th>awards</th>\n",
       "      <th>series_name</th>\n",
       "      <th>book_number_in_series</th>\n",
       "      <th>main_genre</th>\n",
       "      <th>year_published</th>\n",
       "      <th>series_category</th>\n",
       "      <th>awards_count</th>\n",
       "      <th>awards_nominee_count</th>\n",
       "    </tr>\n",
       "  </thead>\n",
       "  <tbody>\n",
       "    <tr>\n",
       "      <th>0</th>\n",
       "      <td>630104</td>\n",
       "      <td>Inner Circle</td>\n",
       "      <td>Kate Brian, Julian Peploe</td>\n",
       "      <td>7597</td>\n",
       "      <td>196</td>\n",
       "      <td>4.03</td>\n",
       "      <td>3045</td>\n",
       "      <td>2323</td>\n",
       "      <td>1748</td>\n",
       "      <td>389</td>\n",
       "      <td>...</td>\n",
       "      <td>Young Adult 161, Mystery 45, Romance 32</td>\n",
       "      <td>NaN</td>\n",
       "      <td>NaN</td>\n",
       "      <td>Private</td>\n",
       "      <td>5</td>\n",
       "      <td>Young Adult</td>\n",
       "      <td>2007</td>\n",
       "      <td>Multiple books</td>\n",
       "      <td>0</td>\n",
       "      <td>0</td>\n",
       "    </tr>\n",
       "    <tr>\n",
       "      <th>1</th>\n",
       "      <td>9487</td>\n",
       "      <td>A Time to Embrace</td>\n",
       "      <td>Karen Kingsbury</td>\n",
       "      <td>4179</td>\n",
       "      <td>177</td>\n",
       "      <td>4.35</td>\n",
       "      <td>2255</td>\n",
       "      <td>1290</td>\n",
       "      <td>518</td>\n",
       "      <td>93</td>\n",
       "      <td>...</td>\n",
       "      <td>Christian Fiction 114, Christian 45, Fiction 3...</td>\n",
       "      <td>NaN</td>\n",
       "      <td>NaN</td>\n",
       "      <td>Love</td>\n",
       "      <td>2</td>\n",
       "      <td>Christian Fiction</td>\n",
       "      <td>2006</td>\n",
       "      <td>Multiple books</td>\n",
       "      <td>0</td>\n",
       "      <td>0</td>\n",
       "    </tr>\n",
       "    <tr>\n",
       "      <th>2</th>\n",
       "      <td>6050894</td>\n",
       "      <td>Take Two</td>\n",
       "      <td>Karen Kingsbury</td>\n",
       "      <td>6288</td>\n",
       "      <td>218</td>\n",
       "      <td>4.23</td>\n",
       "      <td>3000</td>\n",
       "      <td>2020</td>\n",
       "      <td>1041</td>\n",
       "      <td>183</td>\n",
       "      <td>...</td>\n",
       "      <td>Christian Fiction 174, Christian 81, Fiction 58</td>\n",
       "      <td>NaN</td>\n",
       "      <td>NaN</td>\n",
       "      <td>Line</td>\n",
       "      <td>2</td>\n",
       "      <td>Christian Fiction</td>\n",
       "      <td>2009</td>\n",
       "      <td>Trilogy</td>\n",
       "      <td>0</td>\n",
       "      <td>0</td>\n",
       "    </tr>\n",
       "    <tr>\n",
       "      <th>3</th>\n",
       "      <td>39030</td>\n",
       "      <td>Reliquary</td>\n",
       "      <td>Douglas Preston, Lincoln Child</td>\n",
       "      <td>38382</td>\n",
       "      <td>1424</td>\n",
       "      <td>4.01</td>\n",
       "      <td>12711</td>\n",
       "      <td>15407</td>\n",
       "      <td>8511</td>\n",
       "      <td>1429</td>\n",
       "      <td>...</td>\n",
       "      <td>Thriller 626, Mystery 493, Horror 432, Fiction...</td>\n",
       "      <td>Aloysius X.L. Pendergast, Margo Green, William...</td>\n",
       "      <td>NaN</td>\n",
       "      <td>Pendergast</td>\n",
       "      <td>2</td>\n",
       "      <td>Thriller</td>\n",
       "      <td>1997</td>\n",
       "      <td>Trilogy</td>\n",
       "      <td>0</td>\n",
       "      <td>0</td>\n",
       "    </tr>\n",
       "    <tr>\n",
       "      <th>4</th>\n",
       "      <td>998</td>\n",
       "      <td>The Millionaire Next Door: The Surprising Secr...</td>\n",
       "      <td>Thomas J. Stanley, William D. Danko</td>\n",
       "      <td>72168</td>\n",
       "      <td>3217</td>\n",
       "      <td>4.04</td>\n",
       "      <td>27594</td>\n",
       "      <td>25219</td>\n",
       "      <td>14855</td>\n",
       "      <td>3414</td>\n",
       "      <td>...</td>\n",
       "      <td>Economics-Finance 1162, Nonfiction 910, Busine...</td>\n",
       "      <td>NaN</td>\n",
       "      <td>Independent Publisher Book Award (IPPY) Nomine...</td>\n",
       "      <td>NaN</td>\n",
       "      <td>NaN</td>\n",
       "      <td>Economics-Finance</td>\n",
       "      <td>1995</td>\n",
       "      <td>Individual book</td>\n",
       "      <td>0</td>\n",
       "      <td>1</td>\n",
       "    </tr>\n",
       "  </tbody>\n",
       "</table>\n",
       "<p>5 rows × 23 columns</p>\n",
       "</div>"
      ],
      "text/plain": [
       "        id                                              title  \\\n",
       "0   630104                                       Inner Circle   \n",
       "1     9487                                  A Time to Embrace   \n",
       "2  6050894                                           Take Two   \n",
       "3    39030                                          Reliquary   \n",
       "4      998  The Millionaire Next Door: The Surprising Secr...   \n",
       "\n",
       "                                author  rating_count  review_count  \\\n",
       "0            Kate Brian, Julian Peploe          7597           196   \n",
       "1                      Karen Kingsbury          4179           177   \n",
       "2                      Karen Kingsbury          6288           218   \n",
       "3       Douglas Preston, Lincoln Child         38382          1424   \n",
       "4  Thomas J. Stanley, William D. Danko         72168          3217   \n",
       "\n",
       "   average_rating  five_star_ratings  four_star_ratings  three_star_ratings  \\\n",
       "0            4.03               3045               2323                1748   \n",
       "1            4.35               2255               1290                 518   \n",
       "2            4.23               3000               2020                1041   \n",
       "3            4.01              12711              15407                8511   \n",
       "4            4.04              27594              25219               14855   \n",
       "\n",
       "   two_star_ratings  ...                                    genre_and_votes  \\\n",
       "0               389  ...            Young Adult 161, Mystery 45, Romance 32   \n",
       "1                93  ...  Christian Fiction 114, Christian 45, Fiction 3...   \n",
       "2               183  ...    Christian Fiction 174, Christian 81, Fiction 58   \n",
       "3              1429  ...  Thriller 626, Mystery 493, Horror 432, Fiction...   \n",
       "4              3414  ...  Economics-Finance 1162, Nonfiction 910, Busine...   \n",
       "\n",
       "                                          characters  \\\n",
       "0                                                NaN   \n",
       "1                                                NaN   \n",
       "2                                                NaN   \n",
       "3  Aloysius X.L. Pendergast, Margo Green, William...   \n",
       "4                                                NaN   \n",
       "\n",
       "                                              awards series_name  \\\n",
       "0                                                NaN     Private   \n",
       "1                                                NaN        Love   \n",
       "2                                                NaN        Line   \n",
       "3                                                NaN  Pendergast   \n",
       "4  Independent Publisher Book Award (IPPY) Nomine...         NaN   \n",
       "\n",
       "  book_number_in_series         main_genre year_published  series_category  \\\n",
       "0                     5        Young Adult           2007   Multiple books   \n",
       "1                     2  Christian Fiction           2006   Multiple books   \n",
       "2                     2  Christian Fiction           2009          Trilogy   \n",
       "3                     2           Thriller           1997          Trilogy   \n",
       "4                   NaN  Economics-Finance           1995  Individual book   \n",
       "\n",
       "  awards_count  awards_nominee_count  \n",
       "0            0                     0  \n",
       "1            0                     0  \n",
       "2            0                     0  \n",
       "3            0                     0  \n",
       "4            0                     1  \n",
       "\n",
       "[5 rows x 23 columns]"
      ]
     },
     "execution_count": 797,
     "metadata": {},
     "output_type": "execute_result"
    }
   ],
   "source": [
    "#Replacing the accented characters with space\n",
    "df_bookscore['awards'] = df_bookscore['awards'].str.replace(r'[^0-9a-zA-Z \\,]+','', regex=True).str.split(',')\n",
    "\n",
    "#Replacing the Nan values with empty list to make all the values for the column as list which can be \n",
    "#used for calculating Award count and Awards Nominee Count \n",
    "for row in df_bookscore.loc[df_bookscore.awards.isnull(), 'awards'].index:\n",
    "    df_bookscore.at[row, 'awards'] = []\n",
    "\n",
    "#Getting the counts of Awards and Nominee in individual lists\n",
    "award_nominee_count = []\n",
    "award_count = []\n",
    "for item in df_bookscore['awards']:\n",
    "    count_nominee=0\n",
    "    count_award=0\n",
    "    for x in range(len(item)):\n",
    "        if (('Award' in item[x]) & ('Nominee' in item[x])) | ('Nominee' in item[x]):\n",
    "            count_nominee = count_nominee + 1\n",
    "        elif (('Award' in item[x]) & ('Nominee' not in item[x])):\n",
    "            count_award = count_award + 1\n",
    "    award_nominee_count.append(count_nominee)\n",
    "    award_count.append(count_award)\n",
    "\n",
    "#Adding the counts to Dataframe\n",
    "df_bookscore['awards_count'] = award_count\n",
    "df_bookscore['awards_nominee_count'] = award_nominee_count\n",
    "\n",
    "#Replacing the column with Original column\n",
    "df_bookscore['awards'] = df_goodreads['awards']\n",
    "\n",
    "df_bookscore.head()"
   ]
  },
  {
   "cell_type": "code",
   "execution_count": 798,
   "id": "a50da645",
   "metadata": {},
   "outputs": [
    {
     "data": {
      "text/plain": [
       "1454"
      ]
     },
     "execution_count": 798,
     "metadata": {},
     "output_type": "execute_result"
    }
   ],
   "source": [
    "df_bookscore['number_of_pages'].isna().sum()"
   ]
  },
  {
   "cell_type": "markdown",
   "id": "6bb7caed",
   "metadata": {},
   "source": [
    "There are many books with missing number of pages. We cannot directly remove them from the dataset as those books can be a part of series or can be books with good characteristics. So we can get the average number of pages for each genres and impute the Pages count of the books with missing values. This will be a more efficient approach to generate a valid book score."
   ]
  },
  {
   "cell_type": "code",
   "execution_count": 799,
   "id": "aceb1619",
   "metadata": {},
   "outputs": [
    {
     "data": {
      "text/html": [
       "<div>\n",
       "<style scoped>\n",
       "    .dataframe tbody tr th:only-of-type {\n",
       "        vertical-align: middle;\n",
       "    }\n",
       "\n",
       "    .dataframe tbody tr th {\n",
       "        vertical-align: top;\n",
       "    }\n",
       "\n",
       "    .dataframe thead th {\n",
       "        text-align: right;\n",
       "    }\n",
       "</style>\n",
       "<table border=\"1\" class=\"dataframe\">\n",
       "  <thead>\n",
       "    <tr style=\"text-align: right;\">\n",
       "      <th></th>\n",
       "      <th>main_genre</th>\n",
       "      <th>number_of_pages</th>\n",
       "    </tr>\n",
       "  </thead>\n",
       "  <tbody>\n",
       "    <tr>\n",
       "      <th>0</th>\n",
       "      <td>Biology-Neuroscience</td>\n",
       "      <td>1414.0</td>\n",
       "    </tr>\n",
       "    <tr>\n",
       "      <th>1</th>\n",
       "      <td>Textbooks</td>\n",
       "      <td>877.0</td>\n",
       "    </tr>\n",
       "    <tr>\n",
       "      <th>2</th>\n",
       "      <td>Retellings</td>\n",
       "      <td>800.0</td>\n",
       "    </tr>\n",
       "    <tr>\n",
       "      <th>3</th>\n",
       "      <td>Cultural-Spain</td>\n",
       "      <td>769.0</td>\n",
       "    </tr>\n",
       "    <tr>\n",
       "      <th>4</th>\n",
       "      <td>Female Authors</td>\n",
       "      <td>751.0</td>\n",
       "    </tr>\n",
       "  </tbody>\n",
       "</table>\n",
       "</div>"
      ],
      "text/plain": [
       "             main_genre  number_of_pages\n",
       "0  Biology-Neuroscience           1414.0\n",
       "1             Textbooks            877.0\n",
       "2            Retellings            800.0\n",
       "3        Cultural-Spain            769.0\n",
       "4        Female Authors            751.0"
      ]
     },
     "execution_count": 799,
     "metadata": {},
     "output_type": "execute_result"
    }
   ],
   "source": [
    "#Getting the mean number of pages for each genre and dropping the Nan values from the data frame\n",
    "df_average_number_of_pages = df_bookscore.groupby(by='main_genre')['number_of_pages'].mean().sort_values(ascending=False).to_frame()\n",
    "df_average_number_of_pages['number_of_pages'] = df_average_number_of_pages['number_of_pages'].apply(np.ceil)\n",
    "df_average_number_of_pages.reset_index(inplace=True)\n",
    "df_average_number_of_pages.head()"
   ]
  },
  {
   "cell_type": "markdown",
   "id": "538922f4",
   "metadata": {},
   "source": [
    "Getting the ids of the books not having page counts so that it can be used to map and replace in the original dataframe"
   ]
  },
  {
   "cell_type": "code",
   "execution_count": 800,
   "id": "f2a3398a",
   "metadata": {},
   "outputs": [
    {
     "data": {
      "text/html": [
       "<div>\n",
       "<style scoped>\n",
       "    .dataframe tbody tr th:only-of-type {\n",
       "        vertical-align: middle;\n",
       "    }\n",
       "\n",
       "    .dataframe tbody tr th {\n",
       "        vertical-align: top;\n",
       "    }\n",
       "\n",
       "    .dataframe thead th {\n",
       "        text-align: right;\n",
       "    }\n",
       "</style>\n",
       "<table border=\"1\" class=\"dataframe\">\n",
       "  <thead>\n",
       "    <tr style=\"text-align: right;\">\n",
       "      <th></th>\n",
       "      <th>id</th>\n",
       "      <th>main_genre</th>\n",
       "      <th>number_of_pages</th>\n",
       "    </tr>\n",
       "  </thead>\n",
       "  <tbody>\n",
       "    <tr>\n",
       "      <th>122</th>\n",
       "      <td>943903</td>\n",
       "      <td>Fiction</td>\n",
       "      <td>NaN</td>\n",
       "    </tr>\n",
       "    <tr>\n",
       "      <th>299</th>\n",
       "      <td>3630983</td>\n",
       "      <td>Fantasy-Paranormal</td>\n",
       "      <td>NaN</td>\n",
       "    </tr>\n",
       "    <tr>\n",
       "      <th>318</th>\n",
       "      <td>339210</td>\n",
       "      <td>Fiction</td>\n",
       "      <td>NaN</td>\n",
       "    </tr>\n",
       "    <tr>\n",
       "      <th>414</th>\n",
       "      <td>17157183</td>\n",
       "      <td>Horror</td>\n",
       "      <td>NaN</td>\n",
       "    </tr>\n",
       "    <tr>\n",
       "      <th>445</th>\n",
       "      <td>18193486</td>\n",
       "      <td>Mystery</td>\n",
       "      <td>NaN</td>\n",
       "    </tr>\n",
       "  </tbody>\n",
       "</table>\n",
       "</div>"
      ],
      "text/plain": [
       "           id          main_genre  number_of_pages\n",
       "122    943903             Fiction              NaN\n",
       "299   3630983  Fantasy-Paranormal              NaN\n",
       "318    339210             Fiction              NaN\n",
       "414  17157183              Horror              NaN\n",
       "445  18193486             Mystery              NaN"
      ]
     },
     "execution_count": 800,
     "metadata": {},
     "output_type": "execute_result"
    }
   ],
   "source": [
    "#Getting the rows which has missing/Nan value as number of pages\n",
    "df_missing = df_bookscore[df_bookscore['number_of_pages'].isna()]\n",
    "\n",
    "#Getting the required columns\n",
    "df_missing = df_missing.loc[:,['id','main_genre','number_of_pages']]\n",
    "df_missing.head()"
   ]
  },
  {
   "cell_type": "code",
   "execution_count": 801,
   "id": "ff17072c",
   "metadata": {},
   "outputs": [],
   "source": [
    "#Merging the Dataframe on main_genre so that we can get the value that is supposed to be mapped in the original dataframe \n",
    "df = pd.merge(df_missing, df_average_number_of_pages, on='main_genre' )\n",
    "df.rename(columns={'number_of_pages_y': 'number_of_pages'}, inplace=True) \n",
    "df.drop(['number_of_pages_x', 'main_genre'], axis=1, inplace=True)\n",
    "\n",
    "#Saving the frame as dictionary to get id and average number or pages as key value pairs \n",
    "id_num_dict = dict(df.values)"
   ]
  },
  {
   "cell_type": "code",
   "execution_count": 802,
   "id": "3bbbf4a3",
   "metadata": {},
   "outputs": [],
   "source": [
    "#Function to map the values from the dictionary to the original dataframe\n",
    "def replace_page(df, id_page_map):\n",
    "    df_replaced = df.copy(deep=True)\n",
    "    for item_id in id_page_map:\n",
    "        df_replaced.at[df_replaced.loc[df_replaced['id'] == item_id,'number_of_pages'].index[0], 'number_of_pages'] = id_page_map[item_id]\n",
    "        \n",
    "    return df_replaced\n",
    "\n",
    "#applying the Replace Page function to the original dataframe\n",
    "df_bookscore = replace_page(df_bookscore, id_num_dict)"
   ]
  },
  {
   "cell_type": "code",
   "execution_count": 803,
   "id": "92ef0b07",
   "metadata": {},
   "outputs": [
    {
     "data": {
      "text/plain": [
       "65"
      ]
     },
     "execution_count": 803,
     "metadata": {},
     "output_type": "execute_result"
    }
   ],
   "source": [
    "df_bookscore['number_of_pages'].isna().sum()"
   ]
  },
  {
   "cell_type": "markdown",
   "id": "192dff5f",
   "metadata": {},
   "source": [
    "As we can see from above, almost all of the books now has the average values as number of pages. Only some books still have missing values because those genres did not have an average number of pages and such books won't help us in getting any insights.Also, there are some books with 0 number of pages which is incorrect data. Thus dropping all such books."
   ]
  },
  {
   "cell_type": "code",
   "execution_count": 804,
   "id": "4bcaa39b",
   "metadata": {},
   "outputs": [],
   "source": [
    "#Droping the rows with missing Number of pages value\n",
    "df_bookscore.drop(df_bookscore[df_bookscore['number_of_pages'].isna()].index, inplace=True)"
   ]
  },
  {
   "cell_type": "code",
   "execution_count": 805,
   "id": "e1c8c2dc",
   "metadata": {},
   "outputs": [],
   "source": [
    "#Droping the books which has number of pages as 0 as that is incorrect data.\n",
    "df_bookscore.drop(df_bookscore[df_bookscore['number_of_pages'] == 0].index, inplace=True)"
   ]
  },
  {
   "cell_type": "markdown",
   "id": "53bd32b3",
   "metadata": {},
   "source": [
    "By refering to a <a href=\"https://becomeawritertoday.com/average-length-of-a-book/\">Article</a> which has insights about the lengths of different types of books, it can be stated that the number of pages of books varies according to genres. The dataset has many books having very less number of pages or high number of pages which is correct and relevant."
   ]
  },
  {
   "cell_type": "markdown",
   "id": "d0d3000e",
   "metadata": {},
   "source": [
    "Now lets rank the books using all the significant factors.<br>\n",
    "We have created a new metric Rate Weight which uses average ratings of a book and review counts of that book. This metric will roughly tell us the user interaction that book has created<br>\n",
    "Also, we will be using the number of pages as a factor for scoring the books as in most cases the length of the book is one of the deciding factor for selecting a book. No one wants to read a really long book right!"
   ]
  },
  {
   "cell_type": "code",
   "execution_count": 806,
   "id": "fbf3f72b",
   "metadata": {},
   "outputs": [],
   "source": [
    "#Calculating rate weight metric and rate per pages metric\n",
    "df_bookscore['rate_weight'] = df_bookscore['average_rating'] * df_bookscore['review_count']\n",
    "df_bookscore['rate_per_pages'] = df_bookscore['average_rating'] * df_bookscore['number_of_pages']"
   ]
  },
  {
   "cell_type": "code",
   "execution_count": 807,
   "id": "fd761a33",
   "metadata": {},
   "outputs": [],
   "source": [
    "#Calculating book score using all the above metrics\n",
    "df_bookscore['book_score'] = df_bookscore['rate_weight'] / df_bookscore['rate_per_pages'] + df_bookscore['awards_count']*2 + df_bookscore['awards_nominee_count']"
   ]
  },
  {
   "cell_type": "code",
   "execution_count": 808,
   "id": "bf884850",
   "metadata": {},
   "outputs": [],
   "source": [
    "df_bookscore.reset_index(drop=True,inplace=True)"
   ]
  },
  {
   "cell_type": "markdown",
   "id": "11fa14dd",
   "metadata": {},
   "source": [
    "After assigning book scores to each book, now lets check the ranking of the books."
   ]
  },
  {
   "cell_type": "markdown",
   "id": "807dda4f",
   "metadata": {},
   "source": [
    "The below order is the current ranking based on the book's rating count and average rating. Here we can see that many books are at top just because the book has average rated of 5.0. But there should other factors too, ratings should not be the main deciding factor for a book to be top ranked. It is possible that the a book has high ratings because only few people rated and and because of them rating high, the overall rating becomes high.  "
   ]
  },
  {
   "cell_type": "code",
   "execution_count": 809,
   "id": "7d6bc80d",
   "metadata": {},
   "outputs": [
    {
     "data": {
      "text/html": [
       "<div>\n",
       "<style scoped>\n",
       "    .dataframe tbody tr th:only-of-type {\n",
       "        vertical-align: middle;\n",
       "    }\n",
       "\n",
       "    .dataframe tbody tr th {\n",
       "        vertical-align: top;\n",
       "    }\n",
       "\n",
       "    .dataframe thead th {\n",
       "        text-align: right;\n",
       "    }\n",
       "</style>\n",
       "<table border=\"1\" class=\"dataframe\">\n",
       "  <thead>\n",
       "    <tr style=\"text-align: right;\">\n",
       "      <th></th>\n",
       "      <th>title</th>\n",
       "      <th>average_rating</th>\n",
       "      <th>rating_count</th>\n",
       "      <th>review_count</th>\n",
       "      <th>awards_count</th>\n",
       "      <th>awards_nominee_count</th>\n",
       "      <th>main_genre</th>\n",
       "    </tr>\n",
       "  </thead>\n",
       "  <tbody>\n",
       "    <tr>\n",
       "      <th>6910</th>\n",
       "      <td>Bits and Pieces: Tales and Sonnets</td>\n",
       "      <td>5.0</td>\n",
       "      <td>37</td>\n",
       "      <td>9</td>\n",
       "      <td>0</td>\n",
       "      <td>0</td>\n",
       "      <td>Short Stories</td>\n",
       "    </tr>\n",
       "    <tr>\n",
       "      <th>10070</th>\n",
       "      <td>The Right Person</td>\n",
       "      <td>5.0</td>\n",
       "      <td>23</td>\n",
       "      <td>17</td>\n",
       "      <td>0</td>\n",
       "      <td>0</td>\n",
       "      <td>Young Adult</td>\n",
       "    </tr>\n",
       "    <tr>\n",
       "      <th>8511</th>\n",
       "      <td>The Strange Courtship of Abigail Bird</td>\n",
       "      <td>5.0</td>\n",
       "      <td>19</td>\n",
       "      <td>8</td>\n",
       "      <td>0</td>\n",
       "      <td>0</td>\n",
       "      <td>Romance</td>\n",
       "    </tr>\n",
       "    <tr>\n",
       "      <th>13122</th>\n",
       "      <td>Montgomery Lake High #4: The Battle for Innocence</td>\n",
       "      <td>5.0</td>\n",
       "      <td>16</td>\n",
       "      <td>12</td>\n",
       "      <td>0</td>\n",
       "      <td>0</td>\n",
       "      <td>NaN</td>\n",
       "    </tr>\n",
       "    <tr>\n",
       "      <th>963</th>\n",
       "      <td>Venus Aqueous: Book 1</td>\n",
       "      <td>5.0</td>\n",
       "      <td>15</td>\n",
       "      <td>8</td>\n",
       "      <td>0</td>\n",
       "      <td>0</td>\n",
       "      <td>Sports-Sports</td>\n",
       "    </tr>\n",
       "    <tr>\n",
       "      <th>14468</th>\n",
       "      <td>Montgomery Lake High #3: The Aftermath</td>\n",
       "      <td>5.0</td>\n",
       "      <td>15</td>\n",
       "      <td>12</td>\n",
       "      <td>0</td>\n",
       "      <td>0</td>\n",
       "      <td>NaN</td>\n",
       "    </tr>\n",
       "    <tr>\n",
       "      <th>43785</th>\n",
       "      <td>Of Just the Two of Us</td>\n",
       "      <td>5.0</td>\n",
       "      <td>15</td>\n",
       "      <td>0</td>\n",
       "      <td>0</td>\n",
       "      <td>0</td>\n",
       "      <td>NaN</td>\n",
       "    </tr>\n",
       "    <tr>\n",
       "      <th>1101</th>\n",
       "      <td>Megan &amp; Flos: Book 1</td>\n",
       "      <td>5.0</td>\n",
       "      <td>14</td>\n",
       "      <td>8</td>\n",
       "      <td>0</td>\n",
       "      <td>0</td>\n",
       "      <td>Childrens</td>\n",
       "    </tr>\n",
       "    <tr>\n",
       "      <th>8267</th>\n",
       "      <td>Reviews by Cat Ellington (The Complete Antholo...</td>\n",
       "      <td>5.0</td>\n",
       "      <td>12</td>\n",
       "      <td>6</td>\n",
       "      <td>0</td>\n",
       "      <td>0</td>\n",
       "      <td>Audiobook</td>\n",
       "    </tr>\n",
       "    <tr>\n",
       "      <th>8545</th>\n",
       "      <td>The Forbidden Female Speaks</td>\n",
       "      <td>5.0</td>\n",
       "      <td>11</td>\n",
       "      <td>1</td>\n",
       "      <td>0</td>\n",
       "      <td>0</td>\n",
       "      <td>Spirituality</td>\n",
       "    </tr>\n",
       "    <tr>\n",
       "      <th>17330</th>\n",
       "      <td>Why Are You a Vegan? and Other Wacky Verse for...</td>\n",
       "      <td>5.0</td>\n",
       "      <td>11</td>\n",
       "      <td>4</td>\n",
       "      <td>0</td>\n",
       "      <td>0</td>\n",
       "      <td>Poetry</td>\n",
       "    </tr>\n",
       "    <tr>\n",
       "      <th>5067</th>\n",
       "      <td>Of Things Left Unsaid</td>\n",
       "      <td>5.0</td>\n",
       "      <td>10</td>\n",
       "      <td>1</td>\n",
       "      <td>0</td>\n",
       "      <td>0</td>\n",
       "      <td>Womens Fiction-Chick Lit</td>\n",
       "    </tr>\n",
       "    <tr>\n",
       "      <th>6225</th>\n",
       "      <td>What Happened to Suzy</td>\n",
       "      <td>5.0</td>\n",
       "      <td>9</td>\n",
       "      <td>7</td>\n",
       "      <td>0</td>\n",
       "      <td>0</td>\n",
       "      <td>Christian</td>\n",
       "    </tr>\n",
       "    <tr>\n",
       "      <th>8087</th>\n",
       "      <td>16 Myths</td>\n",
       "      <td>5.0</td>\n",
       "      <td>9</td>\n",
       "      <td>4</td>\n",
       "      <td>0</td>\n",
       "      <td>0</td>\n",
       "      <td>Fantasy</td>\n",
       "    </tr>\n",
       "    <tr>\n",
       "      <th>6864</th>\n",
       "      <td>The Zombie Cause Dictionary</td>\n",
       "      <td>5.0</td>\n",
       "      <td>8</td>\n",
       "      <td>7</td>\n",
       "      <td>0</td>\n",
       "      <td>0</td>\n",
       "      <td>Science Fiction</td>\n",
       "    </tr>\n",
       "    <tr>\n",
       "      <th>7896</th>\n",
       "      <td>Multilingual Digital Marketing: Become the Mar...</td>\n",
       "      <td>5.0</td>\n",
       "      <td>8</td>\n",
       "      <td>1</td>\n",
       "      <td>0</td>\n",
       "      <td>0</td>\n",
       "      <td>Business</td>\n",
       "    </tr>\n",
       "    <tr>\n",
       "      <th>8304</th>\n",
       "      <td>The Apple Of Distraction</td>\n",
       "      <td>5.0</td>\n",
       "      <td>8</td>\n",
       "      <td>4</td>\n",
       "      <td>0</td>\n",
       "      <td>0</td>\n",
       "      <td>Adventure</td>\n",
       "    </tr>\n",
       "    <tr>\n",
       "      <th>8523</th>\n",
       "      <td>PMO Governance: Practical Strategies to Govern...</td>\n",
       "      <td>5.0</td>\n",
       "      <td>8</td>\n",
       "      <td>7</td>\n",
       "      <td>4</td>\n",
       "      <td>1</td>\n",
       "      <td>Culture-Society</td>\n",
       "    </tr>\n",
       "    <tr>\n",
       "      <th>13369</th>\n",
       "      <td>Logos Rising: A History of Ultimate Reality</td>\n",
       "      <td>5.0</td>\n",
       "      <td>8</td>\n",
       "      <td>3</td>\n",
       "      <td>0</td>\n",
       "      <td>0</td>\n",
       "      <td>Philosophy</td>\n",
       "    </tr>\n",
       "    <tr>\n",
       "      <th>23277</th>\n",
       "      <td>Eating the Forbidden Fruit</td>\n",
       "      <td>5.0</td>\n",
       "      <td>8</td>\n",
       "      <td>4</td>\n",
       "      <td>0</td>\n",
       "      <td>0</td>\n",
       "      <td>Thriller</td>\n",
       "    </tr>\n",
       "  </tbody>\n",
       "</table>\n",
       "</div>"
      ],
      "text/plain": [
       "                                                   title  average_rating  \\\n",
       "6910                  Bits and Pieces: Tales and Sonnets             5.0   \n",
       "10070                                   The Right Person             5.0   \n",
       "8511               The Strange Courtship of Abigail Bird             5.0   \n",
       "13122  Montgomery Lake High #4: The Battle for Innocence             5.0   \n",
       "963                                Venus Aqueous: Book 1             5.0   \n",
       "14468             Montgomery Lake High #3: The Aftermath             5.0   \n",
       "43785                              Of Just the Two of Us             5.0   \n",
       "1101                                Megan & Flos: Book 1             5.0   \n",
       "8267   Reviews by Cat Ellington (The Complete Antholo...             5.0   \n",
       "8545                         The Forbidden Female Speaks             5.0   \n",
       "17330  Why Are You a Vegan? and Other Wacky Verse for...             5.0   \n",
       "5067                               Of Things Left Unsaid             5.0   \n",
       "6225                               What Happened to Suzy             5.0   \n",
       "8087                                            16 Myths             5.0   \n",
       "6864                         The Zombie Cause Dictionary             5.0   \n",
       "7896   Multilingual Digital Marketing: Become the Mar...             5.0   \n",
       "8304                            The Apple Of Distraction             5.0   \n",
       "8523   PMO Governance: Practical Strategies to Govern...             5.0   \n",
       "13369        Logos Rising: A History of Ultimate Reality             5.0   \n",
       "23277                         Eating the Forbidden Fruit             5.0   \n",
       "\n",
       "       rating_count  review_count  awards_count  awards_nominee_count  \\\n",
       "6910             37             9             0                     0   \n",
       "10070            23            17             0                     0   \n",
       "8511             19             8             0                     0   \n",
       "13122            16            12             0                     0   \n",
       "963              15             8             0                     0   \n",
       "14468            15            12             0                     0   \n",
       "43785            15             0             0                     0   \n",
       "1101             14             8             0                     0   \n",
       "8267             12             6             0                     0   \n",
       "8545             11             1             0                     0   \n",
       "17330            11             4             0                     0   \n",
       "5067             10             1             0                     0   \n",
       "6225              9             7             0                     0   \n",
       "8087              9             4             0                     0   \n",
       "6864              8             7             0                     0   \n",
       "7896              8             1             0                     0   \n",
       "8304              8             4             0                     0   \n",
       "8523              8             7             4                     1   \n",
       "13369             8             3             0                     0   \n",
       "23277             8             4             0                     0   \n",
       "\n",
       "                     main_genre  \n",
       "6910              Short Stories  \n",
       "10070               Young Adult  \n",
       "8511                    Romance  \n",
       "13122                       NaN  \n",
       "963               Sports-Sports  \n",
       "14468                       NaN  \n",
       "43785                       NaN  \n",
       "1101                  Childrens  \n",
       "8267                  Audiobook  \n",
       "8545               Spirituality  \n",
       "17330                    Poetry  \n",
       "5067   Womens Fiction-Chick Lit  \n",
       "6225                  Christian  \n",
       "8087                    Fantasy  \n",
       "6864            Science Fiction  \n",
       "7896                   Business  \n",
       "8304                  Adventure  \n",
       "8523            Culture-Society  \n",
       "13369                Philosophy  \n",
       "23277                  Thriller  "
      ]
     },
     "execution_count": 809,
     "metadata": {},
     "output_type": "execute_result"
    }
   ],
   "source": [
    "#Ranking the books according to average rating and rating count\n",
    "df_bookscore.sort_values(['average_rating', 'rating_count'],ascending = [False, False])[['title','average_rating','rating_count','review_count','awards_count','awards_nominee_count','main_genre']].head(20)"
   ]
  },
  {
   "cell_type": "markdown",
   "id": "66eac5ec",
   "metadata": {},
   "source": [
    "We have thus created book score which is a more efficient way to rank the books because it will also consider inportant factors like number of awards the books has received, number of times the books has been nominated for any awards,number of reviews the books has received, number of pages the books has along with the average rating of the books. <br>\n",
    "After ranking books according to the book score we can see an overall more efficient Ranking."
   ]
  },
  {
   "cell_type": "code",
   "execution_count": 810,
   "id": "df84e92c",
   "metadata": {},
   "outputs": [
    {
     "data": {
      "text/html": [
       "<div>\n",
       "<style scoped>\n",
       "    .dataframe tbody tr th:only-of-type {\n",
       "        vertical-align: middle;\n",
       "    }\n",
       "\n",
       "    .dataframe tbody tr th {\n",
       "        vertical-align: top;\n",
       "    }\n",
       "\n",
       "    .dataframe thead th {\n",
       "        text-align: right;\n",
       "    }\n",
       "</style>\n",
       "<table border=\"1\" class=\"dataframe\">\n",
       "  <thead>\n",
       "    <tr style=\"text-align: right;\">\n",
       "      <th></th>\n",
       "      <th>title</th>\n",
       "      <th>average_rating</th>\n",
       "      <th>rating_count</th>\n",
       "      <th>review_count</th>\n",
       "      <th>awards_count</th>\n",
       "      <th>awards_nominee_count</th>\n",
       "      <th>main_genre</th>\n",
       "    </tr>\n",
       "  </thead>\n",
       "  <tbody>\n",
       "    <tr>\n",
       "      <th>13321</th>\n",
       "      <td>Make Your Bed: Little Things That Can Change Y...</td>\n",
       "      <td>3.98</td>\n",
       "      <td>56251</td>\n",
       "      <td>4125</td>\n",
       "      <td>0</td>\n",
       "      <td>0</td>\n",
       "      <td>Nonfiction</td>\n",
       "    </tr>\n",
       "    <tr>\n",
       "      <th>16200</th>\n",
       "      <td>The Better Angels of Our Nature: Why Violence ...</td>\n",
       "      <td>4.17</td>\n",
       "      <td>22357</td>\n",
       "      <td>2012</td>\n",
       "      <td>0</td>\n",
       "      <td>5</td>\n",
       "      <td>Nonfiction</td>\n",
       "    </tr>\n",
       "    <tr>\n",
       "      <th>16405</th>\n",
       "      <td>As You Wish: Inconceivable Tales from the Maki...</td>\n",
       "      <td>4.13</td>\n",
       "      <td>49581</td>\n",
       "      <td>8522</td>\n",
       "      <td>0</td>\n",
       "      <td>1</td>\n",
       "      <td>Nonfiction</td>\n",
       "    </tr>\n",
       "    <tr>\n",
       "      <th>5697</th>\n",
       "      <td>In the Tall Grass</td>\n",
       "      <td>3.67</td>\n",
       "      <td>18406</td>\n",
       "      <td>1965</td>\n",
       "      <td>1</td>\n",
       "      <td>0</td>\n",
       "      <td>Horror</td>\n",
       "    </tr>\n",
       "    <tr>\n",
       "      <th>1170</th>\n",
       "      <td>Theodore Boone: Kid Lawyer</td>\n",
       "      <td>3.76</td>\n",
       "      <td>31206</td>\n",
       "      <td>3540</td>\n",
       "      <td>1</td>\n",
       "      <td>1</td>\n",
       "      <td>Mystery</td>\n",
       "    </tr>\n",
       "  </tbody>\n",
       "</table>\n",
       "</div>"
      ],
      "text/plain": [
       "                                                   title  average_rating  \\\n",
       "13321  Make Your Bed: Little Things That Can Change Y...            3.98   \n",
       "16200  The Better Angels of Our Nature: Why Violence ...            4.17   \n",
       "16405  As You Wish: Inconceivable Tales from the Maki...            4.13   \n",
       "5697                                   In the Tall Grass            3.67   \n",
       "1170                          Theodore Boone: Kid Lawyer            3.76   \n",
       "\n",
       "       rating_count  review_count  awards_count  awards_nominee_count  \\\n",
       "13321         56251          4125             0                     0   \n",
       "16200         22357          2012             0                     5   \n",
       "16405         49581          8522             0                     1   \n",
       "5697          18406          1965             1                     0   \n",
       "1170          31206          3540             1                     1   \n",
       "\n",
       "       main_genre  \n",
       "13321  Nonfiction  \n",
       "16200  Nonfiction  \n",
       "16405  Nonfiction  \n",
       "5697       Horror  \n",
       "1170      Mystery  "
      ]
     },
     "execution_count": 810,
     "metadata": {},
     "output_type": "execute_result"
    }
   ],
   "source": [
    "#Ranking the books according to book score\n",
    "df_bookscore.sort_values(['book_score'],ascending =False)[['title','average_rating','rating_count','review_count','awards_count','awards_nominee_count','main_genre']].head()"
   ]
  },
  {
   "cell_type": "markdown",
   "id": "4ade15e7",
   "metadata": {},
   "source": [
    "#### Listing the Top 20 Books based on new book score"
   ]
  },
  {
   "cell_type": "code",
   "execution_count": 811,
   "id": "967086a0",
   "metadata": {},
   "outputs": [
    {
     "data": {
      "text/html": [
       "<div>\n",
       "<style scoped>\n",
       "    .dataframe tbody tr th:only-of-type {\n",
       "        vertical-align: middle;\n",
       "    }\n",
       "\n",
       "    .dataframe tbody tr th {\n",
       "        vertical-align: top;\n",
       "    }\n",
       "\n",
       "    .dataframe thead th {\n",
       "        text-align: right;\n",
       "    }\n",
       "</style>\n",
       "<table border=\"1\" class=\"dataframe\">\n",
       "  <thead>\n",
       "    <tr style=\"text-align: right;\">\n",
       "      <th></th>\n",
       "      <th>Book Title</th>\n",
       "      <th>Book Author</th>\n",
       "      <th>Genre</th>\n",
       "      <th>Year Published</th>\n",
       "    </tr>\n",
       "  </thead>\n",
       "  <tbody>\n",
       "    <tr>\n",
       "      <th>0</th>\n",
       "      <td>Make Your Bed: Little Things That Can Change Y...</td>\n",
       "      <td>William H. McRaven</td>\n",
       "      <td>Nonfiction</td>\n",
       "      <td>2017</td>\n",
       "    </tr>\n",
       "    <tr>\n",
       "      <th>1</th>\n",
       "      <td>The Better Angels of Our Nature: Why Violence ...</td>\n",
       "      <td>Steven Pinker, Arthur Morey</td>\n",
       "      <td>Nonfiction</td>\n",
       "      <td>2010</td>\n",
       "    </tr>\n",
       "    <tr>\n",
       "      <th>2</th>\n",
       "      <td>As You Wish: Inconceivable Tales from the Maki...</td>\n",
       "      <td>Cary Elwes, Christopher Guest, Carol Kane, Nor...</td>\n",
       "      <td>Nonfiction</td>\n",
       "      <td>2014</td>\n",
       "    </tr>\n",
       "    <tr>\n",
       "      <th>3</th>\n",
       "      <td>In the Tall Grass</td>\n",
       "      <td>Stephen King, Joe Hill, Stephen Lang</td>\n",
       "      <td>Horror</td>\n",
       "      <td>2012</td>\n",
       "    </tr>\n",
       "    <tr>\n",
       "      <th>4</th>\n",
       "      <td>Theodore Boone: Kid Lawyer</td>\n",
       "      <td>John Grisham, Richard Thomas</td>\n",
       "      <td>Mystery</td>\n",
       "      <td>2010</td>\n",
       "    </tr>\n",
       "    <tr>\n",
       "      <th>5</th>\n",
       "      <td>One More Thing: Stories and Other Stories</td>\n",
       "      <td>B.J. Novak</td>\n",
       "      <td>Short Stories</td>\n",
       "      <td>2014</td>\n",
       "    </tr>\n",
       "    <tr>\n",
       "      <th>6</th>\n",
       "      <td>Congratulations, by the way: Some Thoughts on ...</td>\n",
       "      <td>George Saunders</td>\n",
       "      <td>Nonfiction</td>\n",
       "      <td>2013</td>\n",
       "    </tr>\n",
       "    <tr>\n",
       "      <th>7</th>\n",
       "      <td>I Am Watching You</td>\n",
       "      <td>Teresa Driscoll, Elizabeth Knowelden</td>\n",
       "      <td>Mystery</td>\n",
       "      <td>2017</td>\n",
       "    </tr>\n",
       "    <tr>\n",
       "      <th>8</th>\n",
       "      <td>The Egg</td>\n",
       "      <td>Andy Weir</td>\n",
       "      <td>Short Stories</td>\n",
       "      <td>2009</td>\n",
       "    </tr>\n",
       "    <tr>\n",
       "      <th>9</th>\n",
       "      <td>The Spellman Files</td>\n",
       "      <td>Lisa Lutz</td>\n",
       "      <td>Mystery</td>\n",
       "      <td>2007</td>\n",
       "    </tr>\n",
       "    <tr>\n",
       "      <th>10</th>\n",
       "      <td>Over the Top: A Raw Journey to Self-Love</td>\n",
       "      <td>Jonathan Van Ness</td>\n",
       "      <td>Nonfiction</td>\n",
       "      <td>2019</td>\n",
       "    </tr>\n",
       "    <tr>\n",
       "      <th>11</th>\n",
       "      <td>Maybe in Another Life</td>\n",
       "      <td>Taylor Jenkins Reid, Julia Whelan</td>\n",
       "      <td>Romance</td>\n",
       "      <td>2015</td>\n",
       "    </tr>\n",
       "    <tr>\n",
       "      <th>12</th>\n",
       "      <td>The Fault in Our Stars</td>\n",
       "      <td>John Green</td>\n",
       "      <td>Young Adult</td>\n",
       "      <td>2012</td>\n",
       "    </tr>\n",
       "    <tr>\n",
       "      <th>13</th>\n",
       "      <td>The Fault in Our Stars</td>\n",
       "      <td>John Green</td>\n",
       "      <td>Young Adult</td>\n",
       "      <td>2012</td>\n",
       "    </tr>\n",
       "    <tr>\n",
       "      <th>14</th>\n",
       "      <td>The Hunger Games</td>\n",
       "      <td>Suzanne Collins</td>\n",
       "      <td>Young Adult</td>\n",
       "      <td>2008</td>\n",
       "    </tr>\n",
       "    <tr>\n",
       "      <th>15</th>\n",
       "      <td>The Postmistress</td>\n",
       "      <td>Sarah Blake, Orlagh Cassidy</td>\n",
       "      <td>Historical-Historical Fiction</td>\n",
       "      <td>2009</td>\n",
       "    </tr>\n",
       "    <tr>\n",
       "      <th>16</th>\n",
       "      <td>The Book of Unknown Americans</td>\n",
       "      <td>Cristina Henriquez</td>\n",
       "      <td>Fiction</td>\n",
       "      <td>2014</td>\n",
       "    </tr>\n",
       "    <tr>\n",
       "      <th>17</th>\n",
       "      <td>The Soul of an Octopus: A Surprising Explorati...</td>\n",
       "      <td>Sy Montgomery</td>\n",
       "      <td>Nonfiction</td>\n",
       "      <td>2015</td>\n",
       "    </tr>\n",
       "    <tr>\n",
       "      <th>18</th>\n",
       "      <td>The Alchemist</td>\n",
       "      <td>Paulo Coelho, Alan R. Clarke, James Noel Smith</td>\n",
       "      <td>Fiction</td>\n",
       "      <td>1988</td>\n",
       "    </tr>\n",
       "    <tr>\n",
       "      <th>19</th>\n",
       "      <td>Fuzzy Nation</td>\n",
       "      <td>John Scalzi, Wil Wheaton</td>\n",
       "      <td>Science Fiction</td>\n",
       "      <td>2011</td>\n",
       "    </tr>\n",
       "  </tbody>\n",
       "</table>\n",
       "</div>"
      ],
      "text/plain": [
       "                                           Book Title  \\\n",
       "0   Make Your Bed: Little Things That Can Change Y...   \n",
       "1   The Better Angels of Our Nature: Why Violence ...   \n",
       "2   As You Wish: Inconceivable Tales from the Maki...   \n",
       "3                                   In the Tall Grass   \n",
       "4                          Theodore Boone: Kid Lawyer   \n",
       "5           One More Thing: Stories and Other Stories   \n",
       "6   Congratulations, by the way: Some Thoughts on ...   \n",
       "7                                   I Am Watching You   \n",
       "8                                             The Egg   \n",
       "9                                  The Spellman Files   \n",
       "10           Over the Top: A Raw Journey to Self-Love   \n",
       "11                              Maybe in Another Life   \n",
       "12                             The Fault in Our Stars   \n",
       "13                             The Fault in Our Stars   \n",
       "14                                   The Hunger Games   \n",
       "15                                   The Postmistress   \n",
       "16                      The Book of Unknown Americans   \n",
       "17  The Soul of an Octopus: A Surprising Explorati...   \n",
       "18                                      The Alchemist   \n",
       "19                                       Fuzzy Nation   \n",
       "\n",
       "                                          Book Author  \\\n",
       "0                                  William H. McRaven   \n",
       "1                         Steven Pinker, Arthur Morey   \n",
       "2   Cary Elwes, Christopher Guest, Carol Kane, Nor...   \n",
       "3                Stephen King, Joe Hill, Stephen Lang   \n",
       "4                        John Grisham, Richard Thomas   \n",
       "5                                          B.J. Novak   \n",
       "6                                     George Saunders   \n",
       "7                Teresa Driscoll, Elizabeth Knowelden   \n",
       "8                                           Andy Weir   \n",
       "9                                           Lisa Lutz   \n",
       "10                                  Jonathan Van Ness   \n",
       "11                  Taylor Jenkins Reid, Julia Whelan   \n",
       "12                                         John Green   \n",
       "13                                         John Green   \n",
       "14                                    Suzanne Collins   \n",
       "15                        Sarah Blake, Orlagh Cassidy   \n",
       "16                                 Cristina Henriquez   \n",
       "17                                      Sy Montgomery   \n",
       "18     Paulo Coelho, Alan R. Clarke, James Noel Smith   \n",
       "19                           John Scalzi, Wil Wheaton   \n",
       "\n",
       "                            Genre  Year Published  \n",
       "0                      Nonfiction            2017  \n",
       "1                      Nonfiction            2010  \n",
       "2                      Nonfiction            2014  \n",
       "3                          Horror            2012  \n",
       "4                         Mystery            2010  \n",
       "5                   Short Stories            2014  \n",
       "6                      Nonfiction            2013  \n",
       "7                         Mystery            2017  \n",
       "8                   Short Stories            2009  \n",
       "9                         Mystery            2007  \n",
       "10                     Nonfiction            2019  \n",
       "11                        Romance            2015  \n",
       "12                    Young Adult            2012  \n",
       "13                    Young Adult            2012  \n",
       "14                    Young Adult            2008  \n",
       "15  Historical-Historical Fiction            2009  \n",
       "16                        Fiction            2014  \n",
       "17                     Nonfiction            2015  \n",
       "18                        Fiction            1988  \n",
       "19                Science Fiction            2011  "
      ]
     },
     "execution_count": 811,
     "metadata": {},
     "output_type": "execute_result"
    }
   ],
   "source": [
    "#Displaying the overall top 20 books\n",
    "df_top = df_bookscore.sort_values(['book_score'],ascending =False)[['title','author','main_genre','year_published']].head(20)\n",
    "df_top.rename(columns={'title': 'Book Title', 'author': 'Book Author', 'main_genre':'Genre', 'year_published':'Year Published'}, inplace=True) \n",
    "\n",
    "df_top.reset_index(drop=True)"
   ]
  },
  {
   "cell_type": "markdown",
   "id": "26ecb854",
   "metadata": {},
   "source": [
    "As we have book score which can give us efficient ranking of the books, we can now use it to make Best 20 Books list for all the top genres, which will be used by goodreads to display those genre lists on their homepage."
   ]
  },
  {
   "cell_type": "code",
   "execution_count": 812,
   "id": "78e28d9d",
   "metadata": {},
   "outputs": [],
   "source": [
    "#Getting the Top 30 Genres\n",
    "genre_grouped = df_goodreads.groupby('main_genre').agg({'main_genre':'count'})\n",
    "genre_grouped = genre_grouped.rename(columns={'main_genre':'count'}).sort_values('count', ascending=False).head(30)"
   ]
  },
  {
   "cell_type": "code",
   "execution_count": 813,
   "id": "041d09f9",
   "metadata": {},
   "outputs": [],
   "source": [
    "#Making a dropdown for those genres that can be used to get the Ranked books list.\n",
    "genre_dropdown = Dropdown(options = genre_grouped.index, \n",
    "                          description='Genre:')"
   ]
  },
  {
   "cell_type": "code",
   "execution_count": 814,
   "id": "dd070eb7",
   "metadata": {},
   "outputs": [
    {
     "data": {
      "application/vnd.jupyter.widget-view+json": {
       "model_id": "c1603a296d384bdca2ee7a5eee383f0b",
       "version_major": 2,
       "version_minor": 0
      },
      "text/plain": [
       "Dropdown(description='Genre:', options=('Fiction', 'Fantasy', 'Romance', 'Young Adult', 'Nonfiction', 'Histori…"
      ]
     },
     "metadata": {},
     "output_type": "display_data"
    }
   ],
   "source": [
    "#Displaying the genre\n",
    "display(genre_dropdown)"
   ]
  },
  {
   "cell_type": "markdown",
   "id": "466ae013",
   "metadata": {},
   "source": [
    "#### Listing Top 20 books according to new book score across top performing genres"
   ]
  },
  {
   "cell_type": "code",
   "execution_count": 815,
   "id": "d8bc3253",
   "metadata": {
    "scrolled": false
   },
   "outputs": [
    {
     "name": "stdout",
     "output_type": "stream",
     "text": [
      "+---------------------------------------------------+------------------------------------------------+----------------+\n",
      "|                    Book Title                     |                  Book Author                   | Year Published |\n",
      "+---------------------------------------------------+------------------------------------------------+----------------+\n",
      "|           The Book of Unknown Americans           |               Cristina Henriquez               |      2014      |\n",
      "|                   The Alchemist                   | Paulo Coelho, Alan R. Clarke, James Noel Smith |      1988      |\n",
      "|               The Girl on the Train               |                 Paula Hawkins                  |      2015      |\n",
      "|                    Funny Girl                     |           Nick Hornby, Emma Fielding           |      2014      |\n",
      "|                The Handmaid's Tale                |                Margaret Atwood                 |      1985      |\n",
      "|                     The Drop                      |         Dennis Lehane, James Frangione         |      2014      |\n",
      "| The Curious Incident of the Dog in the Night-Time |                  Mark Haddon                   |      2003      |\n",
      "|                  The Kite Runner                  |     Khaled Hosseini, Berliani M. Nugrahani     |      2003      |\n",
      "|              Where the Crawdads Sing              |                  Delia Owens                   |      2018      |\n",
      "|                     The Road                      |                Cormac McCarthy                 |      2006      |\n",
      "|                     The Help                      |                Kathryn Stockett                |      2009      |\n",
      "|                  A Step of Faith                  |               Richard Paul Evans               |      2013      |\n",
      "|                 A Man Called Ove                  |         Fredrik Backman, Henning Koch          |      2012      |\n",
      "|        Eleanor Oliphant Is Completely Fine        |                 Gail Honeyman                  |      2017      |\n",
      "|                Water for Elephants                |                   Sara Gruen                   |      2006      |\n",
      "|                    The Grownup                    |                 Gillian Flynn                  |      2014      |\n",
      "|      The Mitford Years Boxed Set Volumes 1-6      |                   Jan Karon                    |      2002      |\n",
      "|                       Room                        |                 Emma Donoghue                  |      2010      |\n",
      "|               Mille splendidi soli                |                Khaled Hosseini                 |      2007      |\n",
      "|          The Girl with the Dragon Tattoo          |           Stieg Larsson, Reg Keeland           |      2005      |\n",
      "+---------------------------------------------------+------------------------------------------------+----------------+\n"
     ]
    }
   ],
   "source": [
    "#Getting the top 20 books for the selected genre\n",
    "df_list = df_bookscore.groupby(['main_genre']).get_group(genre_dropdown.value).sort_values(['book_score'], ascending=False)[['title','author','year_published']].head(20)\n",
    "df_list.rename(columns={'title': 'Book Title', 'author': 'Book Author', 'year_published':'Year Published'}, inplace=True) \n",
    "\n",
    "#tabulating the list\n",
    "print(tabulate(df_list, headers = 'keys', tablefmt = 'pretty', showindex=False))"
   ]
  },
  {
   "cell_type": "markdown",
   "id": "2a10b591",
   "metadata": {},
   "source": [
    "- After generating a BookScore for each and every book present in our dataset, we want to expand more on our analysis. The BookScore was defined to give a ranking based on the factors we have added to the already existing factors considered by Goodreads. Having a ranking wouldn't be enough for Goodreads to move forward from.\n",
    "\n",
    "- As consultants for Goodreads we built a recommender system which incorporates the factors and calculations of our BookScore, improving the recommendation model that is being used by GoodReads. The recommendation model is used to recommend books according to the book title user inputs and the user can manage the number of recommendations they need when running the model.\n",
    "\n",
    "- The recommendation model maps out the connections between the features we have incorporated in our model with the book title that is provided by the user. On an average, a customer wants the recommended books having the same genre or the genre's which are close to the current book they have and whether a book is critically acclaimed i.e., have been awarded by some recognition or been nominated for the same but that is not all, the secret ingredient behind the recommender model is?<br>\n"
   ]
  },
  {
   "cell_type": "markdown",
   "id": "0c52730e",
   "metadata": {},
   "source": [
    "<center>\n",
    "<div>\n",
    "<img src=\"https://img.freepik.com/premium-vector/you-hand-sign_8043-1137.jpg?w=740\" width =\"250\" />\n",
    "</div>\n",
    "</center>"
   ]
  },
  {
   "cell_type": "code",
   "execution_count": 816,
   "id": "f2fd6fb4",
   "metadata": {},
   "outputs": [],
   "source": [
    "df_model = df_bookscore.copy(deep=True)"
   ]
  },
  {
   "cell_type": "markdown",
   "id": "ce78d82b",
   "metadata": {},
   "source": [
    "According to our research, we have decided to add in features related to the BookScore which we have generated above as well as factoring in what is the main genre of the book and whether the book belongs to a series or not. Before running our model we are fetching the factors from our dataframe above and plugging those feature into our model."
   ]
  },
  {
   "cell_type": "code",
   "execution_count": 817,
   "id": "a3b7bf40",
   "metadata": {},
   "outputs": [],
   "source": [
    "from sklearn.preprocessing import MinMaxScaler\n",
    "def get_features(title):\n",
    "    input_genre = df_model[df_model['title'] == title]['main_genre'].values[0]\n",
    "    input_series = df_model[df_model['title'] == title]['series_name'].values[0]\n",
    "\n",
    "    df_model['genres_bin'] = df_model['main_genre'].apply(lambda x: 1 if x == input_genre else 0)\n",
    "    df_model['series_bin'] = df_model['series_name'].apply(lambda x: 1 if x == input_series else 0)\n",
    "\n",
    "    features = pd.concat([df_model['awards_count'],\n",
    "                      df_model['awards_nominee_count'],\n",
    "                      df_model['rate_weight'], \n",
    "                      df_model['rate_per_pages'],\n",
    "                      df_model['genres_bin'],\n",
    "                      df_model['series_bin']], axis=1)\n",
    "    return features"
   ]
  },
  {
   "cell_type": "markdown",
   "id": "60a504b7",
   "metadata": {},
   "source": [
    "**Why this model?**<br>\n",
    "Our model uses Nearest Neighbors unsupervised learning. According to our <a href=\"https://scikit-learn.org/stable/modules/neighbors.html\">Research</a>, we have used unsupervised learning since its easy, fast and requires less effort and time than supervised learning. It cuts down the manual effort of labelling data and helps in identifying the structure of data without these labels. Since labels aren't present its hard to compare model performance like in supervised learning models. Moreover we can control the dimensionality i.e., we can represent data with less features.\n",
    "\n",
    "We have genrated a BookScore and used various calculations such as rate_weight, rate_per_page, awards_count and awards_nominee_count. The model takes in these features as well as the main genre of the book and whether the book is part of the series and calculates the recommendations based on the distance of the features of the input to the features of the books present in our dataset.\n",
    "\n",
    "After finding out the distance between each book to the book title entered by the user, the model then sorts the distance in ascending order i.e., the books which are closer in features to the book user has entered. The model also takes in the number of book recommendations an user needs and displays the list according to the sorting done before."
   ]
  },
  {
   "cell_type": "code",
   "execution_count": 818,
   "id": "7069d38e",
   "metadata": {},
   "outputs": [],
   "source": [
    "min_max_scaler = MinMaxScaler()\n",
    "\n",
    "def recommend_books(input_title, number_of_books):\n",
    "    # Creating features for the model\n",
    "    features = get_features(input_title)\n",
    "    features = min_max_scaler.fit_transform(features)\n",
    "    \n",
    "    # Fitting the model according to gathered features\n",
    "    model = neighbors.NearestNeighbors(n_neighbors=number_of_books, algorithm='auto')\n",
    "    model.fit(features)\n",
    "    distance, id_list = model.kneighbors(features)\n",
    "    \n",
    "    # Appending the recommended books\n",
    "    recommended_books = []\n",
    "    book_id = df_model[df_model['title'] == input_title].index[0]\n",
    "    for newid in id_list[book_id]:\n",
    "        recommended_books.append(df_model.loc[newid].title)\n",
    "    \n",
    "    recommended_books.remove(input_title)\n",
    "    return recommended_books"
   ]
  },
  {
   "cell_type": "markdown",
   "id": "9356f724",
   "metadata": {},
   "source": [
    "To validate the recommendation we will display the dataframe with all relevant attributes which will help us confirm that the books are infact similar"
   ]
  },
  {
   "cell_type": "code",
   "execution_count": 819,
   "id": "075340f5",
   "metadata": {},
   "outputs": [
    {
     "data": {
      "application/vnd.jupyter.widget-view+json": {
       "model_id": "770a56f81f654156924b2586c3fbe907",
       "version_major": 2,
       "version_minor": 0
      },
      "text/plain": [
       "Dropdown(description='Top 20 performing books in Fiction genre:', layout=Layout(width='max-content'), options=…"
      ]
     },
     "metadata": {},
     "output_type": "display_data"
    }
   ],
   "source": [
    "#Making a dropdown for top books according to genres which will be used as input for recommendation\n",
    "top_books_dropdown = Dropdown(options = df_list['Book Title'].values, \n",
    "                              style={'description_width': 'initial'},\n",
    "                              layout={'width': 'max-content'},\n",
    "                              description=f'Top 20 performing books in {genre_dropdown.value} genre:')\n",
    "\n",
    "display(top_books_dropdown)"
   ]
  },
  {
   "cell_type": "code",
   "execution_count": 820,
   "id": "529c5885",
   "metadata": {
    "scrolled": false
   },
   "outputs": [
    {
     "data": {
      "text/html": [
       "<div>\n",
       "<style scoped>\n",
       "    .dataframe tbody tr th:only-of-type {\n",
       "        vertical-align: middle;\n",
       "    }\n",
       "\n",
       "    .dataframe tbody tr th {\n",
       "        vertical-align: top;\n",
       "    }\n",
       "\n",
       "    .dataframe thead th {\n",
       "        text-align: right;\n",
       "    }\n",
       "</style>\n",
       "<table border=\"1\" class=\"dataframe\">\n",
       "  <thead>\n",
       "    <tr style=\"text-align: right;\">\n",
       "      <th></th>\n",
       "      <th>title</th>\n",
       "      <th>author</th>\n",
       "      <th>year_published</th>\n",
       "      <th>average_rating</th>\n",
       "      <th>rate_weight</th>\n",
       "      <th>awards_count</th>\n",
       "      <th>awards_nominee_count</th>\n",
       "      <th>main_genre</th>\n",
       "      <th>number_of_pages</th>\n",
       "    </tr>\n",
       "  </thead>\n",
       "  <tbody>\n",
       "    <tr>\n",
       "      <th>0</th>\n",
       "      <td>Sweet Tooth</td>\n",
       "      <td>Ian McEwan</td>\n",
       "      <td>2012</td>\n",
       "      <td>3.42</td>\n",
       "      <td>20362.68</td>\n",
       "      <td>0</td>\n",
       "      <td>2</td>\n",
       "      <td>Fiction</td>\n",
       "      <td>320.0</td>\n",
       "    </tr>\n",
       "    <tr>\n",
       "      <th>1</th>\n",
       "      <td>Still Life with Bread Crumbs</td>\n",
       "      <td>Anna Quindlen</td>\n",
       "      <td>2014</td>\n",
       "      <td>3.65</td>\n",
       "      <td>17585.70</td>\n",
       "      <td>0</td>\n",
       "      <td>2</td>\n",
       "      <td>Fiction</td>\n",
       "      <td>252.0</td>\n",
       "    </tr>\n",
       "    <tr>\n",
       "      <th>2</th>\n",
       "      <td>The Lifeboat</td>\n",
       "      <td>Charlotte Rogan</td>\n",
       "      <td>2012</td>\n",
       "      <td>3.20</td>\n",
       "      <td>11590.40</td>\n",
       "      <td>0</td>\n",
       "      <td>2</td>\n",
       "      <td>Fiction</td>\n",
       "      <td>279.0</td>\n",
       "    </tr>\n",
       "    <tr>\n",
       "      <th>3</th>\n",
       "      <td>Super Sad True Love Story</td>\n",
       "      <td>Gary Shteyngart</td>\n",
       "      <td>2010</td>\n",
       "      <td>3.45</td>\n",
       "      <td>16080.45</td>\n",
       "      <td>0</td>\n",
       "      <td>2</td>\n",
       "      <td>Fiction</td>\n",
       "      <td>331.0</td>\n",
       "    </tr>\n",
       "    <tr>\n",
       "      <th>4</th>\n",
       "      <td>Nutshell</td>\n",
       "      <td>Ian McEwan</td>\n",
       "      <td>2016</td>\n",
       "      <td>3.67</td>\n",
       "      <td>19561.10</td>\n",
       "      <td>0</td>\n",
       "      <td>2</td>\n",
       "      <td>Fiction</td>\n",
       "      <td>208.0</td>\n",
       "    </tr>\n",
       "    <tr>\n",
       "      <th>5</th>\n",
       "      <td>The Heart Goes Last</td>\n",
       "      <td>Margaret Atwood</td>\n",
       "      <td>2015</td>\n",
       "      <td>3.37</td>\n",
       "      <td>20971.51</td>\n",
       "      <td>0</td>\n",
       "      <td>2</td>\n",
       "      <td>Fiction</td>\n",
       "      <td>320.0</td>\n",
       "    </tr>\n",
       "    <tr>\n",
       "      <th>6</th>\n",
       "      <td>Tinkers</td>\n",
       "      <td>Paul Harding</td>\n",
       "      <td>2008</td>\n",
       "      <td>3.39</td>\n",
       "      <td>16217.76</td>\n",
       "      <td>0</td>\n",
       "      <td>2</td>\n",
       "      <td>Fiction</td>\n",
       "      <td>192.0</td>\n",
       "    </tr>\n",
       "    <tr>\n",
       "      <th>7</th>\n",
       "      <td>A Mercy</td>\n",
       "      <td>Toni Morrison</td>\n",
       "      <td>2008</td>\n",
       "      <td>3.70</td>\n",
       "      <td>10193.50</td>\n",
       "      <td>0</td>\n",
       "      <td>2</td>\n",
       "      <td>Fiction</td>\n",
       "      <td>167.0</td>\n",
       "    </tr>\n",
       "    <tr>\n",
       "      <th>8</th>\n",
       "      <td>The Uncommon Reader</td>\n",
       "      <td>Alan Bennett</td>\n",
       "      <td>2007</td>\n",
       "      <td>3.80</td>\n",
       "      <td>21542.20</td>\n",
       "      <td>0</td>\n",
       "      <td>2</td>\n",
       "      <td>Fiction</td>\n",
       "      <td>120.0</td>\n",
       "    </tr>\n",
       "    <tr>\n",
       "      <th>9</th>\n",
       "      <td>Autumn</td>\n",
       "      <td>Ali Smith</td>\n",
       "      <td>2016</td>\n",
       "      <td>3.71</td>\n",
       "      <td>13838.30</td>\n",
       "      <td>0</td>\n",
       "      <td>2</td>\n",
       "      <td>Fiction</td>\n",
       "      <td>264.0</td>\n",
       "    </tr>\n",
       "  </tbody>\n",
       "</table>\n",
       "</div>"
      ],
      "text/plain": [
       "                          title           author  year_published  \\\n",
       "0                   Sweet Tooth       Ian McEwan            2012   \n",
       "1  Still Life with Bread Crumbs    Anna Quindlen            2014   \n",
       "2                  The Lifeboat  Charlotte Rogan            2012   \n",
       "3     Super Sad True Love Story  Gary Shteyngart            2010   \n",
       "4                      Nutshell       Ian McEwan            2016   \n",
       "5           The Heart Goes Last  Margaret Atwood            2015   \n",
       "6                       Tinkers     Paul Harding            2008   \n",
       "7                       A Mercy    Toni Morrison            2008   \n",
       "8           The Uncommon Reader     Alan Bennett            2007   \n",
       "9                        Autumn        Ali Smith            2016   \n",
       "\n",
       "   average_rating  rate_weight  awards_count  awards_nominee_count main_genre  \\\n",
       "0            3.42     20362.68             0                     2    Fiction   \n",
       "1            3.65     17585.70             0                     2    Fiction   \n",
       "2            3.20     11590.40             0                     2    Fiction   \n",
       "3            3.45     16080.45             0                     2    Fiction   \n",
       "4            3.67     19561.10             0                     2    Fiction   \n",
       "5            3.37     20971.51             0                     2    Fiction   \n",
       "6            3.39     16217.76             0                     2    Fiction   \n",
       "7            3.70     10193.50             0                     2    Fiction   \n",
       "8            3.80     21542.20             0                     2    Fiction   \n",
       "9            3.71     13838.30             0                     2    Fiction   \n",
       "\n",
       "   number_of_pages  \n",
       "0            320.0  \n",
       "1            252.0  \n",
       "2            279.0  \n",
       "3            331.0  \n",
       "4            208.0  \n",
       "5            320.0  \n",
       "6            192.0  \n",
       "7            167.0  \n",
       "8            120.0  \n",
       "9            264.0  "
      ]
     },
     "execution_count": 820,
     "metadata": {},
     "output_type": "execute_result"
    }
   ],
   "source": [
    "#Validating the above prediction\n",
    "df_model[df_model['title'].isin(recommend_books(top_books_dropdown.value, 11))][['title','author','year_published','average_rating','rate_weight','awards_count','awards_nominee_count','main_genre','number_of_pages']].reset_index(drop=True)"
   ]
  },
  {
   "cell_type": "markdown",
   "id": "1be4caab",
   "metadata": {},
   "source": [
    "- To improve Goodreads relationship digitization, we have mainly focused on Ranking Books mare efficiently by using a Book Score which is made out of multiple important factors related to books. \n",
    "- These genre wise ranked lists can be used by goodreads to display under their Best Books for each genre section on their Homepage. \n",
    "- Also, we have suggested a recommender system using the features considered in the book score to recommend other similar books which can be used to display similar books on Goodread's webpage when a user selects any particular book from the Best Books List to keep to user hooked to the platform."
   ]
  },
  {
   "cell_type": "markdown",
   "id": "074d1568",
   "metadata": {},
   "source": [
    "<hr style=\"width:100%;text-align:left;margin-left:0\">"
   ]
  },
  {
   "cell_type": "markdown",
   "id": "9bd49b53",
   "metadata": {},
   "source": [
    "### 2. What are the most common keywords in the book title based on different top performing genres?\n",
    "<br>**Importance of Analysis:**<br>\n",
    "We can build a wordcloud that highlights the most frequent keywords from the book title of top performing books. For this we will consider the top 500 books and analyze the words in them. But why is this important?<br>\n",
    "\n",
    "The top keywords can support two improvement aspects: **`Authors`** and **`Customers`**<br>\n",
    " - Authors - When writing a book, this wordcloud will help authors understand what keywords to consider when forming the title of the book\n",
    " - Customers - Amazon can use this wordcloud to target users by showing them books containing these top keywords according to the user's historical genre preference "
   ]
  },
  {
   "cell_type": "code",
   "execution_count": 821,
   "id": "ff88414a",
   "metadata": {},
   "outputs": [
    {
     "data": {
      "application/vnd.jupyter.widget-view+json": {
       "model_id": "c1603a296d384bdca2ee7a5eee383f0b",
       "version_major": 2,
       "version_minor": 0
      },
      "text/plain": [
       "Dropdown(description='Genre:', options=('Fiction', 'Fantasy', 'Romance', 'Young Adult', 'Nonfiction', 'Histori…"
      ]
     },
     "metadata": {},
     "output_type": "display_data"
    }
   ],
   "source": [
    "# Display genre dropdown \n",
    "display(genre_dropdown)"
   ]
  },
  {
   "cell_type": "code",
   "execution_count": 822,
   "id": "6668b0b4",
   "metadata": {},
   "outputs": [],
   "source": [
    "# Grouping the data according to main genres and sorting it according to book scores\n",
    "word_cloud_df = df_bookscore.groupby(['main_genre']).get_group(genre_dropdown.value).sort_values(['book_score'], ascending=False)['title'].head(500)"
   ]
  },
  {
   "cell_type": "code",
   "execution_count": 823,
   "id": "58b06176",
   "metadata": {},
   "outputs": [],
   "source": [
    "# Replace all non alpha numeric values with space\n",
    "word_cloud_df = word_cloud_df.str.replace('\\W', ' ', regex=True)"
   ]
  },
  {
   "cell_type": "code",
   "execution_count": 824,
   "id": "31d828d1",
   "metadata": {},
   "outputs": [],
   "source": [
    "# Split the titles into words\n",
    "word_cloud_df = word_cloud_df.str.split('\\s')"
   ]
  },
  {
   "cell_type": "code",
   "execution_count": 825,
   "id": "3dc9ac6e",
   "metadata": {},
   "outputs": [],
   "source": [
    "# Get the text to plot wordcloud\n",
    "text = word_cloud_df.str.join(' ')\n",
    "text = ' '.join(list(text))"
   ]
  },
  {
   "cell_type": "code",
   "execution_count": 826,
   "id": "9c166add",
   "metadata": {},
   "outputs": [],
   "source": [
    "# Fetch the mask for wordcloud\n",
    "mask_image = imageio.imread('../icon-book-25.jpg')"
   ]
  },
  {
   "cell_type": "code",
   "execution_count": 827,
   "id": "df58e8b7",
   "metadata": {},
   "outputs": [],
   "source": [
    "# Generate the wordcloud\n",
    "wordcloud = WordCloud(colormap='prism', mask=mask_image, background_color='white')\n",
    "wordcloud = wordcloud.generate(text)"
   ]
  },
  {
   "cell_type": "code",
   "execution_count": 828,
   "id": "24b37f32",
   "metadata": {
    "scrolled": true
   },
   "outputs": [
    {
     "data": {
      "image/png": "[encoded data removed]",
      "text/plain": [
       "<Figure size 800x800 with 1 Axes>"
      ]
     },
     "metadata": {},
     "output_type": "display_data"
    }
   ],
   "source": [
    "# Plot the wordcloud\n",
    "plt.figure(figsize=(8,8))\n",
    "plt.imshow(wordcloud)\n",
    "plt.grid(False)"
   ]
  },
  {
   "cell_type": "markdown",
   "id": "01f0cada",
   "metadata": {},
   "source": [
    "- As observed in above wordcloud, we can see that the most common words for **`Fantasy`** books are dead, king, city and much more. Whenever a customer decides to buy a book, certain keywords tend to have a positive effect on the decision making process. If there a keyword that makes the customer think about a certain genre they might feel connected and hence these psychological factors should be taken into consideration"
   ]
  },
  {
   "cell_type": "markdown",
   "id": "4f5ade17",
   "metadata": {},
   "source": [
    "<hr style=\"width:100%;text-align:left;margin-left:0\">"
   ]
  },
  {
   "cell_type": "markdown",
   "id": "f55ff02c",
   "metadata": {},
   "source": [
    "### <br>3. What genre and series category would attract more publishers based on average rating and review count?<br>\n",
    "**Importance of Analysis:**<br>\n",
    "According to our research through [Ibisworld](https://www.ibisworld.com/industry-statistics/market-size/book-publishing-united-states/#:~:text=The%20market%20size%2C%20measured%20by,decline%20%2D0.2%25%20in%202022), Book Publishing industry is estimated to have a $29.8bn markset size by revenue in 2022. But experts suggest that the market size has declined since 2017. <br>\n",
    "\n",
    "- Being a dominant player in book sales industry Amazon can establish exclusive selling rights with the top publishers such that all the book published by them should be sold only through Amazon and the discussions about the book should be held on Goodreads. \n",
    "- By using this goodreads insights can be provided about what types of books have been performing well in the past few years and based on this trend whether they would be well received or not."
   ]
  },
  {
   "cell_type": "code",
   "execution_count": 829,
   "id": "ffc2e96c",
   "metadata": {},
   "outputs": [
    {
     "name": "stdout",
     "output_type": "stream",
     "text": [
      "TOP 10 PUBLISHER COMPANIES\n",
      "\n",
      "                  Count\n",
      "publisher              \n",
      "HarperCollins       549\n",
      "Vintage             519\n",
      "Penguin Books       470\n",
      "Ballantine Books    387\n",
      "Bantam              370\n",
      "Pocket Books        315\n",
      "Avon                307\n",
      "Berkley             286\n",
      "Tor Books           276\n",
      "HarperTeen          270\n"
     ]
    }
   ],
   "source": [
    "publisher_grouped = df_goodreads.groupby('publisher', dropna=True).agg({'id':'count'})\n",
    "publisher_grouped = publisher_grouped.sort_values(by='id', ascending=False).head(10)\n",
    "print('TOP 10 PUBLISHER COMPANIES\\n')\n",
    "print(publisher_grouped.rename(columns={'id':'Count'}))"
   ]
  },
  {
   "cell_type": "markdown",
   "id": "07d9862d",
   "metadata": {},
   "source": [
    "**Why should the publishers even care?**<br><br>\n",
    "The traditional book publishing business involves publishing companies establishing contracts with authors and help them print, sell and distribute their books. Every publication house would want to maximize the sales for the books associated with them. Publishing companies want to establish long term contracts with the authors that have the best selling books. With the publishing industry in a decline they would be willing to invest in books that have the potential to earn more sales.<br><br> But how do they decide which type of books to pick? <br> <br>\n",
    "We can recommend the top publisher like Vintage to form their decision of picking a book on 4 main factors - `Genre, Category of a book, Average rating, Review count`. We can use the below interactive chart and dropdowns to help the publishers decide the best books."
   ]
  },
  {
   "cell_type": "code",
   "execution_count": 830,
   "id": "e09ede7d",
   "metadata": {},
   "outputs": [],
   "source": [
    "# Forming dropdown to list category of books according to series data\n",
    "series_category_dropdown = Dropdown(options = ['Most frequent category', 'All categories', 'Individual book', 'Duology', 'Trilogy', 'Multiple books'],\n",
    "                                    style={'description_width': 'initial'}, \n",
    "                                    description='Series Category:', \n",
    "                                    value = 'Duology')"
   ]
  },
  {
   "cell_type": "code",
   "execution_count": 831,
   "id": "93989ccd",
   "metadata": {},
   "outputs": [],
   "source": [
    "# Function to filter the data to populate in the interactive chart based on values selected in dropdown\n",
    "def filter_data(genre_value, series_category_value, df):\n",
    "    filtered_df = df[df['main_genre'] == genre_value]\n",
    "    filtered_df = filtered_df[['title','year_published','average_rating','rating_count', 'review_count','series_category']]\n",
    "    filtered_df = filtered_df[filtered_df['year_published'].notnull()]\n",
    "    filtered_df = filtered_df[filtered_df['year_published'] > 2000]\n",
    "    \n",
    "    if series_category_value == 'Most frequent category':\n",
    "        category = df_goodreads.groupby('series_category').agg({'id':'count'})\n",
    "        category.sort_values(by='id', ascending=False, inplace=True)\n",
    "        category = category.head(1).index.values[0]\n",
    "        filtered_df = filtered_df[filtered_df['series_category'] == category]\n",
    "    \n",
    "    elif series_category_value == 'All categories':\n",
    "        category = ['Individual book', 'Duology', 'Trilogy', 'Multiple books']\n",
    "        filtered_df = filtered_df[filtered_df['series_category'].isin(category)]\n",
    "        \n",
    "    else:\n",
    "        filtered_df = filtered_df[filtered_df['series_category'] == series_category_value]\n",
    "\n",
    "    return filtered_df    \n"
   ]
  },
  {
   "cell_type": "code",
   "execution_count": 832,
   "id": "8ea77445",
   "metadata": {},
   "outputs": [],
   "source": [
    "# Function to build a scatter plot to visualize different genres, category of books with their average rating and review details\n",
    "def display_chart(genre_value, series_category_value, df):\n",
    "    df = filter_data(genre_value, series_category_value, df)\n",
    "    size = df['review_count']\n",
    "\n",
    "    fig = px.scatter(df, x=\"year_published\", \n",
    "                     y=\"average_rating\",\n",
    "                     size='review_count',\n",
    "                     color=\"series_category\",\n",
    "                     color_discrete_sequence=['#8b20c9','#f59953','#3344c4','#35b550'],\n",
    "                     hover_name=\"title\", log_x=True,\n",
    "                     labels={\"series_category\": \"Series Category\"})\n",
    "\n",
    "    fig.update_traces(mode='markers',\n",
    "                      marker=dict(\n",
    "                          size=size,\n",
    "                          sizemode='area',\n",
    "                          sizeref=2.*max(size)/(80.**2),\n",
    "                          sizemin=4,\n",
    "                          symbol='circle', \n",
    "                          line_width=1))\n",
    "\n",
    "    fig.update_layout(\n",
    "        title='Books rating distribution according to series type',\n",
    "        xaxis=dict(\n",
    "            title='Publish Year',\n",
    "            gridcolor='white',\n",
    "            type='log',\n",
    "            gridwidth=1,\n",
    "        ),\n",
    "        yaxis=dict(\n",
    "            title='Average Rating',\n",
    "            gridcolor='white',\n",
    "            gridwidth=1,\n",
    "        ),\n",
    "        paper_bgcolor='rgb(243, 243, 243)',\n",
    "        plot_bgcolor='rgb(243, 243, 243)',\n",
    "    )\n",
    "    fig.show()"
   ]
  },
  {
   "cell_type": "code",
   "execution_count": 833,
   "id": "d00b8fa6",
   "metadata": {
    "scrolled": true
   },
   "outputs": [
    {
     "data": {
      "application/vnd.jupyter.widget-view+json": {
       "model_id": "c1603a296d384bdca2ee7a5eee383f0b",
       "version_major": 2,
       "version_minor": 0
      },
      "text/plain": [
       "Dropdown(description='Genre:', options=('Fiction', 'Fantasy', 'Romance', 'Young Adult', 'Nonfiction', 'Histori…"
      ]
     },
     "metadata": {},
     "output_type": "display_data"
    },
    {
     "data": {
      "application/vnd.jupyter.widget-view+json": {
       "model_id": "39a21699b50b4c748e2c9bc59b0ff88d",
       "version_major": 2,
       "version_minor": 0
      },
      "text/plain": [
       "Dropdown(description='Series Category:', index=3, options=('Most frequent category', 'All categories', 'Indivi…"
      ]
     },
     "metadata": {},
     "output_type": "display_data"
    }
   ],
   "source": [
    "# Displaying genre and category dropdowns\n",
    "display(genre_dropdown, series_category_dropdown)"
   ]
  },
  {
   "cell_type": "code",
   "execution_count": 835,
   "id": "0b87b672",
   "metadata": {
    "scrolled": false
   },
   "outputs": [
    {
     "data": {
      "application/vnd.plotly.v1+json": {
       "config": {
        "plotlyServerURL": "https://plot.ly"
       },
       "data": [
        {
         "hovertemplate": "<b>%{hovertext}</b><br><br>Series Category=Duology<br>year_published=%{x}<br>average_rating=%{y}<br>review_count=%{marker.size}<extra></extra>",
         "hovertext": [
          "Wraith",
          "Return to Sullivan's Island",
          "The Love Song of Miss Queenie Hennessy",
          "Glass Soup",
          "Eligible: A Modern Retelling of Pride & Prejudice",
          "The Rules of Magic",
          "Sing, Unburied, Sing",
          "Salvage the Bones",
          "Eventide",
          "Before the Storm",
          "Unleashed",
          "Emma's Secret",
          "Portret van een jongeman",
          "Heart Attack and Vine",
          "The Girl She Used to Be",
          "A Spy by Nature",
          "The Dead Don't Dance",
          "The Spanish Game",
          "Wild Fire",
          "I Wish I Had a Red Dress",
          "Raylan",
          "A Well-Tempered Heart",
          "Old Filth",
          "Trail of the Beast",
          "Probably the World's Best Story About a Dog and the Girl Who Loved Me",
          "Lowcountry Summer",
          "Fire in the Hole: Stories",
          "Us Against You",
          "Maggie",
          "Last Friends",
          "The Man in the Wooden Hat",
          "Soul Identity",
          "The Lost Books Box Set",
          "The Exceptions",
          "Mortal Allies",
          "Don't Let Me Go",
          "Emma",
          "The Bourne Deception",
          "No Child of Mine",
          "Skinny Dip",
          "Amy Falls Down",
          "Benediction",
          "Trojan Horse",
          "Drive",
          "Son of a Trickster",
          "Miss Scandalous",
          "Zero Day",
          "Miss Nobody",
          "The Secrets Between Us",
          "The Space Between Us",
          "The Accursed",
          "The Diary of Darcy J. Rhone",
          "Sita: Warrior of Mithila",
          "Akiko in the Castle of Alia Rellapor",
          "The Fire",
          "Akiko and the Intergalactic Zoo",
          "Conviction",
          "Balance of Power",
          "The Death of Vishnu",
          "Firstborn: A Progeny Novel",
          "Secrets She Left Behind",
          "The Bourne Objective",
          "Star Island",
          "Merde Actually",
          "Metal Gear Solid",
          "The Girl with the Dragon Tattoo",
          "The Girl Who Played with Fire",
          "The Girl Who Kicked the Hornet's Nest",
          "A Dog's Purpose",
          "Skagboys",
          "Gilead",
          "Porno",
          "Quicksilver",
          "The Blade Artist",
          "Beartown",
          "The Confusion",
          "The System of the World",
          "Leaving Time",
          "Love Walked In",
          "After You",
          "The Art of Hearing Heartbeats",
          "Night Fall",
          "The Unlikely Pilgrimage of Harold Fry",
          "Dead Men's Trousers",
          "Home",
          "The Girl in the Spider's Web",
          "Savages",
          "Still Me",
          "Plantation",
          "A Dog's Journey",
          "Belong to Me",
          "Shadow Catcher",
          "The Whole Truth",
          "Shadow Maker",
          "Lila"
         ],
         "legendgroup": "Duology",
         "marker": {
          "color": "#8b20c9",
          "line": {
           "width": 1
          },
          "size": [
           13,
           529,
           3329,
           77,
           10306,
           6948,
           12105,
           5726,
           1827,
           750,
           0,
           369,
           398,
           26,
           902,
           213,
           454,
           119,
           1124,
           138,
           1199,
           776,
           1921,
           24,
           6,
           520,
           565,
           9514,
           211,
           530,
           805,
           411,
           14,
           156,
           109,
           199,
           1985,
           248,
           289,
           2993,
           481,
           2505,
           143,
           801,
           842,
           33,
           509,
           43,
           654,
           3975,
           1128,
           337,
           1359,
           15,
           706,
           13,
           174,
           126,
           591,
           163,
           629,
           225,
           2079,
           270,
           75,
           67954,
           33848,
           28757,
           13042,
           553,
           10164,
           567,
           2065,
           344,
           23920,
           703,
           670,
           15261,
           4612,
           22662,
           6750,
           1394,
           17416,
           205,
           3120,
           12902,
           1687,
           11969,
           484,
           2982,
           3682,
           35,
           1547,
           26,
           3784
          ],
          "sizemin": 4,
          "sizemode": "area",
          "sizeref": 21.235625,
          "symbol": "circle"
         },
         "mode": "markers",
         "name": "Duology",
         "orientation": "v",
         "showlegend": true,
         "type": "scatter",
         "x": [
          2010,
          2009,
          2014,
          2005,
          2016,
          2017,
          2017,
          2011,
          2004,
          2007,
          2012,
          2013,
          2002,
          2016,
          2009,
          2001,
          2004,
          2006,
          2006,
          2001,
          2012,
          2012,
          2004,
          2015,
          2006,
          2002,
          2001,
          2017,
          2006,
          2013,
          2009,
          2007,
          2010,
          2012,
          2002,
          2013,
          2014,
          2009,
          2012,
          2004,
          2013,
          2013,
          2012,
          2005,
          2017,
          2013,
          2011,
          2012,
          2018,
          2006,
          2013,
          2012,
          2017,
          2001,
          2008,
          2002,
          2005,
          2003,
          2001,
          2017,
          2009,
          2010,
          2010,
          2005,
          2008,
          2005,
          2006,
          2007,
          2010,
          2012,
          2004,
          2005,
          2003,
          2016,
          2016,
          2004,
          2004,
          2014,
          2005,
          2015,
          2002,
          2004,
          2012,
          2018,
          2008,
          2015,
          2010,
          2018,
          2001,
          2012,
          2008,
          2013,
          2008,
          2014,
          2014
         ],
         "xaxis": "x",
         "y": [
          4.03,
          3.76,
          4.05,
          3.88,
          3.61,
          3.96,
          4.02,
          3.94,
          4.2,
          4.05,
          4.06,
          3.77,
          3.79,
          3.54,
          3.51,
          3.51,
          4.22,
          3.75,
          4.01,
          4.1,
          3.68,
          4.13,
          3.94,
          4.27,
          3.7,
          3.85,
          3.91,
          4.33,
          4.28,
          3.83,
          4.05,
          3.47,
          4.46,
          3.98,
          4.19,
          4.24,
          3.05,
          4.03,
          4.19,
          3.81,
          3.66,
          4,
          3.77,
          3.48,
          3.8,
          4.25,
          3.55,
          4.42,
          4.46,
          4,
          3.2,
          3.26,
          3.97,
          4.06,
          3.26,
          4.02,
          3.89,
          3.92,
          3.62,
          4.24,
          4.04,
          4.08,
          3.48,
          3.57,
          3.59,
          4.14,
          4.24,
          4.22,
          4.36,
          4.04,
          3.85,
          3.75,
          3.93,
          3.59,
          4.25,
          4.26,
          4.32,
          3.97,
          3.71,
          3.73,
          4.01,
          4.09,
          3.91,
          3.77,
          4.01,
          3.77,
          3.84,
          4.14,
          4.18,
          4.41,
          3.86,
          3.91,
          4.01,
          4.16,
          3.92
         ],
         "yaxis": "y"
        }
       ],
       "layout": {
        "legend": {
         "itemsizing": "constant",
         "title": {
          "text": "Series Category"
         },
         "tracegroupgap": 0
        },
        "margin": {
         "t": 60
        },
        "paper_bgcolor": "rgb(243, 243, 243)",
        "plot_bgcolor": "rgb(243, 243, 243)",
        "template": {
         "data": {
          "bar": [
           {
            "error_x": {
             "color": "#2a3f5f"
            },
            "error_y": {
             "color": "#2a3f5f"
            },
            "marker": {
             "line": {
              "color": "#E5ECF6",
              "width": 0.5
             },
             "pattern": {
              "fillmode": "overlay",
              "size": 10,
              "solidity": 0.2
             }
            },
            "type": "bar"
           }
          ],
          "barpolar": [
           {
            "marker": {
             "line": {
              "color": "#E5ECF6",
              "width": 0.5
             },
             "pattern": {
              "fillmode": "overlay",
              "size": 10,
              "solidity": 0.2
             }
            },
            "type": "barpolar"
           }
          ],
          "carpet": [
           {
            "aaxis": {
             "endlinecolor": "#2a3f5f",
             "gridcolor": "white",
             "linecolor": "white",
             "minorgridcolor": "white",
             "startlinecolor": "#2a3f5f"
            },
            "baxis": {
             "endlinecolor": "#2a3f5f",
             "gridcolor": "white",
             "linecolor": "white",
             "minorgridcolor": "white",
             "startlinecolor": "#2a3f5f"
            },
            "type": "carpet"
           }
          ],
          "choropleth": [
           {
            "colorbar": {
             "outlinewidth": 0,
             "ticks": ""
            },
            "type": "choropleth"
           }
          ],
          "contour": [
           {
            "colorbar": {
             "outlinewidth": 0,
             "ticks": ""
            },
            "colorscale": [
             [
              0,
              "#0d0887"
             ],
             [
              0.1111111111111111,
              "#46039f"
             ],
             [
              0.2222222222222222,
              "#7201a8"
             ],
             [
              0.3333333333333333,
              "#9c179e"
             ],
             [
              0.4444444444444444,
              "#bd3786"
             ],
             [
              0.5555555555555556,
              "#d8576b"
             ],
             [
              0.6666666666666666,
              "#ed7953"
             ],
             [
              0.7777777777777778,
              "#fb9f3a"
             ],
             [
              0.8888888888888888,
              "#fdca26"
             ],
             [
              1,
              "#f0f921"
             ]
            ],
            "type": "contour"
           }
          ],
          "contourcarpet": [
           {
            "colorbar": {
             "outlinewidth": 0,
             "ticks": ""
            },
            "type": "contourcarpet"
           }
          ],
          "heatmap": [
           {
            "colorbar": {
             "outlinewidth": 0,
             "ticks": ""
            },
            "colorscale": [
             [
              0,
              "#0d0887"
             ],
             [
              0.1111111111111111,
              "#46039f"
             ],
             [
              0.2222222222222222,
              "#7201a8"
             ],
             [
              0.3333333333333333,
              "#9c179e"
             ],
             [
              0.4444444444444444,
              "#bd3786"
             ],
             [
              0.5555555555555556,
              "#d8576b"
             ],
             [
              0.6666666666666666,
              "#ed7953"
             ],
             [
              0.7777777777777778,
              "#fb9f3a"
             ],
             [
              0.8888888888888888,
              "#fdca26"
             ],
             [
              1,
              "#f0f921"
             ]
            ],
            "type": "heatmap"
           }
          ],
          "heatmapgl": [
           {
            "colorbar": {
             "outlinewidth": 0,
             "ticks": ""
            },
            "colorscale": [
             [
              0,
              "#0d0887"
             ],
             [
              0.1111111111111111,
              "#46039f"
             ],
             [
              0.2222222222222222,
              "#7201a8"
             ],
             [
              0.3333333333333333,
              "#9c179e"
             ],
             [
              0.4444444444444444,
              "#bd3786"
             ],
             [
              0.5555555555555556,
              "#d8576b"
             ],
             [
              0.6666666666666666,
              "#ed7953"
             ],
             [
              0.7777777777777778,
              "#fb9f3a"
             ],
             [
              0.8888888888888888,
              "#fdca26"
             ],
             [
              1,
              "#f0f921"
             ]
            ],
            "type": "heatmapgl"
           }
          ],
          "histogram": [
           {
            "marker": {
             "pattern": {
              "fillmode": "overlay",
              "size": 10,
              "solidity": 0.2
             }
            },
            "type": "histogram"
           }
          ],
          "histogram2d": [
           {
            "colorbar": {
             "outlinewidth": 0,
             "ticks": ""
            },
            "colorscale": [
             [
              0,
              "#0d0887"
             ],
             [
              0.1111111111111111,
              "#46039f"
             ],
             [
              0.2222222222222222,
              "#7201a8"
             ],
             [
              0.3333333333333333,
              "#9c179e"
             ],
             [
              0.4444444444444444,
              "#bd3786"
             ],
             [
              0.5555555555555556,
              "#d8576b"
             ],
             [
              0.6666666666666666,
              "#ed7953"
             ],
             [
              0.7777777777777778,
              "#fb9f3a"
             ],
             [
              0.8888888888888888,
              "#fdca26"
             ],
             [
              1,
              "#f0f921"
             ]
            ],
            "type": "histogram2d"
           }
          ],
          "histogram2dcontour": [
           {
            "colorbar": {
             "outlinewidth": 0,
             "ticks": ""
            },
            "colorscale": [
             [
              0,
              "#0d0887"
             ],
             [
              0.1111111111111111,
              "#46039f"
             ],
             [
              0.2222222222222222,
              "#7201a8"
             ],
             [
              0.3333333333333333,
              "#9c179e"
             ],
             [
              0.4444444444444444,
              "#bd3786"
             ],
             [
              0.5555555555555556,
              "#d8576b"
             ],
             [
              0.6666666666666666,
              "#ed7953"
             ],
             [
              0.7777777777777778,
              "#fb9f3a"
             ],
             [
              0.8888888888888888,
              "#fdca26"
             ],
             [
              1,
              "#f0f921"
             ]
            ],
            "type": "histogram2dcontour"
           }
          ],
          "mesh3d": [
           {
            "colorbar": {
             "outlinewidth": 0,
             "ticks": ""
            },
            "type": "mesh3d"
           }
          ],
          "parcoords": [
           {
            "line": {
             "colorbar": {
              "outlinewidth": 0,
              "ticks": ""
             }
            },
            "type": "parcoords"
           }
          ],
          "pie": [
           {
            "automargin": true,
            "type": "pie"
           }
          ],
          "scatter": [
           {
            "fillpattern": {
             "fillmode": "overlay",
             "size": 10,
             "solidity": 0.2
            },
            "type": "scatter"
           }
          ],
          "scatter3d": [
           {
            "line": {
             "colorbar": {
              "outlinewidth": 0,
              "ticks": ""
             }
            },
            "marker": {
             "colorbar": {
              "outlinewidth": 0,
              "ticks": ""
             }
            },
            "type": "scatter3d"
           }
          ],
          "scattercarpet": [
           {
            "marker": {
             "colorbar": {
              "outlinewidth": 0,
              "ticks": ""
             }
            },
            "type": "scattercarpet"
           }
          ],
          "scattergeo": [
           {
            "marker": {
             "colorbar": {
              "outlinewidth": 0,
              "ticks": ""
             }
            },
            "type": "scattergeo"
           }
          ],
          "scattergl": [
           {
            "marker": {
             "colorbar": {
              "outlinewidth": 0,
              "ticks": ""
             }
            },
            "type": "scattergl"
           }
          ],
          "scattermapbox": [
           {
            "marker": {
             "colorbar": {
              "outlinewidth": 0,
              "ticks": ""
             }
            },
            "type": "scattermapbox"
           }
          ],
          "scatterpolar": [
           {
            "marker": {
             "colorbar": {
              "outlinewidth": 0,
              "ticks": ""
             }
            },
            "type": "scatterpolar"
           }
          ],
          "scatterpolargl": [
           {
            "marker": {
             "colorbar": {
              "outlinewidth": 0,
              "ticks": ""
             }
            },
            "type": "scatterpolargl"
           }
          ],
          "scatterternary": [
           {
            "marker": {
             "colorbar": {
              "outlinewidth": 0,
              "ticks": ""
             }
            },
            "type": "scatterternary"
           }
          ],
          "surface": [
           {
            "colorbar": {
             "outlinewidth": 0,
             "ticks": ""
            },
            "colorscale": [
             [
              0,
              "#0d0887"
             ],
             [
              0.1111111111111111,
              "#46039f"
             ],
             [
              0.2222222222222222,
              "#7201a8"
             ],
             [
              0.3333333333333333,
              "#9c179e"
             ],
             [
              0.4444444444444444,
              "#bd3786"
             ],
             [
              0.5555555555555556,
              "#d8576b"
             ],
             [
              0.6666666666666666,
              "#ed7953"
             ],
             [
              0.7777777777777778,
              "#fb9f3a"
             ],
             [
              0.8888888888888888,
              "#fdca26"
             ],
             [
              1,
              "#f0f921"
             ]
            ],
            "type": "surface"
           }
          ],
          "table": [
           {
            "cells": {
             "fill": {
              "color": "#EBF0F8"
             },
             "line": {
              "color": "white"
             }
            },
            "header": {
             "fill": {
              "color": "#C8D4E3"
             },
             "line": {
              "color": "white"
             }
            },
            "type": "table"
           }
          ]
         },
         "layout": {
          "annotationdefaults": {
           "arrowcolor": "#2a3f5f",
           "arrowhead": 0,
           "arrowwidth": 1
          },
          "autotypenumbers": "strict",
          "coloraxis": {
           "colorbar": {
            "outlinewidth": 0,
            "ticks": ""
           }
          },
          "colorscale": {
           "diverging": [
            [
             0,
             "#8e0152"
            ],
            [
             0.1,
             "#c51b7d"
            ],
            [
             0.2,
             "#de77ae"
            ],
            [
             0.3,
             "#f1b6da"
            ],
            [
             0.4,
             "#fde0ef"
            ],
            [
             0.5,
             "#f7f7f7"
            ],
            [
             0.6,
             "#e6f5d0"
            ],
            [
             0.7,
             "#b8e186"
            ],
            [
             0.8,
             "#7fbc41"
            ],
            [
             0.9,
             "#4d9221"
            ],
            [
             1,
             "#276419"
            ]
           ],
           "sequential": [
            [
             0,
             "#0d0887"
            ],
            [
             0.1111111111111111,
             "#46039f"
            ],
            [
             0.2222222222222222,
             "#7201a8"
            ],
            [
             0.3333333333333333,
             "#9c179e"
            ],
            [
             0.4444444444444444,
             "#bd3786"
            ],
            [
             0.5555555555555556,
             "#d8576b"
            ],
            [
             0.6666666666666666,
             "#ed7953"
            ],
            [
             0.7777777777777778,
             "#fb9f3a"
            ],
            [
             0.8888888888888888,
             "#fdca26"
            ],
            [
             1,
             "#f0f921"
            ]
           ],
           "sequentialminus": [
            [
             0,
             "#0d0887"
            ],
            [
             0.1111111111111111,
             "#46039f"
            ],
            [
             0.2222222222222222,
             "#7201a8"
            ],
            [
             0.3333333333333333,
             "#9c179e"
            ],
            [
             0.4444444444444444,
             "#bd3786"
            ],
            [
             0.5555555555555556,
             "#d8576b"
            ],
            [
             0.6666666666666666,
             "#ed7953"
            ],
            [
             0.7777777777777778,
             "#fb9f3a"
            ],
            [
             0.8888888888888888,
             "#fdca26"
            ],
            [
             1,
             "#f0f921"
            ]
           ]
          },
          "colorway": [
           "#636efa",
           "#EF553B",
           "#00cc96",
           "#ab63fa",
           "#FFA15A",
           "#19d3f3",
           "#FF6692",
           "#B6E880",
           "#FF97FF",
           "#FECB52"
          ],
          "font": {
           "color": "#2a3f5f"
          },
          "geo": {
           "bgcolor": "white",
           "lakecolor": "white",
           "landcolor": "#E5ECF6",
           "showlakes": true,
           "showland": true,
           "subunitcolor": "white"
          },
          "hoverlabel": {
           "align": "left"
          },
          "hovermode": "closest",
          "mapbox": {
           "style": "light"
          },
          "paper_bgcolor": "white",
          "plot_bgcolor": "#E5ECF6",
          "polar": {
           "angularaxis": {
            "gridcolor": "white",
            "linecolor": "white",
            "ticks": ""
           },
           "bgcolor": "#E5ECF6",
           "radialaxis": {
            "gridcolor": "white",
            "linecolor": "white",
            "ticks": ""
           }
          },
          "scene": {
           "xaxis": {
            "backgroundcolor": "#E5ECF6",
            "gridcolor": "white",
            "gridwidth": 2,
            "linecolor": "white",
            "showbackground": true,
            "ticks": "",
            "zerolinecolor": "white"
           },
           "yaxis": {
            "backgroundcolor": "#E5ECF6",
            "gridcolor": "white",
            "gridwidth": 2,
            "linecolor": "white",
            "showbackground": true,
            "ticks": "",
            "zerolinecolor": "white"
           },
           "zaxis": {
            "backgroundcolor": "#E5ECF6",
            "gridcolor": "white",
            "gridwidth": 2,
            "linecolor": "white",
            "showbackground": true,
            "ticks": "",
            "zerolinecolor": "white"
           }
          },
          "shapedefaults": {
           "line": {
            "color": "#2a3f5f"
           }
          },
          "ternary": {
           "aaxis": {
            "gridcolor": "white",
            "linecolor": "white",
            "ticks": ""
           },
           "baxis": {
            "gridcolor": "white",
            "linecolor": "white",
            "ticks": ""
           },
           "bgcolor": "#E5ECF6",
           "caxis": {
            "gridcolor": "white",
            "linecolor": "white",
            "ticks": ""
           }
          },
          "title": {
           "x": 0.05
          },
          "xaxis": {
           "automargin": true,
           "gridcolor": "white",
           "linecolor": "white",
           "ticks": "",
           "title": {
            "standoff": 15
           },
           "zerolinecolor": "white",
           "zerolinewidth": 2
          },
          "yaxis": {
           "automargin": true,
           "gridcolor": "white",
           "linecolor": "white",
           "ticks": "",
           "title": {
            "standoff": 15
           },
           "zerolinecolor": "white",
           "zerolinewidth": 2
          }
         }
        },
        "title": {
         "text": "Books rating distribution according to series type"
        },
        "xaxis": {
         "anchor": "y",
         "domain": [
          0,
          1
         ],
         "gridcolor": "white",
         "gridwidth": 1,
         "title": {
          "text": "Publish Year"
         },
         "type": "log"
        },
        "yaxis": {
         "anchor": "x",
         "domain": [
          0,
          1
         ],
         "gridcolor": "white",
         "gridwidth": 1,
         "title": {
          "text": "Average Rating"
         }
        }
       }
      },
      "text/html": [
       "<div>                            <div id=\"e8f3d55d-971b-4bc4-ba7c-83492314bc69\" class=\"plotly-graph-div\" style=\"height:525px; width:100%;\"></div>            <script type=\"text/javascript\">                require([\"plotly\"], function(Plotly) {                    window.PLOTLYENV=window.PLOTLYENV || {};                                    if (document.getElementById(\"e8f3d55d-971b-4bc4-ba7c-83492314bc69\")) {                    Plotly.newPlot(                        \"e8f3d55d-971b-4bc4-ba7c-83492314bc69\",                        [{\"hovertemplate\":\"<b>%{hovertext}</b><br><br>Series Category=Duology<br>year_published=%{x}<br>average_rating=%{y}<br>review_count=%{marker.size}<extra></extra>\",\"hovertext\":[\"Wraith\",\"Return to Sullivan's Island\",\"The Love Song of Miss Queenie Hennessy\",\"Glass Soup\",\"Eligible: A Modern Retelling of Pride & Prejudice\",\"The Rules of Magic\",\"Sing, Unburied, Sing\",\"Salvage the Bones\",\"Eventide\",\"Before the Storm\",\"Unleashed\",\"Emma's Secret\",\"Portret van een jongeman\",\"Heart Attack and Vine\",\"The Girl She Used to Be\",\"A Spy by Nature\",\"The Dead Don't Dance\",\"The Spanish Game\",\"Wild Fire\",\"I Wish I Had a Red Dress\",\"Raylan\",\"A Well-Tempered Heart\",\"Old Filth\",\"Trail of the Beast\",\"Probably the World's Best Story About a Dog and the Girl Who Loved Me\",\"Lowcountry Summer\",\"Fire in the Hole: Stories\",\"Us Against You\",\"Maggie\",\"Last Friends\",\"The Man in the Wooden Hat\",\"Soul Identity\",\"The Lost Books Box Set\",\"The Exceptions\",\"Mortal Allies\",\"Don't Let Me Go\",\"Emma\",\"The Bourne Deception\",\"No Child of Mine\",\"Skinny Dip\",\"Amy Falls Down\",\"Benediction\",\"Trojan Horse\",\"Drive\",\"Son of a Trickster\",\"Miss Scandalous\",\"Zero Day\",\"Miss Nobody\",\"The Secrets Between Us\",\"The Space Between Us\",\"The Accursed\",\"The Diary of Darcy J. Rhone\",\"Sita: Warrior of Mithila\",\"Akiko in the Castle of Alia Rellapor\",\"The Fire\",\"Akiko and the Intergalactic Zoo\",\"Conviction\",\"Balance of Power\",\"The Death of Vishnu\",\"Firstborn: A Progeny Novel\",\"Secrets She Left Behind\",\"The Bourne Objective\",\"Star Island\",\"Merde Actually\",\"Metal Gear Solid\",\"The Girl with the Dragon Tattoo\",\"The Girl Who Played with Fire\",\"The Girl Who Kicked the Hornet's Nest\",\"A Dog's Purpose\",\"Skagboys\",\"Gilead\",\"Porno\",\"Quicksilver\",\"The Blade Artist\",\"Beartown\",\"The Confusion\",\"The System of the World\",\"Leaving Time\",\"Love Walked In\",\"After You\",\"The Art of Hearing Heartbeats\",\"Night Fall\",\"The Unlikely Pilgrimage of Harold Fry\",\"Dead Men's Trousers\",\"Home\",\"The Girl in the Spider's Web\",\"Savages\",\"Still Me\",\"Plantation\",\"A Dog's Journey\",\"Belong to Me\",\"Shadow Catcher\",\"The Whole Truth\",\"Shadow Maker\",\"Lila\"],\"legendgroup\":\"Duology\",\"marker\":{\"color\":\"#8b20c9\",\"size\":[13,529,3329,77,10306,6948,12105,5726,1827,750,0,369,398,26,902,213,454,119,1124,138,1199,776,1921,24,6,520,565,9514,211,530,805,411,14,156,109,199,1985,248,289,2993,481,2505,143,801,842,33,509,43,654,3975,1128,337,1359,15,706,13,174,126,591,163,629,225,2079,270,75,67954,33848,28757,13042,553,10164,567,2065,344,23920,703,670,15261,4612,22662,6750,1394,17416,205,3120,12902,1687,11969,484,2982,3682,35,1547,26,3784],\"sizemode\":\"area\",\"sizeref\":21.235625,\"symbol\":\"circle\",\"line\":{\"width\":1},\"sizemin\":4},\"mode\":\"markers\",\"name\":\"Duology\",\"orientation\":\"v\",\"showlegend\":true,\"x\":[2010,2009,2014,2005,2016,2017,2017,2011,2004,2007,2012,2013,2002,2016,2009,2001,2004,2006,2006,2001,2012,2012,2004,2015,2006,2002,2001,2017,2006,2013,2009,2007,2010,2012,2002,2013,2014,2009,2012,2004,2013,2013,2012,2005,2017,2013,2011,2012,2018,2006,2013,2012,2017,2001,2008,2002,2005,2003,2001,2017,2009,2010,2010,2005,2008,2005,2006,2007,2010,2012,2004,2005,2003,2016,2016,2004,2004,2014,2005,2015,2002,2004,2012,2018,2008,2015,2010,2018,2001,2012,2008,2013,2008,2014,2014],\"xaxis\":\"x\",\"y\":[4.03,3.76,4.05,3.88,3.61,3.96,4.02,3.94,4.2,4.05,4.06,3.77,3.79,3.54,3.51,3.51,4.22,3.75,4.01,4.1,3.68,4.13,3.94,4.27,3.7,3.85,3.91,4.33,4.28,3.83,4.05,3.47,4.46,3.98,4.19,4.24,3.05,4.03,4.19,3.81,3.66,4.0,3.77,3.48,3.8,4.25,3.55,4.42,4.46,4.0,3.2,3.26,3.97,4.06,3.26,4.02,3.89,3.92,3.62,4.24,4.04,4.08,3.48,3.57,3.59,4.14,4.24,4.22,4.36,4.04,3.85,3.75,3.93,3.59,4.25,4.26,4.32,3.97,3.71,3.73,4.01,4.09,3.91,3.77,4.01,3.77,3.84,4.14,4.18,4.41,3.86,3.91,4.01,4.16,3.92],\"yaxis\":\"y\",\"type\":\"scatter\"}],                        {\"template\":{\"data\":{\"histogram2dcontour\":[{\"type\":\"histogram2dcontour\",\"colorbar\":{\"outlinewidth\":0,\"ticks\":\"\"},\"colorscale\":[[0.0,\"#0d0887\"],[0.1111111111111111,\"#46039f\"],[0.2222222222222222,\"#7201a8\"],[0.3333333333333333,\"#9c179e\"],[0.4444444444444444,\"#bd3786\"],[0.5555555555555556,\"#d8576b\"],[0.6666666666666666,\"#ed7953\"],[0.7777777777777778,\"#fb9f3a\"],[0.8888888888888888,\"#fdca26\"],[1.0,\"#f0f921\"]]}],\"choropleth\":[{\"type\":\"choropleth\",\"colorbar\":{\"outlinewidth\":0,\"ticks\":\"\"}}],\"histogram2d\":[{\"type\":\"histogram2d\",\"colorbar\":{\"outlinewidth\":0,\"ticks\":\"\"},\"colorscale\":[[0.0,\"#0d0887\"],[0.1111111111111111,\"#46039f\"],[0.2222222222222222,\"#7201a8\"],[0.3333333333333333,\"#9c179e\"],[0.4444444444444444,\"#bd3786\"],[0.5555555555555556,\"#d8576b\"],[0.6666666666666666,\"#ed7953\"],[0.7777777777777778,\"#fb9f3a\"],[0.8888888888888888,\"#fdca26\"],[1.0,\"#f0f921\"]]}],\"heatmap\":[{\"type\":\"heatmap\",\"colorbar\":{\"outlinewidth\":0,\"ticks\":\"\"},\"colorscale\":[[0.0,\"#0d0887\"],[0.1111111111111111,\"#46039f\"],[0.2222222222222222,\"#7201a8\"],[0.3333333333333333,\"#9c179e\"],[0.4444444444444444,\"#bd3786\"],[0.5555555555555556,\"#d8576b\"],[0.6666666666666666,\"#ed7953\"],[0.7777777777777778,\"#fb9f3a\"],[0.8888888888888888,\"#fdca26\"],[1.0,\"#f0f921\"]]}],\"heatmapgl\":[{\"type\":\"heatmapgl\",\"colorbar\":{\"outlinewidth\":0,\"ticks\":\"\"},\"colorscale\":[[0.0,\"#0d0887\"],[0.1111111111111111,\"#46039f\"],[0.2222222222222222,\"#7201a8\"],[0.3333333333333333,\"#9c179e\"],[0.4444444444444444,\"#bd3786\"],[0.5555555555555556,\"#d8576b\"],[0.6666666666666666,\"#ed7953\"],[0.7777777777777778,\"#fb9f3a\"],[0.8888888888888888,\"#fdca26\"],[1.0,\"#f0f921\"]]}],\"contourcarpet\":[{\"type\":\"contourcarpet\",\"colorbar\":{\"outlinewidth\":0,\"ticks\":\"\"}}],\"contour\":[{\"type\":\"contour\",\"colorbar\":{\"outlinewidth\":0,\"ticks\":\"\"},\"colorscale\":[[0.0,\"#0d0887\"],[0.1111111111111111,\"#46039f\"],[0.2222222222222222,\"#7201a8\"],[0.3333333333333333,\"#9c179e\"],[0.4444444444444444,\"#bd3786\"],[0.5555555555555556,\"#d8576b\"],[0.6666666666666666,\"#ed7953\"],[0.7777777777777778,\"#fb9f3a\"],[0.8888888888888888,\"#fdca26\"],[1.0,\"#f0f921\"]]}],\"surface\":[{\"type\":\"surface\",\"colorbar\":{\"outlinewidth\":0,\"ticks\":\"\"},\"colorscale\":[[0.0,\"#0d0887\"],[0.1111111111111111,\"#46039f\"],[0.2222222222222222,\"#7201a8\"],[0.3333333333333333,\"#9c179e\"],[0.4444444444444444,\"#bd3786\"],[0.5555555555555556,\"#d8576b\"],[0.6666666666666666,\"#ed7953\"],[0.7777777777777778,\"#fb9f3a\"],[0.8888888888888888,\"#fdca26\"],[1.0,\"#f0f921\"]]}],\"mesh3d\":[{\"type\":\"mesh3d\",\"colorbar\":{\"outlinewidth\":0,\"ticks\":\"\"}}],\"scatter\":[{\"fillpattern\":{\"fillmode\":\"overlay\",\"size\":10,\"solidity\":0.2},\"type\":\"scatter\"}],\"parcoords\":[{\"type\":\"parcoords\",\"line\":{\"colorbar\":{\"outlinewidth\":0,\"ticks\":\"\"}}}],\"scatterpolargl\":[{\"type\":\"scatterpolargl\",\"marker\":{\"colorbar\":{\"outlinewidth\":0,\"ticks\":\"\"}}}],\"bar\":[{\"error_x\":{\"color\":\"#2a3f5f\"},\"error_y\":{\"color\":\"#2a3f5f\"},\"marker\":{\"line\":{\"color\":\"#E5ECF6\",\"width\":0.5},\"pattern\":{\"fillmode\":\"overlay\",\"size\":10,\"solidity\":0.2}},\"type\":\"bar\"}],\"scattergeo\":[{\"type\":\"scattergeo\",\"marker\":{\"colorbar\":{\"outlinewidth\":0,\"ticks\":\"\"}}}],\"scatterpolar\":[{\"type\":\"scatterpolar\",\"marker\":{\"colorbar\":{\"outlinewidth\":0,\"ticks\":\"\"}}}],\"histogram\":[{\"marker\":{\"pattern\":{\"fillmode\":\"overlay\",\"size\":10,\"solidity\":0.2}},\"type\":\"histogram\"}],\"scattergl\":[{\"type\":\"scattergl\",\"marker\":{\"colorbar\":{\"outlinewidth\":0,\"ticks\":\"\"}}}],\"scatter3d\":[{\"type\":\"scatter3d\",\"line\":{\"colorbar\":{\"outlinewidth\":0,\"ticks\":\"\"}},\"marker\":{\"colorbar\":{\"outlinewidth\":0,\"ticks\":\"\"}}}],\"scattermapbox\":[{\"type\":\"scattermapbox\",\"marker\":{\"colorbar\":{\"outlinewidth\":0,\"ticks\":\"\"}}}],\"scatterternary\":[{\"type\":\"scatterternary\",\"marker\":{\"colorbar\":{\"outlinewidth\":0,\"ticks\":\"\"}}}],\"scattercarpet\":[{\"type\":\"scattercarpet\",\"marker\":{\"colorbar\":{\"outlinewidth\":0,\"ticks\":\"\"}}}],\"carpet\":[{\"aaxis\":{\"endlinecolor\":\"#2a3f5f\",\"gridcolor\":\"white\",\"linecolor\":\"white\",\"minorgridcolor\":\"white\",\"startlinecolor\":\"#2a3f5f\"},\"baxis\":{\"endlinecolor\":\"#2a3f5f\",\"gridcolor\":\"white\",\"linecolor\":\"white\",\"minorgridcolor\":\"white\",\"startlinecolor\":\"#2a3f5f\"},\"type\":\"carpet\"}],\"table\":[{\"cells\":{\"fill\":{\"color\":\"#EBF0F8\"},\"line\":{\"color\":\"white\"}},\"header\":{\"fill\":{\"color\":\"#C8D4E3\"},\"line\":{\"color\":\"white\"}},\"type\":\"table\"}],\"barpolar\":[{\"marker\":{\"line\":{\"color\":\"#E5ECF6\",\"width\":0.5},\"pattern\":{\"fillmode\":\"overlay\",\"size\":10,\"solidity\":0.2}},\"type\":\"barpolar\"}],\"pie\":[{\"automargin\":true,\"type\":\"pie\"}]},\"layout\":{\"autotypenumbers\":\"strict\",\"colorway\":[\"#636efa\",\"#EF553B\",\"#00cc96\",\"#ab63fa\",\"#FFA15A\",\"#19d3f3\",\"#FF6692\",\"#B6E880\",\"#FF97FF\",\"#FECB52\"],\"font\":{\"color\":\"#2a3f5f\"},\"hovermode\":\"closest\",\"hoverlabel\":{\"align\":\"left\"},\"paper_bgcolor\":\"white\",\"plot_bgcolor\":\"#E5ECF6\",\"polar\":{\"bgcolor\":\"#E5ECF6\",\"angularaxis\":{\"gridcolor\":\"white\",\"linecolor\":\"white\",\"ticks\":\"\"},\"radialaxis\":{\"gridcolor\":\"white\",\"linecolor\":\"white\",\"ticks\":\"\"}},\"ternary\":{\"bgcolor\":\"#E5ECF6\",\"aaxis\":{\"gridcolor\":\"white\",\"linecolor\":\"white\",\"ticks\":\"\"},\"baxis\":{\"gridcolor\":\"white\",\"linecolor\":\"white\",\"ticks\":\"\"},\"caxis\":{\"gridcolor\":\"white\",\"linecolor\":\"white\",\"ticks\":\"\"}},\"coloraxis\":{\"colorbar\":{\"outlinewidth\":0,\"ticks\":\"\"}},\"colorscale\":{\"sequential\":[[0.0,\"#0d0887\"],[0.1111111111111111,\"#46039f\"],[0.2222222222222222,\"#7201a8\"],[0.3333333333333333,\"#9c179e\"],[0.4444444444444444,\"#bd3786\"],[0.5555555555555556,\"#d8576b\"],[0.6666666666666666,\"#ed7953\"],[0.7777777777777778,\"#fb9f3a\"],[0.8888888888888888,\"#fdca26\"],[1.0,\"#f0f921\"]],\"sequentialminus\":[[0.0,\"#0d0887\"],[0.1111111111111111,\"#46039f\"],[0.2222222222222222,\"#7201a8\"],[0.3333333333333333,\"#9c179e\"],[0.4444444444444444,\"#bd3786\"],[0.5555555555555556,\"#d8576b\"],[0.6666666666666666,\"#ed7953\"],[0.7777777777777778,\"#fb9f3a\"],[0.8888888888888888,\"#fdca26\"],[1.0,\"#f0f921\"]],\"diverging\":[[0,\"#8e0152\"],[0.1,\"#c51b7d\"],[0.2,\"#de77ae\"],[0.3,\"#f1b6da\"],[0.4,\"#fde0ef\"],[0.5,\"#f7f7f7\"],[0.6,\"#e6f5d0\"],[0.7,\"#b8e186\"],[0.8,\"#7fbc41\"],[0.9,\"#4d9221\"],[1,\"#276419\"]]},\"xaxis\":{\"gridcolor\":\"white\",\"linecolor\":\"white\",\"ticks\":\"\",\"title\":{\"standoff\":15},\"zerolinecolor\":\"white\",\"automargin\":true,\"zerolinewidth\":2},\"yaxis\":{\"gridcolor\":\"white\",\"linecolor\":\"white\",\"ticks\":\"\",\"title\":{\"standoff\":15},\"zerolinecolor\":\"white\",\"automargin\":true,\"zerolinewidth\":2},\"scene\":{\"xaxis\":{\"backgroundcolor\":\"#E5ECF6\",\"gridcolor\":\"white\",\"linecolor\":\"white\",\"showbackground\":true,\"ticks\":\"\",\"zerolinecolor\":\"white\",\"gridwidth\":2},\"yaxis\":{\"backgroundcolor\":\"#E5ECF6\",\"gridcolor\":\"white\",\"linecolor\":\"white\",\"showbackground\":true,\"ticks\":\"\",\"zerolinecolor\":\"white\",\"gridwidth\":2},\"zaxis\":{\"backgroundcolor\":\"#E5ECF6\",\"gridcolor\":\"white\",\"linecolor\":\"white\",\"showbackground\":true,\"ticks\":\"\",\"zerolinecolor\":\"white\",\"gridwidth\":2}},\"shapedefaults\":{\"line\":{\"color\":\"#2a3f5f\"}},\"annotationdefaults\":{\"arrowcolor\":\"#2a3f5f\",\"arrowhead\":0,\"arrowwidth\":1},\"geo\":{\"bgcolor\":\"white\",\"landcolor\":\"#E5ECF6\",\"subunitcolor\":\"white\",\"showland\":true,\"showlakes\":true,\"lakecolor\":\"white\"},\"title\":{\"x\":0.05},\"mapbox\":{\"style\":\"light\"}}},\"xaxis\":{\"anchor\":\"y\",\"domain\":[0.0,1.0],\"title\":{\"text\":\"Publish Year\"},\"type\":\"log\",\"gridcolor\":\"white\",\"gridwidth\":1},\"yaxis\":{\"anchor\":\"x\",\"domain\":[0.0,1.0],\"title\":{\"text\":\"Average Rating\"},\"gridcolor\":\"white\",\"gridwidth\":1},\"legend\":{\"title\":{\"text\":\"Series Category\"},\"tracegroupgap\":0,\"itemsizing\":\"constant\"},\"margin\":{\"t\":60},\"title\":{\"text\":\"Books rating distribution according to series type\"},\"paper_bgcolor\":\"rgb(243, 243, 243)\",\"plot_bgcolor\":\"rgb(243, 243, 243)\"},                        {\"responsive\": true}                    ).then(function(){\n",
       "                            \n",
       "var gd = document.getElementById('e8f3d55d-971b-4bc4-ba7c-83492314bc69');\n",
       "var x = new MutationObserver(function (mutations, observer) {{\n",
       "        var display = window.getComputedStyle(gd).display;\n",
       "        if (!display || display === 'none') {{\n",
       "            console.log([gd, 'removed!']);\n",
       "            Plotly.purge(gd);\n",
       "            observer.disconnect();\n",
       "        }}\n",
       "}});\n",
       "\n",
       "// Listen for the removal of the full notebook cells\n",
       "var notebookContainer = gd.closest('#notebook-container');\n",
       "if (notebookContainer) {{\n",
       "    x.observe(notebookContainer, {childList: true});\n",
       "}}\n",
       "\n",
       "// Listen for the clearing of the current output cell\n",
       "var outputEl = gd.closest('.output');\n",
       "if (outputEl) {{\n",
       "    x.observe(outputEl, {childList: true});\n",
       "}}\n",
       "\n",
       "                        })                };                });            </script>        </div>"
      ]
     },
     "metadata": {},
     "output_type": "display_data"
    }
   ],
   "source": [
    "# Displaying the scatter chart to help publishers\n",
    "display_chart(genre_dropdown.value, series_category_dropdown.value, df_goodreads)"
   ]
  },
  {
   "cell_type": "markdown",
   "id": "439f4545",
   "metadata": {},
   "source": [
    "Above chart denotes how the average trend looks like for a particular genre and category of book. Publishers can even compare the performance of all categories to form their decision. The review count i.e. the size of the diamond denotes the interaction with the book.<br><br>\n",
    "**Observation 1**:<br>\n",
    "- In the above case we can see that interaction and rating have both increased for **`Thriller`** books that are in **`Duology`** series. The trend looks linearly increasing with some highly rated books and through better interaction is conveys the books are being well recieved by the audience. <br>\n",
    "\n",
    "**Observation 2**:<br>\n",
    "- Another example is **`Children`** genre and **`Individual books`**, the trend shows that the average rating has gone up in the recent years but the interaction with the book has decreased which can indicate that the publisher should not proceed with such books\n",
    "- One reason for such a trend could be because a lot of the educational content has moved to digital modes now through interactive games and videos hence such books are no longer in need \n",
    "\n",
    "Hence, based on this more publishers can be attracted by Amazon to form exclusive relationships to sell books. Also, Amazon can explore acquiring opportunities using this approach to maximize its profit through their own publishing unit called Amazon Publishing which already has 15 publishers associated with it."
   ]
  },
  {
   "cell_type": "markdown",
   "id": "62019711",
   "metadata": {},
   "source": [
    "**Another aspect - <u>Self publishing authors?</u>** <br>\n",
    "Through our data we understand that some authors tend to self publish their books. There could be many reasons why an author would like to self publish, following could be a few of them according to us:\n",
    "- to retain full control over their book\n",
    "- they can acheive better royalties \n",
    "- you get to keep the full share of your profit \n",
    "- self publishing also reduces the time taken to publish since you do not have to go according to publisher's criteria \n",
    "\n",
    "According to our [research](https://selfpublishing.com/self-publishing-companies/) on top 10 platforms that authors use to self publish, we will now see the distribution of books across these publishing companies."
   ]
  },
  {
   "cell_type": "code",
   "execution_count": 98,
   "id": "e3cdf84a",
   "metadata": {},
   "outputs": [],
   "source": [
    "self_publishing_companies = ['self', 'self publish', 'selfpublish', 'pub yourself press', 'kindle', 'smashwords',\n",
    "                             'barnes noble', 'kobo', 'lulu', 'apple book']\n",
    "\n",
    "self_published_books = df_goodreads[df_goodreads['publisher'].str.contains('|'.join(self_publishing_companies), case=False, na=False)]"
   ]
  },
  {
   "cell_type": "code",
   "execution_count": 99,
   "id": "c7aae5cf",
   "metadata": {
    "scrolled": false
   },
   "outputs": [
    {
     "name": "stdout",
     "output_type": "stream",
     "text": [
      "Number of self published books -> 336\n"
     ]
    }
   ],
   "source": [
    "print('Number of self published books ->',len(self_published_books))"
   ]
  },
  {
   "cell_type": "markdown",
   "id": "70a754d1",
   "metadata": {},
   "source": [
    "Amazon allows authors to self publish their book for free with Kindle Direct Publishing so that their books can reach millions of users. Let us see how many books are actually published through Kindle or Amazon affiliated companies."
   ]
  },
  {
   "cell_type": "code",
   "execution_count": 100,
   "id": "57d9d3fd",
   "metadata": {
    "scrolled": true
   },
   "outputs": [
    {
     "name": "stdout",
     "output_type": "stream",
     "text": [
      "9.52% of the books\n"
     ]
    }
   ],
   "source": [
    "amazon_self_published_books_num = round(self_published_books['publisher'].str.contains('kindle|amazon', case=False).sum()/ len(self_published_books)*100,2)\n",
    "print(f'{amazon_self_published_books_num}% of the books')"
   ]
  },
  {
   "cell_type": "markdown",
   "id": "9cf440c8",
   "metadata": {},
   "source": [
    "As we can see that only 9.52% of the books have been published through Kindle which means that there is scope for Amazon to expand or promote themselves in a better manner in the self publishing space. Authors can also be attracted through the above chart by helping them realise what genres should be pursue and eventually publish those books through Kindle or any Amazon affiliated publisher.\n",
    "<hr style=\"width:100%;text-align:left;margin-left:0\">"
   ]
  },
  {
   "cell_type": "markdown",
   "id": "2a973360",
   "metadata": {},
   "source": [
    "### 4. **Is there a tendancy to reduce the number of pages in recent books?** <br>\n",
    "Let's now analyze some properties of the book itself like the page number and identify any trends that we can see. For better relevancy, we will only consider data of past 3 decades."
   ]
  },
  {
   "cell_type": "code",
   "execution_count": 677,
   "id": "e3f403e2",
   "metadata": {},
   "outputs": [],
   "source": [
    "# Creating bins for grouping data according to year\n",
    "year_bins = np.linspace(start=1991, stop=2021, num=7)\n",
    "df_goodreads['year_group'] = pd.cut(df_goodreads['year_published'], year_bins)"
   ]
  },
  {
   "cell_type": "code",
   "execution_count": 678,
   "id": "96a29f9e",
   "metadata": {},
   "outputs": [],
   "source": [
    "# Grouping the data to find out average number of pages for that duration\n",
    "df_year_grouped = df_goodreads.groupby('year_group').agg({'number_of_pages':'mean'})\n",
    "df_year_grouped.reset_index(inplace=True)\n",
    "df_year_grouped['year_group'] = df_year_grouped['year_group'].astype('str').str.split(',').str[1].str.split('\\]').str[0]"
   ]
  },
  {
   "cell_type": "code",
   "execution_count": 679,
   "id": "72ad19cc",
   "metadata": {},
   "outputs": [
    {
     "data": {
      "application/vnd.plotly.v1+json": {
       "config": {
        "plotlyServerURL": "https://plot.ly"
       },
       "data": [
        {
         "connectgaps": true,
         "type": "scatter",
         "x": [
          " 1996.0",
          " 2001.0",
          " 2006.0",
          " 2011.0",
          " 2016.0",
          " 2021.0"
         ],
         "y": [
          357.7616086235489,
          345.97764530551416,
          344.8743523316062,
          333.1943879190318,
          325.07750977214226,
          327.08912188728704
         ]
        }
       ],
       "layout": {
        "font": {
         "family": "Courier New, monospace",
         "size": 14
        },
        "template": {
         "data": {
          "bar": [
           {
            "error_x": {
             "color": "#2a3f5f"
            },
            "error_y": {
             "color": "#2a3f5f"
            },
            "marker": {
             "line": {
              "color": "#E5ECF6",
              "width": 0.5
             },
             "pattern": {
              "fillmode": "overlay",
              "size": 10,
              "solidity": 0.2
             }
            },
            "type": "bar"
           }
          ],
          "barpolar": [
           {
            "marker": {
             "line": {
              "color": "#E5ECF6",
              "width": 0.5
             },
             "pattern": {
              "fillmode": "overlay",
              "size": 10,
              "solidity": 0.2
             }
            },
            "type": "barpolar"
           }
          ],
          "carpet": [
           {
            "aaxis": {
             "endlinecolor": "#2a3f5f",
             "gridcolor": "white",
             "linecolor": "white",
             "minorgridcolor": "white",
             "startlinecolor": "#2a3f5f"
            },
            "baxis": {
             "endlinecolor": "#2a3f5f",
             "gridcolor": "white",
             "linecolor": "white",
             "minorgridcolor": "white",
             "startlinecolor": "#2a3f5f"
            },
            "type": "carpet"
           }
          ],
          "choropleth": [
           {
            "colorbar": {
             "outlinewidth": 0,
             "ticks": ""
            },
            "type": "choropleth"
           }
          ],
          "contour": [
           {
            "colorbar": {
             "outlinewidth": 0,
             "ticks": ""
            },
            "colorscale": [
             [
              0,
              "#0d0887"
             ],
             [
              0.1111111111111111,
              "#46039f"
             ],
             [
              0.2222222222222222,
              "#7201a8"
             ],
             [
              0.3333333333333333,
              "#9c179e"
             ],
             [
              0.4444444444444444,
              "#bd3786"
             ],
             [
              0.5555555555555556,
              "#d8576b"
             ],
             [
              0.6666666666666666,
              "#ed7953"
             ],
             [
              0.7777777777777778,
              "#fb9f3a"
             ],
             [
              0.8888888888888888,
              "#fdca26"
             ],
             [
              1,
              "#f0f921"
             ]
            ],
            "type": "contour"
           }
          ],
          "contourcarpet": [
           {
            "colorbar": {
             "outlinewidth": 0,
             "ticks": ""
            },
            "type": "contourcarpet"
           }
          ],
          "heatmap": [
           {
            "colorbar": {
             "outlinewidth": 0,
             "ticks": ""
            },
            "colorscale": [
             [
              0,
              "#0d0887"
             ],
             [
              0.1111111111111111,
              "#46039f"
             ],
             [
              0.2222222222222222,
              "#7201a8"
             ],
             [
              0.3333333333333333,
              "#9c179e"
             ],
             [
              0.4444444444444444,
              "#bd3786"
             ],
             [
              0.5555555555555556,
              "#d8576b"
             ],
             [
              0.6666666666666666,
              "#ed7953"
             ],
             [
              0.7777777777777778,
              "#fb9f3a"
             ],
             [
              0.8888888888888888,
              "#fdca26"
             ],
             [
              1,
              "#f0f921"
             ]
            ],
            "type": "heatmap"
           }
          ],
          "heatmapgl": [
           {
            "colorbar": {
             "outlinewidth": 0,
             "ticks": ""
            },
            "colorscale": [
             [
              0,
              "#0d0887"
             ],
             [
              0.1111111111111111,
              "#46039f"
             ],
             [
              0.2222222222222222,
              "#7201a8"
             ],
             [
              0.3333333333333333,
              "#9c179e"
             ],
             [
              0.4444444444444444,
              "#bd3786"
             ],
             [
              0.5555555555555556,
              "#d8576b"
             ],
             [
              0.6666666666666666,
              "#ed7953"
             ],
             [
              0.7777777777777778,
              "#fb9f3a"
             ],
             [
              0.8888888888888888,
              "#fdca26"
             ],
             [
              1,
              "#f0f921"
             ]
            ],
            "type": "heatmapgl"
           }
          ],
          "histogram": [
           {
            "marker": {
             "pattern": {
              "fillmode": "overlay",
              "size": 10,
              "solidity": 0.2
             }
            },
            "type": "histogram"
           }
          ],
          "histogram2d": [
           {
            "colorbar": {
             "outlinewidth": 0,
             "ticks": ""
            },
            "colorscale": [
             [
              0,
              "#0d0887"
             ],
             [
              0.1111111111111111,
              "#46039f"
             ],
             [
              0.2222222222222222,
              "#7201a8"
             ],
             [
              0.3333333333333333,
              "#9c179e"
             ],
             [
              0.4444444444444444,
              "#bd3786"
             ],
             [
              0.5555555555555556,
              "#d8576b"
             ],
             [
              0.6666666666666666,
              "#ed7953"
             ],
             [
              0.7777777777777778,
              "#fb9f3a"
             ],
             [
              0.8888888888888888,
              "#fdca26"
             ],
             [
              1,
              "#f0f921"
             ]
            ],
            "type": "histogram2d"
           }
          ],
          "histogram2dcontour": [
           {
            "colorbar": {
             "outlinewidth": 0,
             "ticks": ""
            },
            "colorscale": [
             [
              0,
              "#0d0887"
             ],
             [
              0.1111111111111111,
              "#46039f"
             ],
             [
              0.2222222222222222,
              "#7201a8"
             ],
             [
              0.3333333333333333,
              "#9c179e"
             ],
             [
              0.4444444444444444,
              "#bd3786"
             ],
             [
              0.5555555555555556,
              "#d8576b"
             ],
             [
              0.6666666666666666,
              "#ed7953"
             ],
             [
              0.7777777777777778,
              "#fb9f3a"
             ],
             [
              0.8888888888888888,
              "#fdca26"
             ],
             [
              1,
              "#f0f921"
             ]
            ],
            "type": "histogram2dcontour"
           }
          ],
          "mesh3d": [
           {
            "colorbar": {
             "outlinewidth": 0,
             "ticks": ""
            },
            "type": "mesh3d"
           }
          ],
          "parcoords": [
           {
            "line": {
             "colorbar": {
              "outlinewidth": 0,
              "ticks": ""
             }
            },
            "type": "parcoords"
           }
          ],
          "pie": [
           {
            "automargin": true,
            "type": "pie"
           }
          ],
          "scatter": [
           {
            "fillpattern": {
             "fillmode": "overlay",
             "size": 10,
             "solidity": 0.2
            },
            "type": "scatter"
           }
          ],
          "scatter3d": [
           {
            "line": {
             "colorbar": {
              "outlinewidth": 0,
              "ticks": ""
             }
            },
            "marker": {
             "colorbar": {
              "outlinewidth": 0,
              "ticks": ""
             }
            },
            "type": "scatter3d"
           }
          ],
          "scattercarpet": [
           {
            "marker": {
             "colorbar": {
              "outlinewidth": 0,
              "ticks": ""
             }
            },
            "type": "scattercarpet"
           }
          ],
          "scattergeo": [
           {
            "marker": {
             "colorbar": {
              "outlinewidth": 0,
              "ticks": ""
             }
            },
            "type": "scattergeo"
           }
          ],
          "scattergl": [
           {
            "marker": {
             "colorbar": {
              "outlinewidth": 0,
              "ticks": ""
             }
            },
            "type": "scattergl"
           }
          ],
          "scattermapbox": [
           {
            "marker": {
             "colorbar": {
              "outlinewidth": 0,
              "ticks": ""
             }
            },
            "type": "scattermapbox"
           }
          ],
          "scatterpolar": [
           {
            "marker": {
             "colorbar": {
              "outlinewidth": 0,
              "ticks": ""
             }
            },
            "type": "scatterpolar"
           }
          ],
          "scatterpolargl": [
           {
            "marker": {
             "colorbar": {
              "outlinewidth": 0,
              "ticks": ""
             }
            },
            "type": "scatterpolargl"
           }
          ],
          "scatterternary": [
           {
            "marker": {
             "colorbar": {
              "outlinewidth": 0,
              "ticks": ""
             }
            },
            "type": "scatterternary"
           }
          ],
          "surface": [
           {
            "colorbar": {
             "outlinewidth": 0,
             "ticks": ""
            },
            "colorscale": [
             [
              0,
              "#0d0887"
             ],
             [
              0.1111111111111111,
              "#46039f"
             ],
             [
              0.2222222222222222,
              "#7201a8"
             ],
             [
              0.3333333333333333,
              "#9c179e"
             ],
             [
              0.4444444444444444,
              "#bd3786"
             ],
             [
              0.5555555555555556,
              "#d8576b"
             ],
             [
              0.6666666666666666,
              "#ed7953"
             ],
             [
              0.7777777777777778,
              "#fb9f3a"
             ],
             [
              0.8888888888888888,
              "#fdca26"
             ],
             [
              1,
              "#f0f921"
             ]
            ],
            "type": "surface"
           }
          ],
          "table": [
           {
            "cells": {
             "fill": {
              "color": "#EBF0F8"
             },
             "line": {
              "color": "white"
             }
            },
            "header": {
             "fill": {
              "color": "#C8D4E3"
             },
             "line": {
              "color": "white"
             }
            },
            "type": "table"
           }
          ]
         },
         "layout": {
          "annotationdefaults": {
           "arrowcolor": "#2a3f5f",
           "arrowhead": 0,
           "arrowwidth": 1
          },
          "autotypenumbers": "strict",
          "coloraxis": {
           "colorbar": {
            "outlinewidth": 0,
            "ticks": ""
           }
          },
          "colorscale": {
           "diverging": [
            [
             0,
             "#8e0152"
            ],
            [
             0.1,
             "#c51b7d"
            ],
            [
             0.2,
             "#de77ae"
            ],
            [
             0.3,
             "#f1b6da"
            ],
            [
             0.4,
             "#fde0ef"
            ],
            [
             0.5,
             "#f7f7f7"
            ],
            [
             0.6,
             "#e6f5d0"
            ],
            [
             0.7,
             "#b8e186"
            ],
            [
             0.8,
             "#7fbc41"
            ],
            [
             0.9,
             "#4d9221"
            ],
            [
             1,
             "#276419"
            ]
           ],
           "sequential": [
            [
             0,
             "#0d0887"
            ],
            [
             0.1111111111111111,
             "#46039f"
            ],
            [
             0.2222222222222222,
             "#7201a8"
            ],
            [
             0.3333333333333333,
             "#9c179e"
            ],
            [
             0.4444444444444444,
             "#bd3786"
            ],
            [
             0.5555555555555556,
             "#d8576b"
            ],
            [
             0.6666666666666666,
             "#ed7953"
            ],
            [
             0.7777777777777778,
             "#fb9f3a"
            ],
            [
             0.8888888888888888,
             "#fdca26"
            ],
            [
             1,
             "#f0f921"
            ]
           ],
           "sequentialminus": [
            [
             0,
             "#0d0887"
            ],
            [
             0.1111111111111111,
             "#46039f"
            ],
            [
             0.2222222222222222,
             "#7201a8"
            ],
            [
             0.3333333333333333,
             "#9c179e"
            ],
            [
             0.4444444444444444,
             "#bd3786"
            ],
            [
             0.5555555555555556,
             "#d8576b"
            ],
            [
             0.6666666666666666,
             "#ed7953"
            ],
            [
             0.7777777777777778,
             "#fb9f3a"
            ],
            [
             0.8888888888888888,
             "#fdca26"
            ],
            [
             1,
             "#f0f921"
            ]
           ]
          },
          "colorway": [
           "#636efa",
           "#EF553B",
           "#00cc96",
           "#ab63fa",
           "#FFA15A",
           "#19d3f3",
           "#FF6692",
           "#B6E880",
           "#FF97FF",
           "#FECB52"
          ],
          "font": {
           "color": "#2a3f5f"
          },
          "geo": {
           "bgcolor": "white",
           "lakecolor": "white",
           "landcolor": "#E5ECF6",
           "showlakes": true,
           "showland": true,
           "subunitcolor": "white"
          },
          "hoverlabel": {
           "align": "left"
          },
          "hovermode": "closest",
          "mapbox": {
           "style": "light"
          },
          "paper_bgcolor": "white",
          "plot_bgcolor": "#E5ECF6",
          "polar": {
           "angularaxis": {
            "gridcolor": "white",
            "linecolor": "white",
            "ticks": ""
           },
           "bgcolor": "#E5ECF6",
           "radialaxis": {
            "gridcolor": "white",
            "linecolor": "white",
            "ticks": ""
           }
          },
          "scene": {
           "xaxis": {
            "backgroundcolor": "#E5ECF6",
            "gridcolor": "white",
            "gridwidth": 2,
            "linecolor": "white",
            "showbackground": true,
            "ticks": "",
            "zerolinecolor": "white"
           },
           "yaxis": {
            "backgroundcolor": "#E5ECF6",
            "gridcolor": "white",
            "gridwidth": 2,
            "linecolor": "white",
            "showbackground": true,
            "ticks": "",
            "zerolinecolor": "white"
           },
           "zaxis": {
            "backgroundcolor": "#E5ECF6",
            "gridcolor": "white",
            "gridwidth": 2,
            "linecolor": "white",
            "showbackground": true,
            "ticks": "",
            "zerolinecolor": "white"
           }
          },
          "shapedefaults": {
           "line": {
            "color": "#2a3f5f"
           }
          },
          "ternary": {
           "aaxis": {
            "gridcolor": "white",
            "linecolor": "white",
            "ticks": ""
           },
           "baxis": {
            "gridcolor": "white",
            "linecolor": "white",
            "ticks": ""
           },
           "bgcolor": "#E5ECF6",
           "caxis": {
            "gridcolor": "white",
            "linecolor": "white",
            "ticks": ""
           }
          },
          "title": {
           "x": 0.05
          },
          "xaxis": {
           "automargin": true,
           "gridcolor": "white",
           "linecolor": "white",
           "ticks": "",
           "title": {
            "standoff": 15
           },
           "zerolinecolor": "white",
           "zerolinewidth": 2
          },
          "yaxis": {
           "automargin": true,
           "gridcolor": "white",
           "linecolor": "white",
           "ticks": "",
           "title": {
            "standoff": 15
           },
           "zerolinecolor": "white",
           "zerolinewidth": 2
          }
         }
        },
        "title": {
         "text": "Trend of Number of Pages"
        },
        "xaxis": {
         "title": {
          "text": "Publish Year"
         }
        },
        "yaxis": {
         "title": {
          "text": "Number of pages"
         }
        }
       }
      },
      "text/html": [
       "<div>                            <div id=\"75f9f095-154a-4424-bfd0-8f3d032de9ab\" class=\"plotly-graph-div\" style=\"height:525px; width:100%;\"></div>            <script type=\"text/javascript\">                require([\"plotly\"], function(Plotly) {                    window.PLOTLYENV=window.PLOTLYENV || {};                                    if (document.getElementById(\"75f9f095-154a-4424-bfd0-8f3d032de9ab\")) {                    Plotly.newPlot(                        \"75f9f095-154a-4424-bfd0-8f3d032de9ab\",                        [{\"connectgaps\":true,\"x\":[\" 1996.0\",\" 2001.0\",\" 2006.0\",\" 2011.0\",\" 2016.0\",\" 2021.0\"],\"y\":[357.7616086235489,345.97764530551416,344.8743523316062,333.1943879190318,325.07750977214226,327.08912188728704],\"type\":\"scatter\"}],                        {\"template\":{\"data\":{\"histogram2dcontour\":[{\"type\":\"histogram2dcontour\",\"colorbar\":{\"outlinewidth\":0,\"ticks\":\"\"},\"colorscale\":[[0.0,\"#0d0887\"],[0.1111111111111111,\"#46039f\"],[0.2222222222222222,\"#7201a8\"],[0.3333333333333333,\"#9c179e\"],[0.4444444444444444,\"#bd3786\"],[0.5555555555555556,\"#d8576b\"],[0.6666666666666666,\"#ed7953\"],[0.7777777777777778,\"#fb9f3a\"],[0.8888888888888888,\"#fdca26\"],[1.0,\"#f0f921\"]]}],\"choropleth\":[{\"type\":\"choropleth\",\"colorbar\":{\"outlinewidth\":0,\"ticks\":\"\"}}],\"histogram2d\":[{\"type\":\"histogram2d\",\"colorbar\":{\"outlinewidth\":0,\"ticks\":\"\"},\"colorscale\":[[0.0,\"#0d0887\"],[0.1111111111111111,\"#46039f\"],[0.2222222222222222,\"#7201a8\"],[0.3333333333333333,\"#9c179e\"],[0.4444444444444444,\"#bd3786\"],[0.5555555555555556,\"#d8576b\"],[0.6666666666666666,\"#ed7953\"],[0.7777777777777778,\"#fb9f3a\"],[0.8888888888888888,\"#fdca26\"],[1.0,\"#f0f921\"]]}],\"heatmap\":[{\"type\":\"heatmap\",\"colorbar\":{\"outlinewidth\":0,\"ticks\":\"\"},\"colorscale\":[[0.0,\"#0d0887\"],[0.1111111111111111,\"#46039f\"],[0.2222222222222222,\"#7201a8\"],[0.3333333333333333,\"#9c179e\"],[0.4444444444444444,\"#bd3786\"],[0.5555555555555556,\"#d8576b\"],[0.6666666666666666,\"#ed7953\"],[0.7777777777777778,\"#fb9f3a\"],[0.8888888888888888,\"#fdca26\"],[1.0,\"#f0f921\"]]}],\"heatmapgl\":[{\"type\":\"heatmapgl\",\"colorbar\":{\"outlinewidth\":0,\"ticks\":\"\"},\"colorscale\":[[0.0,\"#0d0887\"],[0.1111111111111111,\"#46039f\"],[0.2222222222222222,\"#7201a8\"],[0.3333333333333333,\"#9c179e\"],[0.4444444444444444,\"#bd3786\"],[0.5555555555555556,\"#d8576b\"],[0.6666666666666666,\"#ed7953\"],[0.7777777777777778,\"#fb9f3a\"],[0.8888888888888888,\"#fdca26\"],[1.0,\"#f0f921\"]]}],\"contourcarpet\":[{\"type\":\"contourcarpet\",\"colorbar\":{\"outlinewidth\":0,\"ticks\":\"\"}}],\"contour\":[{\"type\":\"contour\",\"colorbar\":{\"outlinewidth\":0,\"ticks\":\"\"},\"colorscale\":[[0.0,\"#0d0887\"],[0.1111111111111111,\"#46039f\"],[0.2222222222222222,\"#7201a8\"],[0.3333333333333333,\"#9c179e\"],[0.4444444444444444,\"#bd3786\"],[0.5555555555555556,\"#d8576b\"],[0.6666666666666666,\"#ed7953\"],[0.7777777777777778,\"#fb9f3a\"],[0.8888888888888888,\"#fdca26\"],[1.0,\"#f0f921\"]]}],\"surface\":[{\"type\":\"surface\",\"colorbar\":{\"outlinewidth\":0,\"ticks\":\"\"},\"colorscale\":[[0.0,\"#0d0887\"],[0.1111111111111111,\"#46039f\"],[0.2222222222222222,\"#7201a8\"],[0.3333333333333333,\"#9c179e\"],[0.4444444444444444,\"#bd3786\"],[0.5555555555555556,\"#d8576b\"],[0.6666666666666666,\"#ed7953\"],[0.7777777777777778,\"#fb9f3a\"],[0.8888888888888888,\"#fdca26\"],[1.0,\"#f0f921\"]]}],\"mesh3d\":[{\"type\":\"mesh3d\",\"colorbar\":{\"outlinewidth\":0,\"ticks\":\"\"}}],\"scatter\":[{\"fillpattern\":{\"fillmode\":\"overlay\",\"size\":10,\"solidity\":0.2},\"type\":\"scatter\"}],\"parcoords\":[{\"type\":\"parcoords\",\"line\":{\"colorbar\":{\"outlinewidth\":0,\"ticks\":\"\"}}}],\"scatterpolargl\":[{\"type\":\"scatterpolargl\",\"marker\":{\"colorbar\":{\"outlinewidth\":0,\"ticks\":\"\"}}}],\"bar\":[{\"error_x\":{\"color\":\"#2a3f5f\"},\"error_y\":{\"color\":\"#2a3f5f\"},\"marker\":{\"line\":{\"color\":\"#E5ECF6\",\"width\":0.5},\"pattern\":{\"fillmode\":\"overlay\",\"size\":10,\"solidity\":0.2}},\"type\":\"bar\"}],\"scattergeo\":[{\"type\":\"scattergeo\",\"marker\":{\"colorbar\":{\"outlinewidth\":0,\"ticks\":\"\"}}}],\"scatterpolar\":[{\"type\":\"scatterpolar\",\"marker\":{\"colorbar\":{\"outlinewidth\":0,\"ticks\":\"\"}}}],\"histogram\":[{\"marker\":{\"pattern\":{\"fillmode\":\"overlay\",\"size\":10,\"solidity\":0.2}},\"type\":\"histogram\"}],\"scattergl\":[{\"type\":\"scattergl\",\"marker\":{\"colorbar\":{\"outlinewidth\":0,\"ticks\":\"\"}}}],\"scatter3d\":[{\"type\":\"scatter3d\",\"line\":{\"colorbar\":{\"outlinewidth\":0,\"ticks\":\"\"}},\"marker\":{\"colorbar\":{\"outlinewidth\":0,\"ticks\":\"\"}}}],\"scattermapbox\":[{\"type\":\"scattermapbox\",\"marker\":{\"colorbar\":{\"outlinewidth\":0,\"ticks\":\"\"}}}],\"scatterternary\":[{\"type\":\"scatterternary\",\"marker\":{\"colorbar\":{\"outlinewidth\":0,\"ticks\":\"\"}}}],\"scattercarpet\":[{\"type\":\"scattercarpet\",\"marker\":{\"colorbar\":{\"outlinewidth\":0,\"ticks\":\"\"}}}],\"carpet\":[{\"aaxis\":{\"endlinecolor\":\"#2a3f5f\",\"gridcolor\":\"white\",\"linecolor\":\"white\",\"minorgridcolor\":\"white\",\"startlinecolor\":\"#2a3f5f\"},\"baxis\":{\"endlinecolor\":\"#2a3f5f\",\"gridcolor\":\"white\",\"linecolor\":\"white\",\"minorgridcolor\":\"white\",\"startlinecolor\":\"#2a3f5f\"},\"type\":\"carpet\"}],\"table\":[{\"cells\":{\"fill\":{\"color\":\"#EBF0F8\"},\"line\":{\"color\":\"white\"}},\"header\":{\"fill\":{\"color\":\"#C8D4E3\"},\"line\":{\"color\":\"white\"}},\"type\":\"table\"}],\"barpolar\":[{\"marker\":{\"line\":{\"color\":\"#E5ECF6\",\"width\":0.5},\"pattern\":{\"fillmode\":\"overlay\",\"size\":10,\"solidity\":0.2}},\"type\":\"barpolar\"}],\"pie\":[{\"automargin\":true,\"type\":\"pie\"}]},\"layout\":{\"autotypenumbers\":\"strict\",\"colorway\":[\"#636efa\",\"#EF553B\",\"#00cc96\",\"#ab63fa\",\"#FFA15A\",\"#19d3f3\",\"#FF6692\",\"#B6E880\",\"#FF97FF\",\"#FECB52\"],\"font\":{\"color\":\"#2a3f5f\"},\"hovermode\":\"closest\",\"hoverlabel\":{\"align\":\"left\"},\"paper_bgcolor\":\"white\",\"plot_bgcolor\":\"#E5ECF6\",\"polar\":{\"bgcolor\":\"#E5ECF6\",\"angularaxis\":{\"gridcolor\":\"white\",\"linecolor\":\"white\",\"ticks\":\"\"},\"radialaxis\":{\"gridcolor\":\"white\",\"linecolor\":\"white\",\"ticks\":\"\"}},\"ternary\":{\"bgcolor\":\"#E5ECF6\",\"aaxis\":{\"gridcolor\":\"white\",\"linecolor\":\"white\",\"ticks\":\"\"},\"baxis\":{\"gridcolor\":\"white\",\"linecolor\":\"white\",\"ticks\":\"\"},\"caxis\":{\"gridcolor\":\"white\",\"linecolor\":\"white\",\"ticks\":\"\"}},\"coloraxis\":{\"colorbar\":{\"outlinewidth\":0,\"ticks\":\"\"}},\"colorscale\":{\"sequential\":[[0.0,\"#0d0887\"],[0.1111111111111111,\"#46039f\"],[0.2222222222222222,\"#7201a8\"],[0.3333333333333333,\"#9c179e\"],[0.4444444444444444,\"#bd3786\"],[0.5555555555555556,\"#d8576b\"],[0.6666666666666666,\"#ed7953\"],[0.7777777777777778,\"#fb9f3a\"],[0.8888888888888888,\"#fdca26\"],[1.0,\"#f0f921\"]],\"sequentialminus\":[[0.0,\"#0d0887\"],[0.1111111111111111,\"#46039f\"],[0.2222222222222222,\"#7201a8\"],[0.3333333333333333,\"#9c179e\"],[0.4444444444444444,\"#bd3786\"],[0.5555555555555556,\"#d8576b\"],[0.6666666666666666,\"#ed7953\"],[0.7777777777777778,\"#fb9f3a\"],[0.8888888888888888,\"#fdca26\"],[1.0,\"#f0f921\"]],\"diverging\":[[0,\"#8e0152\"],[0.1,\"#c51b7d\"],[0.2,\"#de77ae\"],[0.3,\"#f1b6da\"],[0.4,\"#fde0ef\"],[0.5,\"#f7f7f7\"],[0.6,\"#e6f5d0\"],[0.7,\"#b8e186\"],[0.8,\"#7fbc41\"],[0.9,\"#4d9221\"],[1,\"#276419\"]]},\"xaxis\":{\"gridcolor\":\"white\",\"linecolor\":\"white\",\"ticks\":\"\",\"title\":{\"standoff\":15},\"zerolinecolor\":\"white\",\"automargin\":true,\"zerolinewidth\":2},\"yaxis\":{\"gridcolor\":\"white\",\"linecolor\":\"white\",\"ticks\":\"\",\"title\":{\"standoff\":15},\"zerolinecolor\":\"white\",\"automargin\":true,\"zerolinewidth\":2},\"scene\":{\"xaxis\":{\"backgroundcolor\":\"#E5ECF6\",\"gridcolor\":\"white\",\"linecolor\":\"white\",\"showbackground\":true,\"ticks\":\"\",\"zerolinecolor\":\"white\",\"gridwidth\":2},\"yaxis\":{\"backgroundcolor\":\"#E5ECF6\",\"gridcolor\":\"white\",\"linecolor\":\"white\",\"showbackground\":true,\"ticks\":\"\",\"zerolinecolor\":\"white\",\"gridwidth\":2},\"zaxis\":{\"backgroundcolor\":\"#E5ECF6\",\"gridcolor\":\"white\",\"linecolor\":\"white\",\"showbackground\":true,\"ticks\":\"\",\"zerolinecolor\":\"white\",\"gridwidth\":2}},\"shapedefaults\":{\"line\":{\"color\":\"#2a3f5f\"}},\"annotationdefaults\":{\"arrowcolor\":\"#2a3f5f\",\"arrowhead\":0,\"arrowwidth\":1},\"geo\":{\"bgcolor\":\"white\",\"landcolor\":\"#E5ECF6\",\"subunitcolor\":\"white\",\"showland\":true,\"showlakes\":true,\"lakecolor\":\"white\"},\"title\":{\"x\":0.05},\"mapbox\":{\"style\":\"light\"}}},\"font\":{\"family\":\"Courier New, monospace\",\"size\":14},\"title\":{\"text\":\"Trend of Number of Pages\"},\"xaxis\":{\"title\":{\"text\":\"Publish Year\"}},\"yaxis\":{\"title\":{\"text\":\"Number of pages\"}}},                        {\"responsive\": true}                    ).then(function(){\n",
       "                            \n",
       "var gd = document.getElementById('75f9f095-154a-4424-bfd0-8f3d032de9ab');\n",
       "var x = new MutationObserver(function (mutations, observer) {{\n",
       "        var display = window.getComputedStyle(gd).display;\n",
       "        if (!display || display === 'none') {{\n",
       "            console.log([gd, 'removed!']);\n",
       "            Plotly.purge(gd);\n",
       "            observer.disconnect();\n",
       "        }}\n",
       "}});\n",
       "\n",
       "// Listen for the removal of the full notebook cells\n",
       "var notebookContainer = gd.closest('#notebook-container');\n",
       "if (notebookContainer) {{\n",
       "    x.observe(notebookContainer, {childList: true});\n",
       "}}\n",
       "\n",
       "// Listen for the clearing of the current output cell\n",
       "var outputEl = gd.closest('.output');\n",
       "if (outputEl) {{\n",
       "    x.observe(outputEl, {childList: true});\n",
       "}}\n",
       "\n",
       "                        })                };                });            </script>        </div>"
      ]
     },
     "metadata": {},
     "output_type": "display_data"
    }
   ],
   "source": [
    "# Plotting a graph to show the trend of average number of pages\n",
    "import plotly.graph_objects as go\n",
    "\n",
    "x = df_year_grouped['year_group'].astype(str)\n",
    "\n",
    "fig = go.Figure()\n",
    "\n",
    "fig.add_trace(go.Scatter(\n",
    "    x=x,\n",
    "    y= df_year_grouped['number_of_pages'] ,\n",
    "    connectgaps=True \n",
    "))\n",
    "\n",
    "fig.update_layout(\n",
    "    title=\"Trend of Number of Pages\",\n",
    "    xaxis_title=\"Publish Year\",\n",
    "    yaxis_title=\"Number of pages\",\n",
    "    font=dict(\n",
    "        family=\"Courier New, monospace\",\n",
    "        size=14,\n",
    "    )\n",
    ")\n",
    "\n",
    "fig.show()"
   ]
  },
  {
   "cell_type": "markdown",
   "id": "72cbc7fb",
   "metadata": {},
   "source": [
    "As we can observe from the above graph, data shows a downward trend for number of pages for the past 3 decades. From this we can infer that there is infact a tendancy to reduce the number of pages in books in recent books. According to us, this trend could be due to the fact that we are moving into a more digital world and people prefer to multitask more and hence books having less number of pages containing abstract content. <br>\n",
    "\n",
    "Also, reading a physical book has become more of a leisure activity and people are not allocating sufficient time for an individual activity. Since a larger proportion of people prefer to multitask on a regular basis, the audiobooks have gained popularity by monetizing this oppurtunity. Audiobooks have raisen in popularity as it appeals to even non-passionate readers to carry on with their day to day activities while listening to an audiobook.\n",
    "<hr style=\"width:100%;text-align:left;margin-left:0\">"
   ]
  },
  {
   "cell_type": "markdown",
   "id": "ae0cb00a",
   "metadata": {},
   "source": [
    "### 4. Which books can be converted into audio books? What is the predicted price for such books?"
   ]
  },
  {
   "cell_type": "markdown",
   "id": "cd694dd8",
   "metadata": {},
   "source": [
    "<b>Why Audiobook?</b><br>\n",
    "Previously, Everyone always had to choose between reading and other activities. With audiobooks, the amount of possible time for consuming books has drastically increased. Also, There are some books that are just hard to read or your attention span may not be great. At those times, audiobooks can greatly help. We spend so much time looking at screens, especially nowadays, and strain them. All of us need to give our eyes a break. Audiobooks help reduce strain on the eyes because they don’t need you to actually read. You can just listen. Your eyes get breaks even as you smash your reading goals.\\\n",
    "In addition, with the advent of audio books, the bookreading market has expanded with non passionate readers of books also entering the market, since previously in the physical books era, the market was restricted to passionate book lovers.\n",
    "\n",
    "<b>What is Audible?</b><br>\n",
    "Audible enriches the lives of millions of listeners by producing and distributing unique spoken-word entertainment and audiobooks. Audible is owned by Amazon. Amazon has a virtual stranglehold on the digital book business due to its Kindle e-readers and Audible audiobooks. The customer appears to have profited the most from this digital book monopoly as new books are now more affordable than ever.<br>\n",
    "\n",
    "<b>Importance of Analysis:</b><br>\n",
    "The Goodreads data along with the Audible data will enrich our analysis on books to be converted to audiobooks. \n",
    "Eventhough audiobooks are considered one of the the fastest expanding formats, the present economics of making an audiobook are difficult, particularly for individual authors.<br> The upcoming analysis will predict the selling price for the audio book. The predicted price of the audio book along with the above trend identified in the Goodreads data will help Amazon decide the the books to be converted to an audiobook."
   ]
  },
  {
   "cell_type": "markdown",
   "id": "1481687e",
   "metadata": {},
   "source": [
    "According to our [research](https://blog.ironmarkusa.com/what-are-the-standard-book-sizes-in-publishing), books that are sold are of two types.\n",
    "1. **Mass market paperbacks:** These books are usually sold at the airports, convenience stores and supermarkets. These are usually small in size and low priced. The usual size for these books is 4.25\" x 6.87\".\n",
    "2. **Trade paperbacks:** These books are of high quality and are mostly sold at bookstores. The size of the U.S. Trade paperback is 6\" X 9\".\n",
    "\n",
    "Since the users on Goodreads are mostly passionate readers, they tend to prefer the high quality Trade paperbacks and therefore, for our calculations we consider the US Trade paperback with the size **6\" x 9\"**.\n",
    "\n",
    "For US Trade paperback of the 6\" x 9\" dimensions, the usual number of words per page is 300, according to our [research](https://www.jodibrandoneditorial.com/blog/word-count-how-many-words-should-your-book-be#:~:text=For%20the%20larger%2C%206%20x,for%20a%20200%2Dpage%20book.).\n",
    "\n",
    "The average narration speed in an audio book is **150 words per minute (wpm)**. Although, there is an option to increase the speed and slow it down in an audio book, we take into consideration the standard speed of 150wpm as mentioned [here](https://thebookbuff.com/is-an-audiobook-faster-than-reading/#:~:text=The%20average%20reader%20reads%20200,not%20because%20of%20the%20speed.)."
   ]
  },
  {
   "cell_type": "code",
   "execution_count": 104,
   "id": "16b174fc",
   "metadata": {},
   "outputs": [],
   "source": [
    "# Dropping all the rows with null values in the number of pages column to facilitate an accurate data analysis\n",
    "goodreads_df.drop(goodreads_df[goodreads_df['number_of_pages'].isnull()].index, inplace=True)"
   ]
  },
  {
   "cell_type": "code",
   "execution_count": 105,
   "id": "85eace12",
   "metadata": {},
   "outputs": [],
   "source": [
    "#Declare the number of words per page (1)\n",
    "words_per_page = 300\n",
    "\n",
    "# Determine the duration of an audio book in minutes for a current physical book\n",
    "goodreads_df['Duration'] = (goodreads_df['number_of_pages']*words_per_page)/150"
   ]
  },
  {
   "cell_type": "code",
   "execution_count": 106,
   "id": "93e5d8a9",
   "metadata": {},
   "outputs": [],
   "source": [
    "# Convert the type to int\n",
    "goodreads_df['Duration'] = goodreads_df['Duration'].astype(int)"
   ]
  },
  {
   "cell_type": "code",
   "execution_count": 107,
   "id": "fc2d46f9",
   "metadata": {},
   "outputs": [],
   "source": [
    "# Drop all the rows with zero duration\n",
    "goodreads_df.drop(goodreads_df[goodreads_df['Duration'] == 0].index, inplace=True)"
   ]
  },
  {
   "cell_type": "markdown",
   "id": "5b9ba10a",
   "metadata": {},
   "source": [
    "**Mapping the genres in Goodreads to the ones that are in Audible dataset**"
   ]
  },
  {
   "cell_type": "code",
   "execution_count": 108,
   "id": "a36b5ec6",
   "metadata": {
    "scrolled": true
   },
   "outputs": [
    {
     "data": {
      "text/plain": [
       "array(['Bios & Memoirs', 'Business', 'Mysteries & Thrillers', 'Fiction',\n",
       "       'Radio & TV', 'Sci-Fi & Fantasy', 'Classics', 'Comedy',\n",
       "       'Drama & Poetry', 'History', 'Nonfiction', 'Sports', 'Teens',\n",
       "       'Religion & Spirituality', 'Self Development',\n",
       "       'Erotica & Sexuality', 'Kids', 'Travel & Adventure',\n",
       "       'Science & Technology', 'Romance', 'Health & Fitness',\n",
       "       'Arts & Entertainment', 'Newspapers & Magazines', 'Live Events',\n",
       "       'Language Instruction', 'Nostalgia Radio'], dtype=object)"
      ]
     },
     "execution_count": 108,
     "metadata": {},
     "output_type": "execute_result"
    }
   ],
   "source": [
    "# Audiobook genres\n",
    "audible_df['category'].unique()"
   ]
  },
  {
   "cell_type": "markdown",
   "id": "957398d7",
   "metadata": {},
   "source": [
    "In the Goodreads dataset we have different set of genres as compared to the genres in the Audible dataset. To get uniformity in genres for our regression model, the genres in the Goodreads dataset need to be mapped to the ones in the Audible Dataset. In order to achieve this, we need to find the semantic similarity between the genres and map to the one with highest similarity score.\\\n",
    "We utilize **Universal Sentence Encoder** to find the semantic similarity which is part of the **[tensorflow_hub](https://www.tensorflow.org/hub)** library."
   ]
  },
  {
   "cell_type": "markdown",
   "id": "83252773",
   "metadata": {},
   "source": [
    "We observe that there is a genre called **Live Events** in the audible dataset which is not relevant to the physical books genre since live events cannot be recorded in the form of book. So to map the genres we drop the genre from the audible dataset."
   ]
  },
  {
   "cell_type": "code",
   "execution_count": 109,
   "id": "7d14b237",
   "metadata": {},
   "outputs": [],
   "source": [
    "# Drop the Live Events genre books\n",
    "audible_modeling_df = audible_df.drop(audible_df[audible_df['category'] == 'Live Events'].index)"
   ]
  },
  {
   "cell_type": "code",
   "execution_count": 110,
   "id": "f7446b41",
   "metadata": {},
   "outputs": [],
   "source": [
    "# Load the universal-sentence encoder model\n",
    "module_url = \"https://tfhub.dev/google/universal-sentence-encoder-large/5\" \n",
    "model = hub.load(module_url)"
   ]
  },
  {
   "cell_type": "code",
   "execution_count": 111,
   "id": "2bbc4bfc",
   "metadata": {},
   "outputs": [],
   "source": [
    "# Define a function to map the genres\n",
    "audible_genres = audible_modeling_df['category'].unique()\n",
    "goodreads_genres = goodreads_df['main_genre'].unique()\n",
    "\n",
    "def map_genres(genres, model):\n",
    "    \n",
    "    mapped_genres = []\n",
    "    \n",
    "    # Loop through the goodreads_genres and map them\n",
    "    for genre in genres:\n",
    "        genre_embedding = model(np.array([genre]+list(audible_genres)))\n",
    "        dists = list(np.inner(genre_embedding[0], genre_embedding))\n",
    "        dist_list = dists[1:]\n",
    "        index = dist_list.index(max(dist_list))\n",
    "        mapped_genres.append(audible_genres[index])\n",
    "    \n",
    "    return mapped_genres"
   ]
  },
  {
   "cell_type": "code",
   "execution_count": 112,
   "id": "83635722",
   "metadata": {},
   "outputs": [],
   "source": [
    "# New genres\n",
    "new_genres = map_genres(goodreads_genres, model)"
   ]
  },
  {
   "cell_type": "code",
   "execution_count": 113,
   "id": "0493bb3c",
   "metadata": {},
   "outputs": [],
   "source": [
    "# Create a mapping dictionary\n",
    "genre_map_dict = dict(zip(goodreads_genres, new_genres))"
   ]
  },
  {
   "cell_type": "code",
   "execution_count": 114,
   "id": "a33d162c",
   "metadata": {},
   "outputs": [
    {
     "data": {
      "text/html": [
       "<div>\n",
       "<style scoped>\n",
       "    .dataframe tbody tr th:only-of-type {\n",
       "        vertical-align: middle;\n",
       "    }\n",
       "\n",
       "    .dataframe tbody tr th {\n",
       "        vertical-align: top;\n",
       "    }\n",
       "\n",
       "    .dataframe thead th {\n",
       "        text-align: right;\n",
       "    }\n",
       "</style>\n",
       "<table border=\"1\" class=\"dataframe\">\n",
       "  <thead>\n",
       "    <tr style=\"text-align: right;\">\n",
       "      <th></th>\n",
       "      <th>id</th>\n",
       "      <th>title</th>\n",
       "      <th>author</th>\n",
       "      <th>rating_count</th>\n",
       "      <th>review_count</th>\n",
       "      <th>average_rating</th>\n",
       "      <th>five_star_ratings</th>\n",
       "      <th>four_star_ratings</th>\n",
       "      <th>three_star_ratings</th>\n",
       "      <th>two_star_ratings</th>\n",
       "      <th>...</th>\n",
       "      <th>genre_and_votes</th>\n",
       "      <th>characters</th>\n",
       "      <th>awards</th>\n",
       "      <th>series_name</th>\n",
       "      <th>book_number_in_series</th>\n",
       "      <th>main_genre</th>\n",
       "      <th>year_published</th>\n",
       "      <th>series_category</th>\n",
       "      <th>Duration</th>\n",
       "      <th>Mapped_Genre</th>\n",
       "    </tr>\n",
       "  </thead>\n",
       "  <tbody>\n",
       "    <tr>\n",
       "      <th>0</th>\n",
       "      <td>630104</td>\n",
       "      <td>Inner Circle</td>\n",
       "      <td>Kate Brian, Julian Peploe</td>\n",
       "      <td>7597</td>\n",
       "      <td>196</td>\n",
       "      <td>4.03</td>\n",
       "      <td>3045</td>\n",
       "      <td>2323</td>\n",
       "      <td>1748</td>\n",
       "      <td>389</td>\n",
       "      <td>...</td>\n",
       "      <td>Young Adult 161, Mystery 45, Romance 32</td>\n",
       "      <td>NaN</td>\n",
       "      <td>NaN</td>\n",
       "      <td>Private</td>\n",
       "      <td>5</td>\n",
       "      <td>Young Adult</td>\n",
       "      <td>2007</td>\n",
       "      <td>Multiple books</td>\n",
       "      <td>440</td>\n",
       "      <td>Teens</td>\n",
       "    </tr>\n",
       "    <tr>\n",
       "      <th>1</th>\n",
       "      <td>9487</td>\n",
       "      <td>A Time to Embrace</td>\n",
       "      <td>Karen Kingsbury</td>\n",
       "      <td>4179</td>\n",
       "      <td>177</td>\n",
       "      <td>4.35</td>\n",
       "      <td>2255</td>\n",
       "      <td>1290</td>\n",
       "      <td>518</td>\n",
       "      <td>93</td>\n",
       "      <td>...</td>\n",
       "      <td>Christian Fiction 114, Christian 45, Fiction 3...</td>\n",
       "      <td>NaN</td>\n",
       "      <td>NaN</td>\n",
       "      <td>Love</td>\n",
       "      <td>2</td>\n",
       "      <td>Christian Fiction</td>\n",
       "      <td>2006</td>\n",
       "      <td>Multiple books</td>\n",
       "      <td>800</td>\n",
       "      <td>Fiction</td>\n",
       "    </tr>\n",
       "    <tr>\n",
       "      <th>2</th>\n",
       "      <td>6050894</td>\n",
       "      <td>Take Two</td>\n",
       "      <td>Karen Kingsbury</td>\n",
       "      <td>6288</td>\n",
       "      <td>218</td>\n",
       "      <td>4.23</td>\n",
       "      <td>3000</td>\n",
       "      <td>2020</td>\n",
       "      <td>1041</td>\n",
       "      <td>183</td>\n",
       "      <td>...</td>\n",
       "      <td>Christian Fiction 174, Christian 81, Fiction 58</td>\n",
       "      <td>NaN</td>\n",
       "      <td>NaN</td>\n",
       "      <td>Line</td>\n",
       "      <td>2</td>\n",
       "      <td>Christian Fiction</td>\n",
       "      <td>2009</td>\n",
       "      <td>Multiple books</td>\n",
       "      <td>640</td>\n",
       "      <td>Fiction</td>\n",
       "    </tr>\n",
       "    <tr>\n",
       "      <th>3</th>\n",
       "      <td>39030</td>\n",
       "      <td>Reliquary</td>\n",
       "      <td>Douglas Preston, Lincoln Child</td>\n",
       "      <td>38382</td>\n",
       "      <td>1424</td>\n",
       "      <td>4.01</td>\n",
       "      <td>12711</td>\n",
       "      <td>15407</td>\n",
       "      <td>8511</td>\n",
       "      <td>1429</td>\n",
       "      <td>...</td>\n",
       "      <td>Thriller 626, Mystery 493, Horror 432, Fiction...</td>\n",
       "      <td>Aloysius X.L. Pendergast, Margo Green, William...</td>\n",
       "      <td>NaN</td>\n",
       "      <td>Pendergast</td>\n",
       "      <td>2</td>\n",
       "      <td>Thriller</td>\n",
       "      <td>1997</td>\n",
       "      <td>Trilogy</td>\n",
       "      <td>928</td>\n",
       "      <td>Mysteries &amp; Thrillers</td>\n",
       "    </tr>\n",
       "    <tr>\n",
       "      <th>4</th>\n",
       "      <td>998</td>\n",
       "      <td>The Millionaire Next Door: The Surprising Secr...</td>\n",
       "      <td>Thomas J. Stanley, William D. Danko</td>\n",
       "      <td>72168</td>\n",
       "      <td>3217</td>\n",
       "      <td>4.04</td>\n",
       "      <td>27594</td>\n",
       "      <td>25219</td>\n",
       "      <td>14855</td>\n",
       "      <td>3414</td>\n",
       "      <td>...</td>\n",
       "      <td>Economics-Finance 1162, Nonfiction 910, Busine...</td>\n",
       "      <td>NaN</td>\n",
       "      <td>Independent Publisher Book Award (IPPY) Nomine...</td>\n",
       "      <td>NaN</td>\n",
       "      <td>NaN</td>\n",
       "      <td>Economics-Finance</td>\n",
       "      <td>1995</td>\n",
       "      <td>Individual book</td>\n",
       "      <td>516</td>\n",
       "      <td>Business</td>\n",
       "    </tr>\n",
       "  </tbody>\n",
       "</table>\n",
       "<p>5 rows × 23 columns</p>\n",
       "</div>"
      ],
      "text/plain": [
       "        id                                              title  \\\n",
       "0   630104                                       Inner Circle   \n",
       "1     9487                                  A Time to Embrace   \n",
       "2  6050894                                           Take Two   \n",
       "3    39030                                          Reliquary   \n",
       "4      998  The Millionaire Next Door: The Surprising Secr...   \n",
       "\n",
       "                                author  rating_count  review_count  \\\n",
       "0            Kate Brian, Julian Peploe          7597           196   \n",
       "1                      Karen Kingsbury          4179           177   \n",
       "2                      Karen Kingsbury          6288           218   \n",
       "3       Douglas Preston, Lincoln Child         38382          1424   \n",
       "4  Thomas J. Stanley, William D. Danko         72168          3217   \n",
       "\n",
       "   average_rating  five_star_ratings  four_star_ratings  three_star_ratings  \\\n",
       "0            4.03               3045               2323                1748   \n",
       "1            4.35               2255               1290                 518   \n",
       "2            4.23               3000               2020                1041   \n",
       "3            4.01              12711              15407                8511   \n",
       "4            4.04              27594              25219               14855   \n",
       "\n",
       "   two_star_ratings  ...                                    genre_and_votes  \\\n",
       "0               389  ...            Young Adult 161, Mystery 45, Romance 32   \n",
       "1                93  ...  Christian Fiction 114, Christian 45, Fiction 3...   \n",
       "2               183  ...    Christian Fiction 174, Christian 81, Fiction 58   \n",
       "3              1429  ...  Thriller 626, Mystery 493, Horror 432, Fiction...   \n",
       "4              3414  ...  Economics-Finance 1162, Nonfiction 910, Busine...   \n",
       "\n",
       "                                          characters  \\\n",
       "0                                                NaN   \n",
       "1                                                NaN   \n",
       "2                                                NaN   \n",
       "3  Aloysius X.L. Pendergast, Margo Green, William...   \n",
       "4                                                NaN   \n",
       "\n",
       "                                              awards series_name  \\\n",
       "0                                                NaN     Private   \n",
       "1                                                NaN        Love   \n",
       "2                                                NaN        Line   \n",
       "3                                                NaN  Pendergast   \n",
       "4  Independent Publisher Book Award (IPPY) Nomine...         NaN   \n",
       "\n",
       "  book_number_in_series         main_genre year_published  series_category  \\\n",
       "0                     5        Young Adult           2007   Multiple books   \n",
       "1                     2  Christian Fiction           2006   Multiple books   \n",
       "2                     2  Christian Fiction           2009   Multiple books   \n",
       "3                     2           Thriller           1997          Trilogy   \n",
       "4                   NaN  Economics-Finance           1995  Individual book   \n",
       "\n",
       "  Duration           Mapped_Genre  \n",
       "0      440                  Teens  \n",
       "1      800                Fiction  \n",
       "2      640                Fiction  \n",
       "3      928  Mysteries & Thrillers  \n",
       "4      516               Business  \n",
       "\n",
       "[5 rows x 23 columns]"
      ]
     },
     "execution_count": 114,
     "metadata": {},
     "output_type": "execute_result"
    }
   ],
   "source": [
    "goodreads_df['Mapped_Genre'] = goodreads_df['main_genre'].apply(lambda x: genre_map_dict.get(x))\n",
    "goodreads_df.head()"
   ]
  },
  {
   "cell_type": "code",
   "execution_count": 115,
   "id": "57d6fdcc",
   "metadata": {},
   "outputs": [],
   "source": [
    "# Convert all the numeric columns to float type\n",
    "audible_df = audible_df.astype({'price':'float', 'rating':'float', 'rating_count':'float'})"
   ]
  },
  {
   "cell_type": "markdown",
   "id": "d6671d02",
   "metadata": {},
   "source": [
    "**Self Narrators**"
   ]
  },
  {
   "cell_type": "code",
   "execution_count": 116,
   "id": "121f01d0",
   "metadata": {},
   "outputs": [
    {
     "data": {
      "text/plain": [
       "41422"
      ]
     },
     "execution_count": 116,
     "metadata": {},
     "output_type": "execute_result"
    }
   ],
   "source": [
    "# Determine how many authors to prefer to narrate their books themselves.\n",
    "self_narration_mask = (audible_df['author']==audible_df['narrator'])\n",
    "self_narration_mask.sum()"
   ]
  },
  {
   "cell_type": "markdown",
   "id": "25fc71c1",
   "metadata": {},
   "source": [
    "We observe that there are many authors who prefer to narrate their books on thier own. This can play an important role in determining the price of the audio book. Therefore, let us add a column with a dummy variable 1 specifying that the book is narrated by the author himself/herself and 0 otherwise."
   ]
  },
  {
   "cell_type": "code",
   "execution_count": 117,
   "id": "0d69d46e",
   "metadata": {},
   "outputs": [],
   "source": [
    "# Add a new column self narration as a dummy variable\n",
    "audible_df['Self Narration'] = self_narration_mask.map(lambda x: 1 if x else 0)"
   ]
  },
  {
   "cell_type": "code",
   "execution_count": 118,
   "id": "0a5374c2",
   "metadata": {},
   "outputs": [
    {
     "data": {
      "text/html": [
       "<div>\n",
       "<style scoped>\n",
       "    .dataframe tbody tr th:only-of-type {\n",
       "        vertical-align: middle;\n",
       "    }\n",
       "\n",
       "    .dataframe tbody tr th {\n",
       "        vertical-align: top;\n",
       "    }\n",
       "\n",
       "    .dataframe thead th {\n",
       "        text-align: right;\n",
       "    }\n",
       "</style>\n",
       "<table border=\"1\" class=\"dataframe\">\n",
       "  <thead>\n",
       "    <tr style=\"text-align: right;\">\n",
       "      <th></th>\n",
       "      <th>title</th>\n",
       "      <th>rating</th>\n",
       "      <th>price</th>\n",
       "    </tr>\n",
       "    <tr>\n",
       "      <th>Self Narration</th>\n",
       "      <th></th>\n",
       "      <th></th>\n",
       "      <th></th>\n",
       "    </tr>\n",
       "  </thead>\n",
       "  <tbody>\n",
       "    <tr>\n",
       "      <th>0</th>\n",
       "      <td>281873</td>\n",
       "      <td>3.195914</td>\n",
       "      <td>15.547989</td>\n",
       "    </tr>\n",
       "    <tr>\n",
       "      <th>1</th>\n",
       "      <td>41422</td>\n",
       "      <td>2.970523</td>\n",
       "      <td>13.699045</td>\n",
       "    </tr>\n",
       "  </tbody>\n",
       "</table>\n",
       "</div>"
      ],
      "text/plain": [
       "                 title    rating      price\n",
       "Self Narration                             \n",
       "0               281873  3.195914  15.547989\n",
       "1                41422  2.970523  13.699045"
      ]
     },
     "execution_count": 118,
     "metadata": {},
     "output_type": "execute_result"
    }
   ],
   "source": [
    "# Determine the average price and rating of author narrations vs other narrations\n",
    "audible_df.groupby('Self Narration').agg({'title':'count', 'rating':'mean', 'price':'mean'})"
   ]
  },
  {
   "cell_type": "markdown",
   "id": "44dd8961",
   "metadata": {},
   "source": [
    "- We observe that the price of the audiobooks which are narrated by the author themselves have a lower average price compared to the ones which are narrated by other narrators. \n",
    "<br><br>\n",
    "- It can be inferred that hiring narrators to narrate their book costs the publication house or the authors a lot of money and therefore to recover costs pricing them high makes sense, whereas when narrated by themselves, they have the room to price the books less."
   ]
  },
  {
   "cell_type": "markdown",
   "id": "fe1da10c",
   "metadata": {},
   "source": [
    "**Author-narrator collaborations**"
   ]
  },
  {
   "cell_type": "code",
   "execution_count": 119,
   "id": "b86def49",
   "metadata": {},
   "outputs": [],
   "source": [
    "# Determine the number of author-narrator pair collaborations\n",
    "author_narrator_df = audible_df[audible_df['Self Narration'] == 0].groupby(['author', 'narrator']).agg({'title':'count', 'rating': 'mean'})"
   ]
  },
  {
   "cell_type": "code",
   "execution_count": 120,
   "id": "97d7be79",
   "metadata": {},
   "outputs": [
    {
     "data": {
      "text/html": [
       "<div>\n",
       "<style scoped>\n",
       "    .dataframe tbody tr th:only-of-type {\n",
       "        vertical-align: middle;\n",
       "    }\n",
       "\n",
       "    .dataframe tbody tr th {\n",
       "        vertical-align: top;\n",
       "    }\n",
       "\n",
       "    .dataframe thead th {\n",
       "        text-align: right;\n",
       "    }\n",
       "</style>\n",
       "<table border=\"1\" class=\"dataframe\">\n",
       "  <thead>\n",
       "    <tr style=\"text-align: right;\">\n",
       "      <th></th>\n",
       "      <th></th>\n",
       "      <th>Number of Collaborations</th>\n",
       "      <th>Average Rating</th>\n",
       "    </tr>\n",
       "    <tr>\n",
       "      <th>author</th>\n",
       "      <th>narrator</th>\n",
       "      <th></th>\n",
       "      <th></th>\n",
       "    </tr>\n",
       "  </thead>\n",
       "  <tbody>\n",
       "    <tr>\n",
       "      <th>Verbal Advantage</th>\n",
       "      <th>Charles Harrington Elster</th>\n",
       "      <td>482</td>\n",
       "      <td>0.000000</td>\n",
       "    </tr>\n",
       "    <tr>\n",
       "      <th>Society for Science &amp; the Public</th>\n",
       "      <th>Mark Moran</th>\n",
       "      <td>403</td>\n",
       "      <td>1.966501</td>\n",
       "    </tr>\n",
       "    <tr>\n",
       "      <th>IntroBooks</th>\n",
       "      <th>Andrea Giordani</th>\n",
       "      <td>374</td>\n",
       "      <td>1.328877</td>\n",
       "    </tr>\n",
       "    <tr>\n",
       "      <th rowspan=\"2\" valign=\"top\">Charles River Editors</th>\n",
       "      <th>Scott Clem</th>\n",
       "      <td>270</td>\n",
       "      <td>3.001852</td>\n",
       "    </tr>\n",
       "    <tr>\n",
       "      <th>Colin Fluxman</th>\n",
       "      <td>243</td>\n",
       "      <td>3.362140</td>\n",
       "    </tr>\n",
       "    <tr>\n",
       "      <th>...</th>\n",
       "      <th>...</th>\n",
       "      <td>...</td>\n",
       "      <td>...</td>\n",
       "    </tr>\n",
       "    <tr>\n",
       "      <th rowspan=\"4\" valign=\"top\">Holly Brown</th>\n",
       "      <th>Arielle DeLisle</th>\n",
       "      <td>1</td>\n",
       "      <td>4.000000</td>\n",
       "    </tr>\n",
       "    <tr>\n",
       "      <th>Hillary Huber, Angela Goethals, James Fouhey</th>\n",
       "      <td>1</td>\n",
       "      <td>4.000000</td>\n",
       "    </tr>\n",
       "    <tr>\n",
       "      <th>Khristine Hvam, James Patrick Cronin</th>\n",
       "      <td>1</td>\n",
       "      <td>4.000000</td>\n",
       "    </tr>\n",
       "    <tr>\n",
       "      <th>Madeleine Maby, Donna Postel</th>\n",
       "      <td>1</td>\n",
       "      <td>4.000000</td>\n",
       "    </tr>\n",
       "    <tr>\n",
       "      <th>Śāntideva</th>\n",
       "      <th>William Hope</th>\n",
       "      <td>1</td>\n",
       "      <td>4.500000</td>\n",
       "    </tr>\n",
       "  </tbody>\n",
       "</table>\n",
       "<p>181885 rows × 2 columns</p>\n",
       "</div>"
      ],
      "text/plain": [
       "                                                                               Number of Collaborations  \\\n",
       "author                           narrator                                                                 \n",
       "Verbal Advantage                 Charles Harrington Elster                                          482   \n",
       "Society for Science & the Public Mark Moran                                                         403   \n",
       "IntroBooks                       Andrea Giordani                                                    374   \n",
       "Charles River Editors            Scott Clem                                                         270   \n",
       "                                 Colin Fluxman                                                      243   \n",
       "...                                                                                                 ...   \n",
       "Holly Brown                      Arielle DeLisle                                                      1   \n",
       "                                 Hillary Huber, Angela Goethals, James Fouhey                         1   \n",
       "                                 Khristine Hvam, James Patrick Cronin                                 1   \n",
       "                                 Madeleine Maby, Donna Postel                                         1   \n",
       "Śāntideva                        William Hope                                                         1   \n",
       "\n",
       "                                                                               Average Rating  \n",
       "author                           narrator                                                      \n",
       "Verbal Advantage                 Charles Harrington Elster                           0.000000  \n",
       "Society for Science & the Public Mark Moran                                          1.966501  \n",
       "IntroBooks                       Andrea Giordani                                     1.328877  \n",
       "Charles River Editors            Scott Clem                                          3.001852  \n",
       "                                 Colin Fluxman                                       3.362140  \n",
       "...                                                                                       ...  \n",
       "Holly Brown                      Arielle DeLisle                                     4.000000  \n",
       "                                 Hillary Huber, Angela Goethals, James Fouhey        4.000000  \n",
       "                                 Khristine Hvam, James Patrick Cronin                4.000000  \n",
       "                                 Madeleine Maby, Donna Postel                        4.000000  \n",
       "Śāntideva                        William Hope                                        4.500000  \n",
       "\n",
       "[181885 rows x 2 columns]"
      ]
     },
     "execution_count": 120,
     "metadata": {},
     "output_type": "execute_result"
    }
   ],
   "source": [
    "# Rename columns and sort by the ratings\n",
    "author_narrator_df = author_narrator_df.rename(columns={'title':'Number of Collaborations', 'rating':'Average Rating'}).sort_values(by='Number of Collaborations', ascending=False)\n",
    "author_narrator_df"
   ]
  },
  {
   "cell_type": "code",
   "execution_count": 121,
   "id": "2fdab83b",
   "metadata": {},
   "outputs": [
    {
     "data": {
      "text/html": [
       "<div>\n",
       "<style scoped>\n",
       "    .dataframe tbody tr th:only-of-type {\n",
       "        vertical-align: middle;\n",
       "    }\n",
       "\n",
       "    .dataframe tbody tr th {\n",
       "        vertical-align: top;\n",
       "    }\n",
       "\n",
       "    .dataframe thead th {\n",
       "        text-align: right;\n",
       "    }\n",
       "</style>\n",
       "<table border=\"1\" class=\"dataframe\">\n",
       "  <thead>\n",
       "    <tr style=\"text-align: right;\">\n",
       "      <th></th>\n",
       "      <th></th>\n",
       "      <th>Number of Collaborations</th>\n",
       "      <th>Average Rating</th>\n",
       "    </tr>\n",
       "    <tr>\n",
       "      <th>author</th>\n",
       "      <th>narrator</th>\n",
       "      <th></th>\n",
       "      <th></th>\n",
       "    </tr>\n",
       "  </thead>\n",
       "  <tbody>\n",
       "    <tr>\n",
       "      <th>Verbal Advantage</th>\n",
       "      <th>Charles Harrington Elster</th>\n",
       "      <td>482</td>\n",
       "      <td>0.000000</td>\n",
       "    </tr>\n",
       "    <tr>\n",
       "      <th>Society for Science &amp; the Public</th>\n",
       "      <th>Mark Moran</th>\n",
       "      <td>403</td>\n",
       "      <td>1.966501</td>\n",
       "    </tr>\n",
       "    <tr>\n",
       "      <th>IntroBooks</th>\n",
       "      <th>Andrea Giordani</th>\n",
       "      <td>374</td>\n",
       "      <td>1.328877</td>\n",
       "    </tr>\n",
       "    <tr>\n",
       "      <th rowspan=\"2\" valign=\"top\">Charles River Editors</th>\n",
       "      <th>Scott Clem</th>\n",
       "      <td>270</td>\n",
       "      <td>3.001852</td>\n",
       "    </tr>\n",
       "    <tr>\n",
       "      <th>Colin Fluxman</th>\n",
       "      <td>243</td>\n",
       "      <td>3.362140</td>\n",
       "    </tr>\n",
       "    <tr>\n",
       "      <th>...</th>\n",
       "      <th>...</th>\n",
       "      <td>...</td>\n",
       "      <td>...</td>\n",
       "    </tr>\n",
       "    <tr>\n",
       "      <th>Swami Vivekananda</th>\n",
       "      <th>Clay Lomakayu</th>\n",
       "      <td>5</td>\n",
       "      <td>4.800000</td>\n",
       "    </tr>\n",
       "    <tr>\n",
       "      <th>Mike Riley</th>\n",
       "      <th>Stephen Paul Aulridge Jr</th>\n",
       "      <td>5</td>\n",
       "      <td>4.000000</td>\n",
       "    </tr>\n",
       "    <tr>\n",
       "      <th>Jamila Jasper</th>\n",
       "      <th>Zoe Cox</th>\n",
       "      <td>5</td>\n",
       "      <td>3.100000</td>\n",
       "    </tr>\n",
       "    <tr>\n",
       "      <th>Tonya Kappes</th>\n",
       "      <th>Hillary Huber</th>\n",
       "      <td>5</td>\n",
       "      <td>4.500000</td>\n",
       "    </tr>\n",
       "    <tr>\n",
       "      <th>Sarah Sophia</th>\n",
       "      <th>Donna Havern</th>\n",
       "      <td>5</td>\n",
       "      <td>0.000000</td>\n",
       "    </tr>\n",
       "  </tbody>\n",
       "</table>\n",
       "<p>6625 rows × 2 columns</p>\n",
       "</div>"
      ],
      "text/plain": [
       "                                                            Number of Collaborations  \\\n",
       "author                           narrator                                              \n",
       "Verbal Advantage                 Charles Harrington Elster                       482   \n",
       "Society for Science & the Public Mark Moran                                      403   \n",
       "IntroBooks                       Andrea Giordani                                 374   \n",
       "Charles River Editors            Scott Clem                                      270   \n",
       "                                 Colin Fluxman                                   243   \n",
       "...                                                                              ...   \n",
       "Swami Vivekananda                Clay Lomakayu                                     5   \n",
       "Mike Riley                       Stephen Paul Aulridge Jr                          5   \n",
       "Jamila Jasper                    Zoe Cox                                           5   \n",
       "Tonya Kappes                     Hillary Huber                                     5   \n",
       "Sarah Sophia                     Donna Havern                                      5   \n",
       "\n",
       "                                                            Average Rating  \n",
       "author                           narrator                                   \n",
       "Verbal Advantage                 Charles Harrington Elster        0.000000  \n",
       "Society for Science & the Public Mark Moran                       1.966501  \n",
       "IntroBooks                       Andrea Giordani                  1.328877  \n",
       "Charles River Editors            Scott Clem                       3.001852  \n",
       "                                 Colin Fluxman                    3.362140  \n",
       "...                                                                    ...  \n",
       "Swami Vivekananda                Clay Lomakayu                    4.800000  \n",
       "Mike Riley                       Stephen Paul Aulridge Jr         4.000000  \n",
       "Jamila Jasper                    Zoe Cox                          3.100000  \n",
       "Tonya Kappes                     Hillary Huber                    4.500000  \n",
       "Sarah Sophia                     Donna Havern                     0.000000  \n",
       "\n",
       "[6625 rows x 2 columns]"
      ]
     },
     "execution_count": 121,
     "metadata": {},
     "output_type": "execute_result"
    }
   ],
   "source": [
    "# Determine the author-narrator pairs with atleast 5 collaborations\n",
    "author_narrator_df[author_narrator_df['Number of Collaborations'] >= 5]"
   ]
  },
  {
   "cell_type": "code",
   "execution_count": 122,
   "id": "edcc9549",
   "metadata": {},
   "outputs": [
    {
     "data": {
      "text/html": [
       "<div>\n",
       "<style scoped>\n",
       "    .dataframe tbody tr th:only-of-type {\n",
       "        vertical-align: middle;\n",
       "    }\n",
       "\n",
       "    .dataframe tbody tr th {\n",
       "        vertical-align: top;\n",
       "    }\n",
       "\n",
       "    .dataframe thead th {\n",
       "        text-align: right;\n",
       "    }\n",
       "</style>\n",
       "<table border=\"1\" class=\"dataframe\">\n",
       "  <thead>\n",
       "    <tr style=\"text-align: right;\">\n",
       "      <th></th>\n",
       "      <th></th>\n",
       "      <th>Number of Collaborations</th>\n",
       "      <th>Average Rating</th>\n",
       "    </tr>\n",
       "    <tr>\n",
       "      <th>author</th>\n",
       "      <th>narrator</th>\n",
       "      <th></th>\n",
       "      <th></th>\n",
       "    </tr>\n",
       "  </thead>\n",
       "  <tbody>\n",
       "    <tr>\n",
       "      <th>Gertrude Chandler Warner</th>\n",
       "      <th>Aimee Lilly</th>\n",
       "      <td>84</td>\n",
       "      <td>4.428571</td>\n",
       "    </tr>\n",
       "    <tr>\n",
       "      <th>Ace McCloud</th>\n",
       "      <th>Joshua Mackey</th>\n",
       "      <td>82</td>\n",
       "      <td>4.201220</td>\n",
       "    </tr>\n",
       "    <tr>\n",
       "      <th>Barbara Cartland</th>\n",
       "      <th>Anthony Wren</th>\n",
       "      <td>72</td>\n",
       "      <td>4.076389</td>\n",
       "    </tr>\n",
       "    <tr>\n",
       "      <th>Gunsmoke</th>\n",
       "      <th>William Conrad</th>\n",
       "      <td>72</td>\n",
       "      <td>4.527778</td>\n",
       "    </tr>\n",
       "    <tr>\n",
       "      <th>Agatha Christie</th>\n",
       "      <th>Hugh Fraser</th>\n",
       "      <td>71</td>\n",
       "      <td>4.401408</td>\n",
       "    </tr>\n",
       "    <tr>\n",
       "      <th>...</th>\n",
       "      <th>...</th>\n",
       "      <td>...</td>\n",
       "      <td>...</td>\n",
       "    </tr>\n",
       "    <tr>\n",
       "      <th>Irina Shapiro</th>\n",
       "      <th>Wendy Wolfson</th>\n",
       "      <td>5</td>\n",
       "      <td>4.600000</td>\n",
       "    </tr>\n",
       "    <tr>\n",
       "      <th>Martin Walker</th>\n",
       "      <th>Peter Noble</th>\n",
       "      <td>5</td>\n",
       "      <td>4.400000</td>\n",
       "    </tr>\n",
       "    <tr>\n",
       "      <th>Swami Vivekananda</th>\n",
       "      <th>Clay Lomakayu</th>\n",
       "      <td>5</td>\n",
       "      <td>4.800000</td>\n",
       "    </tr>\n",
       "    <tr>\n",
       "      <th>Mike Riley</th>\n",
       "      <th>Stephen Paul Aulridge Jr</th>\n",
       "      <td>5</td>\n",
       "      <td>4.000000</td>\n",
       "    </tr>\n",
       "    <tr>\n",
       "      <th>Tonya Kappes</th>\n",
       "      <th>Hillary Huber</th>\n",
       "      <td>5</td>\n",
       "      <td>4.500000</td>\n",
       "    </tr>\n",
       "  </tbody>\n",
       "</table>\n",
       "<p>3494 rows × 2 columns</p>\n",
       "</div>"
      ],
      "text/plain": [
       "                                                   Number of Collaborations  \\\n",
       "author                   narrator                                             \n",
       "Gertrude Chandler Warner Aimee Lilly                                     84   \n",
       "Ace McCloud              Joshua Mackey                                   82   \n",
       "Barbara Cartland         Anthony Wren                                    72   \n",
       "Gunsmoke                 William Conrad                                  72   \n",
       "Agatha Christie          Hugh Fraser                                     71   \n",
       "...                                                                     ...   \n",
       "Irina Shapiro            Wendy Wolfson                                    5   \n",
       "Martin Walker            Peter Noble                                      5   \n",
       "Swami Vivekananda        Clay Lomakayu                                    5   \n",
       "Mike Riley               Stephen Paul Aulridge Jr                         5   \n",
       "Tonya Kappes             Hillary Huber                                    5   \n",
       "\n",
       "                                                   Average Rating  \n",
       "author                   narrator                                  \n",
       "Gertrude Chandler Warner Aimee Lilly                     4.428571  \n",
       "Ace McCloud              Joshua Mackey                   4.201220  \n",
       "Barbara Cartland         Anthony Wren                    4.076389  \n",
       "Gunsmoke                 William Conrad                  4.527778  \n",
       "Agatha Christie          Hugh Fraser                     4.401408  \n",
       "...                                                           ...  \n",
       "Irina Shapiro            Wendy Wolfson                   4.600000  \n",
       "Martin Walker            Peter Noble                     4.400000  \n",
       "Swami Vivekananda        Clay Lomakayu                   4.800000  \n",
       "Mike Riley               Stephen Paul Aulridge Jr        4.000000  \n",
       "Tonya Kappes             Hillary Huber                   4.500000  \n",
       "\n",
       "[3494 rows x 2 columns]"
      ]
     },
     "execution_count": 122,
     "metadata": {},
     "output_type": "execute_result"
    }
   ],
   "source": [
    "# Determine the author-narrator pair with atleast 5 collaborations and 4.0 avergae rating\n",
    "author_narrator_df[(author_narrator_df['Average Rating'] >= 4.0) & (author_narrator_df['Number of Collaborations'] >= 5)]"
   ]
  },
  {
   "cell_type": "markdown",
   "id": "6b845518",
   "metadata": {},
   "source": [
    "- There are many author-narrator pairs with a lot of collaborations between them. But only a few pairs are successful and have captivated the listeners, which is evident from the very few pairs having an average rating above 4.\n",
    "<br><br>\n",
    "- It can be inferred that the authors or the publishers of the books have hired a narrator for a certain number of narrations through a package deal, since despite low ratings, they have continued the collaboration as seen from the high number of collaborations.\n",
    "<br><br> \n",
    "- It is therefore advisable to the authors or the publishing houses to sign or hire narrators for a narration per book instead of signing a package deal with them for a number of books. This will give them the flexibility to change the narrator for their next book, if the previous book has not received good ratings."
   ]
  },
  {
   "cell_type": "markdown",
   "id": "55115b2b",
   "metadata": {},
   "source": [
    "#### Find the collaborations and individual narrations "
   ]
  },
  {
   "cell_type": "markdown",
   "id": "31270962",
   "metadata": {},
   "source": [
    "There are audio books that are narrated by individual narrators and there are some which are narrated by multiple narrators."
   ]
  },
  {
   "cell_type": "code",
   "execution_count": 123,
   "id": "9e5d85bc",
   "metadata": {},
   "outputs": [
    {
     "data": {
      "text/plain": [
       "23600"
      ]
     },
     "execution_count": 123,
     "metadata": {},
     "output_type": "execute_result"
    }
   ],
   "source": [
    "# Get the mask to determine books with multiple narrators\n",
    "collaboration_mask = audible_df['narrator'].str.split(',').map(lambda x: len(x)) > 1\n",
    "collaboration_mask.sum()"
   ]
  },
  {
   "cell_type": "code",
   "execution_count": 124,
   "id": "dc67c96c",
   "metadata": {},
   "outputs": [],
   "source": [
    "# Add a new column collaboration as a dummy variable with 1 signifying multiple narrators and 0 a single narrator\n",
    "audible_df['Collaboration'] = collaboration_mask.map(lambda x: 1 if x else 0)"
   ]
  },
  {
   "cell_type": "code",
   "execution_count": 125,
   "id": "b53ec671",
   "metadata": {},
   "outputs": [],
   "source": [
    "# Group by collaboration and determine the mean rating, mean rating count and mean price\n",
    "audible_collab_group = audible_df.groupby('Collaboration').agg({'title':'count', 'rating':'mean', 'rating_count':'mean', 'price':'mean'})"
   ]
  },
  {
   "cell_type": "code",
   "execution_count": 126,
   "id": "1f46e795",
   "metadata": {},
   "outputs": [
    {
     "data": {
      "text/html": [
       "<div>\n",
       "<style scoped>\n",
       "    .dataframe tbody tr th:only-of-type {\n",
       "        vertical-align: middle;\n",
       "    }\n",
       "\n",
       "    .dataframe tbody tr th {\n",
       "        vertical-align: top;\n",
       "    }\n",
       "\n",
       "    .dataframe thead th {\n",
       "        text-align: right;\n",
       "    }\n",
       "</style>\n",
       "<table border=\"1\" class=\"dataframe\">\n",
       "  <thead>\n",
       "    <tr style=\"text-align: right;\">\n",
       "      <th></th>\n",
       "      <th>Number of Collaborations</th>\n",
       "      <th>Average Rating</th>\n",
       "      <th>Average Rating Count</th>\n",
       "      <th>Average Price</th>\n",
       "    </tr>\n",
       "    <tr>\n",
       "      <th>Collaboration</th>\n",
       "      <th></th>\n",
       "      <th></th>\n",
       "      <th></th>\n",
       "      <th></th>\n",
       "    </tr>\n",
       "  </thead>\n",
       "  <tbody>\n",
       "    <tr>\n",
       "      <th>0</th>\n",
       "      <td>299695</td>\n",
       "      <td>3.147076</td>\n",
       "      <td>109.052136</td>\n",
       "      <td>15.209712</td>\n",
       "    </tr>\n",
       "    <tr>\n",
       "      <th>1</th>\n",
       "      <td>23600</td>\n",
       "      <td>3.420508</td>\n",
       "      <td>192.300127</td>\n",
       "      <td>16.598547</td>\n",
       "    </tr>\n",
       "  </tbody>\n",
       "</table>\n",
       "</div>"
      ],
      "text/plain": [
       "               Number of Collaborations  Average Rating  Average Rating Count  \\\n",
       "Collaboration                                                                   \n",
       "0                                299695        3.147076            109.052136   \n",
       "1                                 23600        3.420508            192.300127   \n",
       "\n",
       "               Average Price  \n",
       "Collaboration                 \n",
       "0                  15.209712  \n",
       "1                  16.598547  "
      ]
     },
     "execution_count": 126,
     "metadata": {},
     "output_type": "execute_result"
    }
   ],
   "source": [
    "audible_collab_group = audible_collab_group.rename(columns={'title':'Number of Collaborations', 'rating':'Average Rating', 'rating_count':'Average Rating Count', 'price':'Average Price'}).sort_values(by='Number of Collaborations', ascending=False)\n",
    "audible_collab_group"
   ]
  },
  {
   "cell_type": "markdown",
   "id": "609deade",
   "metadata": {},
   "source": [
    "- We observe from the above analysis that the rating_count for the audio books narrated by mulitple narrators together is higher than the books that are narrated by an individual.\n",
    "<br><br>\n",
    "- It can be inferred from the data that listeners enjoy multiple characters voiced over by different narrators, which in turn increases the engagement as evident by the high average rating count."
   ]
  },
  {
   "cell_type": "markdown",
   "id": "b8b34504",
   "metadata": {},
   "source": [
    "**Duration vs rating analysis**"
   ]
  },
  {
   "cell_type": "code",
   "execution_count": 127,
   "id": "44e74c94",
   "metadata": {},
   "outputs": [],
   "source": [
    "# Create bins to categorize books into different categories.\n",
    "# duration_bins = np.linspace(start=min(audible_df['length']), stop=max(audible_df['length']), num=20)\n",
    "duration_bins = np.linspace(start=0, stop=9600, num=17)\n",
    "audible_df['duration_group'] = pd.cut(audible_df['length'], duration_bins)"
   ]
  },
  {
   "cell_type": "code",
   "execution_count": 128,
   "id": "75557dd0",
   "metadata": {},
   "outputs": [],
   "source": [
    "# Group by duration group and determine the average rating and number of books in each category\n",
    "audible_duration_group = audible_df.groupby('duration_group').agg({'title':'count', 'rating':'mean'})"
   ]
  },
  {
   "cell_type": "code",
   "execution_count": 129,
   "id": "e816bbb1",
   "metadata": {},
   "outputs": [],
   "source": [
    "# Determine the percentage of books in each category\n",
    "audible_duration_group['title'] = audible_duration_group['title'].apply(lambda x: x*100/audible_duration_group['title'].sum())"
   ]
  },
  {
   "cell_type": "code",
   "execution_count": 130,
   "id": "a9bf34b7",
   "metadata": {},
   "outputs": [
    {
     "data": {
      "text/html": [
       "<div>\n",
       "<style scoped>\n",
       "    .dataframe tbody tr th:only-of-type {\n",
       "        vertical-align: middle;\n",
       "    }\n",
       "\n",
       "    .dataframe tbody tr th {\n",
       "        vertical-align: top;\n",
       "    }\n",
       "\n",
       "    .dataframe thead th {\n",
       "        text-align: right;\n",
       "    }\n",
       "</style>\n",
       "<table border=\"1\" class=\"dataframe\">\n",
       "  <thead>\n",
       "    <tr style=\"text-align: right;\">\n",
       "      <th></th>\n",
       "      <th>Percentage of Books</th>\n",
       "      <th>Average Rating</th>\n",
       "    </tr>\n",
       "    <tr>\n",
       "      <th>duration_group</th>\n",
       "      <th></th>\n",
       "      <th></th>\n",
       "    </tr>\n",
       "  </thead>\n",
       "  <tbody>\n",
       "    <tr>\n",
       "      <th>(0.0, 600.0]</th>\n",
       "      <td>81.622036</td>\n",
       "      <td>3.016725</td>\n",
       "    </tr>\n",
       "    <tr>\n",
       "      <th>(600.0, 1200.0]</th>\n",
       "      <td>16.832761</td>\n",
       "      <td>3.846701</td>\n",
       "    </tr>\n",
       "    <tr>\n",
       "      <th>(1200.0, 1800.0]</th>\n",
       "      <td>1.201123</td>\n",
       "      <td>4.073719</td>\n",
       "    </tr>\n",
       "    <tr>\n",
       "      <th>(1800.0, 2400.0]</th>\n",
       "      <td>0.220337</td>\n",
       "      <td>4.180516</td>\n",
       "    </tr>\n",
       "    <tr>\n",
       "      <th>(2400.0, 3000.0]</th>\n",
       "      <td>0.063765</td>\n",
       "      <td>4.165842</td>\n",
       "    </tr>\n",
       "    <tr>\n",
       "      <th>(3000.0, 3600.0]</th>\n",
       "      <td>0.027148</td>\n",
       "      <td>4.087209</td>\n",
       "    </tr>\n",
       "    <tr>\n",
       "      <th>(3600.0, 4200.0]</th>\n",
       "      <td>0.012311</td>\n",
       "      <td>4.064103</td>\n",
       "    </tr>\n",
       "    <tr>\n",
       "      <th>(4200.0, 4800.0]</th>\n",
       "      <td>0.009154</td>\n",
       "      <td>4.379310</td>\n",
       "    </tr>\n",
       "    <tr>\n",
       "      <th>(4800.0, 5400.0]</th>\n",
       "      <td>0.005998</td>\n",
       "      <td>4.368421</td>\n",
       "    </tr>\n",
       "    <tr>\n",
       "      <th>(5400.0, 6000.0]</th>\n",
       "      <td>0.003472</td>\n",
       "      <td>3.636364</td>\n",
       "    </tr>\n",
       "    <tr>\n",
       "      <th>(6000.0, 6600.0]</th>\n",
       "      <td>0.000631</td>\n",
       "      <td>2.000000</td>\n",
       "    </tr>\n",
       "    <tr>\n",
       "      <th>(6600.0, 7200.0]</th>\n",
       "      <td>0.000316</td>\n",
       "      <td>0.000000</td>\n",
       "    </tr>\n",
       "    <tr>\n",
       "      <th>(7200.0, 7800.0]</th>\n",
       "      <td>0.000316</td>\n",
       "      <td>4.500000</td>\n",
       "    </tr>\n",
       "    <tr>\n",
       "      <th>(7800.0, 8400.0]</th>\n",
       "      <td>0.000316</td>\n",
       "      <td>4.000000</td>\n",
       "    </tr>\n",
       "    <tr>\n",
       "      <th>(8400.0, 9000.0]</th>\n",
       "      <td>0.000000</td>\n",
       "      <td>NaN</td>\n",
       "    </tr>\n",
       "    <tr>\n",
       "      <th>(9000.0, 9600.0]</th>\n",
       "      <td>0.000316</td>\n",
       "      <td>4.500000</td>\n",
       "    </tr>\n",
       "  </tbody>\n",
       "</table>\n",
       "</div>"
      ],
      "text/plain": [
       "                  Percentage of Books  Average Rating\n",
       "duration_group                                       \n",
       "(0.0, 600.0]                81.622036        3.016725\n",
       "(600.0, 1200.0]             16.832761        3.846701\n",
       "(1200.0, 1800.0]             1.201123        4.073719\n",
       "(1800.0, 2400.0]             0.220337        4.180516\n",
       "(2400.0, 3000.0]             0.063765        4.165842\n",
       "(3000.0, 3600.0]             0.027148        4.087209\n",
       "(3600.0, 4200.0]             0.012311        4.064103\n",
       "(4200.0, 4800.0]             0.009154        4.379310\n",
       "(4800.0, 5400.0]             0.005998        4.368421\n",
       "(5400.0, 6000.0]             0.003472        3.636364\n",
       "(6000.0, 6600.0]             0.000631        2.000000\n",
       "(6600.0, 7200.0]             0.000316        0.000000\n",
       "(7200.0, 7800.0]             0.000316        4.500000\n",
       "(7800.0, 8400.0]             0.000316        4.000000\n",
       "(8400.0, 9000.0]             0.000000             NaN\n",
       "(9000.0, 9600.0]             0.000316        4.500000"
      ]
     },
     "execution_count": 130,
     "metadata": {},
     "output_type": "execute_result"
    }
   ],
   "source": [
    "# Rename the columns and sort it by percentage of books in each duration group\n",
    "audible_duration_group = audible_duration_group.rename(columns={'title':'Percentage of Books', 'rating':'Average Rating'})\n",
    "audible_duration_group"
   ]
  },
  {
   "cell_type": "markdown",
   "id": "dc3aed2f",
   "metadata": {},
   "source": [
    "- It is clear from the analysis that a large propotion of the audio books i.e. 81.62% run under 600 minutes (10 hours).\n",
    "<br><br>\n",
    "- Hence, it can be inferred that there is a large market for the audiobooks under 10 hours and therefore, it is recommended to convert only those physical books whose duration is under 600 miuntes."
   ]
  },
  {
   "cell_type": "markdown",
   "id": "fd43ad73",
   "metadata": {},
   "source": [
    "#### Regression model to predict price of Goodreads books when converted into audio books"
   ]
  },
  {
   "cell_type": "markdown",
   "id": "85c86f3d",
   "metadata": {},
   "source": [
    "For the regression analysis, we consider **`length, rating, rating_count, category (dummy)`** as independent variables and **`price`** as the dependent or target variable.\\\n",
    "We train and validate the model on the Audible dataset and deploy on the Goodreads dataset to predict the price of a book if converted into an audio book."
   ]
  },
  {
   "cell_type": "code",
   "execution_count": 140,
   "id": "41885509",
   "metadata": {},
   "outputs": [],
   "source": [
    "# Create bins to categorize books into different categories.\n",
    "# duration_bins = np.linspace(start=min(audible_df['length']), stop=max(audible_df['length']), num=20)\n",
    "price_bins = np.linspace(start=0, stop=200, num=11)\n",
    "audible_df['price_group'] = pd.cut(audible_df['price'], price_bins)"
   ]
  },
  {
   "cell_type": "code",
   "execution_count": 141,
   "id": "0051fcee",
   "metadata": {},
   "outputs": [],
   "source": [
    "# Create a data frame for regression analysis\n",
    "regression_df = audible_df.copy(deep=True)[['length', 'rating', 'rating_count', 'category', 'price']]"
   ]
  },
  {
   "cell_type": "code",
   "execution_count": 142,
   "id": "d3df343b",
   "metadata": {},
   "outputs": [],
   "source": [
    "# Group by duration group and determine the average rating and number of books in each category\n",
    "audible_price_group = audible_df.groupby('price_group').agg({'title':'count'})"
   ]
  },
  {
   "cell_type": "code",
   "execution_count": 143,
   "id": "eac0cbaa",
   "metadata": {},
   "outputs": [
    {
     "data": {
      "text/html": [
       "<div>\n",
       "<style scoped>\n",
       "    .dataframe tbody tr th:only-of-type {\n",
       "        vertical-align: middle;\n",
       "    }\n",
       "\n",
       "    .dataframe tbody tr th {\n",
       "        vertical-align: top;\n",
       "    }\n",
       "\n",
       "    .dataframe thead th {\n",
       "        text-align: right;\n",
       "    }\n",
       "</style>\n",
       "<table border=\"1\" class=\"dataframe\">\n",
       "  <thead>\n",
       "    <tr style=\"text-align: right;\">\n",
       "      <th></th>\n",
       "      <th>Number of Books</th>\n",
       "    </tr>\n",
       "    <tr>\n",
       "      <th>price_group</th>\n",
       "      <th></th>\n",
       "    </tr>\n",
       "  </thead>\n",
       "  <tbody>\n",
       "    <tr>\n",
       "      <th>(0.0, 20.0]</th>\n",
       "      <td>230865</td>\n",
       "    </tr>\n",
       "    <tr>\n",
       "      <th>(20.0, 40.0]</th>\n",
       "      <td>88715</td>\n",
       "    </tr>\n",
       "    <tr>\n",
       "      <th>(40.0, 60.0]</th>\n",
       "      <td>2045</td>\n",
       "    </tr>\n",
       "    <tr>\n",
       "      <th>(60.0, 80.0]</th>\n",
       "      <td>68</td>\n",
       "    </tr>\n",
       "    <tr>\n",
       "      <th>(80.0, 100.0]</th>\n",
       "      <td>60</td>\n",
       "    </tr>\n",
       "    <tr>\n",
       "      <th>(100.0, 120.0]</th>\n",
       "      <td>78</td>\n",
       "    </tr>\n",
       "    <tr>\n",
       "      <th>(120.0, 140.0]</th>\n",
       "      <td>0</td>\n",
       "    </tr>\n",
       "    <tr>\n",
       "      <th>(140.0, 160.0]</th>\n",
       "      <td>0</td>\n",
       "    </tr>\n",
       "    <tr>\n",
       "      <th>(160.0, 180.0]</th>\n",
       "      <td>25</td>\n",
       "    </tr>\n",
       "    <tr>\n",
       "      <th>(180.0, 200.0]</th>\n",
       "      <td>0</td>\n",
       "    </tr>\n",
       "  </tbody>\n",
       "</table>\n",
       "</div>"
      ],
      "text/plain": [
       "                Number of Books\n",
       "price_group                    \n",
       "(0.0, 20.0]              230865\n",
       "(20.0, 40.0]              88715\n",
       "(40.0, 60.0]               2045\n",
       "(60.0, 80.0]                 68\n",
       "(80.0, 100.0]                60\n",
       "(100.0, 120.0]               78\n",
       "(120.0, 140.0]                0\n",
       "(140.0, 160.0]                0\n",
       "(160.0, 180.0]               25\n",
       "(180.0, 200.0]                0"
      ]
     },
     "execution_count": 143,
     "metadata": {},
     "output_type": "execute_result"
    }
   ],
   "source": [
    "# Rename the columns and sort it by percentage of books in each duration group\n",
    "audible_price_group = audible_price_group.rename(columns={'title':'Number of Books'})\n",
    "audible_price_group"
   ]
  },
  {
   "cell_type": "markdown",
   "id": "45dafec8",
   "metadata": {},
   "source": [
    "We observe that a large percentage of audiobooks are priced under $60. Since the books higher prices will reduce the accuracy of the model as they are outliers, we filter out these outliers in the training data."
   ]
  },
  {
   "cell_type": "code",
   "execution_count": 144,
   "id": "5e9f8f5e",
   "metadata": {},
   "outputs": [],
   "source": [
    "# Filter out the outliers\n",
    "regression_df = regression_df[regression_df['price'] <= 60]\n",
    "regression_df.reset_index(inplace=True, drop=True)"
   ]
  },
  {
   "cell_type": "markdown",
   "id": "58b1aec8",
   "metadata": {},
   "source": [
    " As mentioned before, since **Live Events** genre is not relevant to the physical books, we drop the books belonging to that genre from our training data."
   ]
  },
  {
   "cell_type": "code",
   "execution_count": 146,
   "id": "5778aa34",
   "metadata": {},
   "outputs": [
    {
     "data": {
      "text/html": [
       "<div>\n",
       "<style scoped>\n",
       "    .dataframe tbody tr th:only-of-type {\n",
       "        vertical-align: middle;\n",
       "    }\n",
       "\n",
       "    .dataframe tbody tr th {\n",
       "        vertical-align: top;\n",
       "    }\n",
       "\n",
       "    .dataframe thead th {\n",
       "        text-align: right;\n",
       "    }\n",
       "</style>\n",
       "<table border=\"1\" class=\"dataframe\">\n",
       "  <thead>\n",
       "    <tr style=\"text-align: right;\">\n",
       "      <th></th>\n",
       "      <th>length</th>\n",
       "      <th>rating</th>\n",
       "      <th>rating_count</th>\n",
       "      <th>category</th>\n",
       "      <th>price</th>\n",
       "    </tr>\n",
       "  </thead>\n",
       "  <tbody>\n",
       "    <tr>\n",
       "      <th>0</th>\n",
       "      <td>590.0</td>\n",
       "      <td>3.5</td>\n",
       "      <td>76.0</td>\n",
       "      <td>Bios &amp; Memoirs</td>\n",
       "      <td>27.97</td>\n",
       "    </tr>\n",
       "    <tr>\n",
       "      <th>1</th>\n",
       "      <td>100.0</td>\n",
       "      <td>4.0</td>\n",
       "      <td>37.0</td>\n",
       "      <td>Business</td>\n",
       "      <td>7.95</td>\n",
       "    </tr>\n",
       "    <tr>\n",
       "      <th>2</th>\n",
       "      <td>72.0</td>\n",
       "      <td>3.5</td>\n",
       "      <td>11.0</td>\n",
       "      <td>Business</td>\n",
       "      <td>4.95</td>\n",
       "    </tr>\n",
       "    <tr>\n",
       "      <th>3</th>\n",
       "      <td>303.0</td>\n",
       "      <td>3.5</td>\n",
       "      <td>14.0</td>\n",
       "      <td>Mysteries &amp; Thrillers</td>\n",
       "      <td>11.90</td>\n",
       "    </tr>\n",
       "    <tr>\n",
       "      <th>4</th>\n",
       "      <td>304.0</td>\n",
       "      <td>3.0</td>\n",
       "      <td>16.0</td>\n",
       "      <td>Mysteries &amp; Thrillers</td>\n",
       "      <td>12.60</td>\n",
       "    </tr>\n",
       "  </tbody>\n",
       "</table>\n",
       "</div>"
      ],
      "text/plain": [
       "   length  rating  rating_count               category  price\n",
       "0   590.0     3.5          76.0         Bios & Memoirs  27.97\n",
       "1   100.0     4.0          37.0               Business   7.95\n",
       "2    72.0     3.5          11.0               Business   4.95\n",
       "3   303.0     3.5          14.0  Mysteries & Thrillers  11.90\n",
       "4   304.0     3.0          16.0  Mysteries & Thrillers  12.60"
      ]
     },
     "execution_count": 146,
     "metadata": {},
     "output_type": "execute_result"
    }
   ],
   "source": [
    "# Drop the Live Events genre books\n",
    "regression_df.drop(regression_df[regression_df['category'] == 'Live Events'].index, inplace=True)\n",
    "regression_df.head()"
   ]
  },
  {
   "cell_type": "markdown",
   "id": "e766b998",
   "metadata": {},
   "source": [
    "#### Splitting the Data for Training and Testing"
   ]
  },
  {
   "cell_type": "code",
   "execution_count": 147,
   "id": "a352bbe1",
   "metadata": {},
   "outputs": [],
   "source": [
    "# Get the data for training and testing\n",
    "regression_data = regression_df[['length', 'rating', 'rating_count', 'category']]\n",
    "regression_data['length_squared'] = regression_data['length'].apply(lambda x: x**2)\n",
    "\n",
    "# Transform the category column to dummy variables\n",
    "regression_data = pd.get_dummies(regression_data, drop_first=True)\n",
    "\n",
    "# Determine the target variable for the model\n",
    "regression_target = regression_df['price']"
   ]
  },
  {
   "cell_type": "code",
   "execution_count": 148,
   "id": "64e1b676",
   "metadata": {},
   "outputs": [],
   "source": [
    "# Split arrays into train and test subsets which will be randomly selected\n",
    "X_train, X_test, y_train, y_test = train_test_split(regression_data.values, regression_target.values, random_state=11)"
   ]
  },
  {
   "cell_type": "code",
   "execution_count": 149,
   "id": "9ed137e9",
   "metadata": {},
   "outputs": [
    {
     "name": "stdout",
     "output_type": "stream",
     "text": [
      "6775216 items -- 74.99984502371137\n",
      "2258424 items -- 25.00015497628863\n"
     ]
    }
   ],
   "source": [
    "# Confirm the **75%–25% train-test split** \n",
    "print(X_train.size, 'items --', X_train.size/(X_train.size + X_test.size) * 100)\n",
    "print(X_test.size, 'items --', X_test.size/(X_train.size + X_test.size) * 100)"
   ]
  },
  {
   "cell_type": "markdown",
   "id": "f424e3da",
   "metadata": {},
   "source": [
    "#### Training the Model"
   ]
  },
  {
   "cell_type": "code",
   "execution_count": 150,
   "id": "12477aed",
   "metadata": {},
   "outputs": [
    {
     "data": {
      "text/plain": [
       "LinearRegression()"
      ]
     },
     "execution_count": 150,
     "metadata": {},
     "output_type": "execute_result"
    }
   ],
   "source": [
    "# Train the model\n",
    "linear_regression = LinearRegression()\n",
    "linear_regression.fit(X=X_train, y=y_train)"
   ]
  },
  {
   "cell_type": "code",
   "execution_count": 152,
   "id": "989680a8",
   "metadata": {},
   "outputs": [
    {
     "name": "stdout",
     "output_type": "stream",
     "text": [
      "    length: 0.02898599015661253\n",
      "    rating: 0.361080788573515\n",
      "rating_count: 0.00022376541204048654\n",
      "length_squared: -5.596996950851807e-06\n",
      "category_Bios & Memoirs: 2.6536661587678156\n",
      "category_Business: 1.7345557572560188\n",
      "category_Classics: 0.6455554195039833\n",
      "category_Comedy: 1.1116064674594732\n",
      "category_Drama & Poetry: 0.4072279490326455\n",
      "category_Erotica & Sexuality: -0.36314073609488456\n",
      "category_Fiction: 1.9479339515143816\n",
      "category_Health & Fitness: 0.9287877548541545\n",
      "category_History: 2.491248718846486\n",
      "category_Kids: 1.4241225417868428\n",
      "category_Language Instruction: 2.647676385773693\n",
      "category_Mysteries & Thrillers: 2.3473120368980283\n",
      "category_Newspapers & Magazines: -2.3092604191015367\n",
      "category_Nonfiction: 2.39264484498938\n",
      "category_Nostalgia Radio: 2.3235878964417602\n",
      "category_Radio & TV: -0.7279894042268251\n",
      "category_Religion & Spirituality: 1.7673693176161969\n",
      "category_Romance: 1.8146655584582243\n",
      "category_Sci-Fi & Fantasy: 1.6715788375501963\n",
      "category_Science & Technology: 1.5631581011710112\n",
      "category_Self Development: 1.914504587691529\n",
      "category_Sports: 2.23772834126241\n",
      "category_Teens: 3.868826803911276\n",
      "category_Travel & Adventure: 0.5550172613440781\n",
      "3.8895259456872697\n"
     ]
    }
   ],
   "source": [
    "# Slope is the estimator’s **`coeff_`** attribute (**m** in the equation) \n",
    "for i, name in enumerate(regression_data): #enumerate adds a number to an iteration\n",
    "    print(f'{name:>10}: {linear_regression.coef_[i]}')  \n",
    "\n",
    "# Intercept is the estimator’s **`intercept_`** attribute (**b** in the equation)\n",
    "print(linear_regression.intercept_)  # Intercept is the estimator’s **`intercept_`** attribute (**b** in the equation)"
   ]
  },
  {
   "cell_type": "markdown",
   "id": "d8cb4702",
   "metadata": {},
   "source": [
    "#### Testing the Model"
   ]
  },
  {
   "cell_type": "code",
   "execution_count": 153,
   "id": "4abf6eb2",
   "metadata": {},
   "outputs": [],
   "source": [
    "# Determine the predicted values for test data\n",
    "expected = y_test\n",
    "predicted = linear_regression.predict(X_test)"
   ]
  },
  {
   "cell_type": "code",
   "execution_count": 154,
   "id": "2cc9fbf7",
   "metadata": {},
   "outputs": [
    {
     "name": "stdout",
     "output_type": "stream",
     "text": [
      "Expected [ 6.95 34.99  0.95  6.95 21.31]\n",
      "Predicted [ 8.99930952 23.41751786  1.58026553  7.38692856 29.33045521]\n"
     ]
    }
   ],
   "source": [
    "print('Expected', expected[:5])   # first five targets \n",
    "print('Predicted', predicted[:5])  # first 5 predictions"
   ]
  },
  {
   "cell_type": "markdown",
   "id": "cc813264",
   "metadata": {},
   "source": [
    "#### Visualizing the Expected vs. Predicted Prices "
   ]
  },
  {
   "cell_type": "code",
   "execution_count": 155,
   "id": "e7cac0ab",
   "metadata": {},
   "outputs": [
    {
     "data": {
      "text/html": [
       "<div>\n",
       "<style scoped>\n",
       "    .dataframe tbody tr th:only-of-type {\n",
       "        vertical-align: middle;\n",
       "    }\n",
       "\n",
       "    .dataframe tbody tr th {\n",
       "        vertical-align: top;\n",
       "    }\n",
       "\n",
       "    .dataframe thead th {\n",
       "        text-align: right;\n",
       "    }\n",
       "</style>\n",
       "<table border=\"1\" class=\"dataframe\">\n",
       "  <thead>\n",
       "    <tr style=\"text-align: right;\">\n",
       "      <th></th>\n",
       "      <th>Expected</th>\n",
       "      <th>Predicted</th>\n",
       "    </tr>\n",
       "  </thead>\n",
       "  <tbody>\n",
       "    <tr>\n",
       "      <th>0</th>\n",
       "      <td>6.95</td>\n",
       "      <td>8.999310</td>\n",
       "    </tr>\n",
       "    <tr>\n",
       "      <th>1</th>\n",
       "      <td>34.99</td>\n",
       "      <td>23.417518</td>\n",
       "    </tr>\n",
       "    <tr>\n",
       "      <th>2</th>\n",
       "      <td>0.95</td>\n",
       "      <td>1.580266</td>\n",
       "    </tr>\n",
       "    <tr>\n",
       "      <th>3</th>\n",
       "      <td>6.95</td>\n",
       "      <td>7.386929</td>\n",
       "    </tr>\n",
       "    <tr>\n",
       "      <th>4</th>\n",
       "      <td>21.31</td>\n",
       "      <td>29.330455</td>\n",
       "    </tr>\n",
       "  </tbody>\n",
       "</table>\n",
       "</div>"
      ],
      "text/plain": [
       "   Expected  Predicted\n",
       "0      6.95   8.999310\n",
       "1     34.99  23.417518\n",
       "2      0.95   1.580266\n",
       "3      6.95   7.386929\n",
       "4     21.31  29.330455"
      ]
     },
     "execution_count": 155,
     "metadata": {},
     "output_type": "execute_result"
    }
   ],
   "source": [
    "result_df = pd.DataFrame()\n",
    "result_df['Expected'] = pd.Series(expected)\n",
    "result_df['Predicted'] = pd.Series(predicted)\n",
    "result_df.head()"
   ]
  },
  {
   "cell_type": "markdown",
   "id": "e60e6bbc",
   "metadata": {},
   "source": [
    "#### Evaluating the Regression Model"
   ]
  },
  {
   "cell_type": "code",
   "execution_count": 156,
   "id": "9340d42b",
   "metadata": {},
   "outputs": [
    {
     "name": "stdout",
     "output_type": "stream",
     "text": [
      "Explained Variance : 0.70\n",
      "Root Mean Squared Error : 5.18\n",
      "Mean Absolute Error : 26.82\n"
     ]
    }
   ],
   "source": [
    "# Get the accuracy of the model\n",
    "print(f'Explained Variance : {metrics.r2_score(expected, predicted):.2f}')\n",
    "\n",
    "# Determine the rmse\n",
    "print(f'Root Mean Squared Error : {np.sqrt(metrics.mean_squared_error(expected, predicted)):.2f}')\n",
    "\n",
    "# Determine the rmse\n",
    "print(f'Mean Absolute Error : {metrics.mean_squared_error(expected, predicted):.2f}')"
   ]
  },
  {
   "cell_type": "markdown",
   "id": "13611b9b",
   "metadata": {},
   "source": [
    "#### Applying the model on Goodreads data to predict price"
   ]
  },
  {
   "cell_type": "code",
   "execution_count": 157,
   "id": "5996a8d4",
   "metadata": {},
   "outputs": [
    {
     "data": {
      "text/html": [
       "<div>\n",
       "<style scoped>\n",
       "    .dataframe tbody tr th:only-of-type {\n",
       "        vertical-align: middle;\n",
       "    }\n",
       "\n",
       "    .dataframe tbody tr th {\n",
       "        vertical-align: top;\n",
       "    }\n",
       "\n",
       "    .dataframe thead th {\n",
       "        text-align: right;\n",
       "    }\n",
       "</style>\n",
       "<table border=\"1\" class=\"dataframe\">\n",
       "  <thead>\n",
       "    <tr style=\"text-align: right;\">\n",
       "      <th></th>\n",
       "      <th>Duration</th>\n",
       "      <th>average_rating</th>\n",
       "      <th>rating_count</th>\n",
       "      <th>Duration_Squared</th>\n",
       "      <th>Mapped_Genre_Bios &amp; Memoirs</th>\n",
       "      <th>Mapped_Genre_Business</th>\n",
       "      <th>Mapped_Genre_Classics</th>\n",
       "      <th>Mapped_Genre_Comedy</th>\n",
       "      <th>Mapped_Genre_Drama &amp; Poetry</th>\n",
       "      <th>Mapped_Genre_Erotica &amp; Sexuality</th>\n",
       "      <th>...</th>\n",
       "      <th>Mapped_Genre_Nostalgia Radio</th>\n",
       "      <th>Mapped_Genre_Radio &amp; TV</th>\n",
       "      <th>Mapped_Genre_Religion &amp; Spirituality</th>\n",
       "      <th>Mapped_Genre_Romance</th>\n",
       "      <th>Mapped_Genre_Sci-Fi &amp; Fantasy</th>\n",
       "      <th>Mapped_Genre_Science &amp; Technology</th>\n",
       "      <th>Mapped_Genre_Self Development</th>\n",
       "      <th>Mapped_Genre_Sports</th>\n",
       "      <th>Mapped_Genre_Teens</th>\n",
       "      <th>Mapped_Genre_Travel &amp; Adventure</th>\n",
       "    </tr>\n",
       "  </thead>\n",
       "  <tbody>\n",
       "    <tr>\n",
       "      <th>0</th>\n",
       "      <td>440</td>\n",
       "      <td>4.03</td>\n",
       "      <td>7597</td>\n",
       "      <td>193600</td>\n",
       "      <td>0</td>\n",
       "      <td>0</td>\n",
       "      <td>0</td>\n",
       "      <td>0</td>\n",
       "      <td>0</td>\n",
       "      <td>0</td>\n",
       "      <td>...</td>\n",
       "      <td>0</td>\n",
       "      <td>0</td>\n",
       "      <td>0</td>\n",
       "      <td>0</td>\n",
       "      <td>0</td>\n",
       "      <td>0</td>\n",
       "      <td>0</td>\n",
       "      <td>0</td>\n",
       "      <td>1</td>\n",
       "      <td>0</td>\n",
       "    </tr>\n",
       "    <tr>\n",
       "      <th>1</th>\n",
       "      <td>800</td>\n",
       "      <td>4.35</td>\n",
       "      <td>4179</td>\n",
       "      <td>640000</td>\n",
       "      <td>0</td>\n",
       "      <td>0</td>\n",
       "      <td>0</td>\n",
       "      <td>0</td>\n",
       "      <td>0</td>\n",
       "      <td>0</td>\n",
       "      <td>...</td>\n",
       "      <td>0</td>\n",
       "      <td>0</td>\n",
       "      <td>0</td>\n",
       "      <td>0</td>\n",
       "      <td>0</td>\n",
       "      <td>0</td>\n",
       "      <td>0</td>\n",
       "      <td>0</td>\n",
       "      <td>0</td>\n",
       "      <td>0</td>\n",
       "    </tr>\n",
       "    <tr>\n",
       "      <th>2</th>\n",
       "      <td>640</td>\n",
       "      <td>4.23</td>\n",
       "      <td>6288</td>\n",
       "      <td>409600</td>\n",
       "      <td>0</td>\n",
       "      <td>0</td>\n",
       "      <td>0</td>\n",
       "      <td>0</td>\n",
       "      <td>0</td>\n",
       "      <td>0</td>\n",
       "      <td>...</td>\n",
       "      <td>0</td>\n",
       "      <td>0</td>\n",
       "      <td>0</td>\n",
       "      <td>0</td>\n",
       "      <td>0</td>\n",
       "      <td>0</td>\n",
       "      <td>0</td>\n",
       "      <td>0</td>\n",
       "      <td>0</td>\n",
       "      <td>0</td>\n",
       "    </tr>\n",
       "    <tr>\n",
       "      <th>3</th>\n",
       "      <td>928</td>\n",
       "      <td>4.01</td>\n",
       "      <td>38382</td>\n",
       "      <td>861184</td>\n",
       "      <td>0</td>\n",
       "      <td>0</td>\n",
       "      <td>0</td>\n",
       "      <td>0</td>\n",
       "      <td>0</td>\n",
       "      <td>0</td>\n",
       "      <td>...</td>\n",
       "      <td>0</td>\n",
       "      <td>0</td>\n",
       "      <td>0</td>\n",
       "      <td>0</td>\n",
       "      <td>0</td>\n",
       "      <td>0</td>\n",
       "      <td>0</td>\n",
       "      <td>0</td>\n",
       "      <td>0</td>\n",
       "      <td>0</td>\n",
       "    </tr>\n",
       "    <tr>\n",
       "      <th>4</th>\n",
       "      <td>516</td>\n",
       "      <td>4.04</td>\n",
       "      <td>72168</td>\n",
       "      <td>266256</td>\n",
       "      <td>0</td>\n",
       "      <td>1</td>\n",
       "      <td>0</td>\n",
       "      <td>0</td>\n",
       "      <td>0</td>\n",
       "      <td>0</td>\n",
       "      <td>...</td>\n",
       "      <td>0</td>\n",
       "      <td>0</td>\n",
       "      <td>0</td>\n",
       "      <td>0</td>\n",
       "      <td>0</td>\n",
       "      <td>0</td>\n",
       "      <td>0</td>\n",
       "      <td>0</td>\n",
       "      <td>0</td>\n",
       "      <td>0</td>\n",
       "    </tr>\n",
       "  </tbody>\n",
       "</table>\n",
       "<p>5 rows × 28 columns</p>\n",
       "</div>"
      ],
      "text/plain": [
       "   Duration  average_rating  rating_count  Duration_Squared  \\\n",
       "0       440            4.03          7597            193600   \n",
       "1       800            4.35          4179            640000   \n",
       "2       640            4.23          6288            409600   \n",
       "3       928            4.01         38382            861184   \n",
       "4       516            4.04         72168            266256   \n",
       "\n",
       "   Mapped_Genre_Bios & Memoirs  Mapped_Genre_Business  Mapped_Genre_Classics  \\\n",
       "0                            0                      0                      0   \n",
       "1                            0                      0                      0   \n",
       "2                            0                      0                      0   \n",
       "3                            0                      0                      0   \n",
       "4                            0                      1                      0   \n",
       "\n",
       "   Mapped_Genre_Comedy  Mapped_Genre_Drama & Poetry  \\\n",
       "0                    0                            0   \n",
       "1                    0                            0   \n",
       "2                    0                            0   \n",
       "3                    0                            0   \n",
       "4                    0                            0   \n",
       "\n",
       "   Mapped_Genre_Erotica & Sexuality  ...  Mapped_Genre_Nostalgia Radio  \\\n",
       "0                                 0  ...                             0   \n",
       "1                                 0  ...                             0   \n",
       "2                                 0  ...                             0   \n",
       "3                                 0  ...                             0   \n",
       "4                                 0  ...                             0   \n",
       "\n",
       "   Mapped_Genre_Radio & TV  Mapped_Genre_Religion & Spirituality  \\\n",
       "0                        0                                     0   \n",
       "1                        0                                     0   \n",
       "2                        0                                     0   \n",
       "3                        0                                     0   \n",
       "4                        0                                     0   \n",
       "\n",
       "   Mapped_Genre_Romance  Mapped_Genre_Sci-Fi & Fantasy  \\\n",
       "0                     0                              0   \n",
       "1                     0                              0   \n",
       "2                     0                              0   \n",
       "3                     0                              0   \n",
       "4                     0                              0   \n",
       "\n",
       "   Mapped_Genre_Science & Technology  Mapped_Genre_Self Development  \\\n",
       "0                                  0                              0   \n",
       "1                                  0                              0   \n",
       "2                                  0                              0   \n",
       "3                                  0                              0   \n",
       "4                                  0                              0   \n",
       "\n",
       "   Mapped_Genre_Sports  Mapped_Genre_Teens  Mapped_Genre_Travel & Adventure  \n",
       "0                    0                   1                                0  \n",
       "1                    0                   0                                0  \n",
       "2                    0                   0                                0  \n",
       "3                    0                   0                                0  \n",
       "4                    0                   0                                0  \n",
       "\n",
       "[5 rows x 28 columns]"
      ]
     },
     "execution_count": 157,
     "metadata": {},
     "output_type": "execute_result"
    }
   ],
   "source": [
    "# Deploy the model on the goodreads dataset\n",
    "goodreads_regression_data = goodreads_df.copy()[['Duration', 'average_rating', 'rating_count', 'Mapped_Genre']]\n",
    "goodreads_regression_data['Duration_Squared'] = goodreads_regression_data['Duration']**2\n",
    "goodreads_regression_data = pd.get_dummies(goodreads_regression_data, drop_first=True)\n",
    "goodreads_regression_data.head()"
   ]
  },
  {
   "cell_type": "code",
   "execution_count": 158,
   "id": "9a19b04f",
   "metadata": {},
   "outputs": [],
   "source": [
    "# lambda implements y = mx + b\n",
    "predict = lambda x: np.dot(linear_regression.coef_, x) + linear_regression.intercept_"
   ]
  },
  {
   "cell_type": "code",
   "execution_count": 159,
   "id": "8f8dd492",
   "metadata": {},
   "outputs": [],
   "source": [
    "# Determine the predicted prices for Goodreads books\n",
    "goodreads_predicted_price = []\n",
    "for book in goodreads_regression_data.values:\n",
    "    goodreads_predicted_price.append(round(predict(book),2))"
   ]
  },
  {
   "cell_type": "code",
   "execution_count": 160,
   "id": "3e56d69e",
   "metadata": {},
   "outputs": [
    {
     "data": {
      "text/plain": [
       "Index(['id', 'title', 'author', 'rating_count', 'review_count',\n",
       "       'average_rating', 'five_star_ratings', 'four_star_ratings',\n",
       "       'three_star_ratings', 'two_star_ratings', 'one_star_ratings',\n",
       "       'number_of_pages', 'publisher', 'genre_and_votes', 'characters',\n",
       "       'awards', 'series_name', 'book_number_in_series', 'main_genre',\n",
       "       'year_published', 'series_category', 'Duration', 'Mapped_Genre'],\n",
       "      dtype='object')"
      ]
     },
     "execution_count": 160,
     "metadata": {},
     "output_type": "execute_result"
    }
   ],
   "source": [
    "goodreads_df.columns"
   ]
  },
  {
   "cell_type": "code",
   "execution_count": 161,
   "id": "f04ee25c",
   "metadata": {
    "scrolled": true
   },
   "outputs": [
    {
     "data": {
      "text/html": [
       "<div>\n",
       "<style scoped>\n",
       "    .dataframe tbody tr th:only-of-type {\n",
       "        vertical-align: middle;\n",
       "    }\n",
       "\n",
       "    .dataframe tbody tr th {\n",
       "        vertical-align: top;\n",
       "    }\n",
       "\n",
       "    .dataframe thead th {\n",
       "        text-align: right;\n",
       "    }\n",
       "</style>\n",
       "<table border=\"1\" class=\"dataframe\">\n",
       "  <thead>\n",
       "    <tr style=\"text-align: right;\">\n",
       "      <th></th>\n",
       "      <th>title</th>\n",
       "      <th>author</th>\n",
       "      <th>predicted_audiobook_price</th>\n",
       "    </tr>\n",
       "  </thead>\n",
       "  <tbody>\n",
       "    <tr>\n",
       "      <th>11145</th>\n",
       "      <td>Harry Potter and the Philosopher's Stone</td>\n",
       "      <td>J.K. Rowling, Olly Moss</td>\n",
       "      <td>1546.36</td>\n",
       "    </tr>\n",
       "    <tr>\n",
       "      <th>37099</th>\n",
       "      <td>Harry Potter and the Sorcerer's Stone</td>\n",
       "      <td>J.K. Rowling, Mary GrandPrÃ©</td>\n",
       "      <td>1538.85</td>\n",
       "    </tr>\n",
       "    <tr>\n",
       "      <th>37059</th>\n",
       "      <td>The Hunger Games</td>\n",
       "      <td>Suzanne Collins</td>\n",
       "      <td>1415.03</td>\n",
       "    </tr>\n",
       "    <tr>\n",
       "      <th>37064</th>\n",
       "      <td>Twilight</td>\n",
       "      <td>Stephenie Meyer</td>\n",
       "      <td>1111.48</td>\n",
       "    </tr>\n",
       "    <tr>\n",
       "      <th>37061</th>\n",
       "      <td>To Kill a Mockingbird</td>\n",
       "      <td>Harper Lee</td>\n",
       "      <td>996.78</td>\n",
       "    </tr>\n",
       "    <tr>\n",
       "      <th>37090</th>\n",
       "      <td>The Great Gatsby</td>\n",
       "      <td>F. Scott Fitzgerald, Francis Scott Fitzgerald</td>\n",
       "      <td>835.54</td>\n",
       "    </tr>\n",
       "    <tr>\n",
       "      <th>30823</th>\n",
       "      <td>The Fault in Our Stars</td>\n",
       "      <td>John Green</td>\n",
       "      <td>795.82</td>\n",
       "    </tr>\n",
       "    <tr>\n",
       "      <th>37071</th>\n",
       "      <td>The Fault in Our Stars</td>\n",
       "      <td>John Green</td>\n",
       "      <td>790.85</td>\n",
       "    </tr>\n",
       "    <tr>\n",
       "      <th>12854</th>\n",
       "      <td>1984</td>\n",
       "      <td>George Orwell, Erich Fromm</td>\n",
       "      <td>698.37</td>\n",
       "    </tr>\n",
       "    <tr>\n",
       "      <th>37152</th>\n",
       "      <td>1984</td>\n",
       "      <td>George Orwell</td>\n",
       "      <td>690.55</td>\n",
       "    </tr>\n",
       "  </tbody>\n",
       "</table>\n",
       "</div>"
      ],
      "text/plain": [
       "                                          title  \\\n",
       "11145  Harry Potter and the Philosopher's Stone   \n",
       "37099     Harry Potter and the Sorcerer's Stone   \n",
       "37059                          The Hunger Games   \n",
       "37064                                  Twilight   \n",
       "37061                     To Kill a Mockingbird   \n",
       "37090                          The Great Gatsby   \n",
       "30823                    The Fault in Our Stars   \n",
       "37071                    The Fault in Our Stars   \n",
       "12854                                      1984   \n",
       "37152                                      1984   \n",
       "\n",
       "                                              author  \\\n",
       "11145                        J.K. Rowling, Olly Moss   \n",
       "37099                   J.K. Rowling, Mary GrandPrÃ©   \n",
       "37059                                Suzanne Collins   \n",
       "37064                                Stephenie Meyer   \n",
       "37061                                     Harper Lee   \n",
       "37090  F. Scott Fitzgerald, Francis Scott Fitzgerald   \n",
       "30823                                     John Green   \n",
       "37071                                     John Green   \n",
       "12854                     George Orwell, Erich Fromm   \n",
       "37152                                  George Orwell   \n",
       "\n",
       "       predicted_audiobook_price  \n",
       "11145                    1546.36  \n",
       "37099                    1538.85  \n",
       "37059                    1415.03  \n",
       "37064                    1111.48  \n",
       "37061                     996.78  \n",
       "37090                     835.54  \n",
       "30823                     795.82  \n",
       "37071                     790.85  \n",
       "12854                     698.37  \n",
       "37152                     690.55  "
      ]
     },
     "execution_count": 161,
     "metadata": {},
     "output_type": "execute_result"
    }
   ],
   "source": [
    "# Appending predicted price as column to main dataset\n",
    "goodreads_df['predicted_audiobook_price'] = goodreads_predicted_price\n",
    "goodreads_df.sort_values(by='rating_count', ascending=False)[['title', 'author', 'predicted_audiobook_price']].head(10)"
   ]
  },
  {
   "cell_type": "code",
   "execution_count": 162,
   "id": "4f84479e",
   "metadata": {},
   "outputs": [
    {
     "data": {
      "text/plain": [
       "count    45736.000000\n",
       "mean        27.520154\n",
       "std         37.218547\n",
       "min      -4023.670000\n",
       "25%         20.110000\n",
       "50%         24.795000\n",
       "75%         29.950000\n",
       "max       1546.360000\n",
       "Name: predicted_audiobook_price, dtype: float64"
      ]
     },
     "execution_count": 162,
     "metadata": {},
     "output_type": "execute_result"
    }
   ],
   "source": [
    "goodreads_df['predicted_audiobook_price'].describe()"
   ]
  },
  {
   "cell_type": "markdown",
   "id": "ede44f3a",
   "metadata": {},
   "source": [
    "#### How to attract the people to the Audio Book Market?"
   ]
  },
  {
   "cell_type": "markdown",
   "id": "365c935a",
   "metadata": {},
   "source": [
    "- Since audiobook is an experience good, people need to experience the good to determine their willingness to pay. Audiobooks enjoy the vital advantage over physical books when giving the book lovers this experience to get the taste of the product.\n",
    "<br><br>\n",
    "- Publishers can let the potential buyers experience the audio book by giving them permission to listen to the first chapter of the book for free, which lets them experience the good. This facility is totally absent in the physical book. This facility will help attract book lovers to the audio book market."
   ]
  },
  {
   "cell_type": "markdown",
   "id": "a4ff2923",
   "metadata": {},
   "source": [
    "# Conclusion"
   ]
  },
  {
   "cell_type": "markdown",
   "id": "5c018e8e",
   "metadata": {},
   "source": [
    "<hr style=\"width:100%;\">\n",
    "CONCLUSION REMAINING"
   ]
  },
  {
   "cell_type": "markdown",
   "id": "87443410",
   "metadata": {},
   "source": [
    "# References\n",
    "<hr style=\"width:100%\">"
   ]
  },
  {
   "cell_type": "markdown",
   "id": "de943a2e",
   "metadata": {},
   "source": [
    "-  https://becomeawritertoday.com/average-length-of-a-book/\n",
    "-  https://selfpublishing.com/self-publishing-companies/ \n",
    "- https://www.ibisworld.com/industry-statistics/market-size/book-publishing-united-states/#:~:text=The%20market%20size%2C%20measured%20by,decline%20%2D0.2%25%20in%202022. \n",
    "- https://selfpublishing.com/self-publishing-companies/\n",
    "https://www.nosegraze.com/goodreads-gets-bought-by-amazon-why-this-is-awesome-news/\n",
    "- https://techpenny.com/audible-voice-narrating/#:~:text=Audible%20offers%20a%20huge%20range,for%20specific%20and%20stylistic%20reasons\n",
    "- https://towardsdatascience.com/scraping-and-exploring-the-entire-english-audible-catalog-ea279cd09f88"
   ]
  }
 ],
 "metadata": {
  "kernelspec": {
   "display_name": "Python 3 (ipykernel)",
   "language": "python",
   "name": "python3"
  },
  "language_info": {
   "codemirror_mode": {
    "name": "ipython",
    "version": 3
   },
   "file_extension": ".py",
   "mimetype": "text/x-python",
   "name": "python",
   "nbconvert_exporter": "python",
   "pygments_lexer": "ipython3",
   "version": "3.9.15"
  }
 },
 "nbformat": 4,
 "nbformat_minor": 5
}
